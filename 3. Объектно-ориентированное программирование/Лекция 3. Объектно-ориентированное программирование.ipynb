{
 "cells": [
  {
   "cell_type": "markdown",
   "metadata": {
    "collapsed": true,
    "pycharm": {
     "name": "#%% md\n"
    }
   },
   "source": [
    "# Основные концепции ООП\n",
    "\n",
    "## Абстракция\n",
    "\n",
    "Определяем в рамках нашего класса те характеристики, которые отличают его от всех других объектов,\n",
    "при этом четко определяя его концептуальные границы.\n",
    "\n",
    "## Инкапсуляция\n",
    "\n",
    "Инкапсуляция - это сокрытие методов в одном классе. Это свойство позволяет пользователю, который\n",
    "совсем не знаком с данным классом пользоваться и вызывать его методы.\n",
    "\n",
    "## Наследование\n",
    "\n",
    "Можем наследовать данные и функциональность некоторого существующего типа.\n",
    "\n",
    "## Полиморфизм\n",
    "\n",
    "Позволяет объектам с одинаковой спецификацией иметь различную реализацию.\n",
    "Например, после того как наследовали класс, мы можем пересоздать собственные методы, которые будут работать по-другому."
   ]
  },
  {
   "cell_type": "markdown",
   "source": [
    "# Абстракция и инкапсуляция\n",
    "\n",
    "Каждый класс начинается с функции __init__, где в качестве аргументов обязательно указывается self (вообще это будет в любых методах нашего класса) и\n",
    "опциональные аргументы, которые будут подаваться на вход в данный класс.\n"
   ],
   "metadata": {
    "collapsed": false,
    "pycharm": {
     "name": "#%% md\n"
    }
   }
  },
  {
   "cell_type": "code",
   "execution_count": 11,
   "outputs": [
    {
     "name": "stdout",
     "output_type": "stream",
     "text": [
      "50000\n",
      "10000\n",
      "30000\n"
     ]
    },
    {
     "data": {
      "text/plain": "{'name': 'Semen', 'salary': 500000}"
     },
     "execution_count": 11,
     "metadata": {},
     "output_type": "execute_result"
    }
   ],
   "source": [
    "class Employee:\n",
    "    MIN_SALARY = 30000  ## атрибут класса, здесь не указывается self и в методах класса мы не сможем обращаться к этой переменной\n",
    "    def __init__(self, name, salary):\n",
    "        self.name = name  ## self означает, переменная name будет вызываться в тех функциях, у которых в качестве аргумента будет self\n",
    "        self.salary = salary  ## теперь мы везде сможем обращаться к этой переменной при помощи self.salary\n",
    "\n",
    "    def create_dict(self, name, salary):  ## определяем метод класса (по сути это обычная функция, только обязательно должны укаывать self первым аргументом)\n",
    "        return {\"name\": name, \"salary\": salary}\n",
    "\n",
    "emp1 = Employee(\"Oleg\", 50000)\n",
    "emp2 = Employee(\"Igor\", 10000)\n",
    "# Вытащим зарплату Олега\n",
    "print(emp1.salary)\n",
    "# Вытащим зарплату Игоря \n",
    "print(emp2.salary)\n",
    "# Вытащим значение константы\n",
    "print(emp1.MIN_SALARY)\n",
    "# Применим метод\n",
    "emp1.create_dict(\"Semen\", 500000)"
   ],
   "metadata": {
    "collapsed": false,
    "pycharm": {
     "name": "#%%\n"
    }
   }
  },
  {
   "cell_type": "markdown",
   "source": [
    "# Наследование\n",
    "\n",
    "Разберем более подробно наследование классов и методов"
   ],
   "metadata": {
    "collapsed": false,
    "pycharm": {
     "name": "#%% md\n"
    }
   }
  },
  {
   "cell_type": "code",
   "execution_count": 5,
   "outputs": [],
   "source": [
    "class BankAccount:\n",
    "    def __init__(self, balance):\n",
    "        self.balance = balance\n",
    "\n",
    "    def check_account(self):\n",
    "        return self.balance\n",
    "\n",
    "    def withdraw(self, amount):\n",
    "        self.balance -= amount\n",
    "\n",
    "# Давайте наследуем класс BankAccount и создадим свой новый\n",
    "class SavingAccount(BankAccount):\n",
    "    pass"
   ],
   "metadata": {
    "collapsed": false,
    "pycharm": {
     "name": "#%%\n"
    }
   }
  },
  {
   "cell_type": "markdown",
   "source": [
    "*BankAccount* - суперкласс / родительский класс / предок / родитель / надкласс,\n",
    "*SavingAccount* - подкласс / производный класс / дочерний класс / класс потомок / класс наследник / класс-реализатор"
   ],
   "metadata": {
    "collapsed": false,
    "pycharm": {
     "name": "#%% md\n"
    }
   }
  },
  {
   "cell_type": "code",
   "execution_count": 21,
   "outputs": [
    {
     "name": "stdout",
     "output_type": "stream",
     "text": [
      "Тип экземпляра дочернего класса: <class '__main__.SavingAccount'>\n",
      "Атрибут, унаследованный от родительского класса: 1000\n"
     ]
    }
   ],
   "source": [
    "savings_acct = SavingAccount(1000)\n",
    "print(f\"Тип экземпляра дочернего класса: {type(savings_acct)}\")\n",
    "print(f\"Атрибут, унаследованный от родительского класса: {savings_acct.balance}\")\n",
    "# Метод, унаследованный от родительского класса:\n",
    "savings_acct.withdraw(300)"
   ],
   "metadata": {
    "collapsed": false,
    "pycharm": {
     "name": "#%%\n"
    }
   }
  },
  {
   "cell_type": "markdown",
   "source": [
    "Бывает полезным использовать метод super() для того, чтобы каждый раз не ссылаться на название родительского класса.\n"
   ],
   "metadata": {
    "collapsed": false,
    "pycharm": {
     "name": "#%% md\n"
    }
   }
  },
  {
   "cell_type": "code",
   "execution_count": 10,
   "outputs": [
    {
     "data": {
      "text/plain": "200"
     },
     "execution_count": 10,
     "metadata": {},
     "output_type": "execute_result"
    }
   ],
   "source": [
    "class SavingAccount(BankAccount):\n",
    "\n",
    "    def withdraw(self, amount):\n",
    "        amount = super().check_account()\n",
    "        self.balance += amount\n",
    "sa = SavingAccount(100)\n",
    "sa.withdraw(100)\n",
    "sa.check_account()"
   ],
   "metadata": {
    "collapsed": false,
    "pycharm": {
     "name": "#%%\n"
    }
   }
  },
  {
   "cell_type": "markdown",
   "source": [
    "# Защищенные методы и свойства\n"
   ],
   "metadata": {
    "collapsed": false,
    "pycharm": {
     "name": "#%% md\n"
    }
   }
  },
  {
   "cell_type": "markdown",
   "source": [
    "## @staticmethod\n",
    "\n",
    "Используется для создания метода, который ничего не знает о классе или экземпляре.\n",
    "Получает переданные аргументы без неявного первого аргумента и\n",
    "его определение неизменяемо через наследование.\n",
    "\n",
    "Другими словами, *@staticmethod* — это вроде обычной функции, определенной внутри класса,\n",
    "которая не имеет доступа к экземпляру, поэтому ее можно вызывать без создания экземпляра класса.\n",
    "\n",
    "\n"
   ],
   "metadata": {
    "collapsed": false,
    "pycharm": {
     "name": "#%% md\n"
    }
   }
  },
  {
   "cell_type": "code",
   "execution_count": 3,
   "outputs": [
    {
     "name": "stdout",
     "output_type": "stream",
     "text": [
      "static method called\n",
      "static method called\n"
     ]
    }
   ],
   "source": [
    "# Синтаксис\n",
    "class ClassName:\n",
    "    @staticmethod\n",
    "    def method_name(arg1, arg2):  ## видим, что аргумент self отсутствует\n",
    "        ...\n",
    "\n",
    "# Пример\n",
    "class MyClass:\n",
    "    @staticmethod\n",
    "    def staticmethod():\n",
    "        print('static method called')\n",
    "myclass = MyClass()\n",
    "assert myclass.staticmethod() == MyClass().staticmethod()"
   ],
   "metadata": {
    "collapsed": false,
    "pycharm": {
     "name": "#%%\n"
    }
   }
  },
  {
   "cell_type": "markdown",
   "source": [
    "Статический метод помогает в достижении инкапсуляции в классе,\n",
    "поскольку он не знает о состоянии текущего экземпляра (чему равны атрибуты класса на данный момент, например).\n",
    "Кроме того, статические методы делают код более читабельным и повторно используемым,\n",
    "а также более удобным для импорта по сравнению с обычными функциями,\n",
    "поскольку каждую функцию не нужно отдельно импортировать."
   ],
   "metadata": {
    "collapsed": false,
    "pycharm": {
     "name": "#%% md\n"
    }
   }
  },
  {
   "cell_type": "code",
   "execution_count": 4,
   "outputs": [
    {
     "data": {
      "text/plain": "True"
     },
     "execution_count": 4,
     "metadata": {},
     "output_type": "execute_result"
    }
   ],
   "source": [
    "class Person:\n",
    "    @staticmethod\n",
    "    def is_adult(age):\n",
    "        if age > 18:\n",
    "            return True\n",
    "        else:\n",
    "            return False\n",
    "Person.is_adult(23)"
   ],
   "metadata": {
    "collapsed": false,
    "pycharm": {
     "name": "#%%\n"
    }
   }
  },
  {
   "cell_type": "markdown",
   "source": [
    "## Classmethod\n",
    "\n",
    "*@classmethod* — это метод, который получает класс в качестве неявного первого аргумента,\n",
    "точно так же, как обычный метод экземпляра получает экземпляр.\n",
    "Это означает, что вы можете использовать класс и его свойства внутри этого метода,\n",
    "а не конкретного экземпляра.\n",
    "\n",
    "Другими словами, @classmethod — это обычный метод класса, имеющий доступ ко всем атрибутам класса,\n",
    "через который он был вызван. Следовательно, *@classmethod* — это метод, который привязан к классу,\n",
    "а не к экземпляру класса."
   ],
   "metadata": {
    "collapsed": false,
    "pycharm": {
     "name": "#%% md\n"
    }
   }
  },
  {
   "cell_type": "code",
   "execution_count": null,
   "outputs": [],
   "source": [
    "# Синтаксис\n",
    "class Class:\n",
    "    @classmethod\n",
    "    def method(cls, arg1, arg2):\n",
    "        ..."
   ],
   "metadata": {
    "collapsed": false,
    "pycharm": {
     "name": "#%%\n"
    }
   }
  },
  {
   "cell_type": "markdown",
   "source": [
    "В данному случае декоратор *@classmethod* используется для создания методов класса,\n",
    "а cls должен быть первым аргументом каждого метода класса."
   ],
   "metadata": {
    "collapsed": false,
    "pycharm": {
     "name": "#%% md\n"
    }
   }
  },
  {
   "cell_type": "code",
   "execution_count": 5,
   "outputs": [
    {
     "name": "stdout",
     "output_type": "stream",
     "text": [
      "Class method called\n"
     ]
    }
   ],
   "source": [
    "class MyClass:\n",
    "    @classmethod\n",
    "    def classmethod(cls):\n",
    "        print('Class method called')\n",
    "MyClass.classmethod()"
   ],
   "metadata": {
    "collapsed": false,
    "pycharm": {
     "name": "#%%\n"
    }
   }
  },
  {
   "cell_type": "markdown",
   "source": [
    "*@classmethod* используется, когда вам нужно получить методы,\n",
    "не относящиеся к какому-либо конкретному экземпляру,\n",
    "но тем не менее, каким-то образом привязанные к классу. Самое интересное в них то,\n",
    "что их можно переопределить дочерними классами. Соответственно, если вы хотите получить доступ к свойству класса в целом, а не к свойству конкретного экземпляра этого класса,\n",
    "можно использовать *@classmethod*."
   ],
   "metadata": {
    "collapsed": false,
    "pycharm": {
     "name": "#%% md\n"
    }
   }
  },
  {
   "cell_type": "markdown",
   "source": [
    "## Исключения в классах\n",
    "\n",
    "Вспомним как мы используем исключения"
   ],
   "metadata": {
    "collapsed": false,
    "pycharm": {
     "name": "#%% md\n"
    }
   }
  },
  {
   "cell_type": "code",
   "execution_count": 1,
   "outputs": [
    {
     "name": "stdout",
     "output_type": "stream",
     "text": [
      "Делить на 0 нельзя\n",
      "1.0\n"
     ]
    }
   ],
   "source": [
    "a, b = 1, 0\n",
    "try:\n",
    "    # Пытаемся выполнить код\n",
    "    c = a / b\n",
    "    print(c)\n",
    "except ZeroDivisionError: # здесь ZeroDivisionError - тип исключения (о них как раз позже)\n",
    "    print(\"Делить на 0 нельзя\")\n",
    "    # Идем сюда, если предыдущая строчка выдала ошибку\n",
    "finally:\n",
    "    # Идем сюда в независимости от того, что произошло выше\n",
    "    print(a / (b + 1))"
   ],
   "metadata": {
    "collapsed": false,
    "pycharm": {
     "name": "#%%\n"
    }
   }
  },
  {
   "cell_type": "markdown",
   "source": [
    "Стандартные исключения мы наследуем из класса BaseException или Exception.\n",
    "Давайте попробуем кастомизировать этот класс под свои цели."
   ],
   "metadata": {
    "collapsed": false,
    "pycharm": {
     "name": "#%% md\n"
    }
   }
  },
  {
   "cell_type": "code",
   "execution_count": 22,
   "outputs": [
    {
     "ename": "ZeroDivisionError",
     "evalue": "division by zero",
     "output_type": "error",
     "traceback": [
      "\u001B[0;31m---------------------------------------------------------------------------\u001B[0m",
      "\u001B[0;31mZeroDivisionError\u001B[0m                         Traceback (most recent call last)",
      "\u001B[0;32m/tmp/ipykernel_82182/2737341494.py\u001B[0m in \u001B[0;36m<module>\u001B[0;34m\u001B[0m\n\u001B[0;32m----> 1\u001B[0;31m \u001B[0;36m1\u001B[0m \u001B[0;34m/\u001B[0m \u001B[0;36m0\u001B[0m\u001B[0;34m\u001B[0m\u001B[0;34m\u001B[0m\u001B[0m\n\u001B[0m",
      "\u001B[0;31mZeroDivisionError\u001B[0m: division by zero"
     ]
    }
   ],
   "source": [
    "1 / 0"
   ],
   "metadata": {
    "collapsed": false,
    "pycharm": {
     "name": "#%%\n"
    }
   }
  },
  {
   "cell_type": "code",
   "execution_count": 20,
   "outputs": [
    {
     "ename": "BalanceError",
     "evalue": "Баланс не может быть отрицательным",
     "output_type": "error",
     "traceback": [
      "\u001B[0;31m---------------------------------------------------------------------------\u001B[0m",
      "\u001B[0;31mBalanceError\u001B[0m                              Traceback (most recent call last)",
      "\u001B[0;32m/tmp/ipykernel_82182/2565733201.py\u001B[0m in \u001B[0;36m<module>\u001B[0;34m\u001B[0m\n\u001B[1;32m      8\u001B[0m         \u001B[0;32melse\u001B[0m\u001B[0;34m:\u001B[0m\u001B[0;34m\u001B[0m\u001B[0;34m\u001B[0m\u001B[0m\n\u001B[1;32m      9\u001B[0m             \u001B[0mself\u001B[0m\u001B[0;34m.\u001B[0m\u001B[0mname\u001B[0m\u001B[0;34m,\u001B[0m \u001B[0mself\u001B[0m\u001B[0;34m.\u001B[0m\u001B[0mbalance\u001B[0m \u001B[0;34m=\u001B[0m \u001B[0mname\u001B[0m\u001B[0;34m,\u001B[0m \u001B[0mbalance\u001B[0m\u001B[0;34m\u001B[0m\u001B[0;34m\u001B[0m\u001B[0m\n\u001B[0;32m---> 10\u001B[0;31m \u001B[0mCustomer\u001B[0m\u001B[0;34m(\u001B[0m\u001B[0;34m\"Igor\"\u001B[0m\u001B[0;34m,\u001B[0m \u001B[0;34m-\u001B[0m\u001B[0;36m55\u001B[0m\u001B[0;34m)\u001B[0m\u001B[0;34m\u001B[0m\u001B[0;34m\u001B[0m\u001B[0m\n\u001B[0m",
      "\u001B[0;32m/tmp/ipykernel_82182/2565733201.py\u001B[0m in \u001B[0;36m__init__\u001B[0;34m(self, name, balance)\u001B[0m\n\u001B[1;32m      5\u001B[0m     \u001B[0;32mdef\u001B[0m \u001B[0m__init__\u001B[0m\u001B[0;34m(\u001B[0m\u001B[0mself\u001B[0m\u001B[0;34m,\u001B[0m \u001B[0mname\u001B[0m\u001B[0;34m,\u001B[0m \u001B[0mbalance\u001B[0m\u001B[0;34m)\u001B[0m\u001B[0;34m:\u001B[0m\u001B[0;34m\u001B[0m\u001B[0;34m\u001B[0m\u001B[0m\n\u001B[1;32m      6\u001B[0m         \u001B[0;32mif\u001B[0m \u001B[0mbalance\u001B[0m \u001B[0;34m<\u001B[0m \u001B[0;36m0\u001B[0m\u001B[0;34m:\u001B[0m\u001B[0;34m\u001B[0m\u001B[0;34m\u001B[0m\u001B[0m\n\u001B[0;32m----> 7\u001B[0;31m             \u001B[0;32mraise\u001B[0m \u001B[0mBalanceError\u001B[0m\u001B[0;34m(\u001B[0m\u001B[0;34m\"Баланс не может быть отрицательным\"\u001B[0m\u001B[0;34m)\u001B[0m\u001B[0;34m\u001B[0m\u001B[0;34m\u001B[0m\u001B[0m\n\u001B[0m\u001B[1;32m      8\u001B[0m         \u001B[0;32melse\u001B[0m\u001B[0;34m:\u001B[0m\u001B[0;34m\u001B[0m\u001B[0;34m\u001B[0m\u001B[0m\n\u001B[1;32m      9\u001B[0m             \u001B[0mself\u001B[0m\u001B[0;34m.\u001B[0m\u001B[0mname\u001B[0m\u001B[0;34m,\u001B[0m \u001B[0mself\u001B[0m\u001B[0;34m.\u001B[0m\u001B[0mbalance\u001B[0m \u001B[0;34m=\u001B[0m \u001B[0mname\u001B[0m\u001B[0;34m,\u001B[0m \u001B[0mbalance\u001B[0m\u001B[0;34m\u001B[0m\u001B[0;34m\u001B[0m\u001B[0m\n",
      "\u001B[0;31mBalanceError\u001B[0m: Баланс не может быть отрицательным"
     ]
    }
   ],
   "source": [
    "class BalanceError(Exception):\n",
    "    pass\n",
    "\n",
    "class Customer:\n",
    "    def __init__(self, name, balance):\n",
    "        if balance < 0:\n",
    "            raise BalanceError(\"Баланс не может быть отрицательным\")\n",
    "        else:\n",
    "            self.name, self.balance = name, balance\n",
    "Customer(\"Igor\", -55)"
   ],
   "metadata": {
    "collapsed": false,
    "pycharm": {
     "name": "#%%\n"
    }
   }
  },
  {
   "cell_type": "markdown",
   "source": [
    "Теперь мы будем пытаться отловить ошибку в коде при помощи исключения."
   ],
   "metadata": {
    "collapsed": false,
    "pycharm": {
     "name": "#%% md\n"
    }
   }
  },
  {
   "cell_type": "code",
   "execution_count": 28,
   "outputs": [
    {
     "ename": "KeyError",
     "evalue": "'three'",
     "output_type": "error",
     "traceback": [
      "\u001B[0;31m---------------------------------------------------------------------------\u001B[0m",
      "\u001B[0;31mKeyError\u001B[0m                                  Traceback (most recent call last)",
      "\u001B[0;32m/tmp/ipykernel_82182/1320767710.py\u001B[0m in \u001B[0;36m<module>\u001B[0;34m\u001B[0m\n\u001B[0;32m----> 1\u001B[0;31m \u001B[0mdict_\u001B[0m\u001B[0;34m.\u001B[0m\u001B[0mpop\u001B[0m\u001B[0;34m(\u001B[0m\u001B[0;34m\"three\"\u001B[0m\u001B[0;34m)\u001B[0m\u001B[0;34m\u001B[0m\u001B[0;34m\u001B[0m\u001B[0m\n\u001B[0m",
      "\u001B[0;31mKeyError\u001B[0m: 'three'"
     ]
    }
   ],
   "source": [
    "dict_.pop(\"three\")"
   ],
   "metadata": {
    "collapsed": false,
    "pycharm": {
     "name": "#%%\n"
    }
   }
  },
  {
   "cell_type": "code",
   "execution_count": 39,
   "outputs": [],
   "source": [
    "try:\n",
    "    cust = Customer(\"Igor\", -5500)\n",
    "except BalanceError as e:\n",
    "    st = Customer(\"Igor\", 500)"
   ],
   "metadata": {
    "collapsed": false,
    "pycharm": {
     "name": "#%%\n"
    }
   }
  },
  {
   "cell_type": "markdown",
   "source": [
    "## Внутренние и частные аттрибуты и методы\n",
    "\n",
    "### Внутренние аттрибуты\n",
    "obj._att_name, obj._method_name():\n",
    "\n",
    "- начинаются с одного нижнего подчеркивания\n",
    "- не являются частью публичного API\n",
    "- со стороны пользователя класса - \"не трогать!\"\n",
    "- со стороны разработчика класса - вспомогательная функция\n",
    "\n",
    "\n",
    "### Псевдочастные аттрибуты\n",
    "obj.__att_name, obj.__method_name():\n",
    "\n",
    "- два нижних подчеркивания\n",
    "- нельзя наследовать\n",
    "- интерпретируется как obj._MyClass__attr_name\n",
    "- используется для предотвращения одинаковых имен в наследуемых классах"
   ],
   "metadata": {
    "collapsed": false,
    "pycharm": {
     "name": "#%% md\n"
    }
   }
  },
  {
   "cell_type": "markdown",
   "source": [
    "## Properties\n",
    "\n",
    "Со стороны юзера используем метод как атрибут\n",
    "\n",
    "Со стороны разработчика даем управление доступа\n",
    "и"
   ],
   "metadata": {
    "collapsed": false,
    "pycharm": {
     "name": "#%% md\n"
    }
   }
  },
  {
   "cell_type": "code",
   "execution_count": 14,
   "outputs": [
    {
     "data": {
      "text/plain": "1000"
     },
     "execution_count": 14,
     "metadata": {},
     "output_type": "execute_result"
    }
   ],
   "source": [
    "class Employer:\n",
    "    def __init__(self, name, new_salary):\n",
    "        self._salary = new_salary  # Создаем защищенный аттрибут\n",
    "\n",
    "    @property  # Создаем property метод, где название метода совпадает в точности с внутренним аттрибутом\n",
    "    def salary(self):\n",
    "        return self._salary\n",
    "\n",
    "    @salary.setter  # Используем @attr.setter перед методом к внутреннему аттрибуту, который изменит значение аттрибута на аргумент из метода\n",
    "    def salary(self, new_salary):\n",
    "        if new_salary < 0:\n",
    "            raise ValueError(\"Invalid salary\")\n",
    "        self._salary = new_salary\n",
    "emp = Employer(\"Igor\", 100)\n",
    "emp.salary = 1000\n",
    "emp.salary"
   ],
   "metadata": {
    "collapsed": false,
    "pycharm": {
     "name": "#%%\n"
    }
   }
  },
  {
   "cell_type": "markdown",
   "source": [
    "Если не добавить *@attr.setter*, то аттрибут будет только для чтения\n",
    "\n",
    "Если добавить  *@attr.getter*, то метод можно будет вызвать, когда аттрибуту будет присвоено какое-то значение\n",
    "\n",
    "Если добавить *@attr.deleter*, то метод можно будет вызывать, когда мы удалим аттрибут"
   ],
   "metadata": {
    "collapsed": false,
    "pycharm": {
     "name": "#%% md\n"
    }
   }
  },
  {
   "cell_type": "code",
   "execution_count": 21,
   "outputs": [
    {
     "ename": "AttributeError",
     "evalue": "can't set attribute",
     "output_type": "error",
     "traceback": [
      "\u001B[0;31m---------------------------------------------------------------------------\u001B[0m",
      "\u001B[0;31mAttributeError\u001B[0m                            Traceback (most recent call last)",
      "\u001B[0;32m/tmp/ipykernel_188925/4172078389.py\u001B[0m in \u001B[0;36m<module>\u001B[0;34m\u001B[0m\n\u001B[1;32m     11\u001B[0m         \u001B[0;32mreturn\u001B[0m \u001B[0mself\u001B[0m\u001B[0;34m.\u001B[0m\u001B[0m_salary\u001B[0m \u001B[0;34m-\u001B[0m \u001B[0;36m100\u001B[0m\u001B[0;34m\u001B[0m\u001B[0;34m\u001B[0m\u001B[0m\n\u001B[1;32m     12\u001B[0m \u001B[0memp\u001B[0m \u001B[0;34m=\u001B[0m \u001B[0mEmployer\u001B[0m\u001B[0;34m(\u001B[0m\u001B[0;34m\"Igor\"\u001B[0m\u001B[0;34m,\u001B[0m \u001B[0;36m100\u001B[0m\u001B[0;34m)\u001B[0m\u001B[0;34m\u001B[0m\u001B[0;34m\u001B[0m\u001B[0m\n\u001B[0;32m---> 13\u001B[0;31m \u001B[0memp\u001B[0m\u001B[0;34m.\u001B[0m\u001B[0msalary\u001B[0m \u001B[0;34m=\u001B[0m \u001B[0;36m500\u001B[0m\u001B[0;34m\u001B[0m\u001B[0;34m\u001B[0m\u001B[0m\n\u001B[0m",
      "\u001B[0;31mAttributeError\u001B[0m: can't set attribute"
     ]
    }
   ],
   "source": [
    "class Employer:\n",
    "    def __init__(self, name, new_salary):\n",
    "        self._salary = new_salary  # Создаем защищенный аттрибут\n",
    "\n",
    "    @property  # Создаем property метод, где название метода совпадает в точности с внутренним аттрибутом\n",
    "    def salary(self):\n",
    "        return self._salary\n",
    "\n",
    "    @salary.getter  # Используем @attr.getter перед методом к внутреннему аттрибуту, который вернет нужное нам значение аттрибута\n",
    "    def salary(self):\n",
    "        return self._salary - 100\n",
    "emp = Employer(\"Igor\", 100)\n",
    "emp.salary = 500"
   ],
   "metadata": {
    "collapsed": false,
    "pycharm": {
     "name": "#%%\n"
    }
   }
  },
  {
   "cell_type": "code",
   "execution_count": 51,
   "outputs": [],
   "source": [
    "class Employer:\n",
    "    def __init__(self, name, new_salary):\n",
    "        self._salary = new_salary  # Создаем защищенный аттрибут\n",
    "\n",
    "    @property  # Создаем property метод, где название метода совпадает в точности с внутренним аттрибутом\n",
    "    def salary(self):\n",
    "        return self._salary\n",
    "\n",
    "    @salary.deleter  # Используем @attr.setter перед методом к внутреннему аттрибуту, который изменит значение аттрибута на аргумент из метода\n",
    "    def salary(self):\n",
    "        del self._salary\n",
    "emp = Employer(\"Igor\", 100)\n",
    "del emp.salary"
   ],
   "metadata": {
    "collapsed": false,
    "pycharm": {
     "name": "#%%\n"
    }
   }
  },
  {
   "cell_type": "code",
   "execution_count": null,
   "outputs": [],
   "source": [],
   "metadata": {
    "collapsed": false,
    "pycharm": {
     "name": "#%%\n"
    }
   }
  }
 ],
 "metadata": {
  "kernelspec": {
   "display_name": "Python 3",
   "language": "python",
   "name": "python3"
  },
  "language_info": {
   "codemirror_mode": {
    "name": "ipython",
    "version": 2
   },
   "file_extension": ".py",
   "mimetype": "text/x-python",
   "name": "python",
   "nbconvert_exporter": "python",
   "pygments_lexer": "ipython2",
   "version": "2.7.6"
  }
 },
 "nbformat": 4,
 "nbformat_minor": 0
}