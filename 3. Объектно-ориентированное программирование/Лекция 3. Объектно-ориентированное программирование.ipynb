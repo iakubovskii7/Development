{
 "cells": [
  {
   "cell_type": "markdown",
   "metadata": {
    "collapsed": true,
    "pycharm": {
     "name": "#%% md\n"
    }
   },
   "source": [
    "# Основные концепции ООП\n",
    "\n",
    "## Абстракция\n",
    "\n",
    "Определяем в рамках нашего класса те характеристики, которые отличают его от всех других объектов,\n",
    "при этом четко определяя его концептуальные границы.\n",
    "\n",
    "## Инкапсуляция\n",
    "\n",
    "Инкапсуляция - это сокрытие методов в одном классе. Это свойство позволяет пользователю, который\n",
    "совсем не знаком с данным классом пользоваться и вызывать его методы.\n",
    "\n",
    "## Наследование\n",
    "\n",
    "Можем наследовать данные и функциональность некоторого существующего типа.\n",
    "\n",
    "## Полиморфизм\n",
    "\n",
    "Позволяет объектам с одинаковой спецификацией иметь различную реализацию.\n",
    "Например, после того как наследовали класс, мы можем пересоздать собственные методы, которые будут работать по-другому."
   ]
  },
  {
   "cell_type": "markdown",
   "source": [
    "# Абстракция и инкапсуляция\n",
    "\n",
    "Каждый класс начинается с функции __init__, где в качестве аргументов обязательно указывается self (вообще это будет в любых методах нашего класса) и\n",
    "опциональные аргументы, которые будут подаваться на вход в данный класс.\n"
   ],
   "metadata": {
    "collapsed": false,
    "pycharm": {
     "name": "#%% md\n"
    }
   }
  },
  {
   "cell_type": "code",
   "execution_count": 11,
   "outputs": [
    {
     "name": "stdout",
     "output_type": "stream",
     "text": [
      "50000\n",
      "10000\n",
      "30000\n"
     ]
    },
    {
     "data": {
      "text/plain": "{'name': 'Semen', 'salary': 500000}"
     },
     "execution_count": 11,
     "metadata": {},
     "output_type": "execute_result"
    }
   ],
   "source": [
    "class Employee:\n",
    "    MIN_SALARY = 30000  ## атрибут класса, здесь не указывается self и в методах класса мы не сможем обращаться к этой переменной\n",
    "    def __init__(self, name, salary):\n",
    "        self.name = name  ## self означает, переменная name будет вызываться в тех функциях, у которых в качестве аргумента будет self\n",
    "        self.salary = salary  ## теперь мы везде сможем обращаться к этой переменной при помощи self.salary\n",
    "\n",
    "    def create_dict(self, name, salary):  ## определяем метод класса (по сути это обычная функция, только обязательно должны укаывать self первым аргументом)\n",
    "        return {\"name\": name, \"salary\": salary}\n",
    "\n",
    "emp1 = Employee(\"Oleg\", 50000)\n",
    "emp2 = Employee(\"Igor\", 10000)\n",
    "# Вытащим зарплату Олега\n",
    "print(emp1.salary)\n",
    "# Вытащим зарплату Игоря \n",
    "print(emp2.salary)\n",
    "# Вытащим значение константы\n",
    "print(emp1.MIN_SALARY)\n",
    "# Применим метод\n",
    "emp1.create_dict(\"Semen\", 500000)"
   ],
   "metadata": {
    "collapsed": false,
    "pycharm": {
     "name": "#%%\n"
    }
   }
  },
  {
   "cell_type": "markdown",
   "source": [
    "# Наследование\n",
    "\n",
    "Разберем более подробно наследование классов и методов"
   ],
   "metadata": {
    "collapsed": false,
    "pycharm": {
     "name": "#%% md\n"
    }
   }
  },
  {
   "cell_type": "code",
   "execution_count": 5,
   "outputs": [],
   "source": [
    "class BankAccount:\n",
    "    def __init__(self, balance):\n",
    "        self.balance = balance\n",
    "\n",
    "    def check_account(self):\n",
    "        return self.balance\n",
    "\n",
    "    def withdraw(self, amount):\n",
    "        self.balance -= amount\n",
    "\n",
    "# Давайте наследуем класс BankAccount и создадим свой новый\n",
    "class SavingAccount(BankAccount):\n",
    "    pass"
   ],
   "metadata": {
    "collapsed": false,
    "pycharm": {
     "name": "#%%\n"
    }
   }
  },
  {
   "cell_type": "markdown",
   "source": [
    "*BankAccount* - суперкласс / родительский класс / предок / родитель / надкласс,\n",
    "*SavingAccount* - подкласс / производный класс / дочерний класс / класс потомок / класс наследник / класс-реализатор"
   ],
   "metadata": {
    "collapsed": false,
    "pycharm": {
     "name": "#%% md\n"
    }
   }
  },
  {
   "cell_type": "code",
   "execution_count": 21,
   "outputs": [
    {
     "name": "stdout",
     "output_type": "stream",
     "text": [
      "Тип экземпляра дочернего класса: <class '__main__.SavingAccount'>\n",
      "Атрибут, унаследованный от родительского класса: 1000\n"
     ]
    }
   ],
   "source": [
    "savings_acct = SavingAccount(1000)\n",
    "print(f\"Тип экземпляра дочернего класса: {type(savings_acct)}\")\n",
    "print(f\"Атрибут, унаследованный от родительского класса: {savings_acct.balance}\")\n",
    "# Метод, унаследованный от родительского класса:\n",
    "savings_acct.withdraw(300)"
   ],
   "metadata": {
    "collapsed": false,
    "pycharm": {
     "name": "#%%\n"
    }
   }
  },
  {
   "cell_type": "markdown",
   "source": [
    "Бывает полезным использовать метод super() для того, чтобы каждый раз не ссылаться на название родительского класса.\n"
   ],
   "metadata": {
    "collapsed": false,
    "pycharm": {
     "name": "#%% md\n"
    }
   }
  },
  {
   "cell_type": "code",
   "execution_count": 10,
   "outputs": [
    {
     "data": {
      "text/plain": "200"
     },
     "execution_count": 10,
     "metadata": {},
     "output_type": "execute_result"
    }
   ],
   "source": [
    "class SavingAccount(BankAccount):\n",
    "\n",
    "    def withdraw(self, amount):\n",
    "        amount = super().check_account()\n",
    "        self.balance += amount\n",
    "sa = SavingAccount(100)\n",
    "sa.withdraw(100)\n",
    "sa.check_account()"
   ],
   "metadata": {
    "collapsed": false,
    "pycharm": {
     "name": "#%%\n"
    }
   }
  },
  {
   "cell_type": "markdown",
   "source": [
    "# Защищенные методы и свойства\n",
    "\n"
   ],
   "metadata": {
    "collapsed": false,
    "pycharm": {
     "name": "#%% md\n"
    }
   }
  }
 ],
 "metadata": {
  "kernelspec": {
   "display_name": "Python 3",
   "language": "python",
   "name": "python3"
  },
  "language_info": {
   "codemirror_mode": {
    "name": "ipython",
    "version": 2
   },
   "file_extension": ".py",
   "mimetype": "text/x-python",
   "name": "python",
   "nbconvert_exporter": "python",
   "pygments_lexer": "ipython2",
   "version": "2.7.6"
  }
 },
 "nbformat": 4,
 "nbformat_minor": 0
}