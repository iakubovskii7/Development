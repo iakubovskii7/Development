{
 "cells": [
  {
   "cell_type": "markdown",
   "metadata": {},
   "source": [
    "# 0. PEP8 and Zen of Python\n",
    "\n",
    "https://pep8.org/"
   ]
  },
  {
   "cell_type": "markdown",
   "metadata": {},
   "source": [
    "- Indentation\n",
    "- Tabs or Spaces?\n",
    "- Maximum Line Length\n",
    "- Should a Line Break Before or After a Binary Operator?\n",
    "- Blank Lines\n",
    "- Source File Encoding\n",
    "- Imports\n",
    "- Module Level Dunder Names"
   ]
  },
  {
   "cell_type": "code",
   "execution_count": 6,
   "metadata": {},
   "outputs": [],
   "source": [
    "import this"
   ]
  },
  {
   "cell_type": "markdown",
   "metadata": {},
   "source": [
    "## PEP check\n",
    "http://pep8online.com/"
   ]
  },
  {
   "cell_type": "markdown",
   "metadata": {},
   "source": [
    "### Числа в компьютерных науках"
   ]
  },
  {
   "cell_type": "code",
   "execution_count": 6,
   "metadata": {
    "scrolled": true
   },
   "outputs": [
    {
     "name": "stdout",
     "output_type": "stream",
     "text": [
      "<class 'float'>\n",
      "<class 'float'>\n",
      "<class 'int'>\n"
     ]
    }
   ],
   "source": [
    "# Scientific numbers (исследовательский вариант)\n",
    "assert 1e5 == 10**5\n",
    "assert 1e+05 == 10**5\n",
    "assert 1e-05 == 10**-5\n",
    "assert 1e05 == 1e5\n",
    "assert 1e05 == 1E05\n",
    "print(type(1e05))\n",
    "print(type(1e5))\n",
    "print(type(10**5))"
   ]
  },
  {
   "cell_type": "markdown",
   "metadata": {},
   "source": [
    "# 1. Базовые типы данных"
   ]
  },
  {
   "cell_type": "markdown",
   "metadata": {},
   "source": [
    "## Числовой тип"
   ]
  },
  {
   "cell_type": "markdown",
   "metadata": {},
   "source": [
    "Следует отличать целые числа от вещественных.\n",
    "Например, числа 1 и 1.0 имеют разный\n",
    "тип данных."
   ]
  },
  {
   "cell_type": "code",
   "execution_count": 10,
   "metadata": {},
   "outputs": [
    {
     "name": "stdout",
     "output_type": "stream",
     "text": [
      "<class 'int'>\n",
      "<class 'float'>\n",
      "2\n",
      "0\n",
      "2\n",
      "1\n",
      "1\n"
     ]
    }
   ],
   "source": [
    "x = 1\n",
    "y = 1.0\n",
    "assert x == y\n",
    "print(type(x))\n",
    "print(type(y))\n",
    "print(x + 1)   # Addition (сложение)\n",
    "print(x - 1)   # Subtraction (вычитание)\n",
    "print(x * 2)   # Multiplication (произведение)\n",
    "print(x ** 2)  # Exponentiation (возведение в степень)\n",
    "print(x % 2) # Остаток от деления"
   ]
  },
  {
   "cell_type": "code",
   "execution_count": 11,
   "metadata": {},
   "outputs": [
    {
     "name": "stdout",
     "output_type": "stream",
     "text": [
      "2\n",
      "4\n",
      "<class 'float'>\n",
      "2.5 3.5 5.0 6.25\n"
     ]
    }
   ],
   "source": [
    "x += 1 # Прибавим к x еще единицу\n",
    "print(x)\n",
    "x *= 2 # Умножим x на 2\n",
    "print(x)\n",
    "x1 = x * 2\n",
    "x *=2\n",
    "assert(x1 == x)\n",
    "y = 2.5\n",
    "print(type(y))\n",
    "print(y, y + 1, y * 2, y ** 2)"
   ]
  },
  {
   "cell_type": "code",
   "execution_count": 12,
   "metadata": {},
   "outputs": [
    {
     "name": "stdout",
     "output_type": "stream",
     "text": [
      "365100565\n"
     ]
    },
    {
     "data": {
      "text/plain": "3651.00565"
     },
     "execution_count": 12,
     "metadata": {},
     "output_type": "execute_result"
    }
   ],
   "source": [
    "# Большие числа можно разделять условным разделителем\n",
    "var = 365_100_565\n",
    "print(var)\n",
    "var / 1e5"
   ]
  },
  {
   "cell_type": "markdown",
   "metadata": {},
   "source": [
    "Более детально про типы данных питона здесь:\n",
    "[documentation](https://docs.python.org/3.7/library/stdtypes.html#numeric-types-int-float-long-complex)."
   ]
  },
  {
   "cell_type": "markdown",
   "metadata": {},
   "source": [
    "## Booleans - логический тип"
   ]
  },
  {
   "cell_type": "markdown",
   "metadata": {},
   "source": [
    "В питоне реализрованы все типы операторов Булевой логики."
   ]
  },
  {
   "cell_type": "code",
   "execution_count": 13,
   "metadata": {},
   "outputs": [
    {
     "name": "stdout",
     "output_type": "stream",
     "text": [
      "<class 'bool'>\n",
      "False\n",
      "True\n",
      "False\n",
      "True\n",
      "False\n",
      "True\n"
     ]
    }
   ],
   "source": [
    "t, f = True, False\n",
    "print(type(t))\n",
    "print(t and f) # Логическое AND; #\n",
    "print(t or f)  # Логическое OR;\n",
    "print(not t)   # Логическое NOT;\n",
    "print(t != f)  # Не равно\n",
    "print(t & f) # Логическое AND;\n",
    "print(t | f)  # Логическое OR;"
   ]
  },
  {
   "cell_type": "markdown",
   "metadata": {},
   "source": [
    "## Strings - строковый тип данных"
   ]
  },
  {
   "cell_type": "markdown",
   "source": [
    "Большинство важных методов работы с текстовыми переменными приведено\n",
    "[здесь](https://www.freecodecamp.org/news/python-string-manipulation-handbook/).\n",
    "Рассмотрим ниже самые основные из них."
   ],
   "metadata": {
    "collapsed": false,
    "pycharm": {
     "name": "#%% md\n"
    }
   }
  },
  {
   "cell_type": "code",
   "execution_count": 14,
   "metadata": {},
   "outputs": [
    {
     "name": "stdout",
     "output_type": "stream",
     "text": [
      "Peter is 23 years old\n",
      "Peter is 23 years old\n",
      "Peter is 23 years old\n"
     ]
    }
   ],
   "source": [
    "# f-strings\n",
    "name = 'Peter'\n",
    "age = 23\n",
    "\n",
    "print('%s is %d years old' % (name, age))\n",
    "print('{} is {} years old'.format(name, age))\n",
    "print(f'{name} is {age} years old')"
   ]
  },
  {
   "cell_type": "code",
   "execution_count": 15,
   "metadata": {},
   "outputs": [
    {
     "name": "stdout",
     "output_type": "stream",
     "text": [
      "hello has 5 length\n",
      "hello world\n",
      "hello world 12\n"
     ]
    }
   ],
   "source": [
    "hello = 'hello'   # Можно использовать одинарные кавычки\n",
    "world = \"world\"   # Двойные кавычки. Это удобно, когда в строковой переменной\n",
    "# нужно указать какое-то точное значение\n",
    "print(f\"{hello} has {len(hello)} length\")\n",
    "hw = hello + ' ' + world  # String concatenation\n",
    "print(hw)\n",
    "hw12 = f'{hello} {world} {12}' # string formatting\n",
    "print(hw12)"
   ]
  },
  {
   "cell_type": "code",
   "execution_count": 17,
   "metadata": {},
   "outputs": [
    {
     "name": "stdout",
     "output_type": "stream",
     "text": [
      "Hello\n",
      "HELLO\n",
      "hello\n",
      "he(ell)(ell)o\n",
      "world\n",
      "['', 'world', '']\n"
     ]
    }
   ],
   "source": [
    "s = \"hello\"\n",
    "s1 = \"HELLO\"\n",
    "print(s.capitalize())  # Первая буква теперь БОЛЬШАЯ\n",
    "print(s.upper())       # Все символы теперь БОЛЬШИЕ\n",
    "print(s1.lower())       # Все символы теперь МАЛЕНЬКИЕ\n",
    "print(s.replace('l', '(ell)'))  # Заменим все l на (ell)\n",
    "print('*world*'.strip(\"*\"))  # Удалим с обеих сторон звездочки\n",
    "print('*world*'.split(\"*\"))  # Разобьем объект на несколько объектов согласно\n",
    "# разделителю звездочка\n",
    "print(\"My name is Oleg Olegov\".count(\"O\"))  # Посчитаем число вхождений О\n"
   ]
  },
  {
   "cell_type": "code",
   "execution_count": 57,
   "metadata": {},
   "outputs": [
    {
     "name": "stdout",
     "output_type": "stream",
     "text": [
      "An approximate answer to the right question is worth a great deal more than a precise answer to the wrong question.\n",
      "--------------------------------------------------\n",
      "\n",
      "An approximate answer to the right question \n",
      "is worth a great deal more than \n",
      "a precise answer to the wrong question.\n",
      "\n",
      "--------------------------------------------------\n",
      "a precise answer\n",
      "--------------------------------------------------\n",
      "a great deal right???\n",
      "--------------------------------------------------\n",
      "['t', 'o', ' ', 't', 'h', 'e', ' ', 'r', 'i', 'g', 'h', 't', ' ', 'q', 'u', 'e', 's', 't', 'i', 'o', 'n']\n",
      "--------------------------------------------------\n",
      "to the right question\n",
      "--------------------------------------------------\n",
      "['a', 'precise', 'answer']\n",
      "--------------------------------------------------\n",
      "A precise answer to the right question.\n"
     ]
    }
   ],
   "source": [
    "print(\"-\"*50) # Размножим символ - в 50 раз.\n",
    "\n",
    "# Чтобы использовать переносы в строковых переменных, мы используем\n",
    "# тройные кавычки.\n",
    "s = \"\"\"\n",
    "An approximate answer to the right question \n",
    "is worth a great deal more than \n",
    "a precise answer to the wrong question.\n",
    "\"\"\"\n",
    "print(s)\n",
    "\n",
    "print(\"-\"*50)\n",
    "\n",
    "# Можно работать со строковой переменной как со списками\n",
    "a = s[1:5]\n",
    "print(a)\n",
    "b = s[-5:-1]\n",
    "print(b)\n",
    "\n",
    "print(\"-\"*50)\n",
    "\n",
    "# Строки можно складывать и перемножать\n",
    "print(s[55:68] + s[30:35] + \"?\" * 3)\n",
    "\n",
    "print(\"-\"*50)\n",
    "\n",
    "# Можно присоединить к строке символ при помощи join\n",
    "b1 = \"\".join(b)\n",
    "print(b)\n",
    "\n",
    "print('-'*50)"
   ]
  },
  {
   "cell_type": "markdown",
   "metadata": {},
   "source": [
    "# Контейнеры питона\n",
    "Питон включает в себя следующие основные контейнеры:\n",
    " - lists (списки)\n",
    " - tuples (кортежи)\n",
    " - sets (множества)\n",
    " - dictionaries (словари)"
   ]
  },
  {
   "cell_type": "markdown",
   "metadata": {},
   "source": [
    "## 5 Lists (списки)\n",
    "Ниже представлены основные методы работы со списками. Самое важное - запомнить,\n",
    "что применяя метод к спискам, мы не должны заново присваивать значение этой же переменной."
   ]
  },
  {
   "cell_type": "code",
   "execution_count": 29,
   "metadata": {},
   "outputs": [
    {
     "name": "stdout",
     "output_type": "stream",
     "text": [
      "1\n",
      "2\n",
      "[10]\n",
      "добавим к исходному списку еще один список: [1, 2, 3, 3, 4, 5, 6, 7, 8, 9, 10, 10, [5, 6, 7]]\n",
      "добавим к исходному списку ЭЛЕМЕНТЫ нового списка: [1, 2, 3, 3, 4, 5, 6, 7, 8, 9, 10, 10, [5, 6, 7], 1, 2, 3]\n",
      "удалим первый по счету элемент, равный 1: [2, 3, 3, 4, 5, 6, 7, 8, 9, 10, 10, [5, 6, 7], 1, 2, 3]\n",
      "вернем количество вхождений элемента 3: [2, 3, 3, 4, 5, 6, 7, 8, 9, 10, 10, [5, 6, 7], 1, 2, 3]\n",
      "вставим на первую позицию элемент 10: [10, 2, 3, 3, 4, 5, 6, 7, 8, 9, 10, 10, [5, 6, 7], 1, 2, 3]\n",
      "удалим элемент 10 из первого вхождения: [10, 2, 3, 3, 4, 5, 6, 7, 8, 9, 10, [5, 6, 7], 1, 2, 3]\n",
      "развернем список: [3, 2, 1, [5, 6, 7], 10, 9, 8, 7, 6, 5, 4, 3, 3, 2, 10]\n",
      "удалим первые пять элементов: [9, 8, 7, 6, 5, 4, 3, 3, 2, 10]\n",
      "отсортируем массив: [2, 3, 3, 4, 5, 6, 7, 8, 9, 10]\n"
     ]
    }
   ],
   "source": [
    "l = list([1, 2, 3, 3 ,4, 5, 6, 7, 8, 9, 10, 10])\n",
    "print(l[0]) # вытащим первый элемент (в питоне он имеет нулевой индекс)\n",
    "print(l[1]) # вытащим второй элемент\n",
    "print(l[-1:]) # вытащим первый элемент с конца\n",
    "l.append([5,6,7])\n",
    "print(f\"добавим к исходному списку еще один список: {l}\")\n",
    "l.extend([1,2,3])\n",
    "print(f\"добавим к исходному списку ЭЛЕМЕНТЫ нового списка: {l}\")\n",
    "l.remove(1)\n",
    "print(f\"удалим первый по счету элемент, равный 1: {l}\")\n",
    "l.count(3)\n",
    "print(f\"вернем количество вхождений элемента 3: {l}\")\n",
    "l.insert(0, 10)\n",
    "print(f\"вставим на первую позицию элемент 10: {l}\")\n",
    "l.pop(10)\n",
    "print(f\"удалим элемент 10 из первого вхождения: {l}\")\n",
    "l.reverse()\n",
    "print(f\"развернем список: {l}\")\n",
    "l = l[5:]\n",
    "print(f\"удалим первые пять элементов: {l}\")\n",
    "l.sort()\n",
    "print(f\"отсортируем массив: {l}\") #Sorts the list"
   ]
  },
  {
   "cell_type": "markdown",
   "metadata": {},
   "source": [
    "### Современные пакеты работы со списками - funcy"
   ]
  },
  {
   "cell_type": "code",
   "execution_count": 132,
   "metadata": {},
   "outputs": [
    {
     "data": {
      "text/plain": [
       "[1, 2, 3, 4, 5, 6, 7, 8, 9]"
      ]
     },
     "execution_count": 132,
     "metadata": {},
     "output_type": "execute_result"
    }
   ],
   "source": [
    "from funcy import lflatten\n",
    "data = [1, 2, [3, 4, [5, 6]], 7, [8, 9]]\n",
    "#Flatten \n",
    "lflatten(data)"
   ]
  },
  {
   "cell_type": "markdown",
   "metadata": {},
   "source": [
    "# 6. Tuples (кортежи)"
   ]
  },
  {
   "cell_type": "markdown",
   "metadata": {},
   "source": [
    "Кортежи практически идентичны спискам за исключением того, что они:\n",
    "- неизменяемы\n",
    "- потребляют меньше памяти\n",
    "- более быстрые по обработке"
   ]
  },
  {
   "cell_type": "code",
   "execution_count": 45,
   "metadata": {},
   "outputs": [
    {
     "name": "stdout",
     "output_type": "stream",
     "text": [
      "3\n",
      "('a', 'b', 'c', 1, 2, 3)\n",
      "(1, 2, 3)\n"
     ]
    }
   ],
   "source": [
    "thistuple = (\"apple\", \"banana\", \"cherry\")\n",
    "print(len(thistuple))\n",
    "print(thistuple[2])\n",
    "\n",
    "# Объединение кортежей\n",
    "tuple1 = (\"a\", \"b\" , \"c\")\n",
    "tuple2 = (1, 2, 3)\n",
    "tuple3 = tuple1 + tuple2\n",
    "print(tuple3)\n",
    "\n",
    "# Основные методы\n",
    "tuple1.count(\"a\")\n",
    "tuple2.index(3)\n",
    "\n",
    "new_tuple = tuple([1,2,3]) # явно задаем кортеж\n",
    "print(new_tuple)"
   ]
  },
  {
   "cell_type": "markdown",
   "metadata": {},
   "source": [
    "# 7. Sets (множества)\n",
    "\n",
    "Множества похожи на списки за исключением того, что все элементы должны быть\n",
    "уникальными и, как правило, сортируются автоматически в определенном порядке.\n",
    "Соответственно, если нам важен порядок элементов, с множествами нужно обращаться\n",
    "аккуратней."
   ]
  },
  {
   "cell_type": "code",
   "execution_count": 54,
   "metadata": {},
   "outputs": [
    {
     "name": "stdout",
     "output_type": "stream",
     "text": [
      "Разница между длинами списка и множества = 4\n",
      "True\n",
      "False\n",
      "False\n"
     ]
    },
    {
     "data": {
      "text/plain": "{1}"
     },
     "execution_count": 54,
     "metadata": {},
     "output_type": "execute_result"
    }
   ],
   "source": [
    "l1 = list([1,2,3,3,3,4,5,5,6,6,10])\n",
    "l2 = list([100, 200, 300, 300, 300, 200, 100])\n",
    "\n",
    "# Перейдем из списков в множества\n",
    "s1, s2  = set(l1), set(l)\n",
    "print(f\"Разница между длинами списка и множества = {len(l1) - len(s1)}\")\n",
    "\n",
    "print(5 in s1) # - проверить вхождение элемента в множестве (как и в списке)\n",
    "\n",
    "print(5 not in s1) # не вхождение\n",
    "\n",
    "print(s1.issubset(s2)) # проверить, входит ли каждый элемент из s1 в множество s2\n",
    "\n",
    "print(s1.issuperset(s2)) # проверить, входит ли каждый элемент из s2 в множество s1\n",
    "\n",
    "print(s1.union(s2)) # объединение множеств\n",
    "\n",
    "print(s1.intersection(s2)) # пересечение множеств\n",
    "\n",
    "print(s1 & s2) # пересечение множеств\n",
    "\n",
    "print(s1.difference(s2)) # разница между множествами"
   ]
  },
  {
   "cell_type": "markdown",
   "metadata": {},
   "source": [
    "# 8. Dictionaries (словари)\n",
    "\n",
    "Словари представляют собой структуру \"ключ-значение\", где каждому ключу\n",
    "сопоставляется свой список значений (или кортеж или любая другая структура)."
   ]
  },
  {
   "cell_type": "code",
   "execution_count": 55,
   "metadata": {},
   "outputs": [
    {
     "name": "stdout",
     "output_type": "stream",
     "text": [
      "{'col1': ['val1'], 'col2': []}\n",
      "{'col1': ['val1', 'val2'], 'col2': []}\n",
      "{'col1': ['val1', 'val2'], 'col2': 'val11'}\n"
     ]
    }
   ],
   "source": [
    "# Классический способ создать словарь\n",
    "d0 = {\"col1\":[], \"col2\":[]}\n",
    "\n",
    "d0['col1'].append('val1')\n",
    "print(d0)\n",
    "\n",
    "d0['col1'].append(\"val2\")\n",
    "print(d0)\n",
    "\n",
    "d0['col2'] = \"val11\"\n",
    "print(d0)"
   ]
  },
  {
   "cell_type": "code",
   "execution_count": 63,
   "metadata": {},
   "outputs": [
    {
     "name": "stdout",
     "output_type": "stream",
     "text": [
      "2\n",
      "2\n"
     ]
    }
   ],
   "source": [
    "# Также можно воспользоваться модулем defaultdict из коллекций\n",
    "from collections import defaultdict\n",
    "names_dict = defaultdict(str)\n",
    "names_dict[\"Bob\"] = '1','2'\n",
    "names_dict[\"Katie\"] = 2\n",
    "print(names_dict.get(\"Katie\"))\n",
    "print(names_dict['Katie'])"
   ]
  },
  {
   "cell_type": "code",
   "execution_count": 65,
   "metadata": {},
   "outputs": [
    {
     "name": "stdout",
     "output_type": "stream",
     "text": [
      "{'Bob': 1, 'Ann': 2, 'Anton': 3, 'Kate': 4}\n",
      "{}\n",
      "{'Anton': 3}\n"
     ]
    }
   ],
   "source": [
    "# Основные методы работы со словарями\n",
    "d1, d2 = {\"Bob\":1, \"Ann\":2}, {\"Anton\":3, \"Kate\":4}\n",
    "d1.update(d2) # объединить словари\n",
    "print(d1)\n",
    "d1.clear() # - clear all key and values\n",
    "print(d1)\n",
    "d2.items() # - Вытащим кортежи пар ключ-значение\n",
    "d2.keys() # - Вытащим список из всех ключей\n",
    "d2.values() # - Вытащим список всех значений\n",
    "d2.pop(\"Kate\") # - Удалим пару ключ-значение по ключу Kate\n",
    "print(d2)"
   ]
  },
  {
   "cell_type": "markdown",
   "source": [
    "### Словари. Современные пакеты - funcy"
   ],
   "metadata": {
    "collapsed": false
   }
  },
  {
   "cell_type": "code",
   "execution_count": 70,
   "outputs": [
    {
     "name": "stdout",
     "output_type": "stream",
     "text": [
      "{1: [1, 2], 2: [4, 5, 6], 3: [3, 4], 4: [5, 6, 7]}\n",
      "{'A': 'Auron', 'B': 'Braska', 'C': 'Cid', 'D': 'Dona'}\n",
      "<class 'str'>\n",
      "<class 'str'>\n"
     ]
    }
   ],
   "source": [
    "from funcy import project, omit\n",
    "data = {\"this\": 1, \"is\": 2, \"the\": 3, \"sample\": 4, \"dict\": 5}\n",
    "\n",
    "# Удалим пары ключ-значения по заданным ключам\n",
    "omit(data, (\"is\", \"dict\"))\n",
    "\n",
    "# Оставим все пары ключ-значение по заданным ключам\n",
    "project(data, (\"this\", \"is\"))\n",
    "\n",
    "# Объединим словари (осторожно с числовыми значениями)\n",
    "d1 = {1: [1, 2], 2: [4, 5, 6]}\n",
    "d2 = {3: [3, 4], 4: [5, 6, 7]}\n",
    "d3 = {**d1, **d2}\n",
    "print(d3)\n",
    "\n",
    "#Merge string dictionaries\n",
    "d1 = { \"A\": \"Auron\", \"B\": \"Braska\", \"C\": \"Crusaders\" }\n",
    "d2 = { \"C\": \"Cid\", \"D\": \"Dona\" }\n",
    "d4 = {**d1, **d2}\n",
    "print(d4)\n",
    "\n",
    "# Пакеты для работы с json-файлами - популярный формат для неструктурированных файлов\n",
    "# import jmespath - work with json files\n",
    "#pip install ujson - mega fast package for json"
   ],
   "metadata": {
    "collapsed": false,
    "pycharm": {
     "name": "#%%\n"
    }
   }
  },
  {
   "cell_type": "markdown",
   "source": [
    "# 9. Loops (циклы), conditions (условия), generators (генераторы)\n",
    "\n",
    "## Loops (циклы)"
   ],
   "metadata": {
    "collapsed": false,
    "pycharm": {
     "name": "#%% md\n"
    }
   }
  },
  {
   "cell_type": "code",
   "execution_count": 33,
   "outputs": [
    {
     "name": "stdout",
     "output_type": "stream",
     "text": [
      "cdt\n",
      "dzg\n",
      "mznkey\n",
      "cdt\n",
      "dzg\n",
      "mznkey\n",
      "dzg\n",
      "mznkey\n"
     ]
    }
   ],
   "source": [
    "# Классический цикл как в большинстве языков программирования выглядит вот так:\n",
    "animals = ['cat', 'dog', 'monkey']\n",
    "for i in range(0, len(animals)):\n",
    "    print(animals[i].replace(\"a\", \"d\").replace(\"o\",'z'))\n",
    "for i in range(len(animals)):\n",
    "    print(animals[i].replace(\"a\", \"d\").replace(\"o\",'z'))\n",
    "for i in range(1, len(animals)):\n",
    "    print(animals[i].replace(\"a\", \"d\").replace(\"o\",'z'))"
   ],
   "metadata": {
    "collapsed": false,
    "pycharm": {
     "name": "#%%\n"
    }
   }
  },
  {
   "cell_type": "code",
   "execution_count": 2,
   "outputs": [
    {
     "name": "stdout",
     "output_type": "stream",
     "text": [
      "cdt\n",
      "dzg\n",
      "mznkey\n"
     ]
    }
   ],
   "source": [
    "# Однако, можно идти сразу по каждому элементу, а не по индексу\n",
    "animals = ['cat', 'dog', 'monkey']\n",
    "for animal in animals:\n",
    "    print(animal.replace(\"a\", \"d\").replace(\"o\",'z'))"
   ],
   "metadata": {
    "collapsed": false,
    "pycharm": {
     "name": "#%%\n"
    }
   }
  },
  {
   "cell_type": "markdown",
   "source": [
    "Объединение этих двух типов циклов достигается при помощи\n",
    "*enumerate*."
   ],
   "metadata": {
    "collapsed": false
   }
  },
  {
   "cell_type": "code",
   "execution_count": 3,
   "outputs": [
    {
     "name": "stdout",
     "output_type": "stream",
     "text": [
      "#0: cat\n",
      "#1: dog\n",
      "#2: monkey\n"
     ]
    }
   ],
   "source": [
    "animals = ['cat', 'dog', 'monkey']\n",
    "for idx, animal in enumerate(animals):\n",
    "    print(f'#{idx}: {animal}')"
   ],
   "metadata": {
    "collapsed": false,
    "pycharm": {
     "name": "#%%\n"
    }
   }
  },
  {
   "cell_type": "code",
   "execution_count": 43,
   "outputs": [
    {
     "name": "stdout",
     "output_type": "stream",
     "text": [
      "10\n",
      "9\n",
      "8\n",
      "7\n"
     ]
    }
   ],
   "source": [
    "i = 10\n",
    "while i - 5 > 1: # пока i-5 больше 1\n",
    "    print(i)\n",
    "    i -= 1"
   ],
   "metadata": {
    "collapsed": false,
    "pycharm": {
     "name": "#%%\n"
    }
   }
  },
  {
   "cell_type": "code",
   "execution_count": 34,
   "outputs": [
    {
     "name": "stdout",
     "output_type": "stream",
     "text": [
      "1\n",
      "2\n",
      "0\n",
      "1\n",
      "2\n"
     ]
    }
   ],
   "source": [
    "for i in range(1,3):\n",
    "    print(i)\n",
    "for i in range(3):\n",
    "    print(i)"
   ],
   "metadata": {
    "collapsed": false,
    "pycharm": {
     "name": "#%%\n"
    }
   }
  },
  {
   "cell_type": "markdown",
   "source": [
    "## Conditions (условия)"
   ],
   "metadata": {
    "collapsed": false
   }
  },
  {
   "cell_type": "code",
   "execution_count": 35,
   "outputs": [
    {
     "name": "stdout",
     "output_type": "stream",
     "text": [
      "150\n",
      "b\n"
     ]
    }
   ],
   "source": [
    "x = 150\n",
    "if x%2 == 0:  # если число без остатка делится на 2, то\n",
    "    print(x)\n",
    "if (x % 2) | (x - 50 == 0): # если число делиться без остатка на 2 или разница с 50 равна 0\n",
    "    print(x - 2)\n",
    "elif x - 50 > 50: # иначе если ... b\n",
    "    print('b')\n",
    "else: # иначе ...\n",
    "    print('c')"
   ],
   "metadata": {
    "collapsed": false,
    "pycharm": {
     "name": "#%%\n"
    }
   }
  },
  {
   "cell_type": "code",
   "execution_count": 4,
   "outputs": [
    {
     "name": "stdout",
     "output_type": "stream",
     "text": [
      "x equals 3\n",
      "0\n",
      "1\n",
      "2\n",
      "3\n",
      "4\n",
      "1\n"
     ]
    }
   ],
   "source": [
    "# Можно это все делать и в одну линию\n",
    "x = 3\n",
    "if x==3: print('x equals 3')\n",
    "\n",
    "while x>0: x-=1\n",
    "for i in range(x+5): print(i)\n",
    "\n",
    "condition = True\n",
    "y = 1 if condition else 0\n",
    "print(y)"
   ],
   "metadata": {
    "collapsed": false,
    "pycharm": {
     "name": "#%%\n"
    }
   }
  },
  {
   "cell_type": "markdown",
   "source": [
    "## List/set/tuple/dictionary comprehensions\n",
    "\n",
    "Очень полезная возможность питона, делающая его особенным среди остальных\n",
    "языков программирования. Можно сокращать целые циклы до одной строчки."
   ],
   "metadata": {
    "collapsed": false
   }
  },
  {
   "cell_type": "code",
   "execution_count": 44,
   "outputs": [
    {
     "name": "stdout",
     "output_type": "stream",
     "text": [
      "[0, 1, 4, 9, 16]\n"
     ]
    }
   ],
   "source": [
    "nums = [0, 1, 2, 3, 4]\n",
    "squares = [x ** 2 for x in nums]\n",
    "print(squares)"
   ],
   "metadata": {
    "collapsed": false,
    "pycharm": {
     "name": "#%%\n"
    }
   }
  },
  {
   "cell_type": "code",
   "execution_count": 5,
   "outputs": [
    {
     "name": "stdout",
     "output_type": "stream",
     "text": [
      "[0, 4, 16]\n"
     ]
    }
   ],
   "source": [
    "# Можно добавлять и условия\n",
    "nums = [0, 1, 2, 3, 4]\n",
    "even_squares = [x ** 2 for x in nums if x % 2 == 0]\n",
    "print(even_squares)"
   ],
   "metadata": {
    "collapsed": false,
    "pycharm": {
     "name": "#%%\n"
    }
   }
  },
  {
   "cell_type": "code",
   "execution_count": 6,
   "outputs": [
    {
     "name": "stdout",
     "output_type": "stream",
     "text": [
      "[0, 2, 4]\n"
     ]
    },
    {
     "data": {
      "text/plain": "[1, 3]"
     },
     "execution_count": 6,
     "metadata": {},
     "output_type": "execute_result"
    }
   ],
   "source": [
    "print([x for x in nums if x % 2 == 0])\n",
    "[x for x in nums if x % 2 == 1]"
   ],
   "metadata": {
    "collapsed": false,
    "pycharm": {
     "name": "#%%\n"
    }
   }
  },
  {
   "cell_type": "code",
   "execution_count": 171,
   "metadata": {
    "scrolled": true
   },
   "outputs": [
    {
     "data": {
      "text/plain": [
       "{'color': 'blue', 'fruit': 'apple', 'pet': 'dog'}"
      ]
     },
     "execution_count": 171,
     "metadata": {},
     "output_type": "execute_result"
    }
   ],
   "source": [
    "# Dictionary comprehension\n",
    "squares = {x: x*x for x in range(6)}\n",
    "odd_squares = {x: x*x for x in range(11) if x % 2 == 1}\n",
    "objects = ['blue', 'apple', 'dog']\n",
    "categories = ['color', 'fruit', 'pet']\n",
    "\n",
    "# Фильтрация в словарях через dict comprehension\n",
    "a_dict = {'one': 1, 'two': 2, 'thee': 3, 'four': 4}\n",
    "new_dict = {k: v for k, v in a_dict.items() if v <= 2}\n",
    "print(new_dict)\n",
    "\n",
    "# Фильтрация со списком\n",
    "wanted_keys = [\"one\",\"four\"]\n",
    "print(dict((k, a_dict[k]) for k in wanted_keys if k in a_dict))"
   ]
  },
  {
   "cell_type": "code",
   "execution_count": 71,
   "outputs": [
    {
     "name": "stdout",
     "output_type": "stream",
     "text": [
      "{'blue': 'color', 'apple': 'fruit', 'dog': 'pet'}\n",
      "{'color': 'blue', 'fruit': 'apple', 'pet': 'dog'}\n"
     ]
    }
   ],
   "source": [
    "# zip - создадим словарь из двух списков\n",
    "a_dict = {key: value for key, value in zip(categories, objects)}\n",
    "new_dict = {value: key for key, value in a_dict.items()}\n",
    "print(new_dict)\n",
    "print(a_dict)"
   ],
   "metadata": {
    "collapsed": false,
    "pycharm": {
     "name": "#%%\n"
    }
   }
  },
  {
   "cell_type": "markdown",
   "metadata": {},
   "source": [
    "# 10. Functional programming (функциональное программирование)"
   ]
  },
  {
   "cell_type": "markdown",
   "metadata": {},
   "source": [
    "**Концепции функционального программирования**\n",
    "\n",
    "Функциональное программирование в любом языке программирования\n",
    "удовлетворяет следующим концепциям.\n",
    "\n",
    "**1. Чистые функции**:\n",
    "\n",
    "- Одинаковый результат для одних и тех же аргументов\n",
    "- Значение аргументов не изменяется за пределами функции\n",
    "\n",
    "**2. Рекурсия:**\n",
    "\n",
    "Отсутствуют циклы *for*, *while*. Итерирование реализуется при помощи рекурсии.\n",
    "Функции могут быть функциями первого класса и более высоких порядков.\n",
    "Переменные первого класса можно передавать функциям в качестве параметра, а также\n",
    "они могут быть возвращены функциями или храниться в структурах данных.\n",
    "\n",
    "**3. Переменные не изменяются.**\n",
    "\n",
    "Не можем изменить переменные-аргументы функции - только создать новую переменную."
   ]
  },
  {
   "cell_type": "code",
   "execution_count": 72,
   "metadata": {
    "code_folding": []
   },
   "outputs": [
    {
     "name": "stdout",
     "output_type": "stream",
     "text": [
      "negative\n",
      "zero\n",
      "positive\n"
     ]
    }
   ],
   "source": [
    "# Чистая функция с def (в тройных кавычках docstrings - краткая информация о функции)\n",
    "def sign(x):\n",
    "    \"\"\"\n",
    "    :param x: number\n",
    "    :return: sign function\n",
    "    \"\"\"\n",
    "\n",
    "    if x > 0:\n",
    "        return 'positive'\n",
    "    elif x < 0:\n",
    "        return 'negative'\n",
    "    else:\n",
    "        return 'zero'\n",
    "for x in [-1, 0, 1]:\n",
    "    print(sign(x))"
   ]
  },
  {
   "cell_type": "markdown",
   "source": [
    "## 10.1 Анонимные функции\n",
    "\n",
    "В отличие от чистых функций, имеющие названия, мы можем опускать названия для\n",
    "более быстрого создания функций. Обычно это делается при помощи конструктора\n",
    "*lambda x: x*"
   ],
   "metadata": {
    "collapsed": false,
    "pycharm": {
     "name": "#%% md\n"
    }
   }
  },
  {
   "cell_type": "markdown",
   "metadata": {},
   "source": [
    "## 10.2 Functools: map, filter, reduce\n",
    "\n",
    "**map** применяет функцию к каждому элементу списка/кортежа\n",
    "\n",
    "**filter** оставляет только те элементы, для которых верна функция\n",
    "\n",
    "**reduce** последовательное применение для аргументов списка/кортежа\n"
   ]
  },
  {
   "cell_type": "code",
   "execution_count": 73,
   "metadata": {},
   "outputs": [
    {
     "name": "stdout",
     "output_type": "stream",
     "text": [
      "[0, 1, 4, 9, 16]\n"
     ]
    }
   ],
   "source": [
    "nums = [0, 1, 2, 3, 4]\n",
    "squares = []\n",
    "for x in nums:\n",
    "    squares.append(x ** 2)\n",
    "print(squares)"
   ]
  },
  {
   "cell_type": "code",
   "execution_count": 7,
   "metadata": {},
   "outputs": [
    {
     "name": "stdout",
     "output_type": "stream",
     "text": [
      "[1, 4, 9, 16, 25]\n"
     ]
    }
   ],
   "source": [
    "def sqr(x):\n",
    "    return x**2\n",
    "items = (1, 2, 3, 4, 5)\n",
    "squared = list(map(sqr, items))\n",
    "print(squared)"
   ]
  },
  {
   "cell_type": "code",
   "execution_count": 76,
   "metadata": {},
   "outputs": [
    {
     "name": "stdout",
     "output_type": "stream",
     "text": [
      "result of map: [1, 4, 9, 16, 25]\n",
      "result of filter: [-5, -4, -3, -2, -1]\n",
      "result of reduce: 120\n"
     ]
    }
   ],
   "source": [
    "#Map\n",
    "items = (1, 2, 3, 4, 5)\n",
    "squared = list(map(lambda x: x**2, items)) # заметим, что мы теперь никак не называем функцию\n",
    "print(f\"result of map: {squared}\")\n",
    "#Filter\n",
    "number_list = range(-5, 5)\n",
    "less_than_zero = list(filter(lambda x: x < 0, number_list))\n",
    "\n",
    "print(f\"result of filter: {less_than_zero}\")\n",
    "from functools import reduce\n",
    "#Reduce\n",
    "product = reduce((lambda x, y: x * y), (1,2,3,4,5))\n",
    "print(f\"result of reduce: {product}\")"
   ]
  },
  {
   "cell_type": "code",
   "execution_count": 78,
   "metadata": {
    "pycharm": {
     "name": "#%%\n"
    }
   },
   "outputs": [
    {
     "name": "stdout",
     "output_type": "stream",
     "text": [
      "['Isaac Asimov', 'Ray Bradbury', 'Octavia Butler', 'Neal Stephenson', 'Margaret Atwood', 'Usula K Le Guin']\n",
      "['Isaac Asimov', 'Margaret Atwood', 'Ray Bradbury', 'Octavia Butler', 'Usula K Le Guin', 'Neal Stephenson']\n"
     ]
    }
   ],
   "source": [
    "authors = ['Octavia Butler', 'Isaac Asimov', 'Neal Stephenson', 'Margaret Atwood', \n",
    "           'Usula K Le Guin', 'Ray Bradbury']\n",
    "print(sorted(authors, key=len))  # Возвращает список отсортированный по возрастанию фамилии\n",
    "print(sorted(authors, key=lambda name: name.split()[-1]))  # По возрастанию имени"
   ]
  }
 ],
 "metadata": {
  "kernelspec": {
   "display_name": "Python 3",
   "language": "python",
   "name": "python3"
  },
  "language_info": {
   "codemirror_mode": {
    "name": "ipython",
    "version": 3
   },
   "file_extension": ".py",
   "mimetype": "text/x-python",
   "name": "python",
   "nbconvert_exporter": "python",
   "pygments_lexer": "ipython3",
   "version": "3.8.3"
  },
  "toc": {
   "base_numbering": 1,
   "nav_menu": {},
   "number_sections": true,
   "sideBar": true,
   "skip_h1_title": false,
   "title_cell": "Table of Contents",
   "title_sidebar": "Contents",
   "toc_cell": false,
   "toc_position": {},
   "toc_section_display": true,
   "toc_window_display": false
  },
  "varInspector": {
   "cols": {
    "lenName": 16,
    "lenType": 16,
    "lenVar": 40
   },
   "kernels_config": {
    "python": {
     "delete_cmd_postfix": "",
     "delete_cmd_prefix": "del ",
     "library": "var_list.py",
     "varRefreshCmd": "print(var_dic_list())"
    },
    "r": {
     "delete_cmd_postfix": ") ",
     "delete_cmd_prefix": "rm(",
     "library": "var_list.r",
     "varRefreshCmd": "cat(var_dic_list()) "
    }
   },
   "types_to_exclude": [
    "module",
    "function",
    "builtin_function_or_method",
    "instance",
    "_Feature"
   ],
   "window_display": false
  }
 },
 "nbformat": 4,
 "nbformat_minor": 4
}