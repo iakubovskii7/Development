{
 "cells": [
  {
   "cell_type": "markdown",
   "metadata": {
    "collapsed": true,
    "pycharm": {
     "name": "#%% md\n"
    }
   },
   "source": [
    "# Docstrings в функциях\n",
    "\n",
    "Для того чтобы другим пользователям (да и нам в будущем) было\n",
    "понятно, какой смысл несет та или иная функция, люди придумали\n",
    "***docstrings*** - краткое описание работы функции.\n",
    "\n",
    "Ниже рассмотрим пример функции, которая сортирует список\n",
    "писателей по длине имени\n"
   ]
  },
  {
   "cell_type": "code",
   "execution_count": 4,
   "metadata": {
    "pycharm": {
     "name": "#%%\n"
    },
    "scrolled": true
   },
   "outputs": [
    {
     "name": "stdout",
     "output_type": "stream",
     "text": [
      "Help on function most_common in module collections:\n",
      "\n",
      "most_common(self, n=None)\n",
      "    List the n most common elements and their counts from the most\n",
      "    common to the least.  If n is None, then list all element counts.\n",
      "    \n",
      "    >>> Counter('abracadabra').most_common(3)\n",
      "    [('a', 5), ('b', 2), ('r', 2)]\n",
      "\n"
     ]
    }
   ],
   "source": [
    "def sort_list(authors_list):\n",
    "    \"\"\"\n",
    "    Function sorts list of authors along their names \n",
    "    :param authors_list: list of authors with name and surname\n",
    "    :return: sorted list along name\n",
    "    \"\"\"\n",
    "    "
   ]
  },
  {
   "cell_type": "markdown",
   "metadata": {
    "pycharm": {
     "name": "#%% md\n"
    }
   },
   "source": [
    "# Переменное число аргументов\n",
    "Бывают случаи, когда число аргументов функции\n",
    "заранее неизвестно. В таких случаях на помощь приходят\n",
    "магические *args и **kwargs\n",
    "\n",
    "## *args\n",
    "В качестве *args можно подавать любое число элементов с\n",
    "определенной структурой. Рассмотрим на примере ниже"
   ]
  },
  {
   "cell_type": "code",
   "execution_count": 6,
   "outputs": [
    {
     "name": "stdout",
     "output_type": "stream",
     "text": [
      "34\n"
     ]
    }
   ],
   "source": [
    "def list_of_memes(*args):\n",
    "    \"\"\"\n",
    "    Compute sum of length of all memo names\n",
    "    :param args: different memo names\n",
    "    :return: sum of length memo names\n",
    "    \"\"\"\n",
    "    result = sum(map(lambda x: len(x), args))\n",
    "    return result\n",
    "print(list_of_memes('язь', \"рыбов\", \"коты и наташа\",\n",
    "              \"николас кейдж\"))"
   ],
   "metadata": {
    "collapsed": false,
    "pycharm": {
     "name": "#%%\n"
    }
   }
  },
  {
   "cell_type": "markdown",
   "source": [
    "Обратим внимание, что перед *args* мы указываем звездочку\n",
    "среди аргументов функции, но в теле функции звездочки уже нет.\n",
    "Вообще говоря, вместо *args* может быть любое название.\n",
    "Однако, исторически все привыкли писать именно *args*."
   ],
   "metadata": {
    "collapsed": false,
    "pycharm": {
     "name": "#%% md\n"
    }
   }
  },
  {
   "cell_type": "markdown",
   "source": [
    "## **kwargs\n",
    "Две звездочки позволяют более универсально указать переменное\n",
    "число аргументов."
   ],
   "metadata": {
    "collapsed": false,
    "pycharm": {
     "name": "#%% md\n"
    }
   }
  },
  {
   "cell_type": "code",
   "execution_count": 9,
   "outputs": [
    {
     "name": "stdout",
     "output_type": "stream",
     "text": [
      "{'язь': 9.5, 'рыбов': 9.9, 'коты и наташа': 8.5, 'николас кейдж': 7.5}\n"
     ]
    }
   ],
   "source": [
    "def dict_of_memes(denominator, **kwargs):\n",
    "    \"\"\"\n",
    "    Function divide rating of memos on denominator\n",
    "    :param denominator:\n",
    "    :param kwargs: dictionary where key - memo name, value - mean rating\n",
    "    :return: new dictionary of memo rating\n",
    "    \"\"\"\n",
    "    new_dict = {key: round(value / denominator, 1) for key, value in kwargs.items()}\n",
    "    return new_dict\n",
    "\n",
    "print(dict_of_memes(10, **{\"язь\": 95,\n",
    "                           \"рыбов\": 99,\n",
    "                           \"коты и наташа\": 85,\n",
    "                           \"николас кейдж\": 75}))"
   ],
   "metadata": {
    "collapsed": false,
    "pycharm": {
     "name": "#%%\n"
    }
   }
  },
  {
   "cell_type": "markdown",
   "source": [
    "Здесь мы перед словарем также указали две звездочки как и в списке аргументов функции"
   ],
   "metadata": {
    "collapsed": false,
    "pycharm": {
     "name": "#%% md\n"
    }
   }
  },
  {
   "cell_type": "markdown",
   "source": [
    "## Аргументы функции по умолчанию\n",
    "\n",
    "Зачастую полезно указать аргумент функции со значением по умолчанию.\n",
    "Тогда при вызове функции данный аргумент можно игнорировать.\n",
    "Но если нам нужно будет его изменить - мы это явно укажем."
   ],
   "metadata": {
    "collapsed": false,
    "pycharm": {
     "name": "#%% md\n"
    }
   }
  },
  {
   "cell_type": "code",
   "execution_count": 1,
   "outputs": [
    {
     "name": "stdout",
     "output_type": "stream",
     "text": [
      "{'язь': 9.5, 'рыбов': 9.9, 'коты и наташа': 8.5, 'николас кейдж': 7.5}\n"
     ]
    }
   ],
   "source": [
    "def dict_of_memes2(denominator=10, **kwargs):\n",
    "    \"\"\"\n",
    "    Function divide rating of memos on denominator\n",
    "    :param denominator:\n",
    "    :param kwargs: dictionary where key - memo name, value - mean rating\n",
    "    :return: new dictionary of memo rating\n",
    "    \"\"\"\n",
    "    new_dict = {key: round(value / denominator, 1) for key, value in kwargs.items()}\n",
    "    return new_dict\n",
    "\n",
    "print(dict_of_memes2(**{\"язь\": 95,\n",
    "                           \"рыбов\": 99,\n",
    "                           \"коты и наташа\": 85,\n",
    "                           \"николас кейдж\": 75}))"
   ],
   "metadata": {
    "collapsed": false,
    "pycharm": {
     "name": "#%%\n"
    }
   }
  },
  {
   "cell_type": "markdown",
   "source": [
    "Здесь важно, чтобы аргумент с дефолтным значением стоял после всех аргументов\n",
    "без дефолтных названий. Например, такая функция выдаст ошибку."
   ],
   "metadata": {
    "collapsed": false,
    "pycharm": {
     "name": "#%% md\n"
    }
   }
  },
  {
   "cell_type": "code",
   "execution_count": 2,
   "outputs": [
    {
     "ename": "SyntaxError",
     "evalue": "non-default argument follows default argument (3173106273.py, line 1)",
     "output_type": "error",
     "traceback": [
      "\u001B[0;36m  File \u001B[0;32m\"/var/folders/10/4wpn2_y536s4d9p_khr6zgv40000gn/T/ipykernel_56586/3173106273.py\"\u001B[0;36m, line \u001B[0;32m1\u001B[0m\n\u001B[0;31m    def error_example(a, b=10, c):\u001B[0m\n\u001B[0m                      ^\u001B[0m\n\u001B[0;31mSyntaxError\u001B[0m\u001B[0;31m:\u001B[0m non-default argument follows default argument\n"
     ]
    }
   ],
   "source": [
    "def error_example(a, b=10, c):\n",
    "    summa = a + b + c\n",
    "    return summa\n",
    "error_example(10, 5)"
   ],
   "metadata": {
    "collapsed": false,
    "pycharm": {
     "name": "#%%\n"
    }
   }
  },
  {
   "cell_type": "code",
   "execution_count": 3,
   "outputs": [
    {
     "data": {
      "text/plain": "25"
     },
     "execution_count": 3,
     "metadata": {},
     "output_type": "execute_result"
    }
   ],
   "source": [
    "# Пример с работающей функцией\n",
    "def error_example(a, c, b=10):\n",
    "    summa = a + b + c\n",
    "    return summa\n",
    "error_example(10, 5)"
   ],
   "metadata": {
    "collapsed": false,
    "pycharm": {
     "name": "#%%\n"
    }
   }
  },
  {
   "cell_type": "markdown",
   "source": [
    "# Генераторы\n",
    "\n",
    "## yield\n"
   ],
   "metadata": {
    "collapsed": false,
    "pycharm": {
     "name": "#%% md\n"
    }
   }
  },
  {
   "cell_type": "markdown",
   "source": [
    "## gen"
   ],
   "metadata": {
    "collapsed": false,
    "pycharm": {
     "name": "#%% md\n"
    }
   }
  },
  {
   "cell_type": "markdown",
   "source": [
    "# Импорт функций из других модулей\n",
    "\n",
    "\n"
   ],
   "metadata": {
    "collapsed": false,
    "pycharm": {
     "name": "#%% md\n"
    }
   }
  }
 ],
 "metadata": {
  "kernelspec": {
   "display_name": "Python 3 (ipykernel)",
   "language": "python",
   "name": "python3"
  },
  "language_info": {
   "codemirror_mode": {
    "name": "ipython",
    "version": 3
   },
   "file_extension": ".py",
   "mimetype": "text/x-python",
   "name": "python",
   "nbconvert_exporter": "python",
   "pygments_lexer": "ipython3",
   "version": "3.8.8"
  },
  "toc": {
   "base_numbering": 1,
   "nav_menu": {},
   "number_sections": true,
   "sideBar": true,
   "skip_h1_title": false,
   "title_cell": "Table of Contents",
   "title_sidebar": "Contents",
   "toc_cell": false,
   "toc_position": {},
   "toc_section_display": true,
   "toc_window_display": false
  },
  "varInspector": {
   "cols": {
    "lenName": 16,
    "lenType": 16,
    "lenVar": 40
   },
   "kernels_config": {
    "python": {
     "delete_cmd_postfix": "",
     "delete_cmd_prefix": "del ",
     "library": "var_list.py",
     "varRefreshCmd": "print(var_dic_list())"
    },
    "r": {
     "delete_cmd_postfix": ") ",
     "delete_cmd_prefix": "rm(",
     "library": "var_list.r",
     "varRefreshCmd": "cat(var_dic_list()) "
    }
   },
   "types_to_exclude": [
    "module",
    "function",
    "builtin_function_or_method",
    "instance",
    "_Feature"
   ],
   "window_display": false
  }
 },
 "nbformat": 4,
 "nbformat_minor": 1
}