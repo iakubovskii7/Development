{
 "cells": [
  {
   "cell_type": "markdown",
   "metadata": {
    "collapsed": true,
    "pycharm": {
     "name": "#%% md\n"
    }
   },
   "source": [
    "# Docstrings в функциях\n",
    "\n",
    "Для того чтобы другим пользователям (да и нам в будущем) было\n",
    "понятно, какой смысл несет та или иная функция, люди придумали\n",
    "***docstrings*** - краткое описание работы функции.\n",
    "\n",
    "Ниже рассмотрим пример функции, которая сортирует список\n",
    "писателей по длине имени\n"
   ]
  },
  {
   "cell_type": "code",
   "execution_count": 4,
   "metadata": {
    "pycharm": {
     "name": "#%%\n"
    },
    "scrolled": true
   },
   "outputs": [],
   "source": [
    "def sort_list(authors_list):\n",
    "    \"\"\"\n",
    "    Function sorts list of authors along their names \n",
    "    :param authors_list: list of authors with name and surname\n",
    "    :return: sorted list along name\n",
    "    \"\"\""
   ]
  },
  {
   "cell_type": "markdown",
   "source": [
    "# Статическая и динамическая типизация\n",
    "\n",
    "В статической типизации мы каждой переменной должны задавать тип.\n",
    "Python - пример динамической типизации, где программа работает без четко заданных типов данных.\n",
    "\n",
    "Плюсы динамической типизации:\n",
    "- быстро пилим код\n",
    "- быстро редактируем\n",
    "...\n",
    "\n",
    "Минусы динамической типизации:\n",
    "- при большом количестве кода становится сложно отлавливать ошибку\n",
    "...\n",
    "\n",
    "Начиная с Python 3.4-3.5? ввели элементы статической типизации.\n",
    "Мы можем по желанию указывать типы переменных, аргументов и типы вывода функции."
   ],
   "metadata": {
    "collapsed": false,
    "pycharm": {
     "name": "#%% md\n"
    }
   }
  },
  {
   "cell_type": "code",
   "execution_count": 2,
   "outputs": [
    {
     "data": {
      "text/plain": "(23, 111)"
     },
     "execution_count": 2,
     "metadata": {},
     "output_type": "execute_result"
    }
   ],
   "source": [
    "from typing import List, Tuple, Dict, Any\n",
    "def get_max_lists(list1: List[int], list2: List[int]) -> Tuple[Any, Any]:\n",
    "    max1 = max(list1)\n",
    "    max2 = max(list2)\n",
    "    return max1, max2\n",
    "get_max_lists([1,23,4, 1], [9,10,111])"
   ],
   "metadata": {
    "collapsed": false,
    "pycharm": {
     "name": "#%%\n"
    }
   }
  },
  {
   "cell_type": "markdown",
   "metadata": {
    "pycharm": {
     "name": "#%% md\n"
    }
   },
   "source": [
    "# Переменное число аргументов\n",
    "Бывают случаи, когда число аргументов функции\n",
    "заранее неизвестно. В таких случаях на помощь приходят\n",
    "магические *args и **kwargs\n",
    "\n",
    "## *args\n",
    "В качестве *args можно подавать любое число элементов с\n",
    "определенной структурой. Рассмотрим на примере ниже"
   ]
  },
  {
   "cell_type": "code",
   "execution_count": 16,
   "outputs": [
    {
     "name": "stdout",
     "output_type": "stream",
     "text": [
      "34\n",
      "10\n"
     ]
    }
   ],
   "source": [
    "def list_of_memes(*args):\n",
    "    \"\"\"\n",
    "    Compute sum of length of all memo names\n",
    "    :param args: different memo names\n",
    "    :return: sum of length memo names\n",
    "    \"\"\"\n",
    "    result = sum(map(lambda x: len(x), args))\n",
    "    return result\n",
    "print(list_of_memes('язь', \"рыбов\", \"коты и наташа\",\n",
    "                    \"николас кейдж\"))\n",
    "\n",
    "\n",
    "def sum_numbers(*args):\n",
    "    sum_ = sum(args)\n",
    "    return sum_\n",
    "\n",
    "print(sum_numbers(1, 2, 3, 4))"
   ],
   "metadata": {
    "collapsed": false,
    "pycharm": {
     "name": "#%%\n"
    }
   }
  },
  {
   "cell_type": "markdown",
   "source": [
    "Обратим внимание, что перед *args* мы указываем звездочку\n",
    "среди аргументов функции, но в теле функции звездочки уже нет.\n",
    "Вообще говоря, вместо *args* может быть любое название.\n",
    "Однако, исторически все привыкли писать именно *args*."
   ],
   "metadata": {
    "collapsed": false,
    "pycharm": {
     "name": "#%% md\n"
    }
   }
  },
  {
   "cell_type": "markdown",
   "source": [
    "## **kwargs\n",
    "Две звездочки позволяют более универсально указать переменное\n",
    "число аргументов."
   ],
   "metadata": {
    "collapsed": false,
    "pycharm": {
     "name": "#%% md\n"
    }
   }
  },
  {
   "cell_type": "code",
   "execution_count": 3,
   "outputs": [
    {
     "name": "stdout",
     "output_type": "stream",
     "text": [
      "{'язь': 9.5, 'рыбов': 9.9, 'коты и наташа': 8.5, 'николас кейдж': 7.5}\n",
      "{'a': 0.1, 'b': 0.2}\n"
     ]
    }
   ],
   "source": [
    "def dict_of_memes(denominator: int, **kwargs: Dict) -> Dict:\n",
    "    \"\"\"\n",
    "    Function divide rating of memos on denominator\n",
    "    :param denominator:\n",
    "    :param kwargs: dictionary where key - memo name, value - mean rating\n",
    "    :return: new dictionary of memo rating\n",
    "    \"\"\"\n",
    "    new_dict = {key: round(value / denominator, 1) for key, value in kwargs.items()}\n",
    "    return new_dict\n",
    "\n",
    "print(dict_of_memes(10, **{\"язь\": 95,\n",
    "                           \"рыбов\": 99,\n",
    "                           \"коты и наташа\": 85,\n",
    "                           \"николас кейдж\": 75}))\n",
    "# Можно указать просто перечисление аргументов\n",
    "print(dict_of_memes(10, a=1, b=2))"
   ],
   "metadata": {
    "collapsed": false,
    "pycharm": {
     "name": "#%%\n"
    }
   }
  },
  {
   "cell_type": "markdown",
   "source": [
    "Здесь мы перед словарем также указали две звездочки как и в списке аргументов функции"
   ],
   "metadata": {
    "collapsed": false,
    "pycharm": {
     "name": "#%% md\n"
    }
   }
  },
  {
   "cell_type": "markdown",
   "source": [
    "## Аргументы функции по умолчанию\n",
    "\n",
    "Зачастую полезно указать аргумент функции со значением по умолчанию.\n",
    "Тогда при вызове функции данный аргумент можно игнорировать.\n",
    "Но если нам нужно будет его изменить - мы это явно укажем."
   ],
   "metadata": {
    "collapsed": false,
    "pycharm": {
     "name": "#%% md\n"
    }
   }
  },
  {
   "cell_type": "code",
   "execution_count": 4,
   "outputs": [
    {
     "name": "stdout",
     "output_type": "stream",
     "text": [
      "{'язь': 9.5, 'рыбов': 9.9, 'коты и наташа': 8.5, 'николас кейдж': 7.5}\n"
     ]
    }
   ],
   "source": [
    "def dict_of_memes2(denominator=10, **kwargs):\n",
    "    \"\"\"\n",
    "    Function divide rating of memos on denominator\n",
    "    :param denominator:\n",
    "    :param kwargs: dictionary where key - memo name, value - mean rating\n",
    "    :return: new dictionary of memo rating\n",
    "    \"\"\"\n",
    "    new_dict = {key: round(value / denominator, 1) for key, value in kwargs.items()}\n",
    "    return new_dict\n",
    "\n",
    "print(dict_of_memes2(**{\"язь\": 95,\n",
    "                           \"рыбов\": 99,\n",
    "                           \"коты и наташа\": 85,\n",
    "                           \"николас кейдж\": 75}))"
   ],
   "metadata": {
    "collapsed": false,
    "pycharm": {
     "name": "#%%\n"
    }
   }
  },
  {
   "cell_type": "markdown",
   "source": [
    "Здесь важно, чтобы аргумент с дефолтным значением стоял после всех аргументов\n",
    "без дефолтных названий. Например, такая функция выдаст ошибку."
   ],
   "metadata": {
    "collapsed": false,
    "pycharm": {
     "name": "#%% md\n"
    }
   }
  },
  {
   "cell_type": "code",
   "execution_count": 5,
   "outputs": [
    {
     "ename": "SyntaxError",
     "evalue": "non-default argument follows default argument (3173106273.py, line 1)",
     "output_type": "error",
     "traceback": [
      "\u001B[0;36m  File \u001B[0;32m\"/tmp/ipykernel_174259/3173106273.py\"\u001B[0;36m, line \u001B[0;32m1\u001B[0m\n\u001B[0;31m    def error_example(a, b=10, c):\u001B[0m\n\u001B[0m                      ^\u001B[0m\n\u001B[0;31mSyntaxError\u001B[0m\u001B[0;31m:\u001B[0m non-default argument follows default argument\n"
     ]
    }
   ],
   "source": [
    "def error_example(a, b=10, c):\n",
    "    summa = a + b + c\n",
    "    return summa\n",
    "error_example(10, 5)"
   ],
   "metadata": {
    "collapsed": false,
    "pycharm": {
     "name": "#%%\n"
    }
   }
  },
  {
   "cell_type": "code",
   "execution_count": 3,
   "outputs": [
    {
     "data": {
      "text/plain": "25"
     },
     "execution_count": 3,
     "metadata": {},
     "output_type": "execute_result"
    }
   ],
   "source": [
    "# Пример с работающей функцией\n",
    "def error_example(a, c, b=10):\n",
    "    summa = a + b + c\n",
    "    return summa\n",
    "error_example(10, 5)"
   ],
   "metadata": {
    "collapsed": false,
    "pycharm": {
     "name": "#%%\n"
    }
   }
  },
  {
   "cell_type": "code",
   "execution_count": 41,
   "outputs": [
    {
     "data": {
      "text/plain": "340"
     },
     "execution_count": 41,
     "metadata": {},
     "output_type": "execute_result"
    }
   ],
   "source": [
    "# Добавим *args, **kwargs\n",
    "def error_example(a, c, b=10, *args, **kwargs):\n",
    "    summa = a + b + c\n",
    "    summa_2 = summa + sum(args)\n",
    "    summa_3 = summa_2 + kwargs['y'] + kwargs['x']\n",
    "    return summa_3\n",
    "error_example(10, 5, 15, 10, y=100, x=200)"
   ],
   "metadata": {
    "collapsed": false,
    "pycharm": {
     "name": "#%%\n"
    }
   }
  },
  {
   "cell_type": "markdown",
   "source": [
    "# Итераторы\n",
    "\n",
    "***Итерируемый объект*** - объект, чьи всевозможные значения мы можем перебирать.\n",
    "Например, *range* позволяет нам перебрать все значения внутри конкретного интервала."
   ],
   "metadata": {
    "collapsed": false,
    "pycharm": {
     "name": "#%% md\n"
    }
   }
  },
  {
   "cell_type": "code",
   "execution_count": 2,
   "outputs": [
    {
     "name": "stdout",
     "output_type": "stream",
     "text": [
      "0\n",
      "1\n",
      "2\n",
      "----------------------------------------------------------------------------------------------------\n",
      "0 0\n",
      "1 1\n",
      "2 2\n"
     ]
    }
   ],
   "source": [
    "for i in range(3):\n",
    "    print(i)\n",
    "print(\"-\"*100)\n",
    "for index, element in enumerate(range(3)):\n",
    "    print(index, element)"
   ],
   "metadata": {
    "collapsed": false,
    "pycharm": {
     "name": "#%%\n"
    }
   }
  },
  {
   "cell_type": "markdown",
   "source": [
    "List comprehension тоже создается как итерируемый объект"
   ],
   "metadata": {
    "collapsed": false,
    "pycharm": {
     "name": "#%% md\n"
    }
   }
  },
  {
   "cell_type": "markdown",
   "source": [
    "***Итератор***, в свою очередь, -  это объект, который используется для перебора итерируемого объекта с использованием метода __next__() - метод, который возвращает следующий элемент объекта.\n",
    "\n",
    "Обратим внимание, что любой итератор также является итерируемым объектом, но не каждый итерируемый объект является итератором.\n",
    "Например, список можно итерировать, но список не является итератором.\n",
    "Итератор может быть создан из итерируемого объекта с помощью функции *iter()*.\n",
    "Чтобы сделать это возможным, классу объекта необходим либо метод __iter__, который возвращает итератор, либо метод __getitem__ с последовательными индексами, начинающимися с 0."
   ],
   "metadata": {
    "collapsed": false,
    "pycharm": {
     "name": "#%% md\n"
    }
   }
  },
  {
   "cell_type": "code",
   "execution_count": 3,
   "outputs": [
    {
     "name": "stdout",
     "output_type": "stream",
     "text": [
      "0\n",
      "1\n",
      "2\n",
      "3\n"
     ]
    }
   ],
   "source": [
    "a = iter(range(10000))\n",
    "print(next(a))\n",
    "print(next(a))\n",
    "print(next(a))\n",
    "print(next(a))"
   ],
   "metadata": {
    "collapsed": false,
    "pycharm": {
     "name": "#%%\n"
    }
   }
  },
  {
   "cell_type": "markdown",
   "source": [
    "Итераторы можно применить ко всем объектам, к которым можно применить for i in ..."
   ],
   "metadata": {
    "collapsed": false,
    "pycharm": {
     "name": "#%% md\n"
    }
   }
  },
  {
   "cell_type": "code",
   "execution_count": null,
   "outputs": [],
   "source": [],
   "metadata": {
    "collapsed": false,
    "pycharm": {
     "name": "#%%\n"
    }
   }
  },
  {
   "cell_type": "markdown",
   "source": [
    "# Генераторы\n",
    "\n",
    "Это тип итераторов, который вы итерируете ровно 1 раз. Генераторы не хранят в памяти все итерируемые значения в объекте и генерируют значения \"налету\".\n",
    "\n"
   ],
   "metadata": {
    "collapsed": false,
    "pycharm": {
     "name": "#%% md\n"
    }
   }
  },
  {
   "cell_type": "code",
   "execution_count": 4,
   "outputs": [
    {
     "name": "stdout",
     "output_type": "stream",
     "text": [
      "0\n",
      "1\n",
      "4\n"
     ]
    }
   ],
   "source": [
    "mygenerator = (x*x for x in range(3))\n",
    "for i in mygenerator:\n",
    "    print(i)"
   ],
   "metadata": {
    "collapsed": false,
    "pycharm": {
     "name": "#%%\n"
    }
   }
  },
  {
   "cell_type": "markdown",
   "source": [
    "По сути мы вместо [] используем (). Также мы не можем пройтись по всему циклу дважды, поскольку генераторы могут быть использованы только 1 раз.\n",
    "Он выдаст 0, забудет об этом и затем выдаст 1 и в конце - 4.\n",
    "Соответственно, генераторы помогают экономить память."
   ],
   "metadata": {
    "collapsed": false,
    "pycharm": {
     "name": "#%% md\n"
    }
   }
  },
  {
   "cell_type": "markdown",
   "source": [
    "## yield\n",
    "\n",
    "*yield* - это некий аналог return в функции\n"
   ],
   "metadata": {
    "collapsed": false,
    "pycharm": {
     "name": "#%% md\n"
    }
   }
  },
  {
   "cell_type": "code",
   "execution_count": 8,
   "outputs": [
    {
     "name": "stdout",
     "output_type": "stream",
     "text": [
      "<generator object create_generator at 0x7f95380b40b0>\n",
      "0\n",
      "1\n",
      "4\n"
     ]
    }
   ],
   "source": [
    "def create_generator():\n",
    "    mylist = range(3)\n",
    "    for i in mylist:\n",
    "        yield i*i\n",
    "mygenerator = create_generator() # create a generator\n",
    "print(mygenerator) # mygenerator is an object!\n",
    "for i in mygenerator:\n",
    "    print(i)"
   ],
   "metadata": {
    "collapsed": false,
    "pycharm": {
     "name": "#%%\n"
    }
   }
  },
  {
   "cell_type": "markdown",
   "source": [
    "Это довольно бесполезный пример, поскольку функция простая. Однако в сложных функциях мы можем явно указывать, какие значения нам нужно выводить только 1 раз."
   ],
   "metadata": {
    "collapsed": false,
    "pycharm": {
     "name": "#%% md\n"
    }
   }
  },
  {
   "cell_type": "code",
   "execution_count": 11,
   "outputs": [
    {
     "ename": "TypeError",
     "evalue": "'function' object is not an iterator",
     "output_type": "error",
     "traceback": [
      "\u001B[0;31m---------------------------------------------------------------------------\u001B[0m",
      "\u001B[0;31mTypeError\u001B[0m                                 Traceback (most recent call last)",
      "\u001B[0;32m/tmp/ipykernel_174259/3144279657.py\u001B[0m in \u001B[0;36m<module>\u001B[0;34m\u001B[0m\n\u001B[1;32m      4\u001B[0m \u001B[0;34m\u001B[0m\u001B[0m\n\u001B[1;32m      5\u001B[0m \u001B[0mmy_generator\u001B[0m\u001B[0;34m(\u001B[0m\u001B[0mrange\u001B[0m\u001B[0;34m(\u001B[0m\u001B[0;36m100\u001B[0m\u001B[0;34m)\u001B[0m\u001B[0;34m)\u001B[0m\u001B[0;34m\u001B[0m\u001B[0;34m\u001B[0m\u001B[0m\n\u001B[0;32m----> 6\u001B[0;31m \u001B[0mnext\u001B[0m\u001B[0;34m(\u001B[0m\u001B[0mmy_generator\u001B[0m\u001B[0;34m)\u001B[0m\u001B[0;34m\u001B[0m\u001B[0;34m\u001B[0m\u001B[0m\n\u001B[0m\u001B[1;32m      7\u001B[0m \u001B[0;31m# for i in range(100):\u001B[0m\u001B[0;34m\u001B[0m\u001B[0;34m\u001B[0m\u001B[0;34m\u001B[0m\u001B[0m\n\u001B[1;32m      8\u001B[0m \u001B[0;31m#     a = my_generator(i)\u001B[0m\u001B[0;34m\u001B[0m\u001B[0;34m\u001B[0m\u001B[0;34m\u001B[0m\u001B[0m\n",
      "\u001B[0;31mTypeError\u001B[0m: 'function' object is not an iterator"
     ]
    }
   ],
   "source": [
    "def my_generator(i):\n",
    "    yield i / 2\n",
    "    yield i * 100\n",
    "\n",
    "my_generator(range(100))\n",
    "a = \n",
    "# for i in range(100):\n",
    "#     a = my_generator(i)\n",
    "#     print(next(a))\n",
    "# print(next(a))\n",
    "# print(sum(my_generator()))"
   ],
   "metadata": {
    "collapsed": false,
    "pycharm": {
     "name": "#%%\n"
    }
   }
  },
  {
   "cell_type": "code",
   "execution_count": 58,
   "outputs": [
    {
     "data": {
      "text/plain": "374"
     },
     "execution_count": 58,
     "metadata": {},
     "output_type": "execute_result"
    }
   ],
   "source": [
    "def yield_fibs(limit, seed1=1, seed2=1):\n",
    "    current = seed1\n",
    "    previous = seed2\n",
    "\n",
    "    while limit > 0:\n",
    "        limit -= 1\n",
    "        current, previous = current + previous, current\n",
    "        yield current\n",
    "sum(yield_fibs(5))"
   ],
   "metadata": {
    "collapsed": false,
    "pycharm": {
     "name": "#%%\n"
    }
   }
  },
  {
   "cell_type": "markdown",
   "source": [
    "## Генератор из кортежа"
   ],
   "metadata": {
    "collapsed": false,
    "pycharm": {
     "name": "#%% md\n"
    }
   }
  },
  {
   "cell_type": "code",
   "execution_count": 60,
   "outputs": [
    {
     "data": {
      "text/plain": "499500"
     },
     "execution_count": 60,
     "metadata": {},
     "output_type": "execute_result"
    }
   ],
   "source": [
    "sum(i for i in range(1000))"
   ],
   "metadata": {
    "collapsed": false,
    "pycharm": {
     "name": "#%%\n"
    }
   }
  },
  {
   "cell_type": "code",
   "execution_count": 62,
   "outputs": [
    {
     "data": {
      "text/plain": "499500"
     },
     "execution_count": 62,
     "metadata": {},
     "output_type": "execute_result"
    }
   ],
   "source": [
    "sum([i for i in range(1000)])"
   ],
   "metadata": {
    "collapsed": false,
    "pycharm": {
     "name": "#%%\n"
    }
   }
  },
  {
   "cell_type": "markdown",
   "source": [
    "## Замерим скорость"
   ],
   "metadata": {
    "collapsed": false,
    "pycharm": {
     "name": "#%% md\n"
    }
   }
  },
  {
   "cell_type": "code",
   "execution_count": 67,
   "outputs": [
    {
     "name": "stdout",
     "output_type": "stream",
     "text": [
      "CPU times: user 7.06 s, sys: 6.91 s, total: 14 s\n",
      "Wall time: 18.4 s\n"
     ]
    },
    {
     "data": {
      "text/plain": "4999999950000000"
     },
     "execution_count": 67,
     "metadata": {},
     "output_type": "execute_result"
    }
   ],
   "source": [
    "%%time\n",
    "sum([i for i in range(int(1e8))])"
   ],
   "metadata": {
    "collapsed": false,
    "pycharm": {
     "name": "#%%\n"
    }
   }
  },
  {
   "cell_type": "code",
   "execution_count": 66,
   "outputs": [
    {
     "name": "stdout",
     "output_type": "stream",
     "text": [
      "CPU times: user 5.88 s, sys: 142 ms, total: 6.02 s\n",
      "Wall time: 6.73 s\n"
     ]
    },
    {
     "data": {
      "text/plain": "4999999950000000"
     },
     "execution_count": 66,
     "metadata": {},
     "output_type": "execute_result"
    }
   ],
   "source": [
    "%%time\n",
    "sum(i for i in range(int(1e8)))"
   ],
   "metadata": {
    "collapsed": false,
    "pycharm": {
     "name": "#%%\n"
    }
   }
  },
  {
   "cell_type": "markdown",
   "source": [
    "# Импорт функций из других модулей\n",
    "\n"
   ],
   "metadata": {
    "collapsed": false,
    "pycharm": {
     "name": "#%% md\n"
    }
   }
  },
  {
   "cell_type": "code",
   "execution_count": 3,
   "outputs": [],
   "source": [
    "from math import pi  # число Пи\n",
    "from collections import Counter  # позволяет считать частоту вхождений\n",
    "import os  # модуль, работающий с файлами"
   ],
   "metadata": {
    "collapsed": false,
    "pycharm": {
     "name": "#%%\n"
    }
   }
  },
  {
   "cell_type": "markdown",
   "source": [
    "# Исключения"
   ],
   "metadata": {
    "collapsed": false,
    "pycharm": {
     "name": "#%% md\n"
    }
   }
  },
  {
   "cell_type": "code",
   "execution_count": 68,
   "outputs": [
    {
     "ename": "ZeroDivisionError",
     "evalue": "division by zero",
     "output_type": "error",
     "traceback": [
      "\u001B[0;31m---------------------------------------------------------------------------\u001B[0m",
      "\u001B[0;31mZeroDivisionError\u001B[0m                         Traceback (most recent call last)",
      "\u001B[0;32m/var/folders/10/4wpn2_y536s4d9p_khr6zgv40000gn/T/ipykernel_17378/1455669704.py\u001B[0m in \u001B[0;36m<module>\u001B[0;34m\u001B[0m\n\u001B[0;32m----> 1\u001B[0;31m \u001B[0;36m1\u001B[0m \u001B[0;34m/\u001B[0m \u001B[0;36m0\u001B[0m\u001B[0;34m\u001B[0m\u001B[0;34m\u001B[0m\u001B[0m\n\u001B[0m",
      "\u001B[0;31mZeroDivisionError\u001B[0m: division by zero"
     ]
    }
   ],
   "source": [
    "1 / 0"
   ],
   "metadata": {
    "collapsed": false,
    "pycharm": {
     "name": "#%%\n"
    }
   }
  },
  {
   "cell_type": "code",
   "execution_count": 72,
   "outputs": [
    {
     "name": "stdout",
     "output_type": "stream",
     "text": [
      "(<class 'ZeroDivisionError'>, <class 'ArithmeticError'>, <class 'Exception'>, <class 'BaseException'>, <class 'object'>)\n",
      "--------------------------------------------------\n",
      "(<class 'TypeError'>, <class 'Exception'>, <class 'BaseException'>, <class 'object'>)\n"
     ]
    }
   ],
   "source": [
    "import inspect\n",
    "\n",
    "print(inspect.getmro(ZeroDivisionError))\n",
    "print(\"-\"*50)\n",
    "print(inspect.getmro(TypeError))"
   ],
   "metadata": {
    "collapsed": false,
    "pycharm": {
     "name": "#%%\n"
    }
   }
  },
  {
   "cell_type": "code",
   "execution_count": 73,
   "outputs": [
    {
     "ename": "ArithmeticError",
     "evalue": "",
     "output_type": "error",
     "traceback": [
      "\u001B[0;31m---------------------------------------------------------------------------\u001B[0m",
      "\u001B[0;31mArithmeticError\u001B[0m                           Traceback (most recent call last)",
      "\u001B[0;32m/var/folders/10/4wpn2_y536s4d9p_khr6zgv40000gn/T/ipykernel_17378/1245561591.py\u001B[0m in \u001B[0;36m<module>\u001B[0;34m\u001B[0m\n\u001B[1;32m      8\u001B[0m     \u001B[0;32mif\u001B[0m \u001B[0mx\u001B[0m \u001B[0;34m==\u001B[0m \u001B[0;36m3\u001B[0m\u001B[0;34m:\u001B[0m\u001B[0;34m\u001B[0m\u001B[0;34m\u001B[0m\u001B[0m\n\u001B[1;32m      9\u001B[0m         \u001B[0;32mraise\u001B[0m \u001B[0mTypeError\u001B[0m\u001B[0;34m(\u001B[0m\u001B[0;34m)\u001B[0m\u001B[0;34m\u001B[0m\u001B[0;34m\u001B[0m\u001B[0m\n\u001B[0;32m---> 10\u001B[0;31m \u001B[0mprint\u001B[0m\u001B[0;34m(\u001B[0m\u001B[0mf4\u001B[0m\u001B[0;34m(\u001B[0m\u001B[0;36m1\u001B[0m\u001B[0;34m)\u001B[0m\u001B[0;34m)\u001B[0m\u001B[0;34m\u001B[0m\u001B[0;34m\u001B[0m\u001B[0m\n\u001B[0m\u001B[1;32m     11\u001B[0m \u001B[0mprint\u001B[0m\u001B[0;34m(\u001B[0m\u001B[0mf4\u001B[0m\u001B[0;34m(\u001B[0m\u001B[0;36m2\u001B[0m\u001B[0;34m)\u001B[0m\u001B[0;34m)\u001B[0m\u001B[0;34m\u001B[0m\u001B[0;34m\u001B[0m\u001B[0m\n\u001B[1;32m     12\u001B[0m \u001B[0mprint\u001B[0m\u001B[0;34m(\u001B[0m\u001B[0mf4\u001B[0m\u001B[0;34m(\u001B[0m\u001B[0;36m3\u001B[0m\u001B[0;34m)\u001B[0m\u001B[0;34m)\u001B[0m\u001B[0;34m\u001B[0m\u001B[0;34m\u001B[0m\u001B[0m\n",
      "\u001B[0;32m/var/folders/10/4wpn2_y536s4d9p_khr6zgv40000gn/T/ipykernel_17378/1245561591.py\u001B[0m in \u001B[0;36mf4\u001B[0;34m(x)\u001B[0m\n\u001B[1;32m      3\u001B[0m         \u001B[0;32mreturn\u001B[0m\u001B[0;34m\u001B[0m\u001B[0;34m\u001B[0m\u001B[0m\n\u001B[1;32m      4\u001B[0m     \u001B[0;32mif\u001B[0m \u001B[0mx\u001B[0m \u001B[0;34m==\u001B[0m \u001B[0;36m1\u001B[0m\u001B[0;34m:\u001B[0m\u001B[0;34m\u001B[0m\u001B[0;34m\u001B[0m\u001B[0m\n\u001B[0;32m----> 5\u001B[0;31m         \u001B[0;32mraise\u001B[0m \u001B[0mArithmeticError\u001B[0m\u001B[0;34m(\u001B[0m\u001B[0;34m)\u001B[0m\u001B[0;34m\u001B[0m\u001B[0;34m\u001B[0m\u001B[0m\n\u001B[0m\u001B[1;32m      6\u001B[0m     \u001B[0;32mif\u001B[0m \u001B[0mx\u001B[0m \u001B[0;34m==\u001B[0m \u001B[0;36m2\u001B[0m\u001B[0;34m:\u001B[0m\u001B[0;34m\u001B[0m\u001B[0;34m\u001B[0m\u001B[0m\n\u001B[1;32m      7\u001B[0m         \u001B[0;32mraise\u001B[0m \u001B[0mSyntaxError\u001B[0m\u001B[0;34m(\u001B[0m\u001B[0;34m)\u001B[0m\u001B[0;34m\u001B[0m\u001B[0;34m\u001B[0m\u001B[0m\n",
      "\u001B[0;31mArithmeticError\u001B[0m: "
     ]
    }
   ],
   "source": [
    "def f4(x):\n",
    "    if x == 0:\n",
    "        return\n",
    "    if x == 1:\n",
    "        raise ArithmeticError()\n",
    "    if x == 2:\n",
    "        raise SyntaxError()\n",
    "    if x == 3:\n",
    "        raise TypeError()\n",
    "print(f4(1))\n",
    "print(f4(2))\n",
    "print(f4(3))"
   ],
   "metadata": {
    "collapsed": false,
    "pycharm": {
     "name": "#%%\n"
    }
   }
  },
  {
   "cell_type": "code",
   "execution_count": 76,
   "outputs": [
    {
     "name": "stdout",
     "output_type": "stream",
     "text": [
      "0\n",
      "division by zero\n",
      "10\n",
      "9\n",
      "8\n",
      "7\n",
      "6\n",
      "5\n",
      "4\n",
      "3\n",
      "2\n",
      "1\n",
      "0\n",
      "-1\n",
      "-2\n",
      "-3\n",
      "-4\n",
      "-5\n",
      "-6\n",
      "-7\n",
      "-8\n",
      "-9\n",
      "-10\n",
      "-11\n",
      "-12\n",
      "-13\n",
      "-14\n",
      "-15\n",
      "-16\n",
      "-17\n",
      "-18\n",
      "-19\n"
     ]
    }
   ],
   "source": [
    "for i in range(30):\n",
    "    try:\n",
    "        10 / i\n",
    "    except Exception as e:\n",
    "        print(i)\n",
    "        print(e)\n",
    "    finally:\n",
    "        print(10 - i)"
   ],
   "metadata": {
    "collapsed": false,
    "pycharm": {
     "name": "#%%\n"
    }
   }
  }
 ],
 "metadata": {
  "kernelspec": {
   "display_name": "Python 3 (ipykernel)",
   "language": "python",
   "name": "python3"
  },
  "language_info": {
   "codemirror_mode": {
    "name": "ipython",
    "version": 3
   },
   "file_extension": ".py",
   "mimetype": "text/x-python",
   "name": "python",
   "nbconvert_exporter": "python",
   "pygments_lexer": "ipython3",
   "version": "3.8.8"
  },
  "toc": {
   "base_numbering": 1,
   "nav_menu": {},
   "number_sections": true,
   "sideBar": true,
   "skip_h1_title": false,
   "title_cell": "Table of Contents",
   "title_sidebar": "Contents",
   "toc_cell": false,
   "toc_position": {},
   "toc_section_display": true,
   "toc_window_display": false
  },
  "varInspector": {
   "cols": {
    "lenName": 16,
    "lenType": 16,
    "lenVar": 40
   },
   "kernels_config": {
    "python": {
     "delete_cmd_postfix": "",
     "delete_cmd_prefix": "del ",
     "library": "var_list.py",
     "varRefreshCmd": "print(var_dic_list())"
    },
    "r": {
     "delete_cmd_postfix": ") ",
     "delete_cmd_prefix": "rm(",
     "library": "var_list.r",
     "varRefreshCmd": "cat(var_dic_list()) "
    }
   },
   "types_to_exclude": [
    "module",
    "function",
    "builtin_function_or_method",
    "instance",
    "_Feature"
   ],
   "window_display": false
  }
 },
 "nbformat": 4,
 "nbformat_minor": 1
}