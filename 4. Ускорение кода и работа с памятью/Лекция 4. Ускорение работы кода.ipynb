{
 "cells": [
  {
   "cell_type": "markdown",
   "source": [
    "https://pythonspeed.com/\n",
    "Классный ресурс по оптимизации вычислений и работе с памятью"
   ],
   "metadata": {
    "collapsed": false,
    "pycharm": {
     "name": "#%% md\n"
    }
   }
  },
  {
   "cell_type": "markdown",
   "metadata": {
    "collapsed": true,
    "pycharm": {
     "name": "#%% md\n"
    }
   },
   "source": [
    "# Ускорение вычислений\n",
    "Для того, чтобы проверять скорость вычислений в jupyter можно использовать либо %%time перед всем кодом в ячейке,\n",
    "либо %time или %timeit перед строчкой выполнения кода"
   ]
  },
  {
   "cell_type": "code",
   "execution_count": 1,
   "outputs": [
    {
     "name": "stdout",
     "output_type": "stream",
     "text": [
      "CPU times: user 1.14 ms, sys: 0 ns, total: 1.14 ms\n",
      "Wall time: 1.03 ms\n"
     ]
    }
   ],
   "source": [
    "%%time\n",
    "x = sum((i for i in range(10000)))"
   ],
   "metadata": {
    "collapsed": false,
    "pycharm": {
     "name": "#%%\n"
    }
   }
  },
  {
   "cell_type": "markdown",
   "source": [
    "*Wall time* показывает суммарное время работы вашего кода.\n",
    "*CPU times* показываем суммарное время, когда ваш процессор был занят.\n",
    "При этом *sys* - это время, связанное с обращениями к операционной системе.\n",
    "\n",
    "Если *wall time* превышает *CPU time*, то это значит, что программа ждет еще каких-то ответов, помимо вычислений процессора.\n",
    "\n",
    "Таким образом, возможны следующие соотношения:\n",
    "\n",
    "1. CPU time/ wall time  ≈ 1: Процесс тратит все время на использование CPU. Более быстрый CPU позволит ускорить данный процесс.\n",
    "2. CPU time/ wall time < 1: Чем ниже отношение, тем больше CPU тратит на ожидание ответа (сети, жесткого диска и т.д., в том числе и просто режим сна).\n",
    "Например, если он равен 0.75, то 25% времени CPU тратит на ожидание."
   ],
   "metadata": {
    "collapsed": false,
    "pycharm": {
     "name": "#%% md\n"
    }
   }
  },
  {
   "cell_type": "code",
   "execution_count": 5,
   "outputs": [
    {
     "name": "stdout",
     "output_type": "stream",
     "text": [
      "CPU times: user 3 µs, sys: 3 µs, total: 6 µs\n",
      "Wall time: 10.7 µs\n",
      "CPU times: user 5 µs, sys: 0 ns, total: 5 µs\n",
      "Wall time: 9.06 µs\n"
     ]
    }
   ],
   "source": [
    "%time\n",
    "sum([i for i in range(10000)])\n",
    "%time\n",
    "l = [a for a in range(10000)]"
   ],
   "metadata": {
    "collapsed": false,
    "pycharm": {
     "name": "#%%\n"
    }
   }
  },
  {
   "cell_type": "code",
   "execution_count": 7,
   "outputs": [
    {
     "name": "stdout",
     "output_type": "stream",
     "text": [
      "4.49 ms ± 43.4 µs per loop (mean ± std. dev. of 7 runs, 100 loops each)\n",
      "3.48 ms ± 26.5 µs per loop (mean ± std. dev. of 7 runs, 100 loops each)\n"
     ]
    }
   ],
   "source": [
    "%timeit sum((i for i in range(10000)))\n",
    "%timeit sum([i for i in range(10000)])"
   ],
   "metadata": {
    "collapsed": false,
    "pycharm": {
     "name": "#%%\n"
    }
   }
  },
  {
   "cell_type": "markdown",
   "source": [
    "## Numpy\n",
    "\n",
    "Данный пакет написан на С++ и позволяет совершать самые быстрые численные операции на всем диком Python."
   ],
   "metadata": {
    "collapsed": false,
    "pycharm": {
     "name": "#%% md\n"
    }
   }
  },
  {
   "cell_type": "code",
   "execution_count": 27,
   "outputs": [
    {
     "name": "stdout",
     "output_type": "stream",
     "text": [
      "5.69 µs ± 135 ns per loop (mean ± std. dev. of 7 runs, 100000 loops each)\n",
      "712 µs ± 4.87 µs per loop (mean ± std. dev. of 7 runs, 1000 loops each)\n"
     ]
    }
   ],
   "source": [
    "import numpy as np\n",
    "%timeit np.sum(np.array((i for i in range(10000))))\n",
    "%timeit np.sum(np.array([i for i in range(10000)]))"
   ],
   "metadata": {
    "collapsed": false,
    "pycharm": {
     "name": "#%%\n"
    }
   }
  },
  {
   "cell_type": "code",
   "execution_count": 10,
   "outputs": [
    {
     "name": "stdout",
     "output_type": "stream",
     "text": [
      "[[ 1  2  3  4]\n",
      " [ 5  6  7  8]\n",
      " [ 9 10 11 12]]\n",
      "2\n",
      "[[1 2 3]\n",
      " [5 6 7]]\n",
      "[[7]]\n",
      "[[ 7  8]\n",
      " [11 12]]\n",
      "[5 6 7 8]\n",
      "[[5 6 7 8]]\n",
      "[[5 6 7 8]]\n",
      "[ 2  6 10]\n",
      "[[ 2]\n",
      " [ 6]\n",
      " [10]]\n"
     ]
    }
   ],
   "source": [
    "# Индексация\n",
    "a = np.array([[1,2,3,4], [5,6,7,8], [9,10,11,12]])\n",
    "print(a)\n",
    "print(a[0, 1])\n",
    "print(a[:2, :3])\n",
    "print(a[1:2, 2:3])\n",
    "print(a[1:, 2:])\n",
    "print(a[1, :])\n",
    "print(a[1:2, :])\n",
    "print(a[[1], :])\n",
    "print(a[:, 1])\n",
    "print(a[:, 1:2])"
   ],
   "metadata": {
    "collapsed": false,
    "pycharm": {
     "name": "#%%\n"
    }
   }
  },
  {
   "cell_type": "code",
   "execution_count": 11,
   "outputs": [
    {
     "name": "stdout",
     "output_type": "stream",
     "text": [
      "(3, 3)\n",
      "[1 2 3] \n",
      " [[1]\n",
      " [2]\n",
      " [3]]\n",
      "[[[ 0  1]\n",
      "  [ 2  3]\n",
      "  [ 4  5]\n",
      "  [ 6  7]]\n",
      "\n",
      " [[ 8  9]\n",
      "  [10 11]\n",
      "  [12 13]\n",
      "  [14 15]]]\n",
      "[[[[ 0  1]\n",
      "   [ 2  3]]\n",
      "\n",
      "  [[ 4  5]\n",
      "   [ 6  7]]\n",
      "\n",
      "  [[ 8  9]\n",
      "   [10 11]]\n",
      "\n",
      "  [[12 13]\n",
      "   [14 15]]]]\n",
      "[0 1 2 3 0 0 0 0]\n"
     ]
    }
   ],
   "source": [
    "# Размерность массивов\n",
    "b = np.array([[1,2,3], [4,5,6], [7,8,9]])\n",
    "print(b.shape)\n",
    "\n",
    "# Изменение размерности (умноженные размерности совпадают)\n",
    "v = np.array([1,2,3])\n",
    "print(v, \"\\n\", v.reshape(3, 1))\n",
    "\n",
    "print(np.arange(16).reshape(2, 4, 2))\n",
    "print(np.arange(16).reshape(1, 4, 2, 2))\n",
    "\n",
    "# Изменение размерности (новая размерность другая - заполнение нулями)\n",
    "a0 = np.arange(4)\n",
    "a0.resize((8,))\n",
    "print(a0)"
   ],
   "metadata": {
    "collapsed": false,
    "pycharm": {
     "name": "#%%\n"
    }
   }
  },
  {
   "cell_type": "code",
   "execution_count": 12,
   "outputs": [
    {
     "name": "stdout",
     "output_type": "stream",
     "text": [
      "[[3 4 5]\n",
      " [1 1 2]]\n",
      "[[1 0 2]\n",
      " [0 2 1]]\n",
      "[[[3 4 5]\n",
      "  [4 5 3]]\n",
      "\n",
      " [[2 1 1]\n",
      "  [1 1 2]]]\n"
     ]
    }
   ],
   "source": [
    "# Сортировка\n",
    "\n",
    "c = np.array([[4, 3, 5], [1, 2, 1]])\n",
    "print(np.sort(c, axis=1))\n",
    "\n",
    "# Возвращает индексы элементов, которые были отсортированы\n",
    "j = np.argsort(c)\n",
    "print(j)\n",
    "print(c[:, j])"
   ],
   "metadata": {
    "collapsed": false,
    "pycharm": {
     "name": "#%%\n"
    }
   }
  },
  {
   "cell_type": "code",
   "execution_count": 13,
   "outputs": [
    {
     "data": {
      "text/plain": "array([[1, 0, 0, 0],\n       [1, 1, 1, 1],\n       [0, 1, 1, 1],\n       [0, 0, 0, 0],\n       [0, 0, 0, 0],\n       [1, 1, 1, 0],\n       [1, 1, 0, 0]])"
     },
     "execution_count": 13,
     "metadata": {},
     "output_type": "execute_result"
    }
   ],
   "source": [
    "# Присвоение по условию (если, то)\n",
    "data = np.random.randn(7, 4)\n",
    "np.where(data, data>0, 0)"
   ],
   "metadata": {
    "collapsed": false,
    "pycharm": {
     "name": "#%%\n"
    }
   }
  },
  {
   "cell_type": "code",
   "execution_count": 14,
   "outputs": [
    {
     "name": "stdout",
     "output_type": "stream",
     "text": [
      "[1 2 3 4 5 6]\n",
      "Вертикальное : \n",
      " [[ 0  1  2]\n",
      " [ 3  4  5]\n",
      " [ 6  7  8]\n",
      " [10 11 12]\n",
      " [13 14 15]\n",
      " [16 17 18]]\n",
      "Горизонтальное : \n",
      " [[ 0  1  2 10 11 12]\n",
      " [ 3  4  5 13 14 15]\n",
      " [ 6  7  8 16 17 18]]\n"
     ]
    }
   ],
   "source": [
    "# Слияние массивов\n",
    "x,y,z = np.arange(1,3), np.arange(3,5), np.arange(5,7)\n",
    "print(np.concatenate([x,y,z]))\n",
    "\n",
    "array2D_1 = np.array([[0, 1, 2],\n",
    "       [3, 4, 5],\n",
    "       [6, 7, 8]])\n",
    "array2D_2 = np.array([[10, 11, 12],\n",
    "       [13, 14, 15],\n",
    "       [16, 17, 18]])\n",
    "\n",
    "# Вертикальное слияние\n",
    "print(f\"Вертикальное : \\n {np.vstack((array2D_1, array2D_2))}\")\n",
    "\n",
    "# Горизонтальное слияние\n",
    "print(f\"Горизонтальное : \\n {np.hstack((array2D_1, array2D_2))}\")"
   ],
   "metadata": {
    "collapsed": false,
    "pycharm": {
     "name": "#%%\n"
    }
   }
  },
  {
   "cell_type": "code",
   "execution_count": 15,
   "outputs": [
    {
     "name": "stdout",
     "output_type": "stream",
     "text": [
      "[0.06559522 2.25617638 2.27683196]\n",
      "[0.93116261 3.66744094]\n"
     ]
    }
   ],
   "source": [
    "# Применение функции к разным осям массива\n",
    "m = np.random.randn(3,2)\n",
    "# Сначала указываем функцию, потом по какой оси, а затем указываем сам массив\n",
    "print(np.apply_along_axis(lambda x: sum(x ** 2), 1, m))\n",
    "print(np.apply_along_axis(lambda x: sum(x ** 2), 0, m))\n",
    "# Обратим внимание, что у функции может быть только один аргумент - это значения массива из конкретной оси"
   ],
   "metadata": {
    "collapsed": false,
    "pycharm": {
     "name": "#%%\n"
    }
   }
  },
  {
   "cell_type": "code",
   "execution_count": 16,
   "outputs": [
    {
     "name": "stdout",
     "output_type": "stream",
     "text": [
      "False\n",
      "True\n"
     ]
    }
   ],
   "source": [
    "# Траблы с округлением при сравнении\n",
    "print(np.round(0.3, 17) == np.round(3 * 0.1, 17))\n",
    "\n",
    "# Используем такую функцию, чтобы проверить, равны ли массивы\n",
    "print(np.allclose(0.3, 3*0.1))"
   ],
   "metadata": {
    "collapsed": false,
    "pycharm": {
     "name": "#%%\n"
    }
   }
  },
  {
   "cell_type": "markdown",
   "source": [
    "# Работа с памятью\n",
    "\n",
    "Помним, что у любого компьютера есть ограничение по оперативной памяти, а все наши рабочие процессы хранятся именно там.\n",
    "Любой сайт - это такой же компьютер, как и у вас, со своим жестким диском и оперативной памятью.\n",
    "Таким образом, помимо скорости вычислений, нам бы хотелось еще и не вылазить за пределы оперативной памяти.\n",
    "В противном случае, программа просто прекратит свою работу и придется запускать все заново.\n"
   ],
   "metadata": {
    "collapsed": false,
    "pycharm": {
     "name": "#%% md\n"
    }
   }
  },
  {
   "cell_type": "code",
   "execution_count": 18,
   "outputs": [
    {
     "data": {
      "text/plain": "2240128"
     },
     "execution_count": 18,
     "metadata": {},
     "output_type": "execute_result"
    }
   ],
   "source": [
    "import sys\n",
    "data = np.random.randn(7, 4, 10000)\n",
    "sys.getsizeof(data)  # Данная команда показывает, сколько байтов содержит датасет"
   ],
   "metadata": {
    "collapsed": false,
    "pycharm": {
     "name": "#%%\n"
    }
   }
  },
  {
   "cell_type": "code",
   "execution_count": 24,
   "outputs": [
    {
     "data": {
      "text/plain": "2.1363525390625"
     },
     "execution_count": 24,
     "metadata": {},
     "output_type": "execute_result"
    }
   ],
   "source": [
    "sys.getsizeof(data) / 2 ** 20"
   ],
   "metadata": {
    "collapsed": false,
    "pycharm": {
     "name": "#%%\n"
    }
   }
  },
  {
   "cell_type": "markdown",
   "source": [
    "## Garbage collector\n",
    "\n",
    "https://stackify.com/python-garbage-collection/\n",
    "\n",
    "В Python, в отличие от более ранних языков программирования, не нужно самим напрямую управлять памятью.\n",
    "Здесь реализовано автоматическое управление памятью.\n",
    "Очевидный плюс для разработчика - можно быстрей писать программы, не тратя время на выделение памяти для каждой переменной.\n",
    "Очевидный минус - если мы совсем перестаем контроллировать этот процесс, то может выйти за пределы оперативной памяти."
   ],
   "metadata": {
    "collapsed": false,
    "pycharm": {
     "name": "#%% md\n"
    }
   }
  },
  {
   "cell_type": "markdown",
   "source": [
    "Существует два основных аспекта garbage collection в CPython:\n",
    "\n",
    "- Reference counting\n",
    "- Generational garbage collection"
   ],
   "metadata": {
    "collapsed": false,
    "pycharm": {
     "name": "#%% md\n"
    }
   }
  },
  {
   "cell_type": "markdown",
   "source": [
    "### Reference counting garbage collection\n",
    "\n",
    "Где бы не создавался питоновский объект, базовый С объект использует питоновский тип (например, лист, словарь или функцию) и количество отсылок.\n",
    "Чем чаще мы отсылаемся к какому-то объекту, тем больше накапливается этого показателя.\n",
    "Основные способы сослаться на какой-либо объект:\n",
    "- присвоить объект переменной\n",
    "- добавить объект к структуре данных (например, добавление в список или как *property* в классе)\n",
    "- вставить объект как аргумент функции"
   ],
   "metadata": {
    "collapsed": false,
    "pycharm": {
     "name": "#%% md\n"
    }
   }
  },
  {
   "cell_type": "code",
   "execution_count": 27,
   "outputs": [
    {
     "data": {
      "text/plain": "3"
     },
     "execution_count": 27,
     "metadata": {},
     "output_type": "execute_result"
    }
   ],
   "source": [
    "a = 'my-string'\n",
    "sys.getrefcount(a)\n",
    "# Всего было 3 отсылки к объекту a - создание раннее, переприсваивание сейчас и вызов в функции sys.getrefcount"
   ],
   "metadata": {
    "collapsed": false,
    "pycharm": {
     "name": "#%%\n"
    }
   }
  },
  {
   "cell_type": "code",
   "execution_count": 28,
   "outputs": [
    {
     "data": {
      "text/plain": "4"
     },
     "execution_count": 28,
     "metadata": {},
     "output_type": "execute_result"
    }
   ],
   "source": [
    "b = [a] # Make a list with a as an element.\n",
    "c = { 'key': a } # Create a dictionary with a as one of the values.\n",
    "sys.getrefcount(a)"
   ],
   "metadata": {
    "collapsed": false,
    "pycharm": {
     "name": "#%%\n"
    }
   }
  },
  {
   "cell_type": "markdown",
   "source": [
    "### Generational garbage collection\n",
    "\n"
   ],
   "metadata": {
    "collapsed": false,
    "pycharm": {
     "name": "#%% md\n"
    }
   }
  },
  {
   "cell_type": "code",
   "execution_count": 31,
   "outputs": [
    {
     "ename": "NameError",
     "evalue": "name 'a' is not defined",
     "output_type": "error",
     "traceback": [
      "\u001B[0;31m---------------------------------------------------------------------------\u001B[0m",
      "\u001B[0;31mNameError\u001B[0m                                 Traceback (most recent call last)",
      "\u001B[0;32m/tmp/ipykernel_7510/2663187884.py\u001B[0m in \u001B[0;36m<module>\u001B[0;34m\u001B[0m\n\u001B[1;32m      4\u001B[0m \u001B[0ma\u001B[0m\u001B[0;34m.\u001B[0m\u001B[0mobj\u001B[0m \u001B[0;34m=\u001B[0m \u001B[0ma\u001B[0m\u001B[0;34m\u001B[0m\u001B[0;34m\u001B[0m\u001B[0m\n\u001B[1;32m      5\u001B[0m \u001B[0;32mdel\u001B[0m \u001B[0ma\u001B[0m\u001B[0;34m\u001B[0m\u001B[0;34m\u001B[0m\u001B[0m\n\u001B[0;32m----> 6\u001B[0;31m \u001B[0ma\u001B[0m\u001B[0;34m\u001B[0m\u001B[0;34m\u001B[0m\u001B[0m\n\u001B[0m",
      "\u001B[0;31mNameError\u001B[0m: name 'a' is not defined"
     ]
    }
   ],
   "source": [
    "class MyClass(object):\n",
    "       pass\n",
    "a = MyClass()\n",
    "a.obj = a\n",
    "del a\n",
    "a"
   ],
   "metadata": {
    "collapsed": false,
    "pycharm": {
     "name": "#%%\n"
    }
   }
  },
  {
   "cell_type": "markdown",
   "source": [
    "Здесь мы определили новый класс.\n",
    "Затем создали экземпляр класса и присвоили экземпляру аттрибут в качестве самого класса. В итоге мы удалили объект.\n",
    "Несмотря на то, что объект мы уже удалили, в Python все еще хранится экземпляр в памяти.\n",
    "Такую проблему мы называем исходный цикл (reference cycle). Эта и многие другие проблемы решаются при помощи модуля *gc*."
   ],
   "metadata": {
    "collapsed": false,
    "pycharm": {
     "name": "#%% md\n"
    }
   }
  },
  {
   "cell_type": "markdown",
   "source": [
    "Существуют два основных понятия для garbage collection:\n",
    "- поколение (generation)\n",
    "- порог (threshold)\n",
    "\n",
    "Garbage collector отслеживает абсолютно все объекты, которые когда-либо попадали в Python.\n",
    "Всего существует 3 поколения для объектов и объекты в зависимости от наших действий передвигаются от старого к более новому.\n",
    "Для каждого поколения *gc* модуль выделены пороги для числа объектов. Если число объектов переваливает за этот порог,\n",
    "то *gc* запустит процесс сбора. Любые объекты, которые переживут этот процесс, попадут в более старое поколение.\n",
    "\n",
    "В отличие от проблемы с отсылками, здесь мы можем управлять этим процессом.\n",
    "Во-первых, мы можем изменять пороги, которые влияют на вызов процесса сборки мусора.\n",
    "Во-вторых, можем вручную вызывать сборщик мусора или, наоборот, отключать его."
   ],
   "metadata": {
    "collapsed": false,
    "pycharm": {
     "name": "#%% md\n"
    }
   }
  },
  {
   "cell_type": "code",
   "execution_count": 34,
   "outputs": [
    {
     "name": "stdout",
     "output_type": "stream",
     "text": [
      "(700, 10, 10)\n",
      "(251, 6, 2)\n"
     ]
    }
   ],
   "source": [
    "import gc\n",
    "print(gc.get_threshold())\n",
    "print(gc.get_count())"
   ],
   "metadata": {
    "collapsed": false,
    "pycharm": {
     "name": "#%%\n"
    }
   }
  },
  {
   "cell_type": "code",
   "execution_count": 35,
   "outputs": [
    {
     "data": {
      "text/plain": "37"
     },
     "execution_count": 35,
     "metadata": {},
     "output_type": "execute_result"
    }
   ],
   "source": [
    "gc.collect()"
   ],
   "metadata": {
    "collapsed": false,
    "pycharm": {
     "name": "#%%\n"
    }
   }
  },
  {
   "cell_type": "code",
   "execution_count": 36,
   "outputs": [
    {
     "data": {
      "text/plain": "(287, 0, 0)"
     },
     "execution_count": 36,
     "metadata": {},
     "output_type": "execute_result"
    }
   ],
   "source": [
    "gc.get_count()"
   ],
   "metadata": {
    "collapsed": false,
    "pycharm": {
     "name": "#%%\n"
    }
   }
  },
  {
   "cell_type": "code",
   "execution_count": 38,
   "outputs": [
    {
     "data": {
      "text/plain": "(1000, 15, 15)"
     },
     "execution_count": 38,
     "metadata": {},
     "output_type": "execute_result"
    }
   ],
   "source": [
    "# Изменим порог для перехода в другие поколения\n",
    "gc.set_threshold(1000, 15, 15)\n",
    "gc.get_threshold()"
   ],
   "metadata": {
    "collapsed": false,
    "pycharm": {
     "name": "#%%\n"
    }
   }
  },
  {
   "cell_type": "markdown",
   "source": [
    "Увеличение порога сократит частоту запуска сборщика мусора.\n",
    "Это ускорит наши процессы, но все объекты будут дольше храниться в памяти."
   ],
   "metadata": {
    "collapsed": false,
    "pycharm": {
     "name": "#%% md\n"
    }
   }
  },
  {
   "cell_type": "markdown",
   "source": [
    "## Типы данных\n",
    "\n",
    "Вспомним, что Python - динамический язык программирования. Однако, для более ручного управления памятью и кодом, мы можем объектам присваивать\n",
    "типы данных самостоятельно. Рекомендуется использовать типы данных *numpy* массивов.\n",
    "\n",
    "1. int - целочисленный тип данных: (-2, -1, 0, 1, ....)\n",
    "2. uint - целочисленный тип данных: (0, 1, 2, .....)\n",
    "3. float - вещественный тип данных с плавающей точкой\n",
    "4. bool - логический тип данных\n",
    "5. object - строковый тип данных\n",
    "\n",
    "После int, uint, float мы можем указать числа, которые будут отвечать за длину диапазона возможных значений.\n",
    "Например, np.int32 означает, что диапазон значений включает в себя 2 ** 32 (около 4 млрд) чисел, которые расположены симметрично относительно нуля;\n",
    "np.uint8 - диапазон чисел от 0 до 255\n",
    "\n",
    "Отметим, что в случае np.float32, np.float64 активируются Ctype типы данных. Это значит, что если нам нужна скорость обработки, то\n",
    "мы должны использовать именно эти типа данных для вещественных чисел. В противном случае, можно использовать float16\n"
   ],
   "metadata": {
    "collapsed": false,
    "pycharm": {
     "name": "#%% md\n"
    }
   }
  },
  {
   "cell_type": "code",
   "execution_count": 43,
   "outputs": [
    {
     "name": "stdout",
     "output_type": "stream",
     "text": [
      "255\n",
      "232\n",
      "1.6666666666666667\n",
      "1.667\n"
     ]
    }
   ],
   "source": [
    "print(np.uint8(255))\n",
    "print(np.uint8(1000))\n",
    "print(np.float64(5/3))\n",
    "print(np.float16(5/3))"
   ],
   "metadata": {
    "collapsed": false,
    "pycharm": {
     "name": "#%%\n"
    }
   }
  },
  {
   "cell_type": "markdown",
   "source": [
    "Давайте позапускаем разные коды и посмотрим, сколько уходит памяти в каждой строчке."
   ],
   "metadata": {
    "collapsed": false,
    "pycharm": {
     "name": "#%% md\n"
    }
   }
  },
  {
   "cell_type": "code",
   "execution_count": 3,
   "outputs": [
    {
     "name": "stdout",
     "output_type": "stream",
     "text": [
      "96692\n"
     ]
    }
   ],
   "source": [
    "import resource\n",
    "\n",
    "usage = resource.getrusage(resource.RUSAGE_SELF).ru_maxrss\n",
    "print(usage)"
   ],
   "metadata": {
    "collapsed": false,
    "pycharm": {
     "name": "#%%\n"
    }
   }
  },
  {
   "cell_type": "code",
   "execution_count": 6,
   "outputs": [],
   "source": [
    "from memory_checking_1 import make_big_array, make_two_arrays\n",
    "ar = make_big_array()\n",
    "print(resource.getrusage(resource.RUSAGE_SELF).ru_maxrss)"
   ],
   "metadata": {
    "collapsed": false,
    "pycharm": {
     "name": "#%%\n"
    }
   }
  },
  {
   "cell_type": "code",
   "execution_count": 23,
   "outputs": [
    {
     "name": "stdout",
     "output_type": "stream",
     "text": [
      "0.262832\n"
     ]
    }
   ],
   "source": [
    "# Peak memory usage\n",
    "ar1, ar2 = make_two_arrays()\n",
    "print(resource.getrusage(resource.RUSAGE_SELF).ru_maxrss / 10 ** 6)"
   ],
   "metadata": {
    "collapsed": false,
    "pycharm": {
     "name": "#%%\n"
    }
   }
  },
  {
   "cell_type": "code",
   "execution_count": 20,
   "outputs": [
    {
     "name": "stdout",
     "output_type": "stream",
     "text": [
      "80.00012969970703\n",
      "80.00012969970703\n"
     ]
    }
   ],
   "source": [
    "print(sys.getsizeof(ar1) / 2 ** 20)\n",
    "print(sys.getsizeof(ar2) / 2 ** 20)"
   ],
   "metadata": {
    "collapsed": false,
    "pycharm": {
     "name": "#%%\n"
    }
   }
  },
  {
   "cell_type": "code",
   "execution_count": 24,
   "outputs": [
    {
     "name": "stdout",
     "output_type": "stream",
     "text": [
      "Current memory usage is 167.773679MB; Peak was 167.784111MB\n"
     ]
    }
   ],
   "source": [
    "import tracemalloc\n",
    "tracemalloc.start()\n",
    "make_two_arrays()\n",
    "current, peak = tracemalloc.get_traced_memory()\n",
    "print(f\"Current memory usage is {current / (1024 * 1024)}MB; Peak was {peak / (1024 * 1024)}MB\")\n",
    "tracemalloc.stop()"
   ],
   "metadata": {
    "collapsed": false,
    "pycharm": {
     "name": "#%%\n"
    }
   }
  },
  {
   "cell_type": "code",
   "execution_count": 65,
   "outputs": [
    {
     "name": "stdout",
     "output_type": "stream",
     "text": [
      "Current memory usage is 1.825392246246338e-07Gb; Peak was 0.3906252644956112Gb\n"
     ]
    }
   ],
   "source": [
    "def memory_analyze(func, result=\"Mb\", *args):\n",
    "    tracemalloc.start()\n",
    "    func(*args)\n",
    "    current, peak = tracemalloc.get_traced_memory()\n",
    "    tracemalloc.stop()\n",
    "    if result == \"Mb\":\n",
    "        print(f\"Current memory usage is {current / (1024 * 1024)}MB; Peak was {peak / (1024 * 1024)}MB\")\n",
    "    elif result == \"Gb\":\n",
    "         print(f\"Current memory usage is {current / (1024 * 1024 * 1024)}Gb; Peak was {peak / (1024 * 1024 * 1024)}Gb\")\n",
    "    elif result == \"Kb\":\n",
    "        print(f\"Current memory usage is {current / 1024}KB; Peak was {peak / 1024}KB\")\n",
    "    else:\n",
    "        ValueError(\"Insert correct type size\")\n",
    "\n",
    "    return\n",
    "memory_analyze(make_big_array, result=\"Gb\")"
   ],
   "metadata": {
    "collapsed": false,
    "pycharm": {
     "name": "#%%\n"
    }
   }
  },
  {
   "cell_type": "markdown",
   "source": [
    "## Учимся экономить память"
   ],
   "metadata": {
    "collapsed": false,
    "pycharm": {
     "name": "#%% md\n"
    }
   }
  },
  {
   "cell_type": "markdown",
   "source": [
    "### Проблемы с локальными переменными в функции"
   ],
   "metadata": {
    "collapsed": false,
    "pycharm": {
     "name": "#%% md\n"
    }
   }
  },
  {
   "cell_type": "code",
   "execution_count": 53,
   "outputs": [
    {
     "name": "stdout",
     "output_type": "stream",
     "text": [
      "Current memory usage is 1.5990808606147766e-06Gb; Peak was 3.000001952983439Gb\n"
     ]
    }
   ],
   "source": [
    "def load_1GB_of_data():\n",
    "    return np.ones((2 ** 30), dtype=np.uint8)\n",
    "\n",
    "def process_data():\n",
    "    data = load_1GB_of_data()\n",
    "    return modify2(modify1(data))\n",
    "\n",
    "def modify1(data):\n",
    "    return data * 2\n",
    "\n",
    "def modify2(data):\n",
    "    return data + 10\n",
    "\n",
    "memory_analyze(process_data, \"Gb\")"
   ],
   "metadata": {
    "collapsed": false,
    "pycharm": {
     "name": "#%%\n"
    }
   }
  },
  {
   "cell_type": "markdown",
   "source": [
    "Как так вышло? Мы создали данные объемом 1 Гб. Два раза умножили на 2 и прибавили и объем наших данных увеличился в 3 раза.\n",
    "По-хорошему, объем должен был вырасти до 2 Гб. Однако, откуда здесь еще лишний 1 Гб?\n",
    "Весь прикол как раз в сборщике мусора, который учел количество обращений в объекту не 2, а 3 раза!\n",
    "Есть 3 способа борьбы с этим"
   ],
   "metadata": {
    "collapsed": false,
    "pycharm": {
     "name": "#%% md\n"
    }
   }
  },
  {
   "cell_type": "code",
   "execution_count": 54,
   "outputs": [
    {
     "name": "stdout",
     "output_type": "stream",
     "text": [
      "Current memory usage is 1.1557713150978088e-06Gb; Peak was 2.000001427717507Gb\n"
     ]
    }
   ],
   "source": [
    "# 1. Не использовать локальную переменную\n",
    "def process_data():\n",
    "    return modify2(modify1(load_1GB_of_data()))\n",
    "memory_analyze(process_data, \"Gb\")"
   ],
   "metadata": {
    "collapsed": false,
    "pycharm": {
     "name": "#%%\n"
    }
   }
  },
  {
   "cell_type": "code",
   "execution_count": 55,
   "outputs": [
    {
     "name": "stdout",
     "output_type": "stream",
     "text": [
      "Current memory usage is 1.239590346813202e-06Gb; Peak was 2.0000014854595065Gb\n"
     ]
    }
   ],
   "source": [
    "# 2. Переприсвоить локальной переменной\n",
    "def process_data():\n",
    "    data = load_1GB_of_data()\n",
    "    data = modify1(data)\n",
    "    data = modify2(data)\n",
    "    return data\n",
    "memory_analyze(process_data, \"Gb\")"
   ],
   "metadata": {
    "collapsed": false,
    "pycharm": {
     "name": "#%%\n"
    }
   }
  },
  {
   "cell_type": "code",
   "execution_count": null,
   "outputs": [],
   "source": [
    "# 3. Передача права собственности на объект\n",
    "class Owner:\n",
    "    def __init__(self, data):\n",
    "        self.data = data\n",
    "\n",
    "def process_data():\n",
    "    data = Owner(load_1GB_of_data())\n",
    "    return modify2(modify1(data))\n",
    "\n",
    "def modify1(owned_data):\n",
    "    data = owned_data.data\n",
    "    # Remove a reference to original data:\n",
    "    owned_data.data = None\n",
    "    return data * 2\n",
    "\n",
    "\n"
   ],
   "metadata": {
    "collapsed": false,
    "pycharm": {
     "name": "#%%\n"
    }
   }
  },
  {
   "cell_type": "markdown",
   "source": [
    "### Излишняя модификация и присваивание"
   ],
   "metadata": {
    "collapsed": false,
    "pycharm": {
     "name": "#%% md\n"
    }
   }
  },
  {
   "cell_type": "code",
   "execution_count": null,
   "outputs": [],
   "source": [
    "np.random.randint(1, 10, 10000)"
   ],
   "metadata": {
    "collapsed": false,
    "pycharm": {
     "name": "#%%\n"
    }
   }
  },
  {
   "cell_type": "code",
   "execution_count": 68,
   "outputs": [
    {
     "name": "stdout",
     "output_type": "stream",
     "text": [
      "Current memory usage is 117.0244140625KB; Peak was 273.6025390625KB\n"
     ]
    }
   ],
   "source": [
    "#\n",
    "def normalize(array: np.ndarray) -> np.ndarray:\n",
    "    \"\"\"\n",
    "    Takes a floating point array.\n",
    "\n",
    "    Returns a normalized array with values between 0 and 1.\n",
    "    \"\"\"\n",
    "    low = array.min()\n",
    "    high = array.max()\n",
    "    return (array - low) * (high - low)\n",
    "memory_analyze(normalize, \"Kb\", np.random.randint(1, 10, 10000).reshape(10, 100, 10))"
   ],
   "metadata": {
    "collapsed": false,
    "pycharm": {
     "name": "#%%\n"
    }
   }
  },
  {
   "cell_type": "code",
   "execution_count": 71,
   "outputs": [
    {
     "name": "stdout",
     "output_type": "stream",
     "text": [
      "Current memory usage is 0.58203125KB; Peak was 79.107421875KB\n"
     ]
    }
   ],
   "source": [
    "# In-place type of assigning\n",
    "def normalize_in_place(array: np.ndarray):\n",
    "    low = array.min()\n",
    "    high = array.max()\n",
    "    result = array.copy()  # Это нужно для того, чтобы не менять значения исходного массива!\n",
    "    array -= low\n",
    "    array *= high - low\n",
    "    return array\n",
    "memory_analyze(normalize_in_place, \"Kb\", np.random.randint(1, 10, 10000).reshape(10, 100, 10))"
   ],
   "metadata": {
    "collapsed": false,
    "pycharm": {
     "name": "#%%\n"
    }
   }
  },
  {
   "cell_type": "markdown",
   "source": [
    "# Мультипроцессинг и параллелизация"
   ],
   "metadata": {
    "collapsed": false,
    "pycharm": {
     "name": "#%% md\n"
    }
   }
  },
  {
   "cell_type": "markdown",
   "source": [
    "Все, что мы делали до этого, мы делали на 1 ядре процессоре. Но как мы знаем, у каждого современного процессора больше 1 ядра,\n",
    "а у каждого ядра есть два потока!\n",
    "Соответственно, мы можем выполнять идентичные друг другу процессы параллельно!"
   ],
   "metadata": {
    "collapsed": false,
    "pycharm": {
     "name": "#%% md\n"
    }
   }
  },
  {
   "cell_type": "code",
   "execution_count": null,
   "outputs": [],
   "source": [],
   "metadata": {
    "collapsed": false,
    "pycharm": {
     "name": "#%%\n"
    }
   }
  },
  {
   "cell_type": "markdown",
   "source": [
    "# Ассинхронность\n",
    "\n"
   ],
   "metadata": {
    "collapsed": false,
    "pycharm": {
     "name": "#%% md\n"
    }
   }
  }
 ],
 "metadata": {
  "kernelspec": {
   "display_name": "Python 3",
   "language": "python",
   "name": "python3"
  },
  "language_info": {
   "codemirror_mode": {
    "name": "ipython",
    "version": 2
   },
   "file_extension": ".py",
   "mimetype": "text/x-python",
   "name": "python",
   "nbconvert_exporter": "python",
   "pygments_lexer": "ipython2",
   "version": "2.7.6"
  }
 },
 "nbformat": 4,
 "nbformat_minor": 0
}