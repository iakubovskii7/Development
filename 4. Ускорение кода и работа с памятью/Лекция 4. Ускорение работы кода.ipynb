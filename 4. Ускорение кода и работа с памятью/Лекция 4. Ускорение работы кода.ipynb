{
 "cells": [
  {
   "cell_type": "markdown",
   "source": [
    "https://pythonspeed.com/\n",
    "Классный ресурс по оптимизации вычислений и работе с памятью"
   ],
   "metadata": {
    "collapsed": false,
    "pycharm": {
     "name": "#%% md\n"
    }
   }
  },
  {
   "cell_type": "markdown",
   "metadata": {
    "collapsed": true,
    "pycharm": {
     "name": "#%% md\n"
    }
   },
   "source": [
    "# Ускорение вычислений\n",
    "Для того, чтобы проверять скорость вычислений в jupyter можно использовать либо %%time перед всем кодом в ячейке,\n",
    "либо %time или %timeit перед строчкой выполнения кода"
   ]
  },
  {
   "cell_type": "code",
   "execution_count": 6,
   "outputs": [
    {
     "name": "stdout",
     "output_type": "stream",
     "text": [
      "CPU times: user 5.42 ms, sys: 0 ns, total: 5.42 ms\n",
      "Wall time: 5.37 ms\n"
     ]
    }
   ],
   "source": [
    "%%time\n",
    "x = sum((i for i in range(100000)))"
   ],
   "metadata": {
    "collapsed": false,
    "pycharm": {
     "name": "#%%\n"
    }
   }
  },
  {
   "cell_type": "markdown",
   "source": [
    "*Wall time* показывает суммарное время работы вашего кода.\n",
    "*CPU times* показываем суммарное время, когда ваш процессор был занят.\n",
    "При этом *sys* - это время, связанное с обращениями к операционной системе.\n",
    "\n",
    "Если *wall time* превышает *CPU time*, то это значит, что программа ждет еще каких-то ответов, помимо вычислений процессора.\n",
    "\n",
    "Таким образом, возможны следующие соотношения:\n",
    "\n",
    "1. CPU time/ wall time  ≈ 1: Процесс тратит все время на использование CPU. Более быстрый CPU позволит ускорить данный процесс.\n",
    "2. CPU time/ wall time < 1: Чем ниже отношение, тем больше CPU тратит на ожидание ответа (сети, жесткого диска и т.д., в том числе и просто режим сна).\n",
    "Например, если он равен 0.75, то 25% времени CPU тратит на ожидание."
   ],
   "metadata": {
    "collapsed": false,
    "pycharm": {
     "name": "#%% md\n"
    }
   }
  },
  {
   "cell_type": "code",
   "execution_count": 7,
   "outputs": [
    {
     "name": "stdout",
     "output_type": "stream",
     "text": [
      "CPU times: user 1 µs, sys: 1e+03 ns, total: 2 µs\n",
      "Wall time: 3.58 µs\n",
      "CPU times: user 2 µs, sys: 0 ns, total: 2 µs\n",
      "Wall time: 3.81 µs\n"
     ]
    }
   ],
   "source": [
    "%time\n",
    "sum([i for i in range(10000)])\n",
    "%time\n",
    "l = [a for a in range(10000)]"
   ],
   "metadata": {
    "collapsed": false,
    "pycharm": {
     "name": "#%%\n"
    }
   }
  },
  {
   "cell_type": "code",
   "execution_count": 8,
   "outputs": [
    {
     "name": "stdout",
     "output_type": "stream",
     "text": [
      "450 µs ± 6.49 µs per loop (mean ± std. dev. of 7 runs, 1000 loops each)\n",
      "274 µs ± 1.22 µs per loop (mean ± std. dev. of 7 runs, 1000 loops each)\n"
     ]
    }
   ],
   "source": [
    "%timeit sum((i for i in range(10000)))\n",
    "%timeit sum([i for i in range(10000)])"
   ],
   "metadata": {
    "collapsed": false,
    "pycharm": {
     "name": "#%%\n"
    }
   }
  },
  {
   "cell_type": "markdown",
   "source": [
    "## Numpy\n",
    "\n",
    "Данный пакет написан на С++ и позволяет совершать самые быстрые численные операции на всем диком Python."
   ],
   "metadata": {
    "collapsed": false,
    "pycharm": {
     "name": "#%% md\n"
    }
   }
  },
  {
   "cell_type": "code",
   "execution_count": 2,
   "outputs": [
    {
     "name": "stdout",
     "output_type": "stream",
     "text": [
      "5.97 µs ± 330 ns per loop (mean ± std. dev. of 7 runs, 100000 loops each)\n",
      "751 µs ± 27.1 µs per loop (mean ± std. dev. of 7 runs, 1000 loops each)\n",
      "452 µs ± 1.91 µs per loop (mean ± std. dev. of 7 runs, 1000 loops each)\n"
     ]
    }
   ],
   "source": [
    "import numpy as np\n",
    "%timeit np.sum(np.array((i for i in range(10000))))\n",
    "%timeit np.sum(np.array([i for i in range(10000)]))\n",
    "%timeit sum((i for i in range(10000)))"
   ],
   "metadata": {
    "collapsed": false,
    "pycharm": {
     "name": "#%%\n"
    }
   }
  },
  {
   "cell_type": "code",
   "execution_count": 16,
   "outputs": [
    {
     "name": "stdout",
     "output_type": "stream",
     "text": [
      "5 µs ± 23.9 ns per loop (mean ± std. dev. of 7 runs, 100000 loops each)\n",
      "5.74 µs ± 50.1 ns per loop (mean ± std. dev. of 7 runs, 100000 loops each)\n",
      "786 ns ± 7.35 ns per loop (mean ± std. dev. of 7 runs, 1000000 loops each)\n"
     ]
    }
   ],
   "source": [
    "%timeit np.sum(np.fromiter((i for i in range(10)), dtype=int))\n",
    "%timeit np.sum([i for i in range(10)])\n",
    "%timeit sum((i for i in range(10)))"
   ],
   "metadata": {
    "collapsed": false,
    "pycharm": {
     "name": "#%%\n"
    }
   }
  },
  {
   "cell_type": "code",
   "execution_count": 17,
   "outputs": [
    {
     "name": "stdout",
     "output_type": "stream",
     "text": [
      "[[ 1  2  3  4]\n",
      " [ 5  6  7  8]\n",
      " [ 9 10 11 12]]\n",
      "2\n",
      "[[1 2 3]\n",
      " [5 6 7]]\n",
      "[[7]]\n",
      "[[ 7  8]\n",
      " [11 12]]\n",
      "[5 6 7 8]\n",
      "[[5 6 7 8]]\n",
      "[[5 6 7 8]]\n",
      "[ 2  6 10]\n",
      "[[ 2]\n",
      " [ 6]\n",
      " [10]]\n"
     ]
    }
   ],
   "source": [
    "# Индексация\n",
    "a = np.array([[1,2,3,4], [5,6,7,8], [9,10,11,12]])\n",
    "print(a)\n",
    "print(a[0, 1])\n",
    "print(a[:2, :3])\n",
    "print(a[1:2, 2:3])\n",
    "print(a[1:, 2:])\n",
    "print(a[1, :])\n",
    "print(a[1:2, :])\n",
    "print(a[[1], :])\n",
    "print(a[:, 1])\n",
    "print(a[:, 1:2])"
   ],
   "metadata": {
    "collapsed": false,
    "pycharm": {
     "name": "#%%\n"
    }
   }
  },
  {
   "cell_type": "code",
   "execution_count": 28,
   "outputs": [
    {
     "name": "stdout",
     "output_type": "stream",
     "text": [
      "(3, 3)\n",
      "[1 2 3] \n",
      " [[1]\n",
      " [2]\n",
      " [3]]\n",
      "[[[ 0  1]\n",
      "  [ 2  3]\n",
      "  [ 4  5]\n",
      "  [ 6  7]]\n",
      "\n",
      " [[ 8  9]\n",
      "  [10 11]\n",
      "  [12 13]\n",
      "  [14 15]]]\n",
      "[[[[ 0  1]\n",
      "   [ 2  3]]\n",
      "\n",
      "  [[ 4  5]\n",
      "   [ 6  7]]\n",
      "\n",
      "  [[ 8  9]\n",
      "   [10 11]]\n",
      "\n",
      "  [[12 13]\n",
      "   [14 15]]]]\n",
      "[0 1 2 3 0 0 0 0]\n"
     ]
    }
   ],
   "source": [
    "# Размерность массивов\n",
    "b = np.array([[1,2,3], [4,5,6], [7,8,9]])\n",
    "print(b.shape)\n",
    "\n",
    "# Изменение размерности (умноженные размерности совпадают)\n",
    "v = np.array([1,2,3])\n",
    "print(v, \"\\n\", v.reshape(3, 1))\n",
    "\n",
    "print(np.arange(16).reshape(2, 4, 2))\n",
    "print(np.arange(16).reshape(1, 4, 2, 2))\n",
    "\n",
    "# Изменение размерности (новая размерность другая - заполнение нулями)\n",
    "a0 = np.arange(4)\n",
    "a0.resize((8,))\n",
    "print(a0)"
   ],
   "metadata": {
    "collapsed": false,
    "pycharm": {
     "name": "#%%\n"
    }
   }
  },
  {
   "cell_type": "code",
   "execution_count": 12,
   "outputs": [
    {
     "name": "stdout",
     "output_type": "stream",
     "text": [
      "[[3 4 5]\n",
      " [1 1 2]]\n",
      "[[1 0 2]\n",
      " [0 2 1]]\n",
      "[[[3 4 5]\n",
      "  [4 5 3]]\n",
      "\n",
      " [[2 1 1]\n",
      "  [1 1 2]]]\n"
     ]
    }
   ],
   "source": [
    "# Сортировка\n",
    "\n",
    "c = np.array([[4, 3, 5], [1, 2, 1]])\n",
    "print(np.sort(c, axis=1))\n",
    "\n",
    "# Возвращает индексы элементов, которые были отсортированы\n",
    "j = np.argsort(c)\n",
    "print(j)\n",
    "print(c[:, j])"
   ],
   "metadata": {
    "collapsed": false,
    "pycharm": {
     "name": "#%%\n"
    }
   }
  },
  {
   "cell_type": "code",
   "execution_count": 13,
   "outputs": [
    {
     "data": {
      "text/plain": "array([[1, 0, 0, 0],\n       [1, 1, 1, 1],\n       [0, 1, 1, 1],\n       [0, 0, 0, 0],\n       [0, 0, 0, 0],\n       [1, 1, 1, 0],\n       [1, 1, 0, 0]])"
     },
     "execution_count": 13,
     "metadata": {},
     "output_type": "execute_result"
    }
   ],
   "source": [
    "# Присвоение по условию (если, то)\n",
    "data = np.random.randn(7, 4)\n",
    "np.where(data, data>0, 0)"
   ],
   "metadata": {
    "collapsed": false,
    "pycharm": {
     "name": "#%%\n"
    }
   }
  },
  {
   "cell_type": "code",
   "execution_count": 34,
   "outputs": [
    {
     "name": "stdout",
     "output_type": "stream",
     "text": [
      "[1 2 3 4 5 6]\n",
      "Вертикальное : \n",
      " [[ 0  1  2]\n",
      " [ 3  4  5]\n",
      " [ 6  7  8]\n",
      " [10 11 12]\n",
      " [13 14 15]\n",
      " [16 17 18]]\n",
      "Горизонтальное : \n",
      " [[ 0  1  2 10 11 12]\n",
      " [ 3  4  5 13 14 15]\n",
      " [ 6  7  8 16 17 18]]\n"
     ]
    }
   ],
   "source": [
    "# Слияние массивов\n",
    "x,y,z = np.arange(1,3), np.arange(3,5), np.arange(5,7)\n",
    "print(np.concatenate([x,y,z]))\n",
    "\n",
    "array2D_1 = np.array([[0, 1, 2],\n",
    "       [3, 4, 5],\n",
    "       [6, 7, 8]])\n",
    "array2D_2 = np.array([[10, 11, 12],\n",
    "       [13, 14, 15],\n",
    "       [16, 17, 18]])\n",
    "\n",
    "# Вертикальное слияние\n",
    "print(f\"Вертикальное : \\n {np.vstack((array2D_1, array2D_2))}\")\n",
    "\n",
    "# Горизонтальное слияние\n",
    "print(f\"Горизонтальное : \\n {np.hstack((array2D_1, array2D_2))}\")"
   ],
   "metadata": {
    "collapsed": false,
    "pycharm": {
     "name": "#%%\n"
    }
   }
  },
  {
   "cell_type": "code",
   "execution_count": 38,
   "outputs": [
    {
     "name": "stdout",
     "output_type": "stream",
     "text": [
      "[0.31300339 0.07865637 0.67738013]\n",
      "[0.58474968 0.4842902 ]\n"
     ]
    }
   ],
   "source": [
    "# Применение функции к разным осям массива\n",
    "m = np.random.randn(3,2)\n",
    "# Сначала указываем функцию, потом по какой оси, а затем указываем сам массив\n",
    "print(np.apply_along_axis(lambda x: sum(x ** 2), 1, m))\n",
    "print(np.apply_along_axis(lambda x: sum(x ** 2), 0, m))\n",
    "# Обратим внимание, что у функции может быть только один аргумент - это значения массива из конкретной оси"
   ],
   "metadata": {
    "collapsed": false,
    "pycharm": {
     "name": "#%%\n"
    }
   }
  },
  {
   "cell_type": "code",
   "execution_count": 41,
   "outputs": [
    {
     "name": "stdout",
     "output_type": "stream",
     "text": [
      "True\n",
      "True\n",
      "False\n",
      "True\n"
     ]
    }
   ],
   "source": [
    "# Траблы с округлением при сравнении\n",
    "print(np.round(0.3, 15) == np.round(3 * 0.1, 15))\n",
    "print(np.round(0.3, 16) == np.round(3 * 0.1, 16))\n",
    "print(np.round(0.3, 17) == np.round(3 * 0.1, 17))\n",
    "# Используем такую функцию, чтобы проверить, равны ли массивы\n",
    "print(np.allclose(0.3, 3*0.1))"
   ],
   "metadata": {
    "collapsed": false,
    "pycharm": {
     "name": "#%%\n"
    }
   }
  },
  {
   "cell_type": "markdown",
   "source": [
    "# Работа с памятью\n",
    "\n",
    "Помним, что у любого компьютера есть ограничение по оперативной памяти, а все наши рабочие процессы хранятся именно там.\n",
    "Любой сайт - это такой же компьютер, как и у вас, со своим жестким диском и оперативной памятью.\n",
    "Таким образом, помимо скорости вычислений, нам бы хотелось еще и не вылазить за пределы оперативной памяти.\n",
    "В противном случае, программа просто прекратит свою работу и придется запускать все заново.\n"
   ],
   "metadata": {
    "collapsed": false,
    "pycharm": {
     "name": "#%% md\n"
    }
   }
  },
  {
   "cell_type": "code",
   "execution_count": 6,
   "outputs": [
    {
     "data": {
      "text/plain": "2240136"
     },
     "execution_count": 6,
     "metadata": {},
     "output_type": "execute_result"
    }
   ],
   "source": [
    "import sys\n",
    "data = np.random.randn(7, 4, 10000)\n",
    "sys.getsizeof(data)  # Данная команда показывает, сколько байтов содержит датасет"
   ],
   "metadata": {
    "collapsed": false,
    "pycharm": {
     "name": "#%%\n"
    }
   }
  },
  {
   "cell_type": "code",
   "execution_count": 4,
   "outputs": [
    {
     "data": {
      "text/plain": "2.1363601684570312"
     },
     "execution_count": 4,
     "metadata": {},
     "output_type": "execute_result"
    }
   ],
   "source": [
    "sys.getsizeof(data) / 2 ** 20"
   ],
   "metadata": {
    "collapsed": false,
    "pycharm": {
     "name": "#%%\n"
    }
   }
  },
  {
   "cell_type": "markdown",
   "source": [
    "## Garbage collector\n",
    "\n",
    "https://stackify.com/python-garbage-collection/\n",
    "\n",
    "В Python, в отличие от более ранних языков программирования, не нужно самим напрямую управлять памятью.\n",
    "Здесь реализовано автоматическое управление памятью.\n",
    "Очевидный плюс для разработчика - можно быстрей писать программы, не тратя время на выделение памяти для каждой переменной.\n",
    "Очевидный минус - если мы совсем перестаем контроллировать этот процесс, то может выйти за пределы оперативной памяти."
   ],
   "metadata": {
    "collapsed": false,
    "pycharm": {
     "name": "#%% md\n"
    }
   }
  },
  {
   "cell_type": "markdown",
   "source": [
    "Существует два основных аспекта garbage collection в CPython:\n",
    "\n",
    "- Reference counting\n",
    "- Generational garbage collection"
   ],
   "metadata": {
    "collapsed": false,
    "pycharm": {
     "name": "#%% md\n"
    }
   }
  },
  {
   "cell_type": "markdown",
   "source": [
    "### Reference counting garbage collection\n",
    "\n",
    "Где бы не создавался питоновский объект, базовый С объект использует питоновский тип (например, лист, словарь или функцию) и количество отсылок.\n",
    "Чем чаще мы отсылаемся к какому-то объекту, тем больше накапливается этого показателя.\n",
    "Основные способы сослаться на какой-либо объект:\n",
    "- присвоить объект переменной\n",
    "- добавить объект к структуре данных (например, добавление в список или как *property* в классе)\n",
    "- вставить объект как аргумент функции"
   ],
   "metadata": {
    "collapsed": false,
    "pycharm": {
     "name": "#%% md\n"
    }
   }
  },
  {
   "cell_type": "code",
   "execution_count": 23,
   "outputs": [
    {
     "data": {
      "text/plain": "2"
     },
     "execution_count": 23,
     "metadata": {},
     "output_type": "execute_result"
    }
   ],
   "source": [
    "c1 = \"new_var\"\n",
    "sys.getrefcount(c1)"
   ],
   "metadata": {
    "collapsed": false,
    "pycharm": {
     "name": "#%%\n"
    }
   }
  },
  {
   "cell_type": "code",
   "execution_count": 14,
   "outputs": [
    {
     "data": {
      "text/plain": "3"
     },
     "execution_count": 14,
     "metadata": {},
     "output_type": "execute_result"
    }
   ],
   "source": [
    "a = 'my-string'\n",
    "sys.getrefcount(a)\n",
    "# Всего было 3 отсылки к объекту a - создание раннее, переприсваивание сейчас и вызов в функции sys.getrefcount"
   ],
   "metadata": {
    "collapsed": false,
    "pycharm": {
     "name": "#%%\n"
    }
   }
  },
  {
   "cell_type": "code",
   "execution_count": 24,
   "outputs": [
    {
     "data": {
      "text/plain": "4"
     },
     "execution_count": 24,
     "metadata": {},
     "output_type": "execute_result"
    }
   ],
   "source": [
    "b = [a] # Make a list with a as an element.\n",
    "c = { 'key': a } # Create a dictionary with a as one of the values.\n",
    "sys.getrefcount(a)"
   ],
   "metadata": {
    "collapsed": false,
    "pycharm": {
     "name": "#%%\n"
    }
   }
  },
  {
   "cell_type": "markdown",
   "source": [
    "### Generational garbage collection\n",
    "\n"
   ],
   "metadata": {
    "collapsed": false,
    "pycharm": {
     "name": "#%% md\n"
    }
   }
  },
  {
   "cell_type": "code",
   "execution_count": 25,
   "outputs": [
    {
     "ename": "NameError",
     "evalue": "name 'a' is not defined",
     "output_type": "error",
     "traceback": [
      "\u001B[0;31m---------------------------------------------------------------------------\u001B[0m",
      "\u001B[0;31mNameError\u001B[0m                                 Traceback (most recent call last)",
      "\u001B[0;32m/tmp/ipykernel_204680/2663187884.py\u001B[0m in \u001B[0;36m<module>\u001B[0;34m\u001B[0m\n\u001B[1;32m      4\u001B[0m \u001B[0ma\u001B[0m\u001B[0;34m.\u001B[0m\u001B[0mobj\u001B[0m \u001B[0;34m=\u001B[0m \u001B[0ma\u001B[0m\u001B[0;34m\u001B[0m\u001B[0;34m\u001B[0m\u001B[0m\n\u001B[1;32m      5\u001B[0m \u001B[0;32mdel\u001B[0m \u001B[0ma\u001B[0m\u001B[0;34m\u001B[0m\u001B[0;34m\u001B[0m\u001B[0m\n\u001B[0;32m----> 6\u001B[0;31m \u001B[0ma\u001B[0m\u001B[0;34m\u001B[0m\u001B[0;34m\u001B[0m\u001B[0m\n\u001B[0m",
      "\u001B[0;31mNameError\u001B[0m: name 'a' is not defined"
     ]
    }
   ],
   "source": [
    "class MyClass(object):\n",
    "       pass\n",
    "a = MyClass()\n",
    "a.obj = a\n",
    "del a\n",
    "a"
   ],
   "metadata": {
    "collapsed": false,
    "pycharm": {
     "name": "#%%\n"
    }
   }
  },
  {
   "cell_type": "markdown",
   "source": [
    "Здесь мы определили новый класс.\n",
    "Затем создали экземпляр класса и присвоили экземпляру аттрибут в качестве самого класса. В итоге мы удалили объект.\n",
    "Несмотря на то, что объект мы уже удалили, в Python все еще хранится экземпляр в памяти.\n",
    "Такую проблему мы называем исходный цикл (reference cycle). Эта и многие другие проблемы решаются при помощи модуля *gc*."
   ],
   "metadata": {
    "collapsed": false,
    "pycharm": {
     "name": "#%% md\n"
    }
   }
  },
  {
   "cell_type": "markdown",
   "source": [
    "Существуют два основных понятия для garbage collection:\n",
    "- поколение (generation)\n",
    "- порог (threshold)\n",
    "\n",
    "Garbage collector отслеживает абсолютно все объекты, которые когда-либо попадали в Python.\n",
    "Всего существует 3 поколения для объектов и объекты в зависимости от наших действий передвигаются от старого к более новому.\n",
    "Для каждого поколения *gc* модуль выделены пороги для числа объектов. Если число объектов переваливает за этот порог,\n",
    "то *gc* запустит процесс сбора. Любые объекты, которые переживут этот процесс, попадут в более старое поколение.\n",
    "\n",
    "В отличие от проблемы с отсылками, здесь мы можем управлять этим процессом.\n",
    "Во-первых, мы можем изменять пороги, которые влияют на вызов процесса сборки мусора.\n",
    "Во-вторых, можем вручную вызывать сборщик мусора или, наоборот, отключать его."
   ],
   "metadata": {
    "collapsed": false,
    "pycharm": {
     "name": "#%% md\n"
    }
   }
  },
  {
   "cell_type": "code",
   "execution_count": 26,
   "outputs": [
    {
     "name": "stdout",
     "output_type": "stream",
     "text": [
      "(700, 10, 10)\n",
      "(134, 5, 2)\n"
     ]
    }
   ],
   "source": [
    "import gc\n",
    "print(gc.get_threshold())\n",
    "print(gc.get_count())"
   ],
   "metadata": {
    "collapsed": false,
    "pycharm": {
     "name": "#%%\n"
    }
   }
  },
  {
   "cell_type": "code",
   "execution_count": 27,
   "outputs": [
    {
     "data": {
      "text/plain": "10"
     },
     "execution_count": 27,
     "metadata": {},
     "output_type": "execute_result"
    }
   ],
   "source": [
    "gc.collect()"
   ],
   "metadata": {
    "collapsed": false,
    "pycharm": {
     "name": "#%%\n"
    }
   }
  },
  {
   "cell_type": "code",
   "execution_count": 28,
   "outputs": [
    {
     "data": {
      "text/plain": "(246, 0, 0)"
     },
     "execution_count": 28,
     "metadata": {},
     "output_type": "execute_result"
    }
   ],
   "source": [
    "gc.get_count()"
   ],
   "metadata": {
    "collapsed": false,
    "pycharm": {
     "name": "#%%\n"
    }
   }
  },
  {
   "cell_type": "code",
   "execution_count": 38,
   "outputs": [
    {
     "data": {
      "text/plain": "(1000, 15, 15)"
     },
     "execution_count": 38,
     "metadata": {},
     "output_type": "execute_result"
    }
   ],
   "source": [
    "# Изменим порог для перехода в другие поколения\n",
    "gc.set_threshold(1000, 15, 15)\n",
    "gc.get_threshold()"
   ],
   "metadata": {
    "collapsed": false,
    "pycharm": {
     "name": "#%%\n"
    }
   }
  },
  {
   "cell_type": "markdown",
   "source": [
    "Увеличение порога сократит частоту запуска сборщика мусора.\n",
    "Это ускорит наши процессы, но все объекты будут дольше храниться в памяти."
   ],
   "metadata": {
    "collapsed": false,
    "pycharm": {
     "name": "#%% md\n"
    }
   }
  },
  {
   "cell_type": "markdown",
   "source": [
    "## Типы данных\n",
    "\n",
    "Вспомним, что Python - динамический язык программирования. Однако, для более ручного управления памятью и кодом, мы можем объектам присваивать\n",
    "типы данных самостоятельно. Рекомендуется использовать типы данных *numpy* массивов.\n",
    "\n",
    "1. int - целочисленный тип данных: (-2, -1, 0, 1, ....)\n",
    "2. uint - целочисленный тип данных: (0, 1, 2, .....)\n",
    "3. float - вещественный тип данных с плавающей точкой\n",
    "4. bool - логический тип данных\n",
    "5. string - строковый тип данных\n",
    "\n",
    "После int, uint, float мы можем указать числа, которые будут отвечать за длину диапазона возможных значений.\n",
    "Например, np.int32 означает, что диапазон значений включает в себя 2 ** 32 (около 4 млрд) чисел, которые расположены симметрично относительно нуля;\n",
    "np.uint8 - диапазон чисел от 0 до 255\n",
    "\n",
    "Отметим, что в случае np.float32, np.float64 активируются Ctype типы данных. Это значит, что если нам нужна скорость обработки, то\n",
    "мы должны использовать именно эти типа данных для вещественных чисел. В противном случае, можно использовать float16\n"
   ],
   "metadata": {
    "collapsed": false,
    "pycharm": {
     "name": "#%% md\n"
    }
   }
  },
  {
   "cell_type": "code",
   "execution_count": 45,
   "outputs": [
    {
     "data": {
      "text/plain": "1000"
     },
     "execution_count": 45,
     "metadata": {},
     "output_type": "execute_result"
    }
   ],
   "source": [],
   "metadata": {
    "collapsed": false,
    "pycharm": {
     "name": "#%%\n"
    }
   }
  },
  {
   "cell_type": "code",
   "execution_count": 37,
   "outputs": [
    {
     "name": "stdout",
     "output_type": "stream",
     "text": [
      "255\n",
      "232\n",
      "1.6666666666666667\n",
      "1.667\n"
     ]
    }
   ],
   "source": [
    "print(np.uint8(255))\n",
    "print(np.uint8(1000))  # 256 + 256 + 256 + 232\n",
    "print(np.float64(5/3))\n",
    "print(np.float16(5/3))"
   ],
   "metadata": {
    "collapsed": false,
    "pycharm": {
     "name": "#%%\n"
    }
   }
  },
  {
   "cell_type": "markdown",
   "source": [
    "Давайте позапускаем разные коды и посмотрим, сколько уходит памяти в каждой строчке."
   ],
   "metadata": {
    "collapsed": false,
    "pycharm": {
     "name": "#%% md\n"
    }
   }
  },
  {
   "cell_type": "code",
   "execution_count": 3,
   "outputs": [
    {
     "name": "stdout",
     "output_type": "stream",
     "text": [
      "151908352\n"
     ]
    }
   ],
   "source": [
    "import resource\n",
    "\n",
    "usage = resource.getrusage(resource.RUSAGE_SELF).ru_maxrss  # выдает значения в Кб\n",
    "print(usage)"
   ],
   "metadata": {
    "collapsed": false,
    "pycharm": {
     "name": "#%%\n"
    }
   }
  },
  {
   "cell_type": "code",
   "execution_count": 4,
   "outputs": [
    {
     "name": "stdout",
     "output_type": "stream",
     "text": [
      "151949312\n"
     ]
    }
   ],
   "source": [
    "from memory_checking_1 import make_big_array, make_two_arrays\n",
    "ar = make_big_array()\n",
    "print(resource.getrusage(resource.RUSAGE_SELF).ru_maxrss)"
   ],
   "metadata": {
    "collapsed": false,
    "pycharm": {
     "name": "#%%\n"
    }
   }
  },
  {
   "cell_type": "code",
   "execution_count": 50,
   "outputs": [
    {
     "name": "stdout",
     "output_type": "stream",
     "text": [
      "177.78125\n"
     ]
    }
   ],
   "source": [
    "# Peak memory usage\n",
    "ar1, ar2 = make_two_arrays()\n",
    "print(resource.getrusage(resource.RUSAGE_SELF).ru_maxrss / 2 ** 10)"
   ],
   "metadata": {
    "collapsed": false,
    "pycharm": {
     "name": "#%%\n"
    }
   }
  },
  {
   "cell_type": "code",
   "execution_count": 51,
   "outputs": [
    {
     "name": "stdout",
     "output_type": "stream",
     "text": [
      "80.00012969970703\n",
      "80.00012969970703\n"
     ]
    }
   ],
   "source": [
    "print(sys.getsizeof(ar1) / 2 ** 20)\n",
    "print(sys.getsizeof(ar2) / 2 ** 20)"
   ],
   "metadata": {
    "collapsed": false,
    "pycharm": {
     "name": "#%%\n"
    }
   }
  },
  {
   "cell_type": "code",
   "execution_count": 52,
   "outputs": [
    {
     "name": "stdout",
     "output_type": "stream",
     "text": [
      "Current memory usage is 0.0008916854858398438MB; Peak was 160.00118160247803MB\n"
     ]
    }
   ],
   "source": [
    "import tracemalloc\n",
    "tracemalloc.start()\n",
    "make_two_arrays()\n",
    "current, peak = tracemalloc.get_traced_memory()\n",
    "print(f\"Current memory usage is {current / (1024 * 1024)}MB; Peak was {peak / (1024 * 1024)}MB\")\n",
    "tracemalloc.stop()"
   ],
   "metadata": {
    "collapsed": false,
    "pycharm": {
     "name": "#%%\n"
    }
   }
  },
  {
   "cell_type": "code",
   "execution_count": 53,
   "outputs": [
    {
     "name": "stdout",
     "output_type": "stream",
     "text": [
      "Current memory usage is 4.231929779052734e-06Gb; Peak was 0.3906293138861656Gb\n"
     ]
    }
   ],
   "source": [
    "def memory_analyze(func, result=\"Mb\", *args):\n",
    "    tracemalloc.start()\n",
    "    func(*args)\n",
    "    current, peak = tracemalloc.get_traced_memory()\n",
    "    tracemalloc.stop()\n",
    "    if result == \"Mb\":\n",
    "        print(f\"Current memory usage is {current / (1024 * 1024)}MB; Peak was {peak / (1024 * 1024)}MB\")\n",
    "    elif result == \"Gb\":\n",
    "         print(f\"Current memory usage is {current / (1024 * 1024 * 1024)}Gb; Peak was {peak / (1024 * 1024 * 1024)}Gb\")\n",
    "    elif result == \"Kb\":\n",
    "        print(f\"Current memory usage is {current / 1024}KB; Peak was {peak / 1024}KB\")\n",
    "    else:\n",
    "        ValueError(\"Insert correct type size\")\n",
    "\n",
    "    return\n",
    "memory_analyze(make_big_array, result=\"Gb\")"
   ],
   "metadata": {
    "collapsed": false,
    "pycharm": {
     "name": "#%%\n"
    }
   }
  },
  {
   "cell_type": "markdown",
   "source": [
    "## Учимся экономить память"
   ],
   "metadata": {
    "collapsed": false,
    "pycharm": {
     "name": "#%% md\n"
    }
   }
  },
  {
   "cell_type": "markdown",
   "source": [
    "### Проблемы с локальными переменными в функции"
   ],
   "metadata": {
    "collapsed": false,
    "pycharm": {
     "name": "#%% md\n"
    }
   }
  },
  {
   "cell_type": "code",
   "execution_count": 53,
   "outputs": [
    {
     "name": "stdout",
     "output_type": "stream",
     "text": [
      "Current memory usage is 1.5990808606147766e-06Gb; Peak was 3.000001952983439Gb\n"
     ]
    }
   ],
   "source": [
    "def load_1GB_of_data():\n",
    "    return np.ones((2 ** 30), dtype=np.uint8)\n",
    "\n",
    "def process_data():\n",
    "    data = load_1GB_of_data()\n",
    "    return modify2(modify1(data))\n",
    "\n",
    "def modify1(data):\n",
    "    return data * 2\n",
    "\n",
    "def modify2(data):\n",
    "    return data + 10\n",
    "\n",
    "memory_analyze(process_data, \"Gb\")"
   ],
   "metadata": {
    "collapsed": false,
    "pycharm": {
     "name": "#%%\n"
    }
   }
  },
  {
   "cell_type": "markdown",
   "source": [
    "Как так вышло? Мы создали данные объемом 1 Гб. Два раза умножили на 2 и прибавили и объем наших данных увеличился в 3 раза.\n",
    "По-хорошему, объем должен был вырасти до 2 Гб. Однако, откуда здесь еще лишний 1 Гб?\n",
    "Весь прикол как раз в сборщике мусора, который учел количество обращений в объекту не 2, а 3 раза!\n",
    "Есть 3 способа борьбы с этим"
   ],
   "metadata": {
    "collapsed": false,
    "pycharm": {
     "name": "#%% md\n"
    }
   }
  },
  {
   "cell_type": "code",
   "execution_count": 54,
   "outputs": [
    {
     "name": "stdout",
     "output_type": "stream",
     "text": [
      "Current memory usage is 1.1557713150978088e-06Gb; Peak was 2.000001427717507Gb\n"
     ]
    }
   ],
   "source": [
    "# 1. Не использовать локальную переменную\n",
    "def process_data():\n",
    "    return modify2(modify1(load_1GB_of_data()))\n",
    "memory_analyze(process_data, \"Gb\")"
   ],
   "metadata": {
    "collapsed": false,
    "pycharm": {
     "name": "#%%\n"
    }
   }
  },
  {
   "cell_type": "code",
   "execution_count": 55,
   "outputs": [
    {
     "name": "stdout",
     "output_type": "stream",
     "text": [
      "Current memory usage is 1.239590346813202e-06Gb; Peak was 2.0000014854595065Gb\n"
     ]
    }
   ],
   "source": [
    "# 2. Переприсвоить локальной переменной\n",
    "def process_data():\n",
    "    data = load_1GB_of_data()\n",
    "    data = modify1(data)\n",
    "    data = modify2(data)\n",
    "    return data\n",
    "memory_analyze(process_data, \"Gb\")"
   ],
   "metadata": {
    "collapsed": false,
    "pycharm": {
     "name": "#%%\n"
    }
   }
  },
  {
   "cell_type": "code",
   "execution_count": null,
   "outputs": [],
   "source": [
    "# 3. Передача права собственности на объект\n",
    "class Owner:\n",
    "    def __init__(self, data):\n",
    "        self.data = data\n",
    "\n",
    "def process_data():\n",
    "    data = Owner(load_1GB_of_data())\n",
    "    return modify2(modify1(data))\n",
    "\n",
    "def modify1(owned_data):\n",
    "    data = owned_data.data\n",
    "    # Remove a reference to original data:\n",
    "    owned_data.data = None\n",
    "    return data * 2\n",
    "\n",
    "\n"
   ],
   "metadata": {
    "collapsed": false,
    "pycharm": {
     "name": "#%%\n"
    }
   }
  },
  {
   "cell_type": "markdown",
   "source": [
    "### Излишняя модификация и присваивание"
   ],
   "metadata": {
    "collapsed": false,
    "pycharm": {
     "name": "#%% md\n"
    }
   }
  },
  {
   "cell_type": "code",
   "execution_count": null,
   "outputs": [],
   "source": [
    "np.random.randint(1, 10, 10000)"
   ],
   "metadata": {
    "collapsed": false,
    "pycharm": {
     "name": "#%%\n"
    }
   }
  },
  {
   "cell_type": "code",
   "execution_count": 68,
   "outputs": [
    {
     "name": "stdout",
     "output_type": "stream",
     "text": [
      "Current memory usage is 117.0244140625KB; Peak was 273.6025390625KB\n"
     ]
    }
   ],
   "source": [
    "#\n",
    "def normalize(array: np.ndarray) -> np.ndarray:\n",
    "    \"\"\"\n",
    "    Takes a floating point array.\n",
    "\n",
    "    Returns a normalized array with values between 0 and 1.\n",
    "    \"\"\"\n",
    "    low = array.min()\n",
    "    high = array.max()\n",
    "    return (array - low) * (high - low)\n",
    "memory_analyze(normalize, \"Kb\", np.random.randint(1, 10, 10000).reshape(10, 100, 10))"
   ],
   "metadata": {
    "collapsed": false,
    "pycharm": {
     "name": "#%%\n"
    }
   }
  },
  {
   "cell_type": "code",
   "execution_count": 71,
   "outputs": [
    {
     "name": "stdout",
     "output_type": "stream",
     "text": [
      "Current memory usage is 0.58203125KB; Peak was 79.107421875KB\n"
     ]
    }
   ],
   "source": [
    "# In-place type of assigning\n",
    "def normalize_in_place(array: np.ndarray):\n",
    "    low = array.min()\n",
    "    high = array.max()\n",
    "    result = array.copy()  # Это нужно для того, чтобы не менять значения исходного массива!\n",
    "    array -= low\n",
    "    array *= high - low\n",
    "    return array\n",
    "memory_analyze(normalize_in_place, \"Kb\", np.random.randint(1, 10, 10000).reshape(10, 100, 10))"
   ],
   "metadata": {
    "collapsed": false,
    "pycharm": {
     "name": "#%%\n"
    }
   }
  },
  {
   "cell_type": "code",
   "execution_count": 6,
   "outputs": [
    {
     "data": {
      "text/plain": "{0.2: 361.7265625,\n 0.4: 361.7265625,\n 0.6000000000000001: 401.3984375,\n 0.8: 404.20703125,\n 1.0: 404.20703125,\n 1.2: 404.20703125,\n 1.4: 404.20703125}"
     },
     "execution_count": 6,
     "metadata": {},
     "output_type": "execute_result"
    }
   ],
   "source": [
    "import numpy as np\n",
    "from memory_profiler import memory_usage\n",
    "interval_sec = 0.2\n",
    "memory_changing = memory_usage((make_two_arrays), interval=interval_sec)\n",
    "dict(zip(np.cumsum([interval_sec] * len(memory_changing)),\n",
    "         memory_changing))"
   ],
   "metadata": {
    "collapsed": false,
    "pycharm": {
     "name": "#%%\n"
    }
   }
  },
  {
   "cell_type": "markdown",
   "source": [
    "Давайте сравним расходы памяти в случае генератора и списка."
   ],
   "metadata": {
    "collapsed": false,
    "pycharm": {
     "name": "#%% md\n"
    }
   }
  },
  {
   "cell_type": "code",
   "execution_count": 8,
   "outputs": [],
   "source": [
    "from memory_checking_1 import (stack_using_list, stack_using_generator)\n",
    "n_images = 500\n",
    "n_pixels = 1000\n",
    "snapshot_interval = 0.2 # seconds\n",
    "list_mem_usage = memory_usage((stack_using_list,(n_images, n_pixels)), interval=snapshot_interval)\n",
    "gen_mem_usage = memory_usage((stack_using_generator,(n_images, n_pixels)), interval=snapshot_interval)"
   ],
   "metadata": {
    "collapsed": false,
    "pycharm": {
     "name": "#%%\n"
    }
   }
  },
  {
   "cell_type": "code",
   "execution_count": 9,
   "outputs": [
    {
     "data": {
      "text/plain": "{0.2: 73.83984375,\n 0.4: 74.3046875,\n 0.6000000000000001: 174.11328125,\n 0.8: 250.2734375,\n 1.0: 320.66015625,\n 1.2: 385.75390625,\n 1.4: 443.7734375,\n 1.5999999999999999: 263.0,\n 1.7999999999999998: 184.2421875,\n 1.9999999999999998: 275.1171875,\n 2.1999999999999997: 427.5234375,\n 2.4: 529.40625,\n 2.6: 545.33203125,\n 2.8000000000000003: 545.29296875,\n 3.0000000000000004: 443.78125,\n 3.2000000000000006: 169.92578125,\n 3.400000000000001: 146.3671875,\n 3.600000000000001: 215.49609375,\n 3.800000000000001: 316.93359375,\n 4.000000000000001: 373.53515625,\n 4.200000000000001: 456.35546875,\n 4.400000000000001: 553.87890625,\n 4.600000000000001: 600.21484375,\n 4.800000000000002: 555.828125,\n 5.000000000000002: 415.22265625,\n 5.200000000000002: 373.796875,\n 5.400000000000002: 418.05859375,\n 5.600000000000002: 542.16796875,\n 5.8000000000000025: 366.64453125,\n 6.000000000000003: 454.0234375,\n 6.200000000000003: 496.68359375,\n 6.400000000000003: 529.41015625,\n 6.600000000000003: 587.28515625,\n 6.800000000000003: 683.6015625,\n 7.0000000000000036: 845.47265625,\n 7.200000000000004: 547.88671875,\n 7.400000000000004: 518.28515625,\n 7.600000000000004: 501.84375,\n 7.800000000000004: 616.05078125,\n 8.000000000000004: 741.359375,\n 8.200000000000003: 869.234375,\n 8.400000000000002: 576.4609375,\n 8.600000000000001: 562.2734375,\n 8.8: 570.61328125,\n 9.0: 625.7265625,\n 9.2: 727.97265625,\n 9.399999999999999: 853.0,\n 9.599999999999998: 441.56640625,\n 9.799999999999997: 350.40234375,\n 9.999999999999996: 193.45703125,\n 10.199999999999996: 53.765625,\n 10.399999999999995: 75.79296875,\n 10.599999999999994: 122.9453125,\n 10.799999999999994: 190.06640625,\n 10.999999999999993: 252.45703125,\n 11.199999999999992: 279.4609375,\n 11.399999999999991: 328.14453125,\n 11.59999999999999: 361.49609375,\n 11.79999999999999: 396.84765625,\n 11.99999999999999: 394.24609375,\n 12.199999999999989: 418.25390625,\n 12.399999999999988: 459.55078125,\n 12.599999999999987: 510.2421875,\n 12.799999999999986: 464.8046875,\n 12.999999999999986: 414.01953125,\n 13.199999999999985: 428.0546875,\n 13.399999999999984: 404.546875,\n 13.599999999999984: 451.8984375,\n 13.799999999999983: 500.45703125,\n 13.999999999999982: 543.4140625,\n 14.199999999999982: 593.890625,\n 14.39999999999998: 642.34375,\n 14.59999999999998: 692.04296875,\n 14.79999999999998: 744.70703125,\n 14.999999999999979: 801.796875,\n 15.199999999999978: 830.91015625,\n 15.399999999999977: 859.55859375,\n 15.599999999999977: 843.0390625,\n 15.799999999999976: 837.38671875,\n 15.999999999999975: 706.33203125,\n 16.199999999999974: 717.0625,\n 16.399999999999974: 745.7578125,\n 16.599999999999973: 809.203125,\n 16.799999999999972: 876.01953125,\n 16.99999999999997: 887.5234375,\n 17.19999999999997: 776.8203125,\n 17.39999999999997: 707.73828125,\n 17.59999999999997: 648.8515625,\n 17.79999999999997: 689.66796875,\n 17.999999999999968: 738.1796875,\n 18.199999999999967: 785.96875,\n 18.399999999999967: 680.796875,\n 18.599999999999966: 666.31640625,\n 18.799999999999965: 650.03125,\n 18.999999999999964: 672.91796875,\n 19.199999999999964: 726.734375,\n 19.399999999999963: 648.95703125,\n 19.599999999999962: 613.1484375,\n 19.79999999999996: 640.0625,\n 19.99999999999996: 684.53515625,\n 20.19999999999996: 641.7734375,\n 20.39999999999996: 545.99609375,\n 20.59999999999996: 568.28515625,\n 20.799999999999958: 602.1328125,\n 20.999999999999957: 647.62109375,\n 21.199999999999957: 689.66796875,\n 21.399999999999956: 625.69140625,\n 21.599999999999955: 625.09765625,\n 21.799999999999955: 663.34765625,\n 21.999999999999954: 744.4609375,\n 22.199999999999953: 738.2265625,\n 22.399999999999952: 689.75390625,\n 22.59999999999995: 608.36328125,\n 22.79999999999995: 633.13671875,\n 22.99999999999995: 689.3671875,\n 23.19999999999995: 733.53515625,\n 23.39999999999995: 752.55078125,\n 23.599999999999948: 777.69921875,\n 23.799999999999947: 788.4296875,\n 23.999999999999947: 816.66015625,\n 24.199999999999946: 884.2734375,\n 24.399999999999945: 990.39453125,\n 24.599999999999945: 969.6640625,\n 24.799999999999944: 1046.09375,\n 24.999999999999943: 1165.92578125,\n 25.199999999999942: 1294.87109375,\n 25.39999999999994: 1358.6484375,\n 25.59999999999994: 1437.41015625,\n 25.79999999999994: 1418.30859375,\n 25.99999999999994: 1451.58203125,\n 26.19999999999994: 1455.171875,\n 26.399999999999938: 551.0234375,\n 26.599999999999937: 10.2109375,\n 26.799999999999937: 9.91796875,\n 26.999999999999936: 10.66796875}"
     },
     "execution_count": 9,
     "metadata": {},
     "output_type": "execute_result"
    }
   ],
   "source": [
    "dict(zip(np.cumsum([snapshot_interval] * len(list_mem_usage)),\n",
    "         list_mem_usage))"
   ],
   "metadata": {
    "collapsed": false,
    "pycharm": {
     "name": "#%%\n"
    }
   }
  },
  {
   "cell_type": "code",
   "execution_count": 10,
   "outputs": [
    {
     "data": {
      "text/plain": "{0.2: 13.19140625,\n 0.4: 15.19140625,\n 0.6000000000000001: 35.83984375,\n 0.8: 38.23828125,\n 1.0: 38.23828125,\n 1.2: 38.23828125,\n 1.4: 38.23828125,\n 1.5999999999999999: 38.23828125,\n 1.7999999999999998: 38.23828125,\n 1.9999999999999998: 38.23828125,\n 2.1999999999999997: 38.23828125,\n 2.4: 38.23828125,\n 2.6: 38.23828125,\n 2.8000000000000003: 38.23828125,\n 3.0000000000000004: 38.23828125,\n 3.2000000000000006: 38.23828125,\n 3.400000000000001: 38.23828125,\n 3.600000000000001: 38.23828125,\n 3.800000000000001: 38.23828125,\n 4.000000000000001: 30.62890625}"
     },
     "execution_count": 10,
     "metadata": {},
     "output_type": "execute_result"
    }
   ],
   "source": [
    "dict(zip(np.cumsum([snapshot_interval] * len(gen_mem_usage)),\n",
    "         gen_mem_usage))"
   ],
   "metadata": {
    "collapsed": false,
    "pycharm": {
     "name": "#%%\n"
    }
   }
  },
  {
   "cell_type": "markdown",
   "source": [
    "# Параллелизация: мультипроцессинг и многопоточность"
   ],
   "metadata": {
    "collapsed": false,
    "pycharm": {
     "name": "#%% md\n"
    }
   }
  },
  {
   "cell_type": "markdown",
   "source": [
    "Все, что мы делали до этого, мы делали на 1 ядре процессоре. Но как мы знаем, у каждого современного процессора больше 1 ядра, а у каждого ядра есть два потока!\n",
    "Соответственно, мы можем выполнять идентичные друг другу процессы параллельно!\n",
    "Однако, давайте сначала рассмотрим основные виды программ.\n",
    "\n",
    "***CPU Bound*** означает, что скорость выполнения процесса ограничена скоростью центрального процессора. Задача, выполняющая вычисления на небольшом наборе чисел, например, перемножение небольших матриц, скорее всего, будет привязана к процессору.\n",
    "\n",
    "***I/O Bound*** означает, что скорость выполнения процесса ограничена скоростью подсистемы ввода-вывода. Задача, которая обрабатывает данные с диска, например, подсчитывает количество строк в файле, скорее всего, будет связана с вводом-выводом.\n",
    "\n",
    "***Memory bound*** означает, что скорость выполнения процесса ограничена объемом доступной оперативной памяти и скоростью доступа к ней. Задача, которая обрабатывает большие объемы данных в памяти, например, перемножение больших матриц, скорее всего, будет ограничена памятью.\n",
    "\n",
    "***Cache bound*** означает, что скорость выполнения процесса ограничена объемом и скоростью доступного кэша. Задача, которая просто обрабатывает больше данных, чем помещается в кэш, будет ограничена кэшем.\n"
   ],
   "metadata": {
    "collapsed": false,
    "pycharm": {
     "name": "#%% md\n"
    }
   }
  },
  {
   "cell_type": "markdown",
   "source": [
    "Теперь рассмотрим способы ускорения программ.\n",
    "\n",
    "***Параллелизм (parallelism)*** - одновременное выполнение нескольких операций.\n",
    "\n",
    "***Поточность (threading)*** - это модель параллельного выполнения, при которой несколько потоков поочередно выполняют задачи. Один процесс может содержать несколько потоков. У Python сложные отношения с потоками благодаря его GIL, но эти подробности мы разбирать не будем. Главное запомнить, что поточность используется, когда нам нужно ускорить I/O задачи (задачи, связанные с импортом и выводом данных).\n",
    "Нативный Python использует библиотеку **threading**\n",
    "\n",
    "***Мультипроцессинг (multiprocessing)*** - это один из способов для осуществления параллелизма, которое предполагает распределение задач по центральным процессорам (CPU, или ядрам) компьютера. Многопроцессорная обработка хорошо подходит для задач, привязанных к процессору: в эту категорию обычно попадают жестко привязанные циклы и математические вычисления.\n",
    "Нативный Python использует библиотеку **multiprocessing**\n",
    "\n",
    "***Одновременность / многопоточность (concurrency)*** - это несколько более широкий термин, чем параллелизм. Он подразумевает, что несколько задач могут выполняться параллельно. (Существует поговорка, что одновременность не подразумевает параллельности).\n",
    "Нативный Python использует библиотеку **concurrent.futures**"
   ],
   "metadata": {
    "collapsed": false,
    "pycharm": {
     "name": "#%% md\n"
    }
   }
  },
  {
   "cell_type": "markdown",
   "source": [
    "Обычную поточность мы тут рассматривать не будем. Давайте посмотрим, как реализуется одновременная многопоточность."
   ],
   "metadata": {
    "collapsed": false,
    "pycharm": {
     "name": "#%% md\n"
    }
   }
  },
  {
   "cell_type": "markdown",
   "source": [
    "## Многопоточность"
   ],
   "metadata": {
    "collapsed": false,
    "pycharm": {
     "name": "#%% md\n"
    }
   }
  },
  {
   "cell_type": "code",
   "execution_count": 4,
   "outputs": [
    {
     "name": "stdout",
     "output_type": "stream",
     "text": [
      "CPU times: user 256 ms, sys: 32.2 ms, total: 289 ms\n",
      "Wall time: 2.38 s\n"
     ]
    }
   ],
   "source": [
    "%%time\n",
    "# Один поток\n",
    "import requests\n",
    "from parallelism.multithreading import urls\n",
    "results = []\n",
    "for url in urls:\n",
    "    with requests.get(url) as src:\n",
    "        results.append(src.content)"
   ],
   "metadata": {
    "collapsed": false,
    "pycharm": {
     "name": "#%%\n"
    }
   }
  },
  {
   "cell_type": "code",
   "execution_count": 46,
   "outputs": [
    {
     "name": "stdout",
     "output_type": "stream",
     "text": [
      "CPU times: user 264 ms, sys: 52.2 ms, total: 316 ms\n",
      "Wall time: 811 ms\n"
     ]
    }
   ],
   "source": [
    "%%time\n",
    "from concurrent.futures import ThreadPoolExecutor\n",
    "\n",
    "with ThreadPoolExecutor(4) as executor:  # 4 потока (2 ядра по 2 потока)\n",
    "    results = executor.map(requests.get, urls)\n",
    "results = list(map(lambda x: x.content, results))"
   ],
   "metadata": {
    "collapsed": false,
    "pycharm": {
     "name": "#%%\n"
    }
   }
  },
  {
   "cell_type": "markdown",
   "source": [
    "## Мультипроцессинг"
   ],
   "metadata": {
    "collapsed": false,
    "pycharm": {
     "name": "#%% md\n"
    }
   }
  },
  {
   "cell_type": "code",
   "execution_count": 1,
   "outputs": [
    {
     "name": "stdout",
     "output_type": "stream",
     "text": [
      "CPU times: user 5.84 s, sys: 79.3 ms, total: 5.91 s\n",
      "Wall time: 6.14 s\n"
     ]
    }
   ],
   "source": [
    "%%time\n",
    "from multiprocessing import Pool\n",
    "from parallelism.multiprocessing import if_prime\n",
    "\n",
    "answer = 0\n",
    "\n",
    "for i in range(1000000):\n",
    "    answer += if_prime(i)"
   ],
   "metadata": {
    "collapsed": false,
    "pycharm": {
     "name": "#%%\n"
    }
   }
  },
  {
   "cell_type": "code",
   "execution_count": 2,
   "outputs": [
    {
     "name": "stdout",
     "output_type": "stream",
     "text": [
      "CPU times: user 172 ms, sys: 77.6 ms, total: 250 ms\n",
      "Wall time: 5.05 s\n"
     ]
    }
   ],
   "source": [
    "%%time\n",
    "with Pool(4) as p:  # 4 потока на 2 ядрах\n",
    "    answer = sum(p.map(if_prime, list(range(1000000))))"
   ],
   "metadata": {
    "collapsed": false,
    "pycharm": {
     "name": "#%%\n"
    }
   }
  },
  {
   "cell_type": "markdown",
   "source": [
    "Давайте попробуем применить многопоточность на численных операциях и мультипроцессинг на операциях I/O."
   ],
   "metadata": {
    "collapsed": false,
    "pycharm": {
     "name": "#%% md\n"
    }
   }
  },
  {
   "cell_type": "code",
   "execution_count": 50,
   "outputs": [
    {
     "name": "stdout",
     "output_type": "stream",
     "text": [
      "CPU times: user 30.4 s, sys: 4.21 s, total: 34.6 s\n",
      "Wall time: 33.8 s\n"
     ]
    }
   ],
   "source": [
    "%%time\n",
    "with ThreadPoolExecutor(4) as executor:  # 4 потока (2 ядра по 2 потока)\n",
    "    results = executor.map(if_prime, list(range(1000000)))"
   ],
   "metadata": {
    "collapsed": false,
    "pycharm": {
     "name": "#%%\n"
    }
   }
  },
  {
   "cell_type": "code",
   "execution_count": 53,
   "outputs": [
    {
     "name": "stdout",
     "output_type": "stream",
     "text": [
      "CPU times: user 24.1 ms, sys: 65.5 ms, total: 89.6 ms\n",
      "Wall time: 1.26 s\n"
     ]
    }
   ],
   "source": [
    "%%time\n",
    "with Pool(4) as p:  # 4 потока на 2 ядрах\n",
    "    answer = p.map(requests.get, urls)\n",
    "answer = list(map(lambda x: x.content, answer))"
   ],
   "metadata": {
    "collapsed": false,
    "pycharm": {
     "name": "#%%\n"
    }
   }
  },
  {
   "cell_type": "markdown",
   "source": [
    "Как видим, многопоточность сильно хуже справилась с численными операциями, а мультипроцессинг - с операциями ввода-вывода."
   ],
   "metadata": {
    "collapsed": false,
    "pycharm": {
     "name": "#%% md\n"
    }
   }
  },
  {
   "cell_type": "markdown",
   "source": [
    "## Joblib\n"
   ],
   "metadata": {
    "collapsed": false,
    "pycharm": {
     "name": "#%% md\n"
    }
   }
  },
  {
   "cell_type": "code",
   "execution_count": 3,
   "outputs": [
    {
     "name": "stderr",
     "output_type": "stream",
     "text": [
      "[Parallel(n_jobs=-1)]: Using backend LokyBackend with 4 concurrent workers.\n",
      "[Parallel(n_jobs=-1)]: Done  24 tasks      | elapsed:    1.0s\n",
      "[Parallel(n_jobs=-1)]: Done 65544 tasks      | elapsed:    2.5s\n"
     ]
    },
    {
     "name": "stdout",
     "output_type": "stream",
     "text": [
      "CPU times: user 5.43 s, sys: 270 ms, total: 5.7 s\n",
      "Wall time: 8.56 s\n"
     ]
    },
    {
     "name": "stderr",
     "output_type": "stream",
     "text": [
      "[Parallel(n_jobs=-1)]: Done 1000000 out of 1000000 | elapsed:    8.3s finished\n"
     ]
    }
   ],
   "source": [
    "%%time\n",
    "from joblib import Parallel, delayed\n",
    "results = sum(Parallel(n_jobs=-1, verbose=3)(delayed(if_prime)(i) for i in range(1000000)))  # n_jobs = -1 - все потоки"
   ],
   "metadata": {
    "collapsed": false,
    "pycharm": {
     "name": "#%%\n"
    }
   }
  },
  {
   "cell_type": "markdown",
   "source": [
    "## p_tqdm\n"
   ],
   "metadata": {
    "collapsed": false,
    "pycharm": {
     "name": "#%% md\n"
    }
   }
  },
  {
   "cell_type": "code",
   "execution_count": 4,
   "outputs": [
    {
     "data": {
      "text/plain": "  0%|          | 0/1000000 [00:00<?, ?it/s]",
      "application/vnd.jupyter.widget-view+json": {
       "version_major": 2,
       "version_minor": 0,
       "model_id": "16d5008f9764487794cce95effa59e35"
      }
     },
     "metadata": {},
     "output_type": "display_data"
    },
    {
     "name": "stderr",
     "output_type": "stream",
     "text": [
      "Process ForkPoolWorker-4:\n",
      "Process ForkPoolWorker-3:\n",
      "Process ForkPoolWorker-2:\n",
      "Process ForkPoolWorker-1:\n",
      "Traceback (most recent call last):\n",
      "Traceback (most recent call last):\n",
      "Traceback (most recent call last):\n",
      "Traceback (most recent call last):\n",
      "  File \"/Users/iakubovskii/Репетитор/Development/venv/lib/python3.8/site-packages/multiprocess/process.py\", line 315, in _bootstrap\n",
      "    self.run()\n",
      "  File \"/Users/iakubovskii/Репетитор/Development/venv/lib/python3.8/site-packages/multiprocess/process.py\", line 315, in _bootstrap\n",
      "    self.run()\n",
      "  File \"/Users/iakubovskii/Репетитор/Development/venv/lib/python3.8/site-packages/multiprocess/process.py\", line 315, in _bootstrap\n",
      "    self.run()\n",
      "  File \"/Users/iakubovskii/Репетитор/Development/venv/lib/python3.8/site-packages/multiprocess/process.py\", line 315, in _bootstrap\n",
      "    self.run()\n",
      "  File \"/Users/iakubovskii/Репетитор/Development/venv/lib/python3.8/site-packages/multiprocess/process.py\", line 108, in run\n",
      "    self._target(*self._args, **self._kwargs)\n",
      "  File \"/Users/iakubovskii/Репетитор/Development/venv/lib/python3.8/site-packages/multiprocess/process.py\", line 108, in run\n",
      "    self._target(*self._args, **self._kwargs)\n",
      "  File \"/Users/iakubovskii/Репетитор/Development/venv/lib/python3.8/site-packages/multiprocess/process.py\", line 108, in run\n",
      "    self._target(*self._args, **self._kwargs)\n",
      "  File \"/Users/iakubovskii/Репетитор/Development/venv/lib/python3.8/site-packages/multiprocess/process.py\", line 108, in run\n",
      "    self._target(*self._args, **self._kwargs)\n",
      "  File \"/Users/iakubovskii/Репетитор/Development/venv/lib/python3.8/site-packages/multiprocess/pool.py\", line 114, in worker\n",
      "    task = get()\n",
      "  File \"/Users/iakubovskii/Репетитор/Development/venv/lib/python3.8/site-packages/multiprocess/pool.py\", line 114, in worker\n",
      "    task = get()\n",
      "  File \"/Users/iakubovskii/Репетитор/Development/venv/lib/python3.8/site-packages/multiprocess/pool.py\", line 114, in worker\n",
      "    task = get()\n",
      "  File \"/Users/iakubovskii/Репетитор/Development/venv/lib/python3.8/site-packages/multiprocess/pool.py\", line 114, in worker\n",
      "    task = get()\n",
      "  File \"/Users/iakubovskii/Репетитор/Development/venv/lib/python3.8/site-packages/multiprocess/queues.py\", line 358, in get\n",
      "    with self._rlock:\n",
      "  File \"/Users/iakubovskii/Репетитор/Development/venv/lib/python3.8/site-packages/multiprocess/queues.py\", line 358, in get\n",
      "    with self._rlock:\n",
      "  File \"/Users/iakubovskii/Репетитор/Development/venv/lib/python3.8/site-packages/multiprocess/queues.py\", line 358, in get\n",
      "    with self._rlock:\n",
      "  File \"/Users/iakubovskii/Репетитор/Development/venv/lib/python3.8/site-packages/multiprocess/queues.py\", line 359, in get\n",
      "    res = self._reader.recv_bytes()\n",
      "  File \"/Users/iakubovskii/Репетитор/Development/venv/lib/python3.8/site-packages/multiprocess/synchronize.py\", line 101, in __enter__\n",
      "    return self._semlock.__enter__()\n",
      "  File \"/Users/iakubovskii/Репетитор/Development/venv/lib/python3.8/site-packages/multiprocess/synchronize.py\", line 101, in __enter__\n",
      "    return self._semlock.__enter__()\n",
      "  File \"/Users/iakubovskii/Репетитор/Development/venv/lib/python3.8/site-packages/multiprocess/synchronize.py\", line 101, in __enter__\n",
      "    return self._semlock.__enter__()\n",
      "  File \"/Users/iakubovskii/Репетитор/Development/venv/lib/python3.8/site-packages/multiprocess/connection.py\", line 219, in recv_bytes\n",
      "    buf = self._recv_bytes(maxlength)\n",
      "KeyboardInterrupt\n",
      "KeyboardInterrupt\n",
      "KeyboardInterrupt\n",
      "  File \"/Users/iakubovskii/Репетитор/Development/venv/lib/python3.8/site-packages/multiprocess/connection.py\", line 417, in _recv_bytes\n",
      "    buf = self._recv(4)\n",
      "  File \"/Users/iakubovskii/Репетитор/Development/venv/lib/python3.8/site-packages/multiprocess/connection.py\", line 382, in _recv\n",
      "    chunk = read(handle, remaining)\n",
      "KeyboardInterrupt\n"
     ]
    },
    {
     "ename": "KeyboardInterrupt",
     "evalue": "",
     "output_type": "error",
     "traceback": [
      "\u001B[0;31m---------------------------------------------------------------------------\u001B[0m",
      "\u001B[0;31mIndexError\u001B[0m                                Traceback (most recent call last)",
      "\u001B[0;32m~/Репетитор/Development/venv/lib/python3.8/site-packages/multiprocess/pool.py\u001B[0m in \u001B[0;36mnext\u001B[0;34m(self, timeout)\u001B[0m\n\u001B[1;32m    850\u001B[0m             \u001B[0;32mtry\u001B[0m\u001B[0;34m:\u001B[0m\u001B[0;34m\u001B[0m\u001B[0;34m\u001B[0m\u001B[0m\n\u001B[0;32m--> 851\u001B[0;31m                 \u001B[0mitem\u001B[0m \u001B[0;34m=\u001B[0m \u001B[0mself\u001B[0m\u001B[0;34m.\u001B[0m\u001B[0m_items\u001B[0m\u001B[0;34m.\u001B[0m\u001B[0mpopleft\u001B[0m\u001B[0;34m(\u001B[0m\u001B[0;34m)\u001B[0m\u001B[0;34m\u001B[0m\u001B[0;34m\u001B[0m\u001B[0m\n\u001B[0m\u001B[1;32m    852\u001B[0m             \u001B[0;32mexcept\u001B[0m \u001B[0mIndexError\u001B[0m\u001B[0;34m:\u001B[0m\u001B[0;34m\u001B[0m\u001B[0;34m\u001B[0m\u001B[0m\n",
      "\u001B[0;31mIndexError\u001B[0m: pop from an empty deque",
      "\nDuring handling of the above exception, another exception occurred:\n",
      "\u001B[0;31mKeyboardInterrupt\u001B[0m                         Traceback (most recent call last)",
      "\u001B[0;32m<timed exec>\u001B[0m in \u001B[0;36m<module>\u001B[0;34m\u001B[0m\n",
      "\u001B[0;32m~/Репетитор/Development/venv/lib/python3.8/site-packages/p_tqdm/p_tqdm.py\u001B[0m in \u001B[0;36mp_map\u001B[0;34m(function, *iterables, **kwargs)\u001B[0m\n\u001B[1;32m     58\u001B[0m     \u001B[0mordered\u001B[0m \u001B[0;34m=\u001B[0m \u001B[0;32mTrue\u001B[0m\u001B[0;34m\u001B[0m\u001B[0;34m\u001B[0m\u001B[0m\n\u001B[1;32m     59\u001B[0m     \u001B[0mgenerator\u001B[0m \u001B[0;34m=\u001B[0m \u001B[0m_parallel\u001B[0m\u001B[0;34m(\u001B[0m\u001B[0mordered\u001B[0m\u001B[0;34m,\u001B[0m \u001B[0mfunction\u001B[0m\u001B[0;34m,\u001B[0m \u001B[0;34m*\u001B[0m\u001B[0miterables\u001B[0m\u001B[0;34m,\u001B[0m \u001B[0;34m**\u001B[0m\u001B[0mkwargs\u001B[0m\u001B[0;34m)\u001B[0m\u001B[0;34m\u001B[0m\u001B[0;34m\u001B[0m\u001B[0m\n\u001B[0;32m---> 60\u001B[0;31m     \u001B[0mresult\u001B[0m \u001B[0;34m=\u001B[0m \u001B[0mlist\u001B[0m\u001B[0;34m(\u001B[0m\u001B[0mgenerator\u001B[0m\u001B[0;34m)\u001B[0m\u001B[0;34m\u001B[0m\u001B[0;34m\u001B[0m\u001B[0m\n\u001B[0m\u001B[1;32m     61\u001B[0m \u001B[0;34m\u001B[0m\u001B[0m\n\u001B[1;32m     62\u001B[0m     \u001B[0;32mreturn\u001B[0m \u001B[0mresult\u001B[0m\u001B[0;34m\u001B[0m\u001B[0;34m\u001B[0m\u001B[0m\n",
      "\u001B[0;32m~/Репетитор/Development/venv/lib/python3.8/site-packages/p_tqdm/p_tqdm.py\u001B[0m in \u001B[0;36m_parallel\u001B[0;34m(ordered, function, *iterables, **kwargs)\u001B[0m\n\u001B[1;32m     47\u001B[0m     \u001B[0mmap_func\u001B[0m \u001B[0;34m=\u001B[0m \u001B[0mgetattr\u001B[0m\u001B[0;34m(\u001B[0m\u001B[0mpool\u001B[0m\u001B[0;34m,\u001B[0m \u001B[0mmap_type\u001B[0m\u001B[0;34m)\u001B[0m\u001B[0;34m\u001B[0m\u001B[0;34m\u001B[0m\u001B[0m\n\u001B[1;32m     48\u001B[0m \u001B[0;34m\u001B[0m\u001B[0m\n\u001B[0;32m---> 49\u001B[0;31m     \u001B[0;32mfor\u001B[0m \u001B[0mitem\u001B[0m \u001B[0;32min\u001B[0m \u001B[0mtqdm\u001B[0m\u001B[0;34m(\u001B[0m\u001B[0mmap_func\u001B[0m\u001B[0;34m(\u001B[0m\u001B[0mfunction\u001B[0m\u001B[0;34m,\u001B[0m \u001B[0;34m*\u001B[0m\u001B[0miterables\u001B[0m\u001B[0;34m)\u001B[0m\u001B[0;34m,\u001B[0m \u001B[0mtotal\u001B[0m\u001B[0;34m=\u001B[0m\u001B[0mlength\u001B[0m\u001B[0;34m,\u001B[0m \u001B[0;34m**\u001B[0m\u001B[0mkwargs\u001B[0m\u001B[0;34m)\u001B[0m\u001B[0;34m:\u001B[0m\u001B[0;34m\u001B[0m\u001B[0;34m\u001B[0m\u001B[0m\n\u001B[0m\u001B[1;32m     50\u001B[0m         \u001B[0;32myield\u001B[0m \u001B[0mitem\u001B[0m\u001B[0;34m\u001B[0m\u001B[0;34m\u001B[0m\u001B[0m\n\u001B[1;32m     51\u001B[0m \u001B[0;34m\u001B[0m\u001B[0m\n",
      "\u001B[0;32m~/Репетитор/Development/venv/lib/python3.8/site-packages/tqdm/notebook.py\u001B[0m in \u001B[0;36m__iter__\u001B[0;34m(self)\u001B[0m\n\u001B[1;32m    255\u001B[0m     \u001B[0;32mdef\u001B[0m \u001B[0m__iter__\u001B[0m\u001B[0;34m(\u001B[0m\u001B[0mself\u001B[0m\u001B[0;34m)\u001B[0m\u001B[0;34m:\u001B[0m\u001B[0;34m\u001B[0m\u001B[0;34m\u001B[0m\u001B[0m\n\u001B[1;32m    256\u001B[0m         \u001B[0;32mtry\u001B[0m\u001B[0;34m:\u001B[0m\u001B[0;34m\u001B[0m\u001B[0;34m\u001B[0m\u001B[0m\n\u001B[0;32m--> 257\u001B[0;31m             \u001B[0;32mfor\u001B[0m \u001B[0mobj\u001B[0m \u001B[0;32min\u001B[0m \u001B[0msuper\u001B[0m\u001B[0;34m(\u001B[0m\u001B[0mtqdm_notebook\u001B[0m\u001B[0;34m,\u001B[0m \u001B[0mself\u001B[0m\u001B[0;34m)\u001B[0m\u001B[0;34m.\u001B[0m\u001B[0m__iter__\u001B[0m\u001B[0;34m(\u001B[0m\u001B[0;34m)\u001B[0m\u001B[0;34m:\u001B[0m\u001B[0;34m\u001B[0m\u001B[0;34m\u001B[0m\u001B[0m\n\u001B[0m\u001B[1;32m    258\u001B[0m                 \u001B[0;31m# return super(tqdm...) will not catch exception\u001B[0m\u001B[0;34m\u001B[0m\u001B[0;34m\u001B[0m\u001B[0;34m\u001B[0m\u001B[0m\n\u001B[1;32m    259\u001B[0m                 \u001B[0;32myield\u001B[0m \u001B[0mobj\u001B[0m\u001B[0;34m\u001B[0m\u001B[0;34m\u001B[0m\u001B[0m\n",
      "\u001B[0;32m~/Репетитор/Development/venv/lib/python3.8/site-packages/tqdm/std.py\u001B[0m in \u001B[0;36m__iter__\u001B[0;34m(self)\u001B[0m\n\u001B[1;32m   1178\u001B[0m \u001B[0;34m\u001B[0m\u001B[0m\n\u001B[1;32m   1179\u001B[0m         \u001B[0;32mtry\u001B[0m\u001B[0;34m:\u001B[0m\u001B[0;34m\u001B[0m\u001B[0;34m\u001B[0m\u001B[0m\n\u001B[0;32m-> 1180\u001B[0;31m             \u001B[0;32mfor\u001B[0m \u001B[0mobj\u001B[0m \u001B[0;32min\u001B[0m \u001B[0miterable\u001B[0m\u001B[0;34m:\u001B[0m\u001B[0;34m\u001B[0m\u001B[0;34m\u001B[0m\u001B[0m\n\u001B[0m\u001B[1;32m   1181\u001B[0m                 \u001B[0;32myield\u001B[0m \u001B[0mobj\u001B[0m\u001B[0;34m\u001B[0m\u001B[0;34m\u001B[0m\u001B[0m\n\u001B[1;32m   1182\u001B[0m                 \u001B[0;31m# Update and possibly print the progressbar.\u001B[0m\u001B[0;34m\u001B[0m\u001B[0;34m\u001B[0m\u001B[0;34m\u001B[0m\u001B[0m\n",
      "\u001B[0;32m~/Репетитор/Development/venv/lib/python3.8/site-packages/multiprocess/pool.py\u001B[0m in \u001B[0;36mnext\u001B[0;34m(self, timeout)\u001B[0m\n\u001B[1;32m    854\u001B[0m                     \u001B[0mself\u001B[0m\u001B[0;34m.\u001B[0m\u001B[0m_pool\u001B[0m \u001B[0;34m=\u001B[0m \u001B[0;32mNone\u001B[0m\u001B[0;34m\u001B[0m\u001B[0;34m\u001B[0m\u001B[0m\n\u001B[1;32m    855\u001B[0m                     \u001B[0;32mraise\u001B[0m \u001B[0mStopIteration\u001B[0m \u001B[0;32mfrom\u001B[0m \u001B[0;32mNone\u001B[0m\u001B[0;34m\u001B[0m\u001B[0;34m\u001B[0m\u001B[0m\n\u001B[0;32m--> 856\u001B[0;31m                 \u001B[0mself\u001B[0m\u001B[0;34m.\u001B[0m\u001B[0m_cond\u001B[0m\u001B[0;34m.\u001B[0m\u001B[0mwait\u001B[0m\u001B[0;34m(\u001B[0m\u001B[0mtimeout\u001B[0m\u001B[0;34m)\u001B[0m\u001B[0;34m\u001B[0m\u001B[0;34m\u001B[0m\u001B[0m\n\u001B[0m\u001B[1;32m    857\u001B[0m                 \u001B[0;32mtry\u001B[0m\u001B[0;34m:\u001B[0m\u001B[0;34m\u001B[0m\u001B[0;34m\u001B[0m\u001B[0m\n\u001B[1;32m    858\u001B[0m                     \u001B[0mitem\u001B[0m \u001B[0;34m=\u001B[0m \u001B[0mself\u001B[0m\u001B[0;34m.\u001B[0m\u001B[0m_items\u001B[0m\u001B[0;34m.\u001B[0m\u001B[0mpopleft\u001B[0m\u001B[0;34m(\u001B[0m\u001B[0;34m)\u001B[0m\u001B[0;34m\u001B[0m\u001B[0;34m\u001B[0m\u001B[0m\n",
      "\u001B[0;32m/Library/Frameworks/Python.framework/Versions/3.8/lib/python3.8/threading.py\u001B[0m in \u001B[0;36mwait\u001B[0;34m(self, timeout)\u001B[0m\n\u001B[1;32m    300\u001B[0m         \u001B[0;32mtry\u001B[0m\u001B[0;34m:\u001B[0m    \u001B[0;31m# restore state no matter what (e.g., KeyboardInterrupt)\u001B[0m\u001B[0;34m\u001B[0m\u001B[0;34m\u001B[0m\u001B[0m\n\u001B[1;32m    301\u001B[0m             \u001B[0;32mif\u001B[0m \u001B[0mtimeout\u001B[0m \u001B[0;32mis\u001B[0m \u001B[0;32mNone\u001B[0m\u001B[0;34m:\u001B[0m\u001B[0;34m\u001B[0m\u001B[0;34m\u001B[0m\u001B[0m\n\u001B[0;32m--> 302\u001B[0;31m                 \u001B[0mwaiter\u001B[0m\u001B[0;34m.\u001B[0m\u001B[0macquire\u001B[0m\u001B[0;34m(\u001B[0m\u001B[0;34m)\u001B[0m\u001B[0;34m\u001B[0m\u001B[0;34m\u001B[0m\u001B[0m\n\u001B[0m\u001B[1;32m    303\u001B[0m                 \u001B[0mgotit\u001B[0m \u001B[0;34m=\u001B[0m \u001B[0;32mTrue\u001B[0m\u001B[0;34m\u001B[0m\u001B[0;34m\u001B[0m\u001B[0m\n\u001B[1;32m    304\u001B[0m             \u001B[0;32melse\u001B[0m\u001B[0;34m:\u001B[0m\u001B[0;34m\u001B[0m\u001B[0;34m\u001B[0m\u001B[0m\n",
      "\u001B[0;31mKeyboardInterrupt\u001B[0m: "
     ]
    }
   ],
   "source": [
    "%%time\n",
    "from p_tqdm import p_map\n",
    "results = p_map(if_prime, range(int(1e6)))"
   ],
   "metadata": {
    "collapsed": false,
    "pycharm": {
     "name": "#%%\n"
    }
   }
  },
  {
   "cell_type": "markdown",
   "source": [
    "# Ассинхронность\n",
    "\n",
    "https://realpython.com/async-io-python/\n"
   ],
   "metadata": {
    "collapsed": false,
    "pycharm": {
     "name": "#%% md\n"
    }
   }
  },
  {
   "cell_type": "code",
   "execution_count": null,
   "outputs": [],
   "source": [],
   "metadata": {
    "collapsed": false,
    "pycharm": {
     "name": "#%%\n"
    }
   }
  }
 ],
 "metadata": {
  "kernelspec": {
   "display_name": "Python 3",
   "language": "python",
   "name": "python3"
  },
  "language_info": {
   "codemirror_mode": {
    "name": "ipython",
    "version": 2
   },
   "file_extension": ".py",
   "mimetype": "text/x-python",
   "name": "python",
   "nbconvert_exporter": "python",
   "pygments_lexer": "ipython2",
   "version": "2.7.6"
  }
 },
 "nbformat": 4,
 "nbformat_minor": 0
}