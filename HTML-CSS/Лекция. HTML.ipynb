{
 "cells": [
  {
   "cell_type": "markdown",
   "source": [
    "# Основы HTML"
   ],
   "metadata": {
    "collapsed": false,
    "pycharm": {
     "name": "#%% md\n"
    }
   }
  },
  {
   "cell_type": "markdown",
   "metadata": {
    "collapsed": true,
    "pycharm": {
     "name": "#%% md\n"
    }
   },
   "source": [
    "HTML расшифровывается как HyperText Markup Language. Это язык *тэгов*. Пример тэга:\n",
    "```<p>``` Это параграф ```</p>```.\n",
    "Любая веб-страница строится на трех китах:\n",
    "\n",
    "- HTML (структура)\n",
    "- CSS (презентация)\n",
    "- JavaScript (поведение)\n",
    "\n",
    "- PHP, Python, Ruby и т.д. (бэкенд)\n",
    "- CMS (менеждер контента)"
   ]
  },
  {
   "cell_type": "markdown",
   "source": [
    "Структуру HTML-документа можно сравнить с сэндвичем - всегда будет открывающий тэг и закрывающий.\n",
    "```<html>``` Документ ```</html>```. Ниже представлен минимальный набор для создания веб-страницы:\n",
    "\n",
    "```html\n",
    "<!DOCTYPE html>\n",
    "<html lang=\"en\">\n",
    "<head>\n",
    "    <meta charset=\"UTF-8\">\n",
    "    <title>Моя первая HTML страница</title>\n",
    "</head>\n",
    "<body>\n",
    "<p> Это первый параграф </p>\n",
    "</body>\n",
    "</html>\n",
    "```"
   ],
   "metadata": {
    "collapsed": false,
    "pycharm": {
     "name": "#%% md\n"
    }
   }
  },
  {
   "cell_type": "markdown",
   "source": [
    "В HTML есть 6 уровней заголовков:\n",
    "```html\n",
    "<h1>, <h2>, <h3>, <h4>, <h5>, <h6>\n",
    "```\n",
    "Тэг ```<hr>``` используется для создания горизонтальной линии.\n",
    "Аналог комментариев Python ```#``` в HTML - это ```<!-- Ваш коммент здесь --> ```\n",
    "\n",
    "Тэг ```<p> </p>``` используется для создания параграфа.\n",
    "\n",
    "Тэг ```<br />``` используется для создания текста с новой строки внутри параграфа."
   ],
   "metadata": {
    "collapsed": false,
    "pycharm": {
     "name": "#%% md\n"
    }
   }
  },
  {
   "cell_type": "markdown",
   "source": [
    "Форматирование текста в HTML:\n",
    "```html\n",
    "<b> bold text </b> - жирный шрифт\n",
    "<big> big text </big> - большие буквы\n",
    "<i> italic </i> - курсив\n",
    "<small> small </small> - маленькие буквы\n",
    "<sub> subscripted </sub> - буквы в нижнем индексе\n",
    "<sup> supersubscripter </sup> - надстрочные буквы\n",
    "<ins> inserted </ins> - подчеркнутые буквы\n",
    "<del> deleted </del> - зачеркнутые буквы\n",
    "<strong> </strong> - жирный шрифт (важный текст)\n",
    "```"
   ],
   "metadata": {
    "collapsed": false,
    "pycharm": {
     "name": "#%% md\n"
    }
   }
  },
  {
   "cell_type": "markdown",
   "source": [
    "Списки в HTML:\n",
    "```html\n",
    "<ol> - нумерованный список (ordered list)\n",
    "<li> 1 element </li>\n",
    "<li> 2 element </li>\n",
    "</ol>\n",
    "\n",
    "<ul> - ненумерованный список (unordered list)\n",
    "<li> 1 </li>\n",
    "<li> 2 </li>\n",
    "</ul>\n",
    "\n",
    "```"
   ],
   "metadata": {
    "collapsed": false,
    "pycharm": {
     "name": "#%% md\n"
    }
   }
  },
  {
   "cell_type": "markdown",
   "source": [
    "## Аттрибуты\n",
    "\n",
    "Аттрибуты предоставляют дополнительную информацию об элементах и тэгах. Они располагаются внутри тэгов:\n",
    "```html\n",
    "<p align=\"center\">\n",
    "Этот текст выровнен по центру\n",
    "</p>\n",
    "```"
   ],
   "metadata": {
    "collapsed": false,
    "pycharm": {
     "name": "#%% md\n"
    }
   }
  },
  {
   "cell_type": "markdown",
   "source": [
    "Виды атрибутов:\n",
    "```html\n",
    "<hr width=\"50px\" /> - ширина линии в 50 пикселей\n",
    "<hr width=\"50%\" /> - ширина линии в 50%\n",
    "<img src=\"folder1/first_image.png\" /> - вставить картинку с такой директорией\n",
    "<img src=\"first_image.png\" alt=\"\" /> - в атрибуте alt указываем директорию (та же, что и у текущего html-файла)\n",
    "<img src=\"first_image.png\" height=\"150px\" width=\"50%\" /> - указали высоту и ширину рисунка\n",
    "<img src=\"first_image.png\" border\"1px\" /> - указали границу рисунка\n",
    "\n",
    "```"
   ],
   "metadata": {
    "collapsed": false,
    "pycharm": {
     "name": "#%% md\n"
    }
   }
  },
  {
   "cell_type": "markdown",
   "source": [
    "## Таблицы"
   ],
   "metadata": {
    "collapsed": false,
    "pycharm": {
     "name": "#%% md\n"
    }
   }
  },
  {
   "cell_type": "markdown",
   "source": [
    "```html\n",
    "<table border=\"2px\">  - открывающий тэг таблицы, аттрибут border отвечает за размер рамки таблицы\n",
    "   <tr>  - строка таблицы\n",
    "      <td></td>  - столбец таблицы для данной строки\n",
    "      <td></td>\n",
    "      <td></td>\n",
    "   </tr>  - закрывающий тэг строки таблицы\n",
    "</table>\n",
    "```\n",
    "Аттрибуты таблицы:\n",
    "```html\n",
    "colspan - объединение столбцов в один.\n",
    "bgcolor - цвет ячейки\n",
    "```"
   ],
   "metadata": {
    "collapsed": false,
    "pycharm": {
     "name": "#%% md\n"
    }
   }
  },
  {
   "cell_type": "markdown",
   "source": [
    "## Ссылки\n",
    "\n",
    "```html\n",
    "<a href=\"\"> </a> - указываем ссылку на файл или другую веб-страницу\n",
    "```\n",
    "\n",
    "Аттрибуты ссылок:\n",
    "```html\n",
    "target = \"_blank\" - открыть ссылку в новой вкладке\n",
    "```"
   ],
   "metadata": {
    "collapsed": false,
    "pycharm": {
     "name": "#%% md\n"
    }
   }
  },
  {
   "cell_type": "markdown",
   "source": [
    "## Блочные и встроенные элементы\n",
    "\n",
    "Блочные элементы начинаются с новой строки:\n",
    "```html\n",
    "h1, form, li, ol, ul, p, pre, table, div и т.д.\n",
    "```\n",
    "\n",
    "Встроенные элементы нормально отображаются без разрыва строки:\n",
    "```html\n",
    "b, a, strong, img, input, em, span и т.д.\n",
    "```\n",
    "\n",
    "Элемент ```div``` - блочный. Его часто используют как контейнер для других HTML-элементов.\n",
    "\n",
    "Элемент ```span``` - встроенный. Его часто используют как контейнер для текста.\n",
    "\n",
    "Следующие элементы могут быть как блочные, так и встроенные:\n",
    "```html\n",
    "iframe  - вставленный фрейм\n",
    "ins - вставленный текст\n",
    "map - вставленная карта\n",
    "object - объект\n",
    "script - сторонний скрипт\n",
    "```"
   ],
   "metadata": {
    "collapsed": false,
    "pycharm": {
     "name": "#%% md\n"
    }
   }
  },
  {
   "cell_type": "markdown",
   "source": [
    "## Формы\n",
    "\n",
    "```html\n",
    "<form action=\"url\" method=\"GET\">\n",
    "<form action=\"url\" method=\"POST\">\n",
    "```\n",
    "\n",
    "Формы с логином и паролем:\n",
    "```html\n",
    "<form>\n",
    "<input type=\"password\" name=\"my_password\" />  - ввод цифр будет не виден\n",
    "</form>\n",
    "```\n",
    "\n",
    "Формы с выбором из нескольких вариантов:\n",
    "\n",
    "```html\n",
    "<form>\n",
    "<input type=\"radio\" name=\"language\" value=\"Python\" /> Python\n",
    "<input type=\"radio\" name=\"language\" value=\"Ruby\"> Ruby\n",
    "</form>\n",
    "```\n",
    "\n",
    "```html\n",
    "<form>\n",
    "<input type=\"checkbox\" name=\"language\" value=\"Python\" /> Python\n",
    "<input type=\"checkbox\" name=\"language\" value=\"Ruby\"> Ruby\n",
    "</form>\n",
    "```\n",
    "\n",
    "Отправить изменения:\n",
    "```html\n",
    "<form method=\"POST\" action=\"#\">\n",
    "<input type=\"text\" name=\"name\" >\n",
    "<input type=\"submit\" name=\"submit\">\n",
    "</form>\n",
    "```\n"
   ],
   "metadata": {
    "collapsed": false,
    "pycharm": {
     "name": "#%% md\n"
    }
   }
  },
  {
   "cell_type": "markdown",
   "source": [
    "## Цвета в HTML\n",
    "\n",
    "Шестнадцатеричная система счисления:\n",
    "\n",
    "0, 1, 2, 3, 4, 5, 6, 7, 8, 9, A, B, C, D, E, F\n",
    "\n",
    "RGB комбинация цветов.\n",
    "Первые 2 символа обозначают количество красного цвета, третий и четвертый - количество зеленого,\n",
    "а пятый и шестой - количество синего.\n",
    "Например: #FF0000 обозначает красный цвет, где FF означает наличие красного цвета, а 0000 - отсутствие зеленого и синего.\n",
    "Примеры цветов:\n",
    "color=\"#FF0000\" - красный\n",
    "color=\"#00FF00\" - зеленый\n",
    "color=\"#0000FF\" - синий\n",
    "color=\"#000000\" - черный"
   ],
   "metadata": {
    "collapsed": false,
    "pycharm": {
     "name": "#%% md\n"
    }
   }
  },
  {
   "cell_type": "markdown",
   "source": [
    "# HTML5\n",
    "\n",
    "Новые элементы в  HTML5:\n",
    "```html\n",
    "<article>, <aside>, <audio>, <canvas>, <datalist>, <details>, <embed>, <footer>,\n",
    "<header>, <nav>, <output>, <progress>, <section>, <video>\n",
    "и другие\n",
    "```\n",
    "\n",
    "Еще новое в HTML5:\n",
    "\n",
    "Формы\n",
    "- Спецификация Web Forms 2.0 позволяет создавать более мощные формы и более привлекательный пользовательский опыт.\n",
    "- Добавлены элементы выбора даты, цвета и числового шага.\n",
    "- Типы полей ввода теперь включают электронную почту, поиск и URL.\n",
    "- Теперь поддерживаются методы форм PUT и DELETE.\n",
    "\n",
    "Интегрированный API\n",
    "- Аудио и видео\n",
    "- Автономные веб-приложения\n",
    "- История\n",
    "- Локальное хранилище\n",
    "- Геолокация\n",
    "- Веб-сообщения"
   ],
   "metadata": {
    "collapsed": false,
    "pycharm": {
     "name": "#%% md\n"
    }
   }
  },
  {
   "cell_type": "markdown",
   "source": [
    "## Виды контент моделей:\n",
    "- Metadata\n",
    "- Embedded\n",
    "- Interactive\n",
    "- Heading\n",
    "- Phrasing\n",
    "- Flow\n",
    "- Sectioning\n",
    "\n",
    "\n",
    "**Metadata**: Content that sets up the presentation or behavior of the rest of the content. These elements are found in the head of the document.\n",
    "Elements: ```<base>, <link>, <meta>, <noscript>, <script>, <style>, <title>```\n",
    "\n",
    "**Embedded**: Content that imports other resources into the document.\n",
    "Elements: ```<audio>, <video>, <canvas>, <iframe>, <img>, <math>, <object>, <svg>```\n",
    "\n",
    "**Interactive**: Content specifically intended for user interaction.\n",
    "Elements: ```<a>, <audio>, <video>, <button>, <details>, <embed>, <iframe>, <img>, <input>, <label>, <object>, <select>, <textarea>```\n",
    "\n",
    "**Heading**: Defines a section header.\n",
    "Elements: ```<h1>, <h2>, <h3>, <h4>, <h5>, <h6>, <hgroup>```\n",
    "\n",
    "**Phrasing**: This model has a number of inline level elements in common with HTML4.\n",
    "Elements: ```<img>, <span>, <strong>, <label>, <br />, <small>, <sub>``` and more.\n",
    "\n",
    "**Flow content**: Contains the majority of HTML5 elements that would be included in the normal flow of the document.\n",
    "\n",
    "**Sectioning content**: Defines the scope of headings, content, navigation, and footers.\n",
    "Elements: ```<article>, <aside>, <nav>, <section>```"
   ],
   "metadata": {
    "collapsed": false,
    "pycharm": {
     "name": "#%% md\n"
    }
   }
  },
  {
   "cell_type": "markdown",
   "source": [
    "## Структура веб-страницы\n",
    "\n",
    "<img src=\"https://api.sololearn.com/DownloadFile?id=2471\">"
   ],
   "metadata": {
    "collapsed": false,
    "pycharm": {
     "name": "#%% md\n"
    }
   }
  },
  {
   "cell_type": "markdown",
   "source": [
    "## Audio and video\n",
    "\n",
    "```html\n",
    "<audio src=\"http://www.sololearn.com/uploads/audio.mp3\" controls>\n",
    "    Audio element not supported by your browser\n",
    "</audio>\n",
    "```\n",
    "\n",
    "```html\n",
    "<audio controls autoplay loop>\n",
    "    <source src=\"http://www.sololearn.com/uploads/audio.mp3\" type=\"audio/mpeg\">\n",
    "    <source src=\"http://www.sololearn.com/uploads/audio.ogg\" type=\"audio/ogg\">\n",
    "</audio>\n",
    "```\n",
    "\n",
    "```html\n",
    "<video controls>\n",
    "   <source src=\"http://www.sololearn.com/uploads/video.mp4\" type=\"video/mp4\">\n",
    "   <source src=\"http://www.sololearn.com/uploads/video.ogg\" type=\"video/ogg\">\n",
    "   Video is not supported by your browser\n",
    "</video>\n",
    "```"
   ],
   "metadata": {
    "collapsed": false,
    "pycharm": {
     "name": "#%% md\n"
    }
   }
  },
  {
   "cell_type": "markdown",
   "source": [
    "## Формы в HTML5\n",
    "\n",
    "```html\n",
    "<form>\n",
    "    <label>Your name:</label>\n",
    "    <input id=\"user\" name=\"username\" type=\"text\" />\n",
    "</form>\n",
    "```\n",
    "\n",
    "```html\n",
    "<form>\n",
    "    <label for=\"email\">Your e-mail address: </label>\n",
    "    <input type=\"text\" name=\"email\" placeholder=\"email@example.com\" />\n",
    "</form>\n",
    "```\n",
    "\n",
    "В HTML5 добавлен ряд новых input типов:\n",
    "- color\n",
    "- date\n",
    "- datetime\n",
    "- datetime-local\n",
    "- email\n",
    "- month\n",
    "- number\n",
    "- range\n",
    "- search\n",
    "- tel\n",
    "- time\n",
    "- url\n",
    "- week\n",
    "\n",
    "Новые аттрибуты в HTML5:\n",
    "- autofocus\n",
    "- form\n",
    "- formaction\n",
    "- formenctype\n",
    "- formmethod\n",
    "- formnovalidate\n",
    "- formtarget\n",
    "- height and width\n",
    "- list\n",
    "- min and max\n",
    "- multiple\n",
    "- pattern (regexp)\n",
    "- placeholder\n",
    "- required\n",
    "- step"
   ],
   "metadata": {
    "collapsed": false,
    "pycharm": {
     "name": "#%% md\n"
    }
   }
  },
  {
   "cell_type": "code",
   "execution_count": null,
   "outputs": [],
   "source": [],
   "metadata": {
    "collapsed": false,
    "pycharm": {
     "name": "#%%\n"
    }
   }
  }
 ],
 "metadata": {
  "kernelspec": {
   "display_name": "Python 3",
   "language": "python",
   "name": "python3"
  },
  "language_info": {
   "codemirror_mode": {
    "name": "ipython",
    "version": 2
   },
   "file_extension": ".py",
   "mimetype": "text/x-python",
   "name": "python",
   "nbconvert_exporter": "python",
   "pygments_lexer": "ipython2",
   "version": "2.7.6"
  }
 },
 "nbformat": 4,
 "nbformat_minor": 0
}