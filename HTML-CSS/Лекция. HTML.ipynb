{
 "cells": [
  {
   "cell_type": "markdown",
   "source": [
    "# Основы HTML"
   ],
   "metadata": {
    "collapsed": false,
    "pycharm": {
     "name": "#%% md\n"
    }
   }
  },
  {
   "cell_type": "markdown",
   "metadata": {
    "collapsed": true,
    "pycharm": {
     "name": "#%% md\n"
    }
   },
   "source": [
    "HTML расшифровывается как HyperText Markup Language. Это язык *тэгов*. Пример тэга:\n",
    "```<p>``` Это параграф ```</p>```.\n",
    "Любая веб-страница строится на трех китах:\n",
    "\n",
    "- HTML (структура)\n",
    "- CSS (презентация)\n",
    "- JavaScript (поведение)\n",
    "\n",
    "- PHP, Python, Ruby и т.д. (бэкенд)\n",
    "- CMS (менеждер контента)"
   ]
  },
  {
   "cell_type": "markdown",
   "source": [
    "Структуру HTML-документа можно сравнить с сэндвичем - всегда будет открывающий тэг и закрывающий.\n",
    "```<html>``` Документ ```</html>```. Ниже представлен минимальный набор для создания веб-страницы:\n",
    "\n",
    "```html\n",
    "<!DOCTYPE html>\n",
    "<html lang=\"en\">\n",
    "<head>\n",
    "    <meta charset=\"UTF-8\">\n",
    "    <title>Моя первая HTML страница</title>\n",
    "</head>\n",
    "<body>\n",
    "<p> Это первый параграф </p>\n",
    "</body>\n",
    "</html>\n",
    "```"
   ],
   "metadata": {
    "collapsed": false,
    "pycharm": {
     "name": "#%% md\n"
    }
   }
  },
  {
   "cell_type": "markdown",
   "source": [
    "В HTML есть 6 уровней заголовков:\n",
    "```html\n",
    "<h1>, <h2>, <h3>, <h4>, <h5>, <h6>\n",
    "```\n",
    "Тэг ```<hr>``` используется для создания горизонтальной линии.\n",
    "Аналог комментариев Python ```#``` в HTML - это ```<!-- Ваш коммент здесь --> ```\n",
    "\n",
    "Тэг ```<p> </p>``` используется для создания параграфа.\n",
    "\n",
    "Тэг ```<br />``` используется для создания текста с новой строки внутри параграфа."
   ],
   "metadata": {
    "collapsed": false,
    "pycharm": {
     "name": "#%% md\n"
    }
   }
  },
  {
   "cell_type": "markdown",
   "source": [
    "Форматирование текста в HTML:\n",
    "```html\n",
    "<b> bold text </b> - жирный шрифт\n",
    "<big> big text </big> - большие буквы\n",
    "<i> italic </i> - курсив\n",
    "<small> small </small> - маленькие буквы\n",
    "<sub> subscripted </sub> - буквы в нижнем индексе\n",
    "<sup> supersubscripter </sup> - надстрочные буквы\n",
    "<ins> inserted </ins> - подчеркнутые буквы\n",
    "<del> deleted </del> - зачеркнутые буквы\n",
    "<strong> </strong> - жирный шрифт (важный текст)\n",
    "```"
   ],
   "metadata": {
    "collapsed": false,
    "pycharm": {
     "name": "#%% md\n"
    }
   }
  },
  {
   "cell_type": "markdown",
   "source": [
    "Списки в HTML:\n",
    "```html\n",
    "<ol> - нумерованный список (ordered list)\n",
    "<li> 1 element </li>\n",
    "<li> 2 element </li>\n",
    "</ol>\n",
    "\n",
    "<ul> - ненумерованный список (unordered list)\n",
    "<li> 1 </li>\n",
    "<li> 2 </li>\n",
    "</ul>\n",
    "\n",
    "```"
   ],
   "metadata": {
    "collapsed": false,
    "pycharm": {
     "name": "#%% md\n"
    }
   }
  },
  {
   "cell_type": "markdown",
   "source": [
    "# Аттрибуты\n",
    "\n",
    "Аттрибуты предоставляют дополнительную информацию об элементах и тэгах. Они располагаются внутри тэгов:\n",
    "```html\n",
    "<p align=\"center\">\n",
    "Этот текст выровнен по центру\n",
    "</p>\n",
    "```"
   ],
   "metadata": {
    "collapsed": false,
    "pycharm": {
     "name": "#%% md\n"
    }
   }
  },
  {
   "cell_type": "markdown",
   "source": [
    "Виды атрибутов:\n",
    "```html\n",
    "<hr width=\"50px\" /> - ширина линии в 50 пикселей\n",
    "<hr width=\"50%\" /> - ширина линии в 50%\n",
    "<img src=\"folder1/first_image.png\" /> - вставить картинку с такой директорией\n",
    "<img src=\"first_image.png\" alt=\"\" /> - в атрибуте alt указываем директорию (та же, что и у текущего html-файла)\n",
    "<img src=\"first_image.png\" height=\"150px\" width=\"50%\" /> - указали высоту и ширину рисунка\n",
    "<img src=\"first_image.png\" border\"1px\" /> - указали границу рисунка\n",
    "\n",
    "```"
   ],
   "metadata": {
    "collapsed": false,
    "pycharm": {
     "name": "#%% md\n"
    }
   }
  },
  {
   "cell_type": "code",
   "execution_count": null,
   "outputs": [],
   "source": [],
   "metadata": {
    "collapsed": false,
    "pycharm": {
     "name": "#%%\n"
    }
   }
  }
 ],
 "metadata": {
  "kernelspec": {
   "display_name": "Python 3",
   "language": "python",
   "name": "python3"
  },
  "language_info": {
   "codemirror_mode": {
    "name": "ipython",
    "version": 2
   },
   "file_extension": ".py",
   "mimetype": "text/x-python",
   "name": "python",
   "nbconvert_exporter": "python",
   "pygments_lexer": "ipython2",
   "version": "2.7.6"
  }
 },
 "nbformat": 4,
 "nbformat_minor": 0
}