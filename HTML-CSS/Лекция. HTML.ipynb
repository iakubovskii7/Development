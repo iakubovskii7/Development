{
 "cells": [
  {
   "cell_type": "markdown",
   "source": [
    "# Основы HTML"
   ],
   "metadata": {
    "collapsed": false,
    "pycharm": {
     "name": "#%% md\n"
    }
   }
  },
  {
   "cell_type": "markdown",
   "metadata": {
    "collapsed": true,
    "pycharm": {
     "name": "#%% md\n"
    }
   },
   "source": [
    "HTML расшифровывается как HyperText Markup Language. Это язык *тэгов*. Пример тэга:\n",
    "```<p>``` Это параграф ```</p>```.\n",
    "Любая веб-страница строится на трех китах:\n",
    "\n",
    "- HTML (структура)\n",
    "- CSS (презентация)\n",
    "- JavaScript (поведение)\n",
    "\n",
    "- PHP, Python, Ruby и т.д. (бэкенд)\n",
    "- CMS (менеждер контента)"
   ]
  },
  {
   "cell_type": "markdown",
   "source": [
    "Структуру HTML-документа можно сравнить с сэндвичем - всегда будет открывающий тэг и закрывающий.\n",
    "```<html>``` Документ ```</html>```. Ниже представлен минимальный набор для создания веб-страницы:\n",
    "\n",
    "```html\n",
    "<!DOCTYPE html>\n",
    "<html lang=\"en\">\n",
    "<head>\n",
    "    <meta charset=\"UTF-8\">\n",
    "    <title>Моя первая HTML страница</title>\n",
    "</head>\n",
    "<body>\n",
    "<p> Это первый параграф </p>\n",
    "</body>\n",
    "</html>\n",
    "```"
   ],
   "metadata": {
    "collapsed": false,
    "pycharm": {
     "name": "#%% md\n"
    }
   }
  },
  {
   "cell_type": "markdown",
   "source": [
    "В HTML есть 6 уровней заголовков:\n",
    "```html\n",
    "<h1>, <h2>, <h3>, <h4>, <h5>, <h6>\n",
    "```\n",
    "Тэг ```<hr>``` используется для создания горизонтальной линии.\n",
    "Аналог комментариев Python ```#``` в HTML - это ```<!-- Ваш коммент здесь --> ```\n",
    "\n",
    "Тэг ```<p> </p>``` используется для создания параграфа.\n",
    "\n",
    "Тэг ```<br />``` используется для создания текста с новой строки внутри параграфа."
   ],
   "metadata": {
    "collapsed": false,
    "pycharm": {
     "name": "#%% md\n"
    }
   }
  },
  {
   "cell_type": "markdown",
   "source": [
    "Форматирование текста в HTML:\n",
    "```html\n",
    "<b> bold text </b> - жирный шрифт\n",
    "<big> big text </big> - большие буквы\n",
    "<i> italic </i> - курсив\n",
    "<small> small </small> - маленькие буквы\n",
    "<sub> subscripted </sub> - буквы в нижнем индексе\n",
    "<sup> supersubscripter </sup> - надстрочные буквы\n",
    "<ins> inserted </ins> - подчеркнутые буквы\n",
    "<del> deleted </del> - зачеркнутые буквы\n",
    "<strong> </strong> - жирный шрифт (важный текст)\n",
    "```"
   ],
   "metadata": {
    "collapsed": false,
    "pycharm": {
     "name": "#%% md\n"
    }
   }
  },
  {
   "cell_type": "markdown",
   "source": [
    "Списки в HTML:\n",
    "```html\n",
    "<ol> - нумерованный список (ordered list)\n",
    "<li> 1 element </li>\n",
    "<li> 2 element </li>\n",
    "</ol>\n",
    "\n",
    "<ul> - ненумерованный список (unordered list)\n",
    "<li> 1 </li>\n",
    "<li> 2 </li>\n",
    "</ul>\n",
    "\n",
    "```"
   ],
   "metadata": {
    "collapsed": false,
    "pycharm": {
     "name": "#%% md\n"
    }
   }
  },
  {
   "cell_type": "markdown",
   "source": [
    "## Аттрибуты\n",
    "\n",
    "Аттрибуты предоставляют дополнительную информацию об элементах и тэгах. Они располагаются внутри тэгов:\n",
    "```html\n",
    "<p align=\"center\">\n",
    "Этот текст выровнен по центру\n",
    "</p>\n",
    "```"
   ],
   "metadata": {
    "collapsed": false,
    "pycharm": {
     "name": "#%% md\n"
    }
   }
  },
  {
   "cell_type": "markdown",
   "source": [
    "Виды атрибутов:\n",
    "```html\n",
    "<hr width=\"50px\" /> - ширина линии в 50 пикселей\n",
    "<hr width=\"50%\" /> - ширина линии в 50%\n",
    "<img src=\"folder1/first_image.png\" /> - вставить картинку с такой директорией\n",
    "<img src=\"first_image.png\" alt=\"\" /> - в атрибуте alt указываем директорию (та же, что и у текущего html-файла)\n",
    "<img src=\"first_image.png\" height=\"150px\" width=\"50%\" /> - указали высоту и ширину рисунка\n",
    "<img src=\"first_image.png\" border\"1px\" /> - указали границу рисунка\n",
    "\n",
    "```"
   ],
   "metadata": {
    "collapsed": false,
    "pycharm": {
     "name": "#%% md\n"
    }
   }
  },
  {
   "cell_type": "markdown",
   "source": [
    "## Таблицы"
   ],
   "metadata": {
    "collapsed": false,
    "pycharm": {
     "name": "#%% md\n"
    }
   }
  },
  {
   "cell_type": "markdown",
   "source": [
    "```html\n",
    "<table border=\"2px\">  - открывающий тэг таблицы, аттрибут border отвечает за размер рамки таблицы\n",
    "   <tr>  - строка таблицы\n",
    "      <td></td>  - столбец таблицы для данной строки\n",
    "      <td></td>\n",
    "      <td></td>\n",
    "   </tr>  - закрывающий тэг строки таблицы\n",
    "</table>\n",
    "```\n",
    "Аттрибуты таблицы:\n",
    "```html\n",
    "colspan - объединение столбцов в один.\n",
    "bgcolor - цвет ячейки\n",
    "```"
   ],
   "metadata": {
    "collapsed": false,
    "pycharm": {
     "name": "#%% md\n"
    }
   }
  },
  {
   "cell_type": "markdown",
   "source": [
    "## Ссылки\n",
    "\n",
    "```html\n",
    "<a href=\"\"> </a> - указываем ссылку на файл или другую веб-страницу\n",
    "```\n",
    "\n",
    "Аттрибуты ссылок:\n",
    "```html\n",
    "target = \"_blank\" - открыть ссылку в новой вкладке\n",
    "```"
   ],
   "metadata": {
    "collapsed": false,
    "pycharm": {
     "name": "#%% md\n"
    }
   }
  },
  {
   "cell_type": "markdown",
   "source": [
    "## Блочные и встроенные элементы\n",
    "\n",
    "Блочные элементы начинаются с новой строки:\n",
    "```html\n",
    "h1, form, li, ol, ul, p, pre, table, div и т.д.\n",
    "```\n",
    "\n",
    "Встроенные элементы нормально отображаются без разрыва строки:\n",
    "```html\n",
    "b, a, strong, img, input, em, span и т.д.\n",
    "```\n",
    "\n",
    "Элемент ```div``` - блочный. Его часто используют как контейнер для других HTML-элементов.\n",
    "\n",
    "Элемент ```span``` - встроенный. Его часто используют как контейнер для текста.\n",
    "\n",
    "Следующие элементы могут быть как блочные, так и встроенные:\n",
    "```html\n",
    "iframe  - вставленный фрейм\n",
    "ins - вставленный текст\n",
    "map - вставленная карта\n",
    "object - объект\n",
    "script - сторонний скрипт\n",
    "```"
   ],
   "metadata": {
    "collapsed": false,
    "pycharm": {
     "name": "#%% md\n"
    }
   }
  },
  {
   "cell_type": "markdown",
   "source": [
    "## Формы\n",
    "\n",
    "```html\n",
    "<form action=\"url\" method=\"GET\">\n",
    "<form action=\"url\" method=\"POST\">\n",
    "```\n",
    "\n",
    "Формы с логином и паролем:\n",
    "```html\n",
    "<form>\n",
    "<input type=\"password\" name=\"my_password\" />  - ввод цифр будет не виден\n",
    "</form>\n",
    "```\n",
    "\n",
    "Формы с выбором из нескольких вариантов:\n",
    "\n",
    "```html\n",
    "<form>\n",
    "<input type=\"radio\" name=\"language\" value=\"Python\" /> Python\n",
    "<input type=\"radio\" name=\"language\" value=\"Ruby\"> Ruby\n",
    "</form>\n",
    "```\n",
    "\n",
    "```html\n",
    "<form>\n",
    "<input type=\"checkbox\" name=\"language\" value=\"Python\" /> Python\n",
    "<input type=\"checkbox\" name=\"language\" value=\"Ruby\"> Ruby\n",
    "</form>\n",
    "```\n",
    "\n",
    "Отправить изменения:\n",
    "```html\n",
    "<form method=\"POST\" action=\"#\">\n",
    "<input type=\"text\" name=\"name\" >\n",
    "<input type=\"submit\" name=\"submit\">\n",
    "</form>\n",
    "```\n"
   ],
   "metadata": {
    "collapsed": false,
    "pycharm": {
     "name": "#%% md\n"
    }
   }
  },
  {
   "cell_type": "markdown",
   "source": [
    "## Цвета в HTML\n",
    "\n",
    "Шестнадцатеричная система счисления:\n",
    "\n",
    "0, 1, 2, 3, 4, 5, 6, 7, 8, 9, A, B, C, D, E, F\n",
    "\n",
    "RGB комбинация цветов.\n",
    "Первые 2 символа обозначают количество красного цвета, третий и четвертый - количество зеленого,\n",
    "а пятый и шестой - количество синего.\n",
    "Например: #FF0000 обозначает красный цвет, где FF означает наличие красного цвета, а 0000 - отсутствие зеленого и синего.\n",
    "Примеры цветов:\n",
    "color=\"#FF0000\" - красный\n",
    "color=\"#00FF00\" - зеленый\n",
    "color=\"#0000FF\" - синий\n",
    "color=\"#000000\" - черный"
   ],
   "metadata": {
    "collapsed": false,
    "pycharm": {
     "name": "#%% md\n"
    }
   }
  },
  {
   "cell_type": "markdown",
   "source": [
    "# HTML5"
   ],
   "metadata": {
    "collapsed": false,
    "pycharm": {
     "name": "#%% md\n"
    }
   }
  },
  {
   "cell_type": "code",
   "execution_count": null,
   "outputs": [],
   "source": [],
   "metadata": {
    "collapsed": false,
    "pycharm": {
     "name": "#%%\n"
    }
   }
  }
 ],
 "metadata": {
  "kernelspec": {
   "display_name": "Python 3",
   "language": "python",
   "name": "python3"
  },
  "language_info": {
   "codemirror_mode": {
    "name": "ipython",
    "version": 2
   },
   "file_extension": ".py",
   "mimetype": "text/x-python",
   "name": "python",
   "nbconvert_exporter": "python",
   "pygments_lexer": "ipython2",
   "version": "2.7.6"
  }
 },
 "nbformat": 4,
 "nbformat_minor": 0
}