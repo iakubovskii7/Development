{
 "cells": [
  {
   "cell_type": "markdown",
   "metadata": {},
   "source": [
    "# 1. HTML structure"
   ]
  },
  {
   "cell_type": "markdown",
   "source": [
    "HTML stands for HyperText Markup Language.\n",
    "\n",
    "Unlike a scripting or programming language that uses scripts to perform functions, a markup language uses tags to identify content.\n",
    "\n",
    "**The Web Structure**\n",
    "\n",
    "The ability to code using HTML is essential for any web professional. Acquiring this skill should be the starting point for anyone who is learning how to create content for the web.\n",
    "\n",
    "Modern Web Design\n",
    "HTML: Structure\n",
    "CSS: Presentation\n",
    "JavaScript: Behavior\n",
    "\n",
    "PHP or similar: Backend\n",
    "CMS: Content Management\n"
   ],
   "metadata": {
    "collapsed": false
   }
  },
  {
   "cell_type": "markdown",
   "metadata": {},
   "source": [
    "# 2. Regular expressions"
   ]
  },
  {
   "cell_type": "markdown",
   "metadata": {},
   "source": [
    "https://regex101.com/\n"
   ]
  },
  {
   "cell_type": "markdown",
   "metadata": {},
   "source": [
    "## 2.1 Main methods\n",
    "\n",
    "https://tproger.ru/translations/regular-expression-python/\n",
    "\n",
    "https://habr.com/ru/post/349860/?utm_source=habrahabr&utm_medium=rss&utm_campaign=349860\n"
   ]
  },
  {
   "cell_type": "code",
   "execution_count": null,
   "outputs": [],
   "source": [],
   "metadata": {
    "collapsed": false,
    "pycharm": {
     "name": "#%%\n"
    }
   }
  },
  {
   "cell_type": "markdown",
   "metadata": {},
   "source": [
    "- re.match(pattern, string) - find according to pattern at the begining of the line \n",
    "\n",
    "- re.search(pattern, string) - almost the same but not only for start position in line; finds across all line but returns ONLY first matching\n",
    "\n",
    "- re.findall(pattern, string) - return ALL matching across line with list\n",
    "\n",
    "- re.split(pattern, string, maxsplit=0) - split line according to pattern\n",
    "\n",
    "- re.sub(pattern, repl, string) - find pattern1 and replace according to repl\n",
    "\n",
    "- re.compile(pattern, repl, string) - comprise regular expression in one object and use for another methods "
   ]
  },
  {
   "cell_type": "code",
   "execution_count": 18,
   "metadata": {
    "scrolled": true
   },
   "outputs": [
    {
     "name": "stdout",
     "output_type": "stream",
     "text": [
      "<re.Match object; span=(0, 2), match='AV'>\n",
      "AV\n",
      "None\n",
      "0\n",
      "2\n",
      "Analytics\n",
      "['AV', 'AV']\n",
      "['Anal', 'tics']\n",
      "['Analyt', 'cs Vidhya']\n",
      "['Analyt', 'cs V', 'dhya']\n",
      "AV is largest Analytics community of the World\n",
      "['AV', 'AV']\n",
      "['AV']\n"
     ]
    }
   ],
   "source": [
    "import re\n",
    "## re.match\n",
    "result_true = re.match(r'AV', 'AV Analytics Vidhya AV')\n",
    "print(result_true)\n",
    "print(result_true.group(0))\n",
    "\n",
    "result_false = re.match(r'Analytics', 'AV Analytics Vidhya AV')\n",
    "print(result_false)\n",
    "\n",
    "# Start position\n",
    "print(result_true.start())\n",
    "# End position\n",
    "print(result_true.end())\n",
    "\n",
    "## re.search\n",
    "result_search = re.search(r'Analytics', 'AV Analytics Vidhya AV')\n",
    "print(result_search.group(0))\n",
    "\n",
    "## re.findall \n",
    "result_all = re.findall(r'AV', 'AV Analytics Vidhya AV')\n",
    "print(result_all)\n",
    "\n",
    "## re.split [maxsplit=0]\n",
    "result_split = re.split(r'y', 'Analytics')\n",
    "print(result_split)\n",
    "\n",
    "result_split_1 = re.split(r'i', 'Analytics Vidhya', maxsplit=1)\n",
    "print(result_split_1)\n",
    "\n",
    "\n",
    "result_split_2 = re.split(r'i', 'Analytics Vidhya', maxsplit=2)\n",
    "print(result_split_2)\n",
    "## re.sub\n",
    "result_sub = re.sub(r'India', \n",
    "                    'the World', \n",
    "                    'AV is largest Analytics community of India')\n",
    "print(result_sub)\n",
    "## re.compile\n",
    "pattern = re.compile('AV')\n",
    "result_compile1 = pattern.findall('AV Analytics Vidhya AV')\n",
    "print(result_compile1)\n",
    "result_compile2 = pattern.findall('AV is largest analytics community of India')\n",
    "print(result_compile2)"
   ]
  },
  {
   "cell_type": "markdown",
   "metadata": {},
   "source": [
    "## 2.2 Ways to create pattern"
   ]
  },
  {
   "cell_type": "markdown",
   "metadata": {},
   "source": [
    "### 2.2.0 Flags modifiers"
   ]
  },
  {
   "cell_type": "markdown",
   "metadata": {},
   "source": [
    "- g - Global\n",
    "\n",
    "Tells the engine not to stop after the first match has been found, but rather to continue until no more matches can be found.\n",
    "\n",
    "- m - Multiline\n",
    "\n",
    "The ^ and $ anchors now match at the beginning/end of each line respectively, instead of beginning/end of the entire string.\n",
    "\n",
    "- i - Case insentive\n",
    "\n",
    "A case insensitive match is performed, meaning capital letters will be matched by non-capital letters and vice versa.\n",
    "\n",
    "- x - ignore whitespace \n",
    "\n",
    "This flag tells the engine to ignore all whitespace and allow for comments in the regex. Comments are indicated by a starting \"#\"-character. If you need to include a space character in your regex, it must now be escaped '\\ '.\n",
    "\n",
    "- s - single line\n",
    "\n",
    "This enables the dot (.) metacharacter to also match new lines. The string could be visualised as a single line input.\n",
    "\n",
    "- u - enable unicode support\n",
    "- a - restrict matches to ASCII only "
   ]
  },
  {
   "cell_type": "markdown",
   "metadata": {},
   "source": [
    "### 2.2.1 General tokens"
   ]
  },
  {
   "cell_type": "markdown",
   "metadata": {},
   "source": [
    "- \\n - Matches a newline character\n",
    "\n",
    "- \\r - Matches a carriage return character, unicode character 2185.\n",
    "\n",
    "- \\t - Matches a tab character. Historically, tab stops happen every 8 characters.\n",
    "\n",
    "- \\0 - Matches a null character, most often visually represented in unicode using U+2400."
   ]
  },
  {
   "cell_type": "markdown",
   "metadata": {},
   "source": [
    "### 2.2.2 Character classes"
   ]
  },
  {
   "cell_type": "code",
   "execution_count": 28,
   "metadata": {},
   "outputs": [
    {
     "name": "stdout",
     "output_type": "stream",
     "text": [
      "['a', 'a']\n",
      "['l', 'p', 'h']\n",
      "['a', 'l', 'p', 'h', 'a']\n",
      "['1', '2', '3', '1', '4']\n",
      "['a', 'l', 'p', 'h', 'a', 'A', 'L', 'P', 'H', 'A']\n"
     ]
    }
   ],
   "source": [
    "# [abc] - Matches either an a, b or c character\n",
    "print(re.findall(r\"[abc]\", \"alpha\"))\n",
    "\n",
    "# [^abc] - Matches any character except for an a, b or c\n",
    "print(re.findall(r\"[^abc]\", \"alpha\"))\n",
    "\n",
    "# [a-z] Matches any characters between a and z, including a and z.\n",
    "print(re.findall(r\"[a-z]\", \"alpha12314\"))\n",
    "\n",
    "# [^a-z] Matches any characters except those in the range a-z.\n",
    "print(re.findall(r\"[^a-z]\", \"alpha12314\"))\n",
    "\n",
    "# [a-zA-Z] Matches any characters between a-z or A-Z. \n",
    "#You can combine as much as you please.\n",
    "print(re.findall(r\"[a-zA-Z]\", \"alpha12314ALPHA\"))"
   ]
  },
  {
   "cell_type": "markdown",
   "metadata": {},
   "source": [
    "### 2.2.3 Anchors"
   ]
  },
  {
   "cell_type": "code",
   "execution_count": 108,
   "metadata": {},
   "outputs": [
    {
     "name": "stdout",
     "output_type": "stream",
     "text": [
      "['alpha 123']\n",
      "[' end']\n",
      "['X']\n",
      "['y', 'u', 'u', 'y', 'y']\n",
      "['start']\n",
      "['string']\n"
     ]
    }
   ],
   "source": [
    "# ^ Matches the start of a string without consuming any characters. \n",
    "#If multiline mode is used, this will also match immediately \n",
    "#after a newline character.\n",
    "print(re.findall(r\"^alpha 123\", \"alpha 12314 ALPHA\\-/ aaaaaaaa\"))\n",
    "\n",
    "# $ - Matches the end of a string without consuming any characters. \n",
    "#If multiline mode is used, this will also match immediately \n",
    "#before a newline character.\n",
    "print(re.findall(r\" end$\", \"alpha 12314 ALPHA\\-/ end\"))\n",
    "\n",
    "# \\b - word boundary\n",
    "print(re.findall(r\"\\b[Xyu]\", \"Xyuxuyyj\"))\n",
    "\n",
    "# \\B - non-word boundary\n",
    "print(re.findall(r\"\\B[Xyu]\", \"Xyuxuyyj\"))\n",
    "\n",
    "# \\A - Matches the start of a string only. \n",
    "#Unlike ^, this is not affected by multiline mode.\n",
    "print(re.findall(r\"\\A\\w+\", \"start of string\"))\n",
    "\n",
    "# \\Z - Matches the end of a string only. \n",
    "#Unlike $, this is not affected by multiline mode.\n",
    "print(re.findall(r\"\\w+\\Z\", \"start of string\"))\n"
   ]
  },
  {
   "cell_type": "markdown",
   "metadata": {},
   "source": [
    "### 2.2.4 Quntifiers"
   ]
  },
  {
   "cell_type": "code",
   "execution_count": 144,
   "metadata": {},
   "outputs": [
    {
     "name": "stdout",
     "output_type": "stream",
     "text": [
      "['a', '', '', '', 'a', '', '', '', '', '', '', '', '', '', '', '', '', '', '', '', '', 'a', 'a', 'a', 'a', '']\n",
      "['a', '', '', '', 'a', '', '', '', '', '', '', '', '', '', '', '', '', '', '', '', '', 'aaaaaaaa', '']\n",
      "['', 'r', '', '', 'r', '', 'e', '', '', 'r', '', 'e', '', 'g', '', 'e', '', 'x', '']\n",
      "['a', 'a', 'aaaaaaaa']\n",
      "['aaa', 'aaa']\n",
      "['aaaaaaaa']\n",
      "['aaaaaa']\n"
     ]
    }
   ],
   "source": [
    "# a? - Matches an `a` character or nothing.\n",
    "print(re.findall(r\"a?\", \"alpha 12314 ALPHA\\-/ aaaa\"))\n",
    "\n",
    "# a* - Matches zero or more consecutive `a` characters.\n",
    "print(re.findall(r\"a*\", \"alpha 12314 ALPHA\\-/ aaaaaaaa\"))\n",
    "\n",
    "# a*? - Matches as few characters as possible.\n",
    "\n",
    "print(re.findall(r\"\\w*?\", \"r re regex\"))\n",
    "\n",
    "# a+ - Matches one or more consecutive `a` characters.\n",
    "print(re.findall(r\"a+\", \"alpha 12314 ALPHA\\-/ aaaaaaaa\"))\n",
    "\n",
    "# a{3} - Matches exactly 3 consecutive `a` characters.\n",
    "print(re.findall(r\"a{3}\", \"alpha 12314 ALPHA\\-/ aaaaaaaa\"))\n",
    "\n",
    "# a{3,} - Matches at least 3 consecutive `a` characters.\n",
    "print(re.findall(r\"a{3,}\", \"alpha 12314 ALPHA\\-/ aaaaaaaa\"))\n",
    "\n",
    "# a{3,6} - Matches between 3 and 6 (inclusive) consecutive `a` characters.\n",
    "print(re.findall(r\"a{3,6}\", \"alpha 12314 ALPHA\\-/ aaaaaaaa\"))"
   ]
  },
  {
   "cell_type": "markdown",
   "metadata": {},
   "source": [
    "### 2.2.5 Meta sequences"
   ]
  },
  {
   "cell_type": "code",
   "execution_count": 143,
   "metadata": {},
   "outputs": [
    {
     "name": "stdout",
     "output_type": "stream",
     "text": [
      "['a', 'l', 'p', 'h', 'a', '1', '2', '3', '1', '4', 'A', 'L', 'P', 'H', 'A']\n",
      "[' ', ' ']\n",
      "['a', 'l', 'p', 'h', 'a', '1', '2', '3', '1', '4', 'A', 'L', 'P', 'H', 'A']\n",
      "['1', '2', '3', '1', '4']\n",
      "['a', 'l', 'p', 'h', 'a', ' ', ' ', 'A', 'L', 'P', 'H', 'A']\n",
      "['a', 'l', 'p', 'h', 'a', '1', '2', '3', '1', '4', 'A', 'L', 'P', 'H', 'A']\n",
      "[' ', ' ', '\\\\', '-', '/']\n",
      "[]\n",
      "[]\n"
     ]
    }
   ],
   "source": [
    "# . - Matches any character other than newline (or including newline with the /s flag)\n",
    "print(re.findall(r\".\", \"alpha12314ALPHA\"))\n",
    "\n",
    "# \\s - Matches any space, tab or newline character.\n",
    "print(re.findall(r\"\\s\", \"alpha 12314 ALPHA\"))\n",
    "\n",
    "# \\S - Matches anything other than a space, tab or newline.\n",
    "print(re.findall(r\"\\S\", \"alpha 12314 ALPHA\"))\n",
    "\n",
    "# \\d - Matches any decimal digit. Equivalent to [0-9].\n",
    "print(re.findall(r\"\\d\", \"alpha 12314 ALPHA\"))\n",
    "\n",
    "# \\D - Matches anything other than a decimal digit.\n",
    "print(re.findall(r\"\\D\", \"alpha 12314 ALPHA\"))\n",
    "\n",
    "# \\w - Matches any letter, digit or underscore. Equivalent to [a-zA-Z0-9_].\n",
    "print(re.findall(r\"\\w\", \"alpha 12314 ALPHA-/-\"))\n",
    "\n",
    "# \\W - Matches anything other than a letter, digit or underscore.\n",
    "print(re.findall(r\"\\W\", \"alpha 12314 ALPHA\\-/\"))\n",
    "\n",
    "# \\v - Matches newlines and vertical tabs. Works with Unicode. \n",
    "#Vertical tabs can be inserted in some word processors using CMD/CTRL+ENTER.\n",
    "print(re.findall(r\"line one \\n \\n\", \"(\\v)\")) # I dont know correct example\n",
    "\n",
    "# [\\b] - Matches the backspace control character.\n",
    "print(re.findall(r\"[\\b]\", \"fsgfsdf\\\\sdgsgds\\\\\")) # I dont know correct example\n"
   ]
  },
  {
   "cell_type": "markdown",
   "metadata": {},
   "source": [
    "### 2.2.6 Group constructs"
   ]
  },
  {
   "cell_type": "code",
   "execution_count": 30,
   "metadata": {},
   "outputs": [
    {
     "name": "stdout",
     "output_type": "stream",
     "text": [
      "['12+']\n",
      "['alpha 12', ' ALPHA\\\\-/']\n",
      "['hehe', 'he', 'he']\n",
      "['Not']\n",
      "['Sally']\n",
      "['cool']\n",
      "['foo']\n",
      "['foo']\n"
     ]
    }
   ],
   "source": [
    "# (...) - Parts of the regex enclosed in parentheses may be referred \n",
    "#to later in the expression or extracted from the results of a successful match.\n",
    "print(re.findall(r\"alpha\\s(...)\", \"alpha 12+14 ALPHA\\-/\"))\n",
    "\n",
    "# (a|b) - Matches the a or the b part of the subexpression.\n",
    "print(re.findall(r\"(alpha...| ALPHA...)\", \"alpha 12314 ALPHA\\-/\"))\n",
    "\n",
    "# (?:...) - This construct is similar to (...), but won't create a capture group.\n",
    "print(re.findall(r\"(?:he)+\", \"heheh he heh\"))\n",
    "\n",
    "# (?#...) - Any text appearing in this group is ignored in the regex. \n",
    "#Another option is enabling the x flag to allow #comments. \n",
    "#This flag will also cause regex to ignore spaces.\n",
    "print(re.findall(r\"Not(?# .* <-- that should match all)\",\n",
    "                \"Nothing else matches.\"))\n",
    "\n",
    "# (?P<name>...) - This capturing group can be referred to using the given name \n",
    "#instead of a number. Alternative notation for (?<name>...) and (?'name'...) \n",
    "#when using a PCRE flavor.\n",
    "print(re.findall(r\"(?P<name>Sally)\", \"Call me Sally.\"))\n",
    "\n",
    "# (?P=name) - Matches the text matched by a previously named capture group. \n",
    "#This is the python specific notation.\n",
    "print(re.findall(r\"(?P<named_group>cool)[a-z ]+(?P=named_group)\", \n",
    "                 \"cool is cool\"))\n",
    "\n",
    "# (?!...) - Starting at the current position in the expression, \n",
    "#ensures that the given pattern will not match. Does not consume characters.\n",
    "print(re.findall(r\"foo(?!bar)\", \n",
    "                 \"foobar foobaz\"))\n",
    "\n",
    "#(?=...) - Asserts that the given subpattern can be matched here, \n",
    "#without consuming characters\n",
    "\n",
    "print(re.findall(r\"foo(?=bar)\", \"foobar foobaz\"))\n"
   ]
  },
  {
   "cell_type": "markdown",
   "metadata": {},
   "source": [
    "# 3. Requests and BeautifulSoup"
   ]
  },
  {
   "cell_type": "code",
   "execution_count": 3,
   "metadata": {},
   "outputs": [],
   "source": [
    "from bs4 import BeautifulSoup # for extracting data from web pages\n",
    "import re # for regular expressions\n",
    "import requests # get access to web page info\n",
    "def get_html(url):\n",
    "    ''' This function takes URL and return content '''\n",
    "    r = requests.get(url)\n",
    "    return(r.content)\n",
    "url = \"https://www.avito.ru/moskva\"\n",
    "bs = BeautifulSoup(get_html(url))\n",
    "# https://www.crummy.com/software/BeautifulSoup/bs4/doc/"
   ]
  },
  {
   "cell_type": "markdown",
   "metadata": {},
   "source": [
    "## 3.1 Navigate across web pages"
   ]
  },
  {
   "cell_type": "code",
   "execution_count": 8,
   "metadata": {
    "scrolled": true
   },
   "outputs": [
    {
     "name": "stdout",
     "output_type": "stream",
     "text": [
      "<title>Авито — объявления в Москве — Объявления на сайте Авито</title>\n",
      "title\n",
      "Авито — объявления в Москве — Объявления на сайте Авито\n",
      "head\n"
     ]
    }
   ],
   "source": [
    "print(bs.title)\n",
    "print(bs.title.name)\n",
    "print(bs.title.string)\n",
    "print(bs.title.parent.name)"
   ]
  },
  {
   "cell_type": "code",
   "execution_count": 35,
   "metadata": {},
   "outputs": [
    {
     "data": {
      "text/plain": [
       "'Авито — объявления в\\xa0Москве — Объявления на\\xa0сайте Авито'"
      ]
     },
     "execution_count": 35,
     "metadata": {},
     "output_type": "execute_result"
    }
   ],
   "source": [
    "bs.title.text"
   ]
  },
  {
   "cell_type": "code",
   "execution_count": 14,
   "metadata": {},
   "outputs": [
    {
     "name": "stdout",
     "output_type": "stream",
     "text": [
      "<p class=\"sendout-banner-note-1nFyo\">Вы сразу узнаете, если придёт сообщение, появится новое предложение в избранном или кто-то купит ваш товар с доставкой.</p>\n",
      "['sendout-banner-note-1nFyo']\n",
      "<a class=\"link-link-39EVK link-design-default-2sPEv top-banner-action-KNoaa\" data-marker=\"title\" href=\"/dostavka/bezopasnost\" rel=\"noopener\" target=\"_blank\" title=\"советы о безопасных сделках\">советы о безопасных сделках</a>\n"
     ]
    }
   ],
   "source": [
    "print(bs.p)\n",
    "print(bs.p['class'])\n",
    "print(bs.a)"
   ]
  },
  {
   "cell_type": "code",
   "execution_count": 17,
   "metadata": {},
   "outputs": [
    {
     "data": {
      "text/plain": [
       "[<a class=\"header-link-nCPL_ header-nav-link-3yDcQ\" href=\"/business\" rel=\"\" target=\"\" title=\"\">Для бизнеса</a>]"
      ]
     },
     "execution_count": 17,
     "metadata": {},
     "output_type": "execute_result"
    }
   ],
   "source": [
    "bs.find_all('a')[1].parent()"
   ]
  },
  {
   "cell_type": "code",
   "execution_count": 17,
   "metadata": {},
   "outputs": [
    {
     "data": {
      "text/plain": [
       "<a class=\"header-link-nCPL_ header-nav-link-3yDcQ\" href=\"/business\" rel=\"\" target=\"\" title=\"\">Для бизнеса</a>"
      ]
     },
     "execution_count": 17,
     "metadata": {},
     "output_type": "execute_result"
    }
   ],
   "source": [
    "bs.find(class_=\"header-link-nCPL_ header-nav-link-3yDcQ\")"
   ]
  },
  {
   "cell_type": "code",
   "execution_count": null,
   "metadata": {},
   "outputs": [],
   "source": [
    "# Find with tag name\n",
    "bs.find(lambda tag: tag.name == \"tr\" and \"Статус\" in tag.text)"
   ]
  },
  {
   "cell_type": "code",
   "execution_count": 1,
   "metadata": {},
   "outputs": [],
   "source": [
    "# .find_all()\n",
    "\n",
    "# .parent\n",
    "# .find_parent()\n",
    "\n",
    "# .parents\n",
    "# .find_parents()\n",
    "\n",
    "# .find_next_sibling()\n",
    "# .find_previous_sibling()"
   ]
  },
  {
   "cell_type": "code",
   "execution_count": null,
   "metadata": {},
   "outputs": [],
   "source": [
    "salary = soup.find_all('div', text=re.compile('\\d{1,9}'))"
   ]
  },
  {
   "cell_type": "markdown",
   "metadata": {},
   "source": [
    "## 3.2 Extracting data"
   ]
  },
  {
   "cell_type": "code",
   "execution_count": 18,
   "metadata": {},
   "outputs": [
    {
     "name": "stdout",
     "output_type": "stream",
     "text": [
      "/dostavka/bezopasnost\n",
      "/business\n",
      "/moskva\n",
      "/shops/moskva\n",
      "//support.avito.ru\n",
      "/favorites\n",
      "#login?authsrc=h\n",
      "#login?next=%2Fadditem&authsrc=ca\n",
      "None\n",
      "/moskva/transport?cd=1\n",
      "/moskva/nedvizhimost?cd=1\n",
      "/moskva/rabota?cd=1\n",
      "/moskva/predlozheniya_uslug?cd=1\n",
      "None\n",
      "/moskva/lichnye_veschi\n",
      "/moskva/transport\n",
      "/moskva/hobbi_i_otdyh\n",
      "/moskva/dlya_doma_i_dachi\n",
      "/moskva/bytovaya_elektronika\n",
      "/moskva/rabota\n",
      "/moskva/predlozheniya_uslug\n",
      "/moskva/nedvizhimost\n",
      "/moskva/dlya_biznesa\n",
      "/moskva/zhivotnye\n",
      "/moskva/mebel_i_interer/krovat_iz_metalla_pod_matras_2000h1800mm_1047406539\n",
      "/moskva/mebel_i_interer/krovat_iz_metalla_pod_matras_2000h1800mm_1047406539\n",
      "/moskva/odezhda_obuv_aksessuary/mayka_top_goluboy_1764910737\n",
      "/moskva/odezhda_obuv_aksessuary/mayka_top_goluboy_1764910737\n",
      "/moskva/avtomobili/chevrolet_niva_2004_1964103712\n",
      "/moskva/avtomobili/chevrolet_niva_2004_1964103712\n",
      "/moskva/avtomobili/mercedes-benz_cls-klass_2013_1824402064\n",
      "/moskva/avtomobili/mercedes-benz_cls-klass_2013_1824402064\n",
      "/moskva/odezhda_obuv_aksessuary/plaschi_1975161713\n",
      "/moskva/odezhda_obuv_aksessuary/plaschi_1975161713\n",
      "/moskva/vakansii/barista_2030536725\n",
      "/moskva/vakansii/barista_2030536725\n",
      "/moskva/ohota_i_rybalka/palatka_kub_2037387208\n",
      "/moskva/ohota_i_rybalka/palatka_kub_2037387208\n",
      "/moskva/rasteniya/buket_tsvetov_1974519588\n",
      "/moskva/rasteniya/buket_tsvetov_1974519588\n",
      "/moskva/nastolnye_kompyutery/kompyutery_s_monitorom_i_klaviaturoy_myshkoy_2017098757\n",
      "/moskva/nastolnye_kompyutery/kompyutery_s_monitorom_i_klaviaturoy_myshkoy_2017098757\n",
      "/moskva/chasy_i_ukrasheniya/chasy_vostok_-_yubileynyy_50_let_chchz_1884813252\n",
      "/moskva/chasy_i_ukrasheniya/chasy_vostok_-_yubileynyy_50_let_chchz_1884813252\n",
      "/moskva/sport_i_otdyh/kupalnik_dlya_hudozhestvennoy_gimnastiki_rost_145_1099081849\n",
      "/moskva/sport_i_otdyh/kupalnik_dlya_hudozhestvennoy_gimnastiki_rost_145_1099081849\n",
      "/moskva/odezhda_obuv_aksessuary/korotkoe_palto_kurtka_1804808200\n",
      "/moskva/odezhda_obuv_aksessuary/korotkoe_palto_kurtka_1804808200\n",
      "/moskva_zelenograd/avtomobili/toyota_land_cruiser_1998_2039828962\n",
      "/moskva_zelenograd/avtomobili/toyota_land_cruiser_1998_2039828962\n",
      "/moskva/detskaya_odezhda_i_obuv/botinki_1964962924\n",
      "/moskva/detskaya_odezhda_i_obuv/botinki_1964962924\n",
      "/moskva/avtomobili/volkswagen_tiguan_2011_1995988221\n",
      "/moskva/avtomobili/volkswagen_tiguan_2011_1995988221\n",
      "/moskva/odezhda_obuv_aksessuary/bryuki_dlya_snouborda_muzhskie_burton_1881870138\n",
      "/moskva/odezhda_obuv_aksessuary/bryuki_dlya_snouborda_muzhskie_burton_1881870138\n",
      "/moskva/tovary_dlya_zhivotnyh/korm_lechebnyy_animonda_dlya_koshek_pri_mkb_1899934205\n",
      "/moskva/tovary_dlya_zhivotnyh/korm_lechebnyy_animonda_dlya_koshek_pri_mkb_1899934205\n",
      "/moskva/avtomobili/suzuki_grand_vitara_2013_2029220652\n",
      "/moskva/avtomobili/suzuki_grand_vitara_2013_2029220652\n",
      "/moskva/bytovaya_tehnika/shveynaya_mashinka_ruchnaya_pmz_665525180\n",
      "/moskva/bytovaya_tehnika/shveynaya_mashinka_ruchnaya_pmz_665525180\n",
      "/moskva/avtomobili/mitsubishi_lancer_2011_1996139430\n",
      "/moskva/avtomobili/mitsubishi_lancer_2011_1996139430\n",
      "/moskva/mebel_i_interer/kuhnya_2020483520\n",
      "/moskva/mebel_i_interer/kuhnya_2020483520\n",
      "/moskva/bytovaya_tehnika/generator_suhogo_tumana_2045166849\n",
      "/moskva/bytovaya_tehnika/generator_suhogo_tumana_2045166849\n",
      "/moskva/detskaya_odezhda_i_obuv/shkolnaya_forma_dlya_malchika_r._128_1979262474\n",
      "/moskva/detskaya_odezhda_i_obuv/shkolnaya_forma_dlya_malchika_r._128_1979262474\n",
      "/moskva/kvartiry/3-k_kvartira_110_m_79_et._2014999546\n",
      "/moskva/kvartiry/3-k_kvartira_110_m_79_et._2014999546\n",
      "/moskva/knigi_i_zhurnaly/zhurnal_mirovaya_aviatsiya_1207572904\n",
      "/moskva/knigi_i_zhurnaly/zhurnal_mirovaya_aviatsiya_1207572904\n",
      "/moskva/odezhda_obuv_aksessuary/shuba_norkovaya_1831494530\n",
      "/moskva/odezhda_obuv_aksessuary/shuba_norkovaya_1831494530\n",
      "/moskva/tovary_dlya_detey_i_igrushki/krovatka-lyulka_chicco_next2me_1905482124\n",
      "/moskva/tovary_dlya_detey_i_igrushki/krovatka-lyulka_chicco_next2me_1905482124\n",
      "/moskva/audio_i_video/prodaetsya_televizor_1982854430\n",
      "/moskva/audio_i_video/prodaetsya_televizor_1982854430\n",
      "/moskva/bytovaya_tehnika/zalivnoy_shlang_dlya_posudomoechnoy_mashiny_whirlpool_1977494972\n",
      "/moskva/bytovaya_tehnika/zalivnoy_shlang_dlya_posudomoechnoy_mashiny_whirlpool_1977494972\n",
      "/moskva/transport?cd=1\n",
      "/moskva/avtomobili?cd=1\n",
      "/moskva/mototsikly_i_mototehnika?cd=1\n",
      "/moskva/gruzoviki_i_spetstehnika?cd=1\n",
      "/moskva/vodnyy_transport?cd=1\n",
      "/moskva/zapchasti_i_aksessuary?cd=1\n",
      "/moskva/bytovaya_elektronika?cd=1\n",
      "/moskva/audio_i_video?cd=1\n",
      "/moskva/igry_pristavki_i_programmy?cd=1\n",
      "/moskva/nastolnye_kompyutery?cd=1\n",
      "/moskva/noutbuki?cd=1\n",
      "/moskva/orgtehnika_i_rashodniki?cd=1\n",
      "/moskva/planshety_i_elektronnye_knigi?cd=1\n",
      "/moskva/telefony?cd=1\n",
      "/moskva/tovary_dlya_kompyutera?cd=1\n",
      "/moskva/fototehnika?cd=1\n",
      "/moskva/nedvizhimost?cd=1\n",
      "/moskva/kvartiry?cd=1\n",
      "/moskva/komnaty?cd=1\n",
      "/moskva/doma_dachi_kottedzhi?cd=1\n",
      "/moskva/zemelnye_uchastki?cd=1\n",
      "/moskva/garazhi_i_mashinomesta?cd=1\n",
      "/moskva/kommercheskaya_nedvizhimost?cd=1\n",
      "/moskva/nedvizhimost_za_rubezhom?cd=1\n",
      "/moskva/hobbi_i_otdyh?cd=1\n",
      "/moskva/bilety_i_puteshestviya?cd=1\n",
      "/moskva/velosipedy?cd=1\n",
      "/moskva/knigi_i_zhurnaly?cd=1\n",
      "/moskva/kollektsionirovanie?cd=1\n",
      "/moskva/muzykalnye_instrumenty?cd=1\n",
      "/moskva/ohota_i_rybalka?cd=1\n",
      "/moskva/sport_i_otdyh?cd=1\n",
      "/moskva/rabota?cd=1\n",
      "/moskva/vakansii?cd=1\n",
      "/moskva/rezume?cd=1\n",
      "/moskva/dlya_doma_i_dachi?cd=1\n",
      "/moskva/bytovaya_tehnika?cd=1\n",
      "/moskva/mebel_i_interer?cd=1\n",
      "/moskva/posuda_i_tovary_dlya_kuhni?cd=1\n",
      "/moskva/produkty_pitaniya?cd=1\n",
      "/moskva/remont_i_stroitelstvo?cd=1\n",
      "/moskva/rasteniya?cd=1\n",
      "/moskva/dlya_biznesa?cd=1\n",
      "/moskva/gotoviy_biznes?cd=1\n",
      "/moskva/oborudovanie_dlya_biznesa?cd=1\n",
      "/moskva/predlozheniya_uslug?cd=1\n",
      "/moskva/zhivotnye?cd=1\n",
      "/moskva/sobaki?cd=1\n",
      "/moskva/koshki?cd=1\n",
      "/moskva/ptitsy?cd=1\n",
      "/moskva/akvarium?cd=1\n",
      "/moskva/drugie_zhivotnye?cd=1\n",
      "/moskva/tovary_dlya_zhivotnyh?cd=1\n",
      "/moskva/lichnye_veschi?cd=1\n",
      "/moskva/odezhda_obuv_aksessuary?cd=1\n",
      "/moskva/detskaya_odezhda_i_obuv?cd=1\n",
      "/moskva/tovary_dlya_detey_i_igrushki?cd=1\n",
      "/moskva/chasy_i_ukrasheniya?cd=1\n",
      "/moskva/krasota_i_zdorove?cd=1\n",
      "https://app.adjust.com/jgyb4k\n",
      "https://app.adjust.com/fhivt8\n",
      "https://vk.com/avito\n",
      "https://ok.ru/avito\n",
      "https://www.facebook.com/avito.ru\n",
      "https://www.youtube.com/user/avitotv\n",
      "https://twitter.com/avito\n",
      "https://instagram.com/avito\n",
      "https://t.me/avito\n",
      "\n",
      "https://support.avito.ru/articles/200026948\n",
      "/safety/personal/company\n",
      "/additem\n",
      "/\n",
      "/shops\n",
      "https://support.avito.ru\n",
      "/safety\n",
      "/reklama/advertising\n",
      "/company\n",
      "/company/job\n"
     ]
    }
   ],
   "source": [
    "# URLs found within a page’s according to tag\n",
    "for link in bs.find_all('a'):\n",
    "    print(link.get('href'))"
   ]
  },
  {
   "cell_type": "code",
   "execution_count": 19,
   "metadata": {},
   "outputs": [
    {
     "name": "stdout",
     "output_type": "stream",
     "text": [
      "  \n",
      "\n",
      "\n",
      "  Авито — объявления в Москве — Объявления на сайте Авито\n",
      "\n",
      "\n",
      "\n",
      "\n",
      "\n",
      "\n",
      "\n",
      "\n",
      " \n",
      "\n",
      "\n",
      "\n",
      " \n",
      " \n",
      "\n",
      "\n",
      "\n",
      "\n",
      "\n",
      "\n",
      "\n",
      "\n",
      "\n",
      "\n",
      "\n",
      "\n",
      "\n",
      "\n",
      "\n",
      "\n",
      "\n",
      " \n",
      "  \n",
      "\n",
      "Не дайте себя обмануть — почитайтесоветы о безопасных сделкахДля бизнесаОбъявленияМагазиныПомощьВход и регистрацияПодать объявлениеtimingАвтоНедвижимостьРаботаУслугиещёЛюбая категорияТранспортАвтомобилиМотоциклы и мототехникаГрузовики и спецтехникаВодный транспортЗапчасти и аксессуарыНедвижимостьКвартирыКомнатыДома, дачи, коттеджиЗемельные участкиГаражи и машиноместаКоммерческая недвижимостьНедвижимость за рубежомРаботаВакансииРезюмеУслугиЛичные вещиОдежда, обувь, аксессуарыДетская одежда и обувьТовары для детей и игрушкиЧасы и украшенияКрасота и здоровьеДля дома и дачиБытовая техникаМебель и интерьерПосуда и товары для кухниПродукты питанияРемонт и строительствоРастенияБытовая электроникаАудио и видеоИгры, приставки и программыНастольные компьютерыНоутбукиОргтехника и расходникиПланшеты и электронные книгиТелефоныТовары для компьютераФототехникаХобби и отдыхБилеты и путешествияВелосипедыКниги и журналыКоллекционированиеМузыкальные инструментыОхота и рыбалкаСпорт и отдыхЖивотныеСобакиКошкиПтицыАквариумДругие животныеТовары для животныхГотовый бизнес и оборудованиеГотовый бизнесОборудование для бизнесаНайтитолько в названияхтолько с фотоМоскваРадиус / Метро / РайонВсе объявления в Москве 12,658,447Личные вещи 5,304,252Транспорт 3,399,841Хобби и отдых 1,259,361Для дома и дачи 1,078,508Бытовая электроника 824,105Работа 297,345Услуги 169,247Недвижимость 167,711Готовый бизнес и оборудование 84,082Животные 73,995\n",
      "     \n",
      "     \n",
      "     \n",
      "\n",
      "Ссылки — это опасноУзнайте правду об автоЧто узнать на собесе­дованииДержите данные в тайнеОбщайтесь только на АвитоПервый заработокКак найти новую работуМинус 10% на авто в кредитТовары для школыЧто спросить у продавцаИпотека под 6,5%Рекомендации для васКровать из металла под матрас 2000х1800мм17 000 ₽Москва, ТропаревоСегодня 20:16Майка топ голубой260 ₽Москва, ОреховоСегодня 20:22Chevrolet Niva, 2004195 000 ₽Москва, ВолоколамскаяСегодня 19:41Mercedes-Benz CLS-класс, 20131 700 000 ₽Москва, МолодежнаяСегодня 18:42Плащи6 000 ₽Москва, Площадь революцииСегодня 20:15Бариста39 000 ₽Москва, Красные воротаСегодня 20:01Палатка куб16 500 ₽Москва, ПеровоСегодня 20:07Букет Цветов1 490 ₽Москва, ЩелковскаяСегодня 20:12Компьютеры с монитором и клавиатурой мышкой8 999 ₽Москва, КиевскаяСегодня 20:11Часы Восток - юбилейный (50 лет ччз)9 000 ₽Москва, ВыставочнаяСегодня 20:20Купальник для художественной гимнастики рост 14515 000 ₽Москва, БеломорскаяСегодня 20:13Короткое пальто + куртка1 000 ₽Москва, КомсомольскаяСегодня 20:29Toyota Land Cruiser, 1998650 000 ₽ЗеленоградСегодня 19:47Ботинки1 000 ₽Москва, ДмитровскаяСегодня 20:12Volkswagen Tiguan, 2011737 000 ₽Москва, ВолоколамскаяСегодня 19:45Брюки для сноуборда мужские burton2 800 ₽Москва, ВДНХСегодня 20:15Корм лечебный animonda для кошек при мкб560 ₽Москва, Ломоносовский проспектСегодня 20:12Suzuki Grand Vitara, 2013890 000 ₽Москва, ЮжнаяСегодня 20:12Швейная машинка (ручная) пмз5 000 ₽Москва, ДмитровскаяСегодня 20:10Mitsubishi Lancer, 2011545 000 ₽Москва, ВолоколамскаяСегодня 19:45Кухня20 000 ₽Москва, Улица ДмитриевскогоСегодня 20:10Генератор сухого тумана7 000 ₽Москва, ДомодедовскаяСегодня 20:30Школьная форма для мальчика, р. 1282 500 ₽Москва, ЯсеневоСегодня 20:283-к квартира, 110 м², 7/9 эт.120 000 ₽ в месяцМосква, УниверситетСегодня 20:06Журнал Мировая авиация20 000 ₽Москва, КузьминкиСегодня 20:29Шуба норковая24 999 ₽Москва, БауманскаяСегодня 20:10Кроватка-люлька Chicco Next2Me3 500 ₽Москва, МарьиноСегодня 20:13Продаётся телевизор1 000 ₽Москва, ДубровкаСегодня 20:13Заливной шланг для посудомоечной машины Whirlpool2 000 ₽Москва, Бульвар РокоссовскогоСегодня 20:14ТранспортАвтомобилиМотоциклы и мототехникаГрузовики и спецтехникаВодный транспортЗапчасти и аксессуарыБытовая электроникаАудио и видеоИгры, приставки и программыНастольные компьютерыНоутбукиОргтехника и расходникиПланшеты и электронные книгиТелефоныТовары для компьютераФототехникаНедвижимостьКвартирыКомнатыДома, дачи, коттеджиЗемельные участкиГаражи и машиноместаКоммерческая недвижимостьНедвижимость за рубежомХобби и отдыхБилеты и путешествияВелосипедыКниги и журналыКоллекционированиеМузыкальные инструментыОхота и рыбалкаСпорт и отдыхРаботаВакансииРезюмеДля дома и дачиБытовая техникаМебель и интерьерПосуда и товары для кухниПродукты питанияРемонт и строительствоРастенияГотовый бизнес и оборудованиеГотовый бизнесОборудование для бизнесаУслугиЖивотныеСобакиКошкиПтицыАквариумДругие животныеТовары для животныхЛичные вещиОдежда, обувь, аксессуарыДетская одежда и обувьТовары для детей и игрушкиЧасы и украшенияКрасота и здоровьеЗагрузите приложение АвитоВы сразу узнаете, если придёт сообщение, появится новое предложение в избранном или кто-то купит ваш товар с доставкой.ВОКFYTTInsTGАвито — сайт объявлений . © ООО «КЕХ еКоммерц» 2007–2020. Условия использования Авито Политика о данных пользователей Разместить объявлениеОбъявленияМагазиныПомощьБезопасностьРеклама на сайтеО компанииКарьера\n",
      "  \n",
      "\n",
      "  \n",
      "\n",
      "  \n",
      " \n",
      "\n",
      "   \n",
      "     \n",
      "\n",
      "\n",
      "\n",
      " \n",
      "\n",
      "\n",
      "\n",
      "\n",
      "\n",
      "\n",
      "\n",
      "\n",
      "\n",
      "\n",
      "\n",
      "\n",
      "\n",
      "\n",
      "\n",
      "\n",
      "\n",
      "\n",
      "\n",
      "\n",
      "\n",
      "\n",
      "\n",
      "\n",
      "\n",
      "\n",
      "\n",
      "\n",
      "\n",
      " \n",
      "\n"
     ]
    }
   ],
   "source": [
    "# Text from a page\n",
    "print(bs.get_text())"
   ]
  },
  {
   "cell_type": "code",
   "execution_count": null,
   "metadata": {},
   "outputs": [],
   "source": [
    "# !pip3 install newspaper3k\n",
    "from newspaper import Article\n",
    "article = Article(\"https://www.rbc.ru/spb_sz/21/10/2020/5f9044cb9a79474426d4d5c9\")\n",
    "article.download()\n",
    "article.parse()\n",
    "article.text.replace(\"\\n\\n\",\" \")"
   ]
  },
  {
   "cell_type": "markdown",
   "source": [
    "Inspired by requests for its simplicity and powered by lxml for its speed:\n",
    "\n",
    "https://pypi.org/project/newspaper3k/"
   ],
   "metadata": {
    "collapsed": false,
    "pycharm": {
     "name": "#%% md\n"
    }
   }
  },
  {
   "cell_type": "markdown",
   "metadata": {},
   "source": [
    "# 4. Selenium "
   ]
  },
  {
   "cell_type": "markdown",
   "metadata": {},
   "source": [
    "## 4.0 Getting started\n",
    "\n",
    "Here we will use Gooogle Chrome as brower to automate parsing becase we are shure it's the fastest and simplest way to do it.\n",
    "\n",
    "First of all, you should download and unpack chromedriver which is compatible with your chrome version. https://chromedriver.chromium.org/\n",
    "\n",
    "Full documentation of selenium:\n",
    "\n",
    "https://selenium-python.readthedocs.io/"
   ]
  },
  {
   "cell_type": "code",
   "execution_count": 43,
   "metadata": {},
   "outputs": [],
   "source": [
    "#!pip install selenium\n",
    "from selenium import webdriver\n",
    "# Chrome driver path\n",
    "chrome_driver_path = \"/Users/iakubovskii/PythonR/anaconda3/chromedriver\"\n",
    "driver = webdriver.Chrome(executable_path = chrome_driver_path)\n",
    "href = \"https://www.google.ru/\"\n",
    "driver.get(href)"
   ]
  },
  {
   "cell_type": "code",
   "execution_count": 4,
   "metadata": {},
   "outputs": [
    {
     "data": {
      "text/plain": [
       "{'a': [1, 2, 3], 'b': [3, 2]}"
      ]
     },
     "execution_count": 4,
     "metadata": {},
     "output_type": "execute_result"
    }
   ],
   "source": [
    "{'a': [1,2,3], \n",
    "     'b': [3,2]\n",
    "     }"
   ]
  },
  {
   "cell_type": "code",
   "execution_count": 46,
   "metadata": {},
   "outputs": [],
   "source": [
    "driver.find_element_by_xpath('//*[@id=\"tsf\"]/div[2]/div[1]/div[3]/center/input[2]').click()"
   ]
  },
  {
   "cell_type": "code",
   "execution_count": 48,
   "metadata": {},
   "outputs": [],
   "source": [
    "driver.find_element_by_xpath('//*[@id=\"tsf\"]/div[2]/div[1]/div[1]/div/div[2]/input').clear()"
   ]
  },
  {
   "cell_type": "code",
   "execution_count": 50,
   "metadata": {},
   "outputs": [],
   "source": [
    "driver.forward()"
   ]
  },
  {
   "cell_type": "markdown",
   "metadata": {},
   "source": [
    "## 4.1 Browser options"
   ]
  },
  {
   "cell_type": "code",
   "execution_count": 44,
   "metadata": {},
   "outputs": [],
   "source": [
    "# Main options of Google Chrome\n",
    "\n",
    "from selenium.webdriver.chrome.options import Options"
   ]
  },
  {
   "cell_type": "markdown",
   "metadata": {},
   "source": [
    "## 4.2 Key methods in selenium"
   ]
  },
  {
   "cell_type": "code",
   "execution_count": 51,
   "metadata": {},
   "outputs": [],
   "source": [
    "# Find elements\n",
    "\n",
    "# element = driver.find_element_by_id(\"passwd-id\")\n",
    "# element = driver.find_element_by_name(\"passwd\")\n",
    "# element = driver.find_element_by_xpath(\"//input[@id='passwd-id']\")\n",
    "# element = driver.find_element_by_class_name(\"//input[@id='passwd-id']\")\n",
    "\n",
    "# All methods\n",
    "\n",
    "# find_element_by_id\n",
    "# find_element_by_name\n",
    "# find_element_by_xpath\n",
    "# find_element_by_link_text\n",
    "# find_element_by_partial_link_text\n",
    "# find_element_by_tag_name\n",
    "# find_element_by_class_name\n",
    "# find_element_by_css_selector\n",
    "\n",
    "# Methods\n",
    "\n",
    "# element.click() # click element\n",
    "# element.clear() # clear text to element\n",
    "# element.send_keys(\"some text\") # send text to element\n",
    "\n",
    "# Imitating Back and forward command in browser\n",
    "\n",
    "# driver.forward()\n",
    "# driver.back()\n",
    "\n",
    "# Imitating Keys\n",
    "\n",
    "from selenium.webdriver.common.keys import Keys\n",
    "# Keys.ADD\n",
    "# Keys.ARROW_DOWN, Keys.ARROW_LEFT, Keys.ARROW_UP, Keys.ARROW_RIGHT\n",
    "# Keys.BACKSPACE\n",
    "# Keys.ENTER\n",
    "#...........You can get all keys with tab after Keys.\n",
    "\n",
    "\n"
   ]
  },
  {
   "cell_type": "markdown",
   "metadata": {},
   "source": [
    "## 4.3 Select elements\n",
    "\n",
    "One of the main goal of using selenium - to select any elements in websites"
   ]
  },
  {
   "cell_type": "code",
   "execution_count": 53,
   "metadata": {},
   "outputs": [],
   "source": [
    "from selenium.webdriver.support.ui import Select\n",
    "\n",
    "# Select element\n",
    "# select = Select(driver.find_element_by_name('name'))\n",
    "\n",
    "# Methods\n",
    "# select.select_by_index(index)\n",
    "# select.select_by_visible_text(\"text\")\n",
    "# select.select_by_value(value)\n",
    "\n"
   ]
  },
  {
   "cell_type": "markdown",
   "metadata": {},
   "source": [
    "## 4.4 Moving between windows, frames and popups"
   ]
  },
  {
   "cell_type": "code",
   "execution_count": null,
   "metadata": {},
   "outputs": [],
   "source": [
    "# driver.window_handles - show all opening pages\n",
    "\n",
    "# Other pages\n",
    "# driver.switch_to_window(\"windowName\")\n",
    "# Other frame\n",
    "# driver.switch_to_frame(\"frameName\")\n",
    "# Popup\n",
    "# driver.switch_to.alert"
   ]
  },
  {
   "cell_type": "code",
   "execution_count": null,
   "metadata": {},
   "outputs": [],
   "source": [
    "# Back to pages\n",
    "# driver.execute_script(\"window.history.go(-1)\")\n",
    "# Maximize window \n",
    "# driver.maximize_window()\n",
    "# driver.execute_script(\"window.resizeTo(1920,1080)\")\n",
    "\n"
   ]
  },
  {
   "cell_type": "markdown",
   "metadata": {},
   "source": [
    "## 4.5 Exceptions, waits"
   ]
  },
  {
   "cell_type": "code",
   "execution_count": null,
   "metadata": {},
   "outputs": [],
   "source": [
    "from selenium.webdriver.support.ui import WebDriverWait\n",
    "from selenium.webdriver.support import expected_conditions as EC\n",
    "from selenium.webdriver.common.by import By"
   ]
  },
  {
   "cell_type": "markdown",
   "metadata": {},
   "source": [
    "## 4.6 XPATH structure"
   ]
  },
  {
   "cell_type": "code",
   "execution_count": null,
   "metadata": {},
   "outputs": [],
   "source": [
    "# driver.find_element_by_xpath(\"//input[@id='passwd-id']\")\n",
    "# ..//ignore previous structure\n",
    "# input - needed tag at the begining of the row\n",
    "# [everything after input]\n",
    "# @type of element\n",
    "# 'name_element'\n",
    "\n",
    "# Select element by text via xpath\n",
    "# browser.find_element_by_xpath(\"//div[text()='Smth_text']\")"
   ]
  },
  {
   "cell_type": "markdown",
   "metadata": {},
   "source": [
    "## 4.9 Solutions of general problem in selenium"
   ]
  },
  {
   "cell_type": "markdown",
   "metadata": {},
   "source": [
    "# 5. User Agent & Proxy  "
   ]
  },
  {
   "cell_type": "code",
   "execution_count": null,
   "metadata": {},
   "outputs": [],
   "source": [
    "info = requests.get(\"https://www.alta.ru/tam/\" + post + \"/\",\n",
    "                    headers={\"User-Agent\": generate_user_agent()},\n",
    "                    proxies={\"http\": proxy})"
   ]
  },
  {
   "cell_type": "code",
   "execution_count": 19,
   "metadata": {},
   "outputs": [],
   "source": [
    "'''\n",
    "На момент разработки текущие версии:\n",
    "Python - version 3.8.3\n",
    "Selenium - version 3.141.0\n",
    "Tor - version Tor-Browser 4.0\n",
    "Chrome - version Версия 86.0.4240.75 (Официальная сборка), (64 бит)\n",
    "\n",
    "Запуск браузера в функции login использует TOR для открытия его через chrome\n",
    "это позволяет избежать вообще какой либо волокиты с ip-маскарадом\n",
    "https://tor.en.uptodown.com/windows/versions\n",
    "'''\n",
    "\n",
    "from selenium import webdriver\n",
    "from selenium.webdriver.support.ui import Select\n",
    "from selenium.webdriver.common.keys import Keys\n",
    "from selenium.webdriver.support import expected_conditions as EC\n",
    "from selenium.webdriver.support.ui import WebDriverWait\n",
    "from selenium.webdriver.common.by import By\n",
    "from selenium.common.exceptions import StaleElementReferenceException\n",
    "from selenium.webdriver.chrome.options import Options \n",
    "import requests\n",
    "from bs4 import BeautifulSoup\n",
    "from user_agent import generate_user_agent\n",
    "from selenium import webdriver\n",
    "from selenium.webdriver.support.ui import Select\n",
    "from selenium.common.exceptions import NoSuchElementException\n",
    "import time\n",
    "import pandas as pd\n",
    "from bs4 import BeautifulSoup\n",
    "#from hyperdash import monitor_cell\n",
    "import os\n",
    "import shutil\n",
    "from tqdm import tqdm\n",
    "import random\n",
    "#from fp.fp import FreeProxy\n",
    "from tqdm.notebook import tqdm\n",
    "import glob\n",
    "from selenium import webdriver\n",
    "from tqdm import notebook as tqdm_notebook\n",
    "import re\n",
    "\n"
   ]
  },
  {
   "cell_type": "code",
   "execution_count": 23,
   "metadata": {},
   "outputs": [],
   "source": [
    "torexe = os.popen(\"/Users/iakubovskii/Applications/Tor Browser.app\")"
   ]
  },
  {
   "cell_type": "code",
   "execution_count": 25,
   "metadata": {},
   "outputs": [],
   "source": [
    "torexe = os.popen(\"/Users/iakubovskSRHSEHSEHSHii/Applications/Tor Browser.app\")"
   ]
  },
  {
   "cell_type": "code",
   "execution_count": 26,
   "metadata": {},
   "outputs": [
    {
     "data": {
      "text/plain": [
       "<os._wrap_close at 0x7fc561e96e80>"
      ]
     },
     "execution_count": 26,
     "metadata": {},
     "output_type": "execute_result"
    }
   ],
   "source": [
    "torexe"
   ]
  },
  {
   "cell_type": "code",
   "execution_count": 22,
   "metadata": {},
   "outputs": [
    {
     "name": "stderr",
     "output_type": "stream",
     "text": [
      "<ipython-input-22-4821ccdd7dae>:24: DeprecationWarning:\n",
      "\n",
      "use options instead of chrome_options\n",
      "\n"
     ]
    },
    {
     "ename": "WebDriverException",
     "evalue": "Message: unknown error: net::ERR_PROXY_CONNECTION_FAILED\n  (Session info: chrome=86.0.4240.111)\n",
     "output_type": "error",
     "traceback": [
      "\u001B[0;31m---------------------------------------------------------------------------\u001B[0m",
      "\u001B[0;31mWebDriverException\u001B[0m                        Traceback (most recent call last)",
      "\u001B[0;32m<ipython-input-22-4821ccdd7dae>\u001B[0m in \u001B[0;36m<module>\u001B[0;34m\u001B[0m\n\u001B[1;32m     28\u001B[0m     \u001B[0mbrowser\u001B[0m\u001B[0;34m.\u001B[0m\u001B[0mimplicitly_wait\u001B[0m\u001B[0;34m(\u001B[0m\u001B[0;36m10\u001B[0m\u001B[0;34m)\u001B[0m\u001B[0;34m\u001B[0m\u001B[0;34m\u001B[0m\u001B[0m\n\u001B[1;32m     29\u001B[0m     \u001B[0mbrowser\u001B[0m\u001B[0;34m.\u001B[0m\u001B[0mget\u001B[0m\u001B[0;34m(\u001B[0m\u001B[0;34m\"https://www.trademap.org/\"\u001B[0m\u001B[0;34m)\u001B[0m\u001B[0;34m\u001B[0m\u001B[0;34m\u001B[0m\u001B[0m\n\u001B[0;32m---> 30\u001B[0;31m \u001B[0mbr\u001B[0m \u001B[0;34m=\u001B[0m \u001B[0mlogin\u001B[0m\u001B[0;34m(\u001B[0m\u001B[0;34m\"/Users/iakubovskii/Machine_Learning/Datasets\"\u001B[0m\u001B[0;34m)\u001B[0m\u001B[0;34m\u001B[0m\u001B[0;34m\u001B[0m\u001B[0m\n\u001B[0m",
      "\u001B[0;32m<ipython-input-22-4821ccdd7dae>\u001B[0m in \u001B[0;36mlogin\u001B[0;34m(download_directory)\u001B[0m\n\u001B[1;32m     27\u001B[0m \u001B[0;34m\u001B[0m\u001B[0m\n\u001B[1;32m     28\u001B[0m     \u001B[0mbrowser\u001B[0m\u001B[0;34m.\u001B[0m\u001B[0mimplicitly_wait\u001B[0m\u001B[0;34m(\u001B[0m\u001B[0;36m10\u001B[0m\u001B[0;34m)\u001B[0m\u001B[0;34m\u001B[0m\u001B[0;34m\u001B[0m\u001B[0m\n\u001B[0;32m---> 29\u001B[0;31m     \u001B[0mbrowser\u001B[0m\u001B[0;34m.\u001B[0m\u001B[0mget\u001B[0m\u001B[0;34m(\u001B[0m\u001B[0;34m\"https://www.trademap.org/\"\u001B[0m\u001B[0;34m)\u001B[0m\u001B[0;34m\u001B[0m\u001B[0;34m\u001B[0m\u001B[0m\n\u001B[0m\u001B[1;32m     30\u001B[0m \u001B[0mbr\u001B[0m \u001B[0;34m=\u001B[0m \u001B[0mlogin\u001B[0m\u001B[0;34m(\u001B[0m\u001B[0;34m\"/Users/iakubovskii/Machine_Learning/Datasets\"\u001B[0m\u001B[0;34m)\u001B[0m\u001B[0;34m\u001B[0m\u001B[0;34m\u001B[0m\u001B[0m\n",
      "\u001B[0;32m~/PythonR/anaconda3/lib/python3.8/site-packages/selenium/webdriver/remote/webdriver.py\u001B[0m in \u001B[0;36mget\u001B[0;34m(self, url)\u001B[0m\n\u001B[1;32m    331\u001B[0m         \u001B[0mLoads\u001B[0m \u001B[0ma\u001B[0m \u001B[0mweb\u001B[0m \u001B[0mpage\u001B[0m \u001B[0;32min\u001B[0m \u001B[0mthe\u001B[0m \u001B[0mcurrent\u001B[0m \u001B[0mbrowser\u001B[0m \u001B[0msession\u001B[0m\u001B[0;34m.\u001B[0m\u001B[0;34m\u001B[0m\u001B[0;34m\u001B[0m\u001B[0m\n\u001B[1;32m    332\u001B[0m         \"\"\"\n\u001B[0;32m--> 333\u001B[0;31m         \u001B[0mself\u001B[0m\u001B[0;34m.\u001B[0m\u001B[0mexecute\u001B[0m\u001B[0;34m(\u001B[0m\u001B[0mCommand\u001B[0m\u001B[0;34m.\u001B[0m\u001B[0mGET\u001B[0m\u001B[0;34m,\u001B[0m \u001B[0;34m{\u001B[0m\u001B[0;34m'url'\u001B[0m\u001B[0;34m:\u001B[0m \u001B[0murl\u001B[0m\u001B[0;34m}\u001B[0m\u001B[0;34m)\u001B[0m\u001B[0;34m\u001B[0m\u001B[0;34m\u001B[0m\u001B[0m\n\u001B[0m\u001B[1;32m    334\u001B[0m \u001B[0;34m\u001B[0m\u001B[0m\n\u001B[1;32m    335\u001B[0m     \u001B[0;34m@\u001B[0m\u001B[0mproperty\u001B[0m\u001B[0;34m\u001B[0m\u001B[0;34m\u001B[0m\u001B[0m\n",
      "\u001B[0;32m~/PythonR/anaconda3/lib/python3.8/site-packages/selenium/webdriver/remote/webdriver.py\u001B[0m in \u001B[0;36mexecute\u001B[0;34m(self, driver_command, params)\u001B[0m\n\u001B[1;32m    319\u001B[0m         \u001B[0mresponse\u001B[0m \u001B[0;34m=\u001B[0m \u001B[0mself\u001B[0m\u001B[0;34m.\u001B[0m\u001B[0mcommand_executor\u001B[0m\u001B[0;34m.\u001B[0m\u001B[0mexecute\u001B[0m\u001B[0;34m(\u001B[0m\u001B[0mdriver_command\u001B[0m\u001B[0;34m,\u001B[0m \u001B[0mparams\u001B[0m\u001B[0;34m)\u001B[0m\u001B[0;34m\u001B[0m\u001B[0;34m\u001B[0m\u001B[0m\n\u001B[1;32m    320\u001B[0m         \u001B[0;32mif\u001B[0m \u001B[0mresponse\u001B[0m\u001B[0;34m:\u001B[0m\u001B[0;34m\u001B[0m\u001B[0;34m\u001B[0m\u001B[0m\n\u001B[0;32m--> 321\u001B[0;31m             \u001B[0mself\u001B[0m\u001B[0;34m.\u001B[0m\u001B[0merror_handler\u001B[0m\u001B[0;34m.\u001B[0m\u001B[0mcheck_response\u001B[0m\u001B[0;34m(\u001B[0m\u001B[0mresponse\u001B[0m\u001B[0;34m)\u001B[0m\u001B[0;34m\u001B[0m\u001B[0;34m\u001B[0m\u001B[0m\n\u001B[0m\u001B[1;32m    322\u001B[0m             response['value'] = self._unwrap_value(\n\u001B[1;32m    323\u001B[0m                 response.get('value', None))\n",
      "\u001B[0;32m~/PythonR/anaconda3/lib/python3.8/site-packages/selenium/webdriver/remote/errorhandler.py\u001B[0m in \u001B[0;36mcheck_response\u001B[0;34m(self, response)\u001B[0m\n\u001B[1;32m    240\u001B[0m                 \u001B[0malert_text\u001B[0m \u001B[0;34m=\u001B[0m \u001B[0mvalue\u001B[0m\u001B[0;34m[\u001B[0m\u001B[0;34m'alert'\u001B[0m\u001B[0;34m]\u001B[0m\u001B[0;34m.\u001B[0m\u001B[0mget\u001B[0m\u001B[0;34m(\u001B[0m\u001B[0;34m'text'\u001B[0m\u001B[0;34m)\u001B[0m\u001B[0;34m\u001B[0m\u001B[0;34m\u001B[0m\u001B[0m\n\u001B[1;32m    241\u001B[0m             \u001B[0;32mraise\u001B[0m \u001B[0mexception_class\u001B[0m\u001B[0;34m(\u001B[0m\u001B[0mmessage\u001B[0m\u001B[0;34m,\u001B[0m \u001B[0mscreen\u001B[0m\u001B[0;34m,\u001B[0m \u001B[0mstacktrace\u001B[0m\u001B[0;34m,\u001B[0m \u001B[0malert_text\u001B[0m\u001B[0;34m)\u001B[0m\u001B[0;34m\u001B[0m\u001B[0;34m\u001B[0m\u001B[0m\n\u001B[0;32m--> 242\u001B[0;31m         \u001B[0;32mraise\u001B[0m \u001B[0mexception_class\u001B[0m\u001B[0;34m(\u001B[0m\u001B[0mmessage\u001B[0m\u001B[0;34m,\u001B[0m \u001B[0mscreen\u001B[0m\u001B[0;34m,\u001B[0m \u001B[0mstacktrace\u001B[0m\u001B[0;34m)\u001B[0m\u001B[0;34m\u001B[0m\u001B[0;34m\u001B[0m\u001B[0m\n\u001B[0m\u001B[1;32m    243\u001B[0m \u001B[0;34m\u001B[0m\u001B[0m\n\u001B[1;32m    244\u001B[0m     \u001B[0;32mdef\u001B[0m \u001B[0m_value_or_default\u001B[0m\u001B[0;34m(\u001B[0m\u001B[0mself\u001B[0m\u001B[0;34m,\u001B[0m \u001B[0mobj\u001B[0m\u001B[0;34m,\u001B[0m \u001B[0mkey\u001B[0m\u001B[0;34m,\u001B[0m \u001B[0mdefault\u001B[0m\u001B[0;34m)\u001B[0m\u001B[0;34m:\u001B[0m\u001B[0;34m\u001B[0m\u001B[0;34m\u001B[0m\u001B[0m\n",
      "\u001B[0;31mWebDriverException\u001B[0m: Message: unknown error: net::ERR_PROXY_CONNECTION_FAILED\n  (Session info: chrome=86.0.4240.111)\n"
     ]
    }
   ],
   "source": [
    "def option_chrome(download_directory, proxy):#настройка браузера\n",
    "    chromeOptions = webdriver.ChromeOptions()\n",
    "    prefs = {\"download.default_directory\" : download_directory}\n",
    "    chromeOptions.add_argument('--proxy-server=%s' % proxy)\n",
    "    chromeOptions.add_argument(\"user-agent=\" + generate_user_agent())\n",
    "    chromeOptions.add_experimental_option(\"prefs\",prefs)\n",
    "    chrome_options.add_argument(\"--start-fullscreen\");\n",
    "    return(chromeOptions)\n",
    "def login(download_directory):# залогинивается и возвращается к стране на которой указано\n",
    "    \n",
    "    global browser\n",
    "\n",
    "    \n",
    "   \n",
    "    torexe = os.popen(\"/Users/iakubovskii/Applications/Tor Browser.app\")\n",
    "    PROXY = \"socks5://localhost:9050\" # IP:PORT or HOST:PORT\n",
    "    options = webdriver.ChromeOptions()\n",
    "    options.add_argument('--proxy-server=%s' % PROXY)\n",
    "    prefs = {\"download.default_directory\" : download_directory}\n",
    "    \n",
    "    options.add_argument(\"user-agent=\" + generate_user_agent())\n",
    "    options.add_experimental_option(\"prefs\",prefs)\n",
    "    \n",
    "    browser = webdriver.Chrome(chrome_options=options, \n",
    "                               executable_path= \"/Users/iakubovskii/PythonR/anaconda3/chromedriver\")\n",
    "    \n",
    "\n",
    "    browser.implicitly_wait(10)\n",
    "    browser.get(\"https://www.trademap.org/\")\n",
    "br = login(\"/Users/iakubovskii/Machine_Learning/Datasets\")"
   ]
  },
  {
   "cell_type": "markdown",
   "metadata": {},
   "source": [
    "# 6. API"
   ]
  },
  {
   "cell_type": "markdown",
   "metadata": {},
   "source": [
    "## 6.1 Yandex "
   ]
  },
  {
   "cell_type": "markdown",
   "metadata": {
    "code_folding": []
   },
   "source": [
    "## 6.2 Google"
   ]
  },
  {
   "cell_type": "code",
   "execution_count": null,
   "metadata": {},
   "outputs": [],
   "source": []
  }
 ],
 "metadata": {
  "kernelspec": {
   "display_name": "Python 3",
   "language": "python",
   "name": "python3"
  },
  "language_info": {
   "codemirror_mode": {
    "name": "ipython",
    "version": 3
   },
   "file_extension": ".py",
   "mimetype": "text/x-python",
   "name": "python",
   "nbconvert_exporter": "python",
   "pygments_lexer": "ipython3",
   "version": "3.8.3"
  },
  "toc": {
   "base_numbering": 1,
   "nav_menu": {},
   "number_sections": true,
   "sideBar": true,
   "skip_h1_title": false,
   "title_cell": "Table of Contents",
   "title_sidebar": "Contents",
   "toc_cell": false,
   "toc_position": {},
   "toc_section_display": true,
   "toc_window_display": true
  },
  "varInspector": {
   "cols": {
    "lenName": 16,
    "lenType": 16,
    "lenVar": 40
   },
   "kernels_config": {
    "python": {
     "delete_cmd_postfix": "",
     "delete_cmd_prefix": "del ",
     "library": "var_list.py",
     "varRefreshCmd": "print(var_dic_list())"
    },
    "r": {
     "delete_cmd_postfix": ") ",
     "delete_cmd_prefix": "rm(",
     "library": "var_list.r",
     "varRefreshCmd": "cat(var_dic_list()) "
    }
   },
   "types_to_exclude": [
    "module",
    "function",
    "builtin_function_or_method",
    "instance",
    "_Feature"
   ],
   "window_display": false
  }
 },
 "nbformat": 4,
 "nbformat_minor": 4
}