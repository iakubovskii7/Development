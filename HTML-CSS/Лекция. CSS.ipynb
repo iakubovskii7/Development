{
 "cells": [
  {
   "cell_type": "markdown",
   "metadata": {
    "collapsed": true,
    "pycharm": {
     "name": "#%% md\n"
    }
   },
   "source": [
    "# Основы CSS\n",
    "\n",
    "CSS - Cascading Style Sheets.\n",
    "\n",
    "- Каскадирование - это способ, которым CSS накладывает один стиль на другой.\n",
    "- Таблицы стилей определяют внешний вид веб-документов.\n",
    "\n",
    "CSS и HTML работают рука об руку:\n",
    "- HTML определяет структуру страницы.\n",
    "- CSS определяет, то как отображаются элементы HTML."
   ]
  },
  {
   "cell_type": "markdown",
   "source": [
    "Встроенный CSS:\n",
    "\n",
    "```html\n",
    "<p style=\"color:white; background-color:gray;\">\n",
    "    This is an example of inline styling.\n",
    "</p>\n",
    "```\n",
    "\n",
    "Однако, зачастую все форматирование указывается в отдельном файле \"file.css\".\n",
    "В HTML-коде страницы в заголовке мы просто указывает ссылку на этот css файл.\n",
    "\n",
    "```html\n",
    "<head>\n",
    "   <link rel=\"stylesheet\" href=\"file.css\">\n",
    "</head>\n",
    "```"
   ],
   "metadata": {
    "collapsed": false,
    "pycharm": {
     "name": "#%% md\n"
    }
   }
  },
  {
   "cell_type": "markdown",
   "source": [
    "## Selector, property, value\n",
    "```css\n",
    "h1 {color: orange}\n",
    "```\n",
    "Здесь h1 - *selector*, color - *property*, а orange - *value*.\n",
    "\n",
    "Еще один пример:\n",
    "```css\n",
    "p {\n",
    "   color: red;\n",
    "   font-size: 130%;\n",
    "}\n",
    "```\n",
    "\n",
    "Часто в HTML коде мы определяем для элементов ***id*** и ***class***. Это делается как раз для того,\n",
    "чтобы удобно определять стили в CSS. Например, стиль для элементов с id определяем при помощи #, а для\n",
    "конкретного класса - точкой.\n",
    "\n",
    "```html\n",
    "<div id=\"intro\">\n",
    "   <p> This paragraph is in the intro section.</p>\n",
    "</div>\n",
    "<p> This paragraph is not in the intro section.</p>\n",
    "```\n",
    "\n",
    "```css\n",
    "#intro {\n",
    "   color: black;\n",
    "   background-color: gray;\n",
    "}\n",
    "```\n",
    "\n",
    "Основное различие заключается в том, что идентификаторы (id) можно применять только один раз на странице, в то время как классы (class) можно использовать столько раз на странице, сколько необходимо.\n",
    "\n",
    "Эти селекторы используются для выбора элементов, которые являются потомками другого элемента. При выборе уровней можно выбрать столько уровней в глубину, сколько необходимо. Например:\n",
    "\n",
    "```html\n",
    "<div id=\"intro\">\n",
    "   <p class=\"first\">This is a <em> paragraph.</em></p>\n",
    "   <p> This is the second paragraph. </p>\n",
    "</div>\n",
    "<p class=\"first\"> This is not in the intro section.</p>\n",
    "<p> The second paragraph is not in the intro section. </p>\n",
    "```\n",
    "\n",
    "```css\n",
    "#intro .first em {\n",
    "   color: pink;\n",
    "   background-color: gray\n",
    "}\n",
    "```\n",
    "Как видно, мы идем через id='intro' class='first' и в конце указываем сам элемент 'em'.\n",
    "\n",
    "Комментарии в CSS указываются таким образом:\n",
    "```css /* Comment goes here */ ```"
   ],
   "metadata": {
    "collapsed": false,
    "pycharm": {
     "name": "#%% md\n"
    }
   }
  },
  {
   "cell_type": "markdown",
   "source": [
    "# Текст"
   ],
   "metadata": {
    "collapsed": false,
    "pycharm": {
     "name": "#%% md\n"
    }
   }
  },
  {
   "cell_type": "code",
   "execution_count": null,
   "outputs": [],
   "source": [],
   "metadata": {
    "collapsed": false,
    "pycharm": {
     "name": "#%%\n"
    }
   }
  }
 ],
 "metadata": {
  "kernelspec": {
   "display_name": "Python 3",
   "language": "python",
   "name": "python3"
  },
  "language_info": {
   "codemirror_mode": {
    "name": "ipython",
    "version": 2
   },
   "file_extension": ".py",
   "mimetype": "text/x-python",
   "name": "python",
   "nbconvert_exporter": "python",
   "pygments_lexer": "ipython2",
   "version": "2.7.6"
  }
 },
 "nbformat": 4,
 "nbformat_minor": 0
}