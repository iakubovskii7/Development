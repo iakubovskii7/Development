{
 "cells": [
  {
   "cell_type": "code",
   "execution_count": 42,
   "outputs": [],
   "source": [
    "import psycopg2\n",
    "from sql import exec_sql, sql_query\n",
    "conn = psycopg2.connect(dbname='dvdrental', user='postgres',\n",
    "                        password='postgres', host='localhost', port=5432)\n",
    "cur = conn.cursor()\n",
    "\n",
    "exec_sql(\n",
    "    \"\"\"\n",
    "    DROP TABLE IF EXISTS branches, accounts\n",
    "    \"\"\", conn\n",
    ")\n",
    "\n",
    "\n",
    "exec_sql(\n",
    "    \"\"\"\n",
    "    DROP TABLE IF EXISTS color\n",
    "    \"\"\", conn\n",
    ")\n",
    "\n",
    "\n",
    "\n",
    "# Создадим таблицы\n",
    "exec_sql(\"\"\"CREATE TABLE IF NOT EXISTS color (\n",
    "    id serial primary key,\n",
    "    name text,\n",
    "    hex text -- hex color specification used with html\n",
    ");\n",
    "\n",
    "INSERT INTO color (name, hex)\n",
    "VALUES ('beige', '#F5F5DC'), ('coral', '#FF7F50'),\n",
    "        ('cyan', '#00FFFF'), ('gold', '#FFD700');\n",
    "        \"\"\", conn)\n",
    "\n",
    "exec_sql(\"\"\"\n",
    "CREATE TABLE IF NOT EXISTS accounts (\n",
    "    id serial primary key,\n",
    "    name text,\n",
    "    branch_name VARCHAR,\n",
    "    balance DECIMAL\n",
    ");\n",
    "\n",
    "INSERT INTO accounts (name, branch_name, balance)\n",
    "VALUES ('Alice', 'Tomsk', 2000), ('Bob', 'Moscow', 1000),\n",
    "        ('Igor', 'Tomsk', 1500), ('Oleg', 'Moscow', 3500);\n",
    "\n",
    "CREATE TABLE IF NOT EXISTS branches(\n",
    "    id serial primary key,\n",
    "    name text,\n",
    "    balance DECIMAL\n",
    ");\n",
    "\n",
    "INSERT INTO branches (name, balance)\n",
    "VALUES ('Moscow', 20000), ('Tomsk', 10000)\n",
    "\"\"\",\n",
    "         conn);"
   ],
   "metadata": {
    "collapsed": false,
    "pycharm": {
     "name": "#%%\n"
    }
   }
  },
  {
   "cell_type": "markdown",
   "source": [
    "# Транзакции\n",
    "\n",
    "Суть транзакции в том, что она объединяет последовательность действий в одну операцию «всё или ничего». Промежуточные состояния внутри последовательности не видны другим транзакциям, и если что-то помешает успешно завершить транзакцию, ни один из результатов этих действий не сохранится в базе данных.\n",
    "\n",
    "Предположим, что мы хотим перевести 100 долларов со счёта Алисы на счёт Боба. Точное содержание команд здесь не важно, важно лишь то, что для выполнения этой довольно простой операции потребовалось несколько отдельных действий. При этом с точки зрения банка необходимо, чтобы все эти действия выполнились вместе, либо не выполнились совсем. Если Боб получит 100 долларов, но они не будут списаны со счёта Алисы, объяснить это сбоем системы определённо не удастся. И наоборот, Алиса вряд ли будет довольна, если она переведёт деньги, а до Боба они не дойдут. Нам нужна гарантия, что если что-то помешает выполнить операцию до конца, ни одно из действий не оставит следа в базе данных. И мы получаем эту гарантию, объединяя действия в одну транзакцию. Говорят, что транзакция атомарна: с точки зрения других транзакций она либо выполняется и фиксируется полностью, либо не фиксируется совсем.\n"
   ],
   "metadata": {
    "collapsed": false,
    "pycharm": {
     "name": "#%% md\n"
    }
   }
  },
  {
   "cell_type": "code",
   "execution_count": 17,
   "outputs": [
    {
     "name": "stdout",
     "output_type": "stream",
     "text": [
      "   id   name branch_name  balance\n",
      "0   3   Igor       Tomsk   1500.0\n",
      "1   4   Oleg      Moscow   3500.0\n",
      "2   1  Alice       Tomsk   1900.0\n",
      "3   2    Bob      Moscow   1100.0\n",
      "   id    name  balance\n",
      "0   2   Tomsk   9000.0\n",
      "1   1  Moscow  20100.0\n"
     ]
    }
   ],
   "source": [
    "print(sql_query(\"\"\"SELECT * FROM accounts\"\"\"))\n",
    "print(sql_query(\"\"\"SELECT * FROM branches\"\"\"))"
   ],
   "metadata": {
    "collapsed": false,
    "pycharm": {
     "name": "#%%\n"
    }
   }
  },
  {
   "cell_type": "code",
   "execution_count": 13,
   "outputs": [],
   "source": [
    "exec_sql(\n",
    "\"\"\"\n",
    "BEGIN;\n",
    "UPDATE accounts SET balance = balance - 100.00\n",
    "WHERE name = 'Alice';\n",
    "UPDATE branches SET balance = balance - 100.00\n",
    "    WHERE name = (SELECT branch_name FROM accounts WHERE name = 'Alice');\n",
    "UPDATE accounts SET balance = balance + 100.00\n",
    "    WHERE name = 'Bob';\n",
    "UPDATE branches SET balance = balance + 100.00\n",
    "    WHERE name = (SELECT branch_name FROM accounts WHERE name = 'Bob');\n",
    "COMMIT;\n",
    "\"\"\", conn)\n",
    "\n",
    "print(sql_query(\"\"\"SELECT * FROM accounts\"\"\"))\n",
    "print(sql_query(\"\"\"SELECT * FROM branches\"\"\"))"
   ],
   "metadata": {
    "collapsed": false,
    "pycharm": {
     "name": "#%%\n"
    }
   }
  },
  {
   "cell_type": "code",
   "execution_count": 18,
   "outputs": [],
   "source": [
    "exec_sql(\n",
    "\"\"\"\n",
    "BEGIN;\n",
    "UPDATE accounts SET balance = balance - 100.00\n",
    "WHERE name = 'Alice';\n",
    "UPDATE branches SET balance = balance - 100.00\n",
    "    WHERE name = (SELECT branch_name FROM accounts WHERE name = 'Alice');\n",
    "UPDATE accounts SET balance = balance + 100.00\n",
    "    WHERE name = 'Bob';\n",
    "UPDATE branches SET balance = balance + 100.00\n",
    "    WHERE name = (SELECT branch_name FROM accounts WHERE name = 'Bob');\n",
    "ROLLBACK ;\n",
    "\"\"\", conn)"
   ],
   "metadata": {
    "collapsed": false,
    "pycharm": {
     "name": "#%%\n"
    }
   }
  },
  {
   "cell_type": "code",
   "execution_count": 19,
   "outputs": [
    {
     "name": "stdout",
     "output_type": "stream",
     "text": [
      "   id   name branch_name  balance\n",
      "0   3   Igor       Tomsk   1500.0\n",
      "1   4   Oleg      Moscow   3500.0\n",
      "2   1  Alice       Tomsk   1900.0\n",
      "3   2    Bob      Moscow   1100.0\n",
      "   id    name  balance\n",
      "0   2   Tomsk   9000.0\n",
      "1   1  Moscow  20100.0\n"
     ]
    }
   ],
   "source": [
    "print(sql_query(\"\"\"SELECT * FROM accounts\"\"\"))\n",
    "print(sql_query(\"\"\"SELECT * FROM branches\"\"\"))"
   ],
   "metadata": {
    "collapsed": false,
    "pycharm": {
     "name": "#%%\n"
    }
   }
  },
  {
   "cell_type": "markdown",
   "source": [
    "Операторами в транзакции можно также управлять на более детальном уровне, используя точки сохранения. Точки сохранения позволяют выборочно отменять некоторые части транзакции и фиксировать все остальные. Определив точку сохранения с помощью SAVEPOINT, при необходимости вы можете вернуться к ней с помощью команды ROLLBACK TO. Все изменения в базе данных, произошедшие после точки сохранения и до момента отката, отменяются, но изменения, произведённые ранее, сохраняются.\n",
    "Отметим, что  ROLLBACK TO — это единственный способ вернуть контроль над блоком транзакций, оказавшимся в прерванном состоянии из-за ошибки системы, не считая возможности полностью отменить её и начать снова."
   ],
   "metadata": {
    "collapsed": false,
    "pycharm": {
     "name": "#%% md\n"
    }
   }
  },
  {
   "cell_type": "code",
   "execution_count": 20,
   "outputs": [],
   "source": [
    "exec_sql(\n",
    "    \"\"\"\n",
    "BEGIN;\n",
    "UPDATE accounts SET balance = balance - 100.00\n",
    "    WHERE name = 'Alice';\n",
    "SAVEPOINT my_savepoint;\n",
    "UPDATE accounts SET balance = balance + 100.00\n",
    "    WHERE name = 'Bob';\n",
    "-- ошибочное действие... забыть его и использовать счёт Уолли\n",
    "ROLLBACK TO my_savepoint;\n",
    "UPDATE accounts SET balance = balance + 100.00\n",
    "    WHERE name = 'Wally';\n",
    "COMMIT;\n",
    "    \"\"\", conn\n",
    ")"
   ],
   "metadata": {
    "collapsed": false,
    "pycharm": {
     "name": "#%%\n"
    }
   }
  },
  {
   "cell_type": "code",
   "execution_count": 21,
   "outputs": [
    {
     "name": "stdout",
     "output_type": "stream",
     "text": [
      "   id   name branch_name  balance\n",
      "0   3   Igor       Tomsk   1500.0\n",
      "1   4   Oleg      Moscow   3500.0\n",
      "2   2    Bob      Moscow   1100.0\n",
      "3   1  Alice       Tomsk   1800.0\n",
      "   id    name  balance\n",
      "0   2   Tomsk   9000.0\n",
      "1   1  Moscow  20100.0\n"
     ]
    }
   ],
   "source": [
    "print(sql_query(\"\"\"SELECT * FROM accounts\"\"\"))\n",
    "print(sql_query(\"\"\"SELECT * FROM branches\"\"\"))"
   ],
   "metadata": {
    "collapsed": false,
    "pycharm": {
     "name": "#%%\n"
    }
   }
  },
  {
   "cell_type": "markdown",
   "source": [
    "# Изменения таблиц\n",
    "Существует несколько подходов к изменению таблиц.\n",
    "\n",
    "1. DROP TABLE. Позволяет удалить таблицу. Обычно используют внутри транзакции, чтобы не нарушить целостность базы.\n",
    "\n",
    "2. DELETE FROM\n",
    "- удаление записей в базе или всей таблицы, если оставить остальные поля пустыми\n",
    "\n",
    "3. UPDATE TABLE:\n",
    "- изменение значений в таблице (как для всей строки / столбца, так и для отдельных значений)\n",
    "\n",
    "4. ALTER TABLE:\n",
    "- переименование самой таблицы\n",
    "- переименование столбцов\n",
    "- изменение типов данных\n",
    "- добавление ограничений\n",
    "- добавление значений по умолчанию\n",
    "- итд"
   ],
   "metadata": {
    "collapsed": false,
    "pycharm": {
     "name": "#%% md\n"
    }
   }
  },
  {
   "cell_type": "code",
   "execution_count": 24,
   "outputs": [],
   "source": [
    "exec_sql(\n",
    "    \"\"\"\n",
    "    DROP TABLE IF EXISTS workshop\n",
    "    \"\"\", conn\n",
    ")\n",
    "\n",
    "exec_sql(\"\"\"\n",
    "CREATE TABLE IF NOT EXISTS workshop (\n",
    "    id serial primary key,\n",
    "    name text not null,\n",
    "    date date,\n",
    "    beginner boolean default false\n",
    ");\n",
    "\n",
    "INSERT INTO workshop (name, date)\n",
    "VALUES ('Intro to Python', '2017-07-10'),\n",
    "        ('Python Data Analysis', '2017-08-03'),\n",
    "        ('Databases', '2017-08-17'),\n",
    "        ('Intro to R', '2017-09-07');\n",
    "        \"\"\", conn)"
   ],
   "metadata": {
    "collapsed": false,
    "pycharm": {
     "name": "#%%\n"
    }
   }
  },
  {
   "cell_type": "markdown",
   "source": [
    "## Удаление таблицы (DROP)"
   ],
   "metadata": {
    "collapsed": false,
    "pycharm": {
     "name": "#%% md\n"
    }
   }
  },
  {
   "cell_type": "code",
   "execution_count": 25,
   "outputs": [],
   "source": [
    "exec_sql(\n",
    "    \"\"\"\n",
    "    -- Удаляем таблицу, если такая существует\n",
    "    DROP TABLE IF EXISTS color\n",
    "    \"\"\", conn\n",
    ")"
   ],
   "metadata": {
    "collapsed": false,
    "pycharm": {
     "name": "#%%\n"
    }
   }
  },
  {
   "cell_type": "markdown",
   "source": [
    "## Удалить строки (DELETE)\n"
   ],
   "metadata": {
    "collapsed": false,
    "pycharm": {
     "name": "#%% md\n"
    }
   }
  },
  {
   "cell_type": "code",
   "execution_count": 27,
   "outputs": [
    {
     "data": {
      "text/plain": "   id                  name        date  beginner\n0   1       Intro to Python  2017-07-10     False\n1   2  Python Data Analysis  2017-08-03     False\n2   3             Databases  2017-08-17     False",
      "text/html": "<div>\n<style scoped>\n    .dataframe tbody tr th:only-of-type {\n        vertical-align: middle;\n    }\n\n    .dataframe tbody tr th {\n        vertical-align: top;\n    }\n\n    .dataframe thead th {\n        text-align: right;\n    }\n</style>\n<table border=\"1\" class=\"dataframe\">\n  <thead>\n    <tr style=\"text-align: right;\">\n      <th></th>\n      <th>id</th>\n      <th>name</th>\n      <th>date</th>\n      <th>beginner</th>\n    </tr>\n  </thead>\n  <tbody>\n    <tr>\n      <th>0</th>\n      <td>1</td>\n      <td>Intro to Python</td>\n      <td>2017-07-10</td>\n      <td>False</td>\n    </tr>\n    <tr>\n      <th>1</th>\n      <td>2</td>\n      <td>Python Data Analysis</td>\n      <td>2017-08-03</td>\n      <td>False</td>\n    </tr>\n    <tr>\n      <th>2</th>\n      <td>3</td>\n      <td>Databases</td>\n      <td>2017-08-17</td>\n      <td>False</td>\n    </tr>\n  </tbody>\n</table>\n</div>"
     },
     "execution_count": 27,
     "metadata": {},
     "output_type": "execute_result"
    }
   ],
   "source": [
    "exec_sql(\"\"\"\n",
    "DELETE FROM workshop WHERE id=4;\n",
    "\"\"\", conn)\n",
    "sql_query(\"\"\"SELECT * FROM workshop\"\"\")"
   ],
   "metadata": {
    "collapsed": false,
    "pycharm": {
     "name": "#%%\n"
    }
   }
  },
  {
   "cell_type": "markdown",
   "source": [
    "Отметим, что если вы попытаетесь удалить строки, которые связаны с другими таблицами внешними ключами, то получите ошибку. Чтобы удалить строки в этом случае, нужно либо:\n",
    "- изменить таблицу при помощи UPDATE (удалить внешний ключ)\n",
    "- использовать каскадное удаление (CASCADE)"
   ],
   "metadata": {
    "collapsed": false,
    "pycharm": {
     "name": "#%% md\n"
    }
   }
  },
  {
   "cell_type": "markdown",
   "source": [
    "## Изменить значения (UPDATE)"
   ],
   "metadata": {
    "collapsed": false,
    "pycharm": {
     "name": "#%% md\n"
    }
   }
  },
  {
   "cell_type": "code",
   "execution_count": 32,
   "outputs": [],
   "source": [
    "exec_sql(\n",
    "    \"\"\"\n",
    "    UPDATE workshop\n",
    "    SET name='Introduction to R', beginner=true\n",
    "    WHERE id=3;\n",
    "    \"\"\", conn\n",
    ")"
   ],
   "metadata": {
    "collapsed": false,
    "pycharm": {
     "name": "#%%\n"
    }
   }
  },
  {
   "cell_type": "code",
   "execution_count": 33,
   "outputs": [
    {
     "data": {
      "text/plain": "   id                  name        date  beginner\n0   1       Intro to Python  2017-07-10     False\n1   2  Python Data Analysis  2017-08-03     False\n2   3     Introduction to R  2017-08-17      True",
      "text/html": "<div>\n<style scoped>\n    .dataframe tbody tr th:only-of-type {\n        vertical-align: middle;\n    }\n\n    .dataframe tbody tr th {\n        vertical-align: top;\n    }\n\n    .dataframe thead th {\n        text-align: right;\n    }\n</style>\n<table border=\"1\" class=\"dataframe\">\n  <thead>\n    <tr style=\"text-align: right;\">\n      <th></th>\n      <th>id</th>\n      <th>name</th>\n      <th>date</th>\n      <th>beginner</th>\n    </tr>\n  </thead>\n  <tbody>\n    <tr>\n      <th>0</th>\n      <td>1</td>\n      <td>Intro to Python</td>\n      <td>2017-07-10</td>\n      <td>False</td>\n    </tr>\n    <tr>\n      <th>1</th>\n      <td>2</td>\n      <td>Python Data Analysis</td>\n      <td>2017-08-03</td>\n      <td>False</td>\n    </tr>\n    <tr>\n      <th>2</th>\n      <td>3</td>\n      <td>Introduction to R</td>\n      <td>2017-08-17</td>\n      <td>True</td>\n    </tr>\n  </tbody>\n</table>\n</div>"
     },
     "execution_count": 33,
     "metadata": {},
     "output_type": "execute_result"
    }
   ],
   "source": [
    "sql_query(\"\"\"SELECT * FROM workshop\"\"\")"
   ],
   "metadata": {
    "collapsed": false,
    "pycharm": {
     "name": "#%%\n"
    }
   }
  },
  {
   "cell_type": "code",
   "execution_count": 36,
   "outputs": [],
   "source": [
    "exec_sql(\n",
    "    \"\"\"\n",
    "    DROP TABLE IF EXISTS product, product_segment\n",
    "    \"\"\", conn\n",
    ")"
   ],
   "metadata": {
    "collapsed": false,
    "pycharm": {
     "name": "#%%\n"
    }
   }
  },
  {
   "cell_type": "code",
   "execution_count": 37,
   "outputs": [
    {
     "name": "stdout",
     "output_type": "stream",
     "text": [
      "   id       segment  discount\n",
      "0   1  Grand Luxury      0.05\n",
      "1   2        Luxury      0.06\n",
      "2   3          Mass      0.10\n",
      "    id                     name   price net_price  segment_id\n",
      "0    1                     diam  804.89      None           1\n",
      "1    2       vestibulum aliquet  228.55      None           3\n",
      "2    3             lacinia erat  366.45      None           2\n",
      "3    4  scelerisque quam turpis  145.33      None           3\n",
      "4    5            justo lacinia  551.77      None           2\n",
      "5    6     ultrices mattis odio  261.58      None           3\n",
      "6    7                hendrerit  519.62      None           2\n",
      "7    8         in hac habitasse  843.31      None           1\n",
      "8    9           orci eget orci  254.18      None           3\n",
      "9   10             pellentesque  427.78      None           2\n",
      "10  11            sit amet nunc  936.29      None           1\n",
      "11  12           sed vestibulum  910.34      None           1\n",
      "12  13              turpis eget  208.33      None           3\n",
      "13  14        cursus vestibulum  985.45      None           1\n",
      "14  15              orci nullam  841.26      None           1\n",
      "15  16        est quam pharetra  896.38      None           1\n",
      "16  17                  posuere  575.74      None           2\n",
      "17  18                   ligula  530.64      None           2\n",
      "18  19                convallis  892.43      None           1\n",
      "19  20            nulla elit ac  161.71      None           3\n"
     ]
    }
   ],
   "source": [
    "# Используем JOIN\n",
    "# Создадим две таблицы\n",
    "from sql import create_table5\n",
    "exec_sql(\n",
    "    create_table5, conn\n",
    ")\n",
    "print(sql_query(\"\"\"SELECT * FROM product_segment\"\"\"))\n",
    "print(sql_query(\"\"\"SELECT * FROM product\"\"\"))"
   ],
   "metadata": {
    "collapsed": false,
    "pycharm": {
     "name": "#%%\n"
    }
   }
  },
  {
   "cell_type": "markdown",
   "source": [
    "Теперь мы хотим обновить цены в таблице продуктов, используя информацию о скидках из таблицы product_segment."
   ],
   "metadata": {
    "collapsed": false,
    "pycharm": {
     "name": "#%% md\n"
    }
   }
  },
  {
   "cell_type": "code",
   "execution_count": 38,
   "outputs": [],
   "source": [
    "exec_sql(\n",
    "    \"\"\"\n",
    "UPDATE product\n",
    "SET net_price = price - price * discount\n",
    "FROM\n",
    "product_segment\n",
    "WHERE\n",
    "product.segment_id = product_segment.id;\n",
    "    \"\"\", conn)"
   ],
   "metadata": {
    "collapsed": false,
    "pycharm": {
     "name": "#%%\n"
    }
   }
  },
  {
   "cell_type": "code",
   "execution_count": 40,
   "outputs": [
    {
     "name": "stdout",
     "output_type": "stream",
     "text": [
      "    id                     name   price  net_price  segment_id\n",
      "0    1                     diam  804.89     764.65           1\n",
      "1    2       vestibulum aliquet  228.55     205.70           3\n",
      "2    3             lacinia erat  366.45     344.46           2\n",
      "3    4  scelerisque quam turpis  145.33     130.80           3\n",
      "4    5            justo lacinia  551.77     518.66           2\n",
      "5    6     ultrices mattis odio  261.58     235.42           3\n",
      "6    7                hendrerit  519.62     488.44           2\n",
      "7    8         in hac habitasse  843.31     801.14           1\n",
      "8    9           orci eget orci  254.18     228.76           3\n",
      "9   10             pellentesque  427.78     402.11           2\n",
      "10  11            sit amet nunc  936.29     889.48           1\n",
      "11  12           sed vestibulum  910.34     864.82           1\n",
      "12  13              turpis eget  208.33     187.50           3\n",
      "13  14        cursus vestibulum  985.45     936.18           1\n",
      "14  15              orci nullam  841.26     799.20           1\n",
      "15  16        est quam pharetra  896.38     851.56           1\n",
      "16  17                  posuere  575.74     541.20           2\n",
      "17  18                   ligula  530.64     498.80           2\n",
      "18  19                convallis  892.43     847.81           1\n",
      "19  20            nulla elit ac  161.71     145.54           3\n"
     ]
    }
   ],
   "source": [
    "print(sql_query(\"\"\"SELECT * FROM product\"\"\"))"
   ],
   "metadata": {
    "collapsed": false,
    "pycharm": {
     "name": "#%%\n"
    }
   }
  },
  {
   "cell_type": "markdown",
   "source": [
    "## Изменить общие параметры таблицы (ALTER)"
   ],
   "metadata": {
    "collapsed": false,
    "pycharm": {
     "name": "#%% md\n"
    }
   }
  },
  {
   "cell_type": "markdown",
   "source": [
    "## Изменение таблицы\n",
    "\n",
    "Можно изменить таблицу после ее создания:\n",
    "- переименовать таблицу\n",
    "- переименовать столбцы\n",
    "- изменить тип столбцов\n",
    "- добавить или отменить ограничения\n",
    "- добавить или изменить значения по умолчанию."
   ],
   "metadata": {
    "collapsed": false,
    "pycharm": {
     "name": "#%% md\n"
    }
   }
  },
  {
   "cell_type": "code",
   "execution_count": 43,
   "outputs": [],
   "source": [
    "exec_sql(\n",
    "\"\"\"\n",
    "BEGIN;\n",
    "ALTER TABLE color\n",
    "ADD COLUMN IF NOT EXISTS websafe boolean default true;\n",
    "SELECT * FROM color;\n",
    "COMMIT;\n",
    "\"\"\",\n",
    "    conn\n",
    ")"
   ],
   "metadata": {
    "collapsed": false,
    "pycharm": {
     "name": "#%%\n"
    }
   }
  },
  {
   "cell_type": "markdown",
   "metadata": {
    "collapsed": true,
    "pycharm": {
     "name": "#%% md\n"
    }
   },
   "source": [
    "# Ограничения"
   ]
  },
  {
   "cell_type": "markdown",
   "source": [
    "В PostgreSQL можно наложить ограничения на колонки. Например, сделать колонки уникальным и ограничить его потенциальными значениями."
   ],
   "metadata": {
    "collapsed": false,
    "pycharm": {
     "name": "#%% md\n"
    }
   }
  },
  {
   "cell_type": "code",
   "execution_count": 49,
   "outputs": [],
   "source": [
    "# Давайте создадим новую таблицу, где будет пол клиента и его id.\n",
    "q = \"\"\"\n",
    "DROP TABLE IF EXISTS customer_sex;\n",
    "\n",
    "CREATE TABLE customer_sex\n",
    "(\n",
    "    id serial primary key,\n",
    "    sex VARCHAR(2)\n",
    ");\n",
    "\n",
    "INSERT INTO  customer_sex(sex)\n",
    "VALUES ('F'), ('M'), ('F'), ('R')\n",
    ";\n",
    "\"\"\"\n",
    "exec_sql(q, conn)"
   ],
   "metadata": {
    "collapsed": false,
    "pycharm": {
     "name": "#%%\n"
    }
   }
  },
  {
   "cell_type": "markdown",
   "source": [
    "Как видим, одно из значений пола совсем нереалистичное. Давайте добавим специальный индекс к столбцу пола."
   ],
   "metadata": {
    "collapsed": false,
    "pycharm": {
     "name": "#%% md\n"
    }
   }
  },
  {
   "cell_type": "code",
   "execution_count": 53,
   "outputs": [
    {
     "name": "stdout",
     "output_type": "stream",
     "text": [
      "check constraint \"unique_sex\" of relation \"customer_sex\" is violated by some row\n",
      "\n"
     ]
    }
   ],
   "source": [
    "query = \"\"\"\n",
    "ALTER TABLE customer_sex\n",
    "ADD CONSTRAINT unique_sex CHECK ( sex = 'F' OR sex = 'M' )\n",
    "\"\"\"\n",
    "exec_sql(query, conn)"
   ],
   "metadata": {
    "collapsed": false,
    "pycharm": {
     "name": "#%%\n"
    }
   }
  },
  {
   "cell_type": "code",
   "execution_count": 54,
   "outputs": [],
   "source": [
    "q = \"\"\"\n",
    "DELETE FROM customer_sex\n",
    "WHERE sex <> 'M' AND sex <> 'F';\n",
    "\n",
    "ALTER TABLE customer_sex\n",
    "ADD CONSTRAINT unique_sex CHECK ( sex = 'F' OR sex = 'M' );\n",
    "\"\"\"\n",
    "exec_sql(q, conn)"
   ],
   "metadata": {
    "collapsed": false,
    "pycharm": {
     "name": "#%%\n"
    }
   }
  },
  {
   "cell_type": "code",
   "execution_count": 55,
   "outputs": [
    {
     "data": {
      "text/plain": "   id sex\n0   1   F\n1   2   M\n2   3   F",
      "text/html": "<div>\n<style scoped>\n    .dataframe tbody tr th:only-of-type {\n        vertical-align: middle;\n    }\n\n    .dataframe tbody tr th {\n        vertical-align: top;\n    }\n\n    .dataframe thead th {\n        text-align: right;\n    }\n</style>\n<table border=\"1\" class=\"dataframe\">\n  <thead>\n    <tr style=\"text-align: right;\">\n      <th></th>\n      <th>id</th>\n      <th>sex</th>\n    </tr>\n  </thead>\n  <tbody>\n    <tr>\n      <th>0</th>\n      <td>1</td>\n      <td>F</td>\n    </tr>\n    <tr>\n      <th>1</th>\n      <td>2</td>\n      <td>M</td>\n    </tr>\n    <tr>\n      <th>2</th>\n      <td>3</td>\n      <td>F</td>\n    </tr>\n  </tbody>\n</table>\n</div>"
     },
     "execution_count": 55,
     "metadata": {},
     "output_type": "execute_result"
    }
   ],
   "source": [
    "sql_query(\"\"\"SELECT * FROM customer_sex\"\"\")"
   ],
   "metadata": {
    "collapsed": false,
    "pycharm": {
     "name": "#%%\n"
    }
   }
  },
  {
   "cell_type": "code",
   "execution_count": 56,
   "outputs": [
    {
     "name": "stdout",
     "output_type": "stream",
     "text": [
      "new row for relation \"customer_sex\" violates check constraint \"unique_sex\"\n",
      "DETAIL:  Failing row contains (5, R).\n",
      "\n"
     ]
    }
   ],
   "source": [
    "exec_sql(\"\"\"INSERT INTO customer_sex(sex)\n",
    "VALUES ('R') \"\"\", conn)"
   ],
   "metadata": {
    "collapsed": false,
    "pycharm": {
     "name": "#%%\n"
    }
   }
  },
  {
   "cell_type": "code",
   "execution_count": 18,
   "outputs": [],
   "source": [
    "# Теперь создадим таблицу с электронными почтами клиентов\n",
    "exec_sql(\"\"\"\n",
    "CREATE TABLE customer_email\n",
    "(\n",
    "id serial,\n",
    "email VARCHAR(50)\n",
    ")\n",
    "\"\"\", conn)"
   ],
   "metadata": {
    "collapsed": false,
    "pycharm": {
     "name": "#%%\n"
    }
   }
  },
  {
   "cell_type": "code",
   "execution_count": 17,
   "outputs": [],
   "source": [
    "# exec_sql(\"\"\"\n",
    "# DROP table customer_email\n",
    "# \"\"\", conn)"
   ],
   "metadata": {
    "collapsed": false,
    "pycharm": {
     "name": "#%%\n"
    }
   }
  },
  {
   "cell_type": "markdown",
   "source": [
    "В реальности у каждого юзера должна быть одна электронная почта. Давайте наложим уникальное ограничение\n",
    "на столбец email."
   ],
   "metadata": {
    "collapsed": false,
    "pycharm": {
     "name": "#%% md\n"
    }
   }
  },
  {
   "cell_type": "code",
   "execution_count": 19,
   "outputs": [],
   "source": [
    "exec_sql(\"\"\"\n",
    "ALTER TABLE customer_email\n",
    "ADD CONSTRAINT unique_email UNIQUE(email)\n",
    "\"\"\", conn)"
   ],
   "metadata": {
    "collapsed": false,
    "pycharm": {
     "name": "#%%\n"
    }
   }
  },
  {
   "cell_type": "code",
   "execution_count": 20,
   "outputs": [
    {
     "name": "stdout",
     "output_type": "stream",
     "text": [
      "duplicate key value violates unique constraint \"unique_email\"\n",
      "DETAIL:  Key (email)=(2@gmail.com) already exists.\n",
      "\n"
     ]
    }
   ],
   "source": [
    "exec_sql(\"\"\"\n",
    "INSERT INTO customer_email(email)\n",
    "VALUES ('1@mail.ru'), ('2@gmail.com'), ('2@gmail.com')\n",
    "\"\"\", conn)"
   ],
   "metadata": {
    "collapsed": false,
    "pycharm": {
     "name": "#%%\n"
    }
   }
  },
  {
   "cell_type": "markdown",
   "source": [
    "PostgreSQL выдал ошибку об уникальности столбца\n",
    "Ниже посмотрим на список всех ограничений базы dvdrental."
   ],
   "metadata": {
    "collapsed": false,
    "pycharm": {
     "name": "#%% md\n"
    }
   }
  },
  {
   "cell_type": "code",
   "execution_count": 22,
   "outputs": [
    {
     "data": {
      "text/plain": "                 constraint_name table_schema      table_name  column_name\n0                     actor_pkey       public           actor     actor_id\n1                   address_pkey       public         address   address_id\n2                  category_pkey       public        category  category_id\n3                      city_pkey       public            city      city_id\n4                   country_pkey       public         country   country_id\n..                           ...          ...             ...          ...\n205        store_address_id_fkey       public         address   address_id\n206  store_manager_staff_id_fkey       public           staff     staff_id\n207                   store_pkey       public           store     store_id\n208                 unique_email       public  customer_email        email\n209                   unique_sex       public    customer_sex          sex\n\n[210 rows x 4 columns]",
      "text/html": "<div>\n<style scoped>\n    .dataframe tbody tr th:only-of-type {\n        vertical-align: middle;\n    }\n\n    .dataframe tbody tr th {\n        vertical-align: top;\n    }\n\n    .dataframe thead th {\n        text-align: right;\n    }\n</style>\n<table border=\"1\" class=\"dataframe\">\n  <thead>\n    <tr style=\"text-align: right;\">\n      <th></th>\n      <th>constraint_name</th>\n      <th>table_schema</th>\n      <th>table_name</th>\n      <th>column_name</th>\n    </tr>\n  </thead>\n  <tbody>\n    <tr>\n      <th>0</th>\n      <td>actor_pkey</td>\n      <td>public</td>\n      <td>actor</td>\n      <td>actor_id</td>\n    </tr>\n    <tr>\n      <th>1</th>\n      <td>address_pkey</td>\n      <td>public</td>\n      <td>address</td>\n      <td>address_id</td>\n    </tr>\n    <tr>\n      <th>2</th>\n      <td>category_pkey</td>\n      <td>public</td>\n      <td>category</td>\n      <td>category_id</td>\n    </tr>\n    <tr>\n      <th>3</th>\n      <td>city_pkey</td>\n      <td>public</td>\n      <td>city</td>\n      <td>city_id</td>\n    </tr>\n    <tr>\n      <th>4</th>\n      <td>country_pkey</td>\n      <td>public</td>\n      <td>country</td>\n      <td>country_id</td>\n    </tr>\n    <tr>\n      <th>...</th>\n      <td>...</td>\n      <td>...</td>\n      <td>...</td>\n      <td>...</td>\n    </tr>\n    <tr>\n      <th>205</th>\n      <td>store_address_id_fkey</td>\n      <td>public</td>\n      <td>address</td>\n      <td>address_id</td>\n    </tr>\n    <tr>\n      <th>206</th>\n      <td>store_manager_staff_id_fkey</td>\n      <td>public</td>\n      <td>staff</td>\n      <td>staff_id</td>\n    </tr>\n    <tr>\n      <th>207</th>\n      <td>store_pkey</td>\n      <td>public</td>\n      <td>store</td>\n      <td>store_id</td>\n    </tr>\n    <tr>\n      <th>208</th>\n      <td>unique_email</td>\n      <td>public</td>\n      <td>customer_email</td>\n      <td>email</td>\n    </tr>\n    <tr>\n      <th>209</th>\n      <td>unique_sex</td>\n      <td>public</td>\n      <td>customer_sex</td>\n      <td>sex</td>\n    </tr>\n  </tbody>\n</table>\n<p>210 rows × 4 columns</p>\n</div>"
     },
     "execution_count": 22,
     "metadata": {},
     "output_type": "execute_result"
    }
   ],
   "source": [
    "sql_query(\"\"\"\n",
    "select pgc.conname as constraint_name,\n",
    "       ccu.table_schema as table_schema,\n",
    "       ccu.table_name,\n",
    "       ccu.column_name\n",
    "from pg_constraint pgc\n",
    "join pg_namespace nsp on nsp.oid = pgc.connamespace\n",
    "join pg_class  cls on pgc.conrelid = cls.oid\n",
    "left join information_schema.constraint_column_usage ccu\n",
    "          on pgc.conname = ccu.constraint_name\n",
    "          and nsp.nspname = ccu.constraint_schema\n",
    "order by pgc.conname;\n",
    "\"\"\")"
   ],
   "metadata": {
    "collapsed": false,
    "pycharm": {
     "name": "#%%\n"
    }
   }
  },
  {
   "cell_type": "markdown",
   "source": [
    "# Индексы\n",
    "\n",
    "Индексы нужны для того, чтобы увеличить скорость выполнения запросов.\n",
    "Однако, это увеличивает место за жестком диске, которое расходуется на создание этих индексов."
   ],
   "metadata": {
    "collapsed": false,
    "pycharm": {
     "name": "#%% md\n"
    }
   }
  },
  {
   "cell_type": "code",
   "execution_count": 57,
   "outputs": [
    {
     "data": {
      "text/plain": "          tablename                                          indexname  \\\n0          accounts                                      accounts_pkey   \n1             actor                                         actor_pkey   \n2             actor                                idx_actor_last_name   \n3           address                                       address_pkey   \n4           address                                     idx_fk_city_id   \n5          branches                                      branches_pkey   \n6          category                                      category_pkey   \n7              city                                          city_pkey   \n8              city                                  idx_fk_country_id   \n9             color                                         color_pkey   \n10          country                                       country_pkey   \n11         customer                                      customer_pkey   \n12         customer                                  idx_fk_address_id   \n13         customer                                    idx_fk_store_id   \n14         customer                                      idx_last_name   \n15   customer_email                                       unique_email   \n16     customer_sex                                  customer_sex_pkey   \n17             film                                  film_fulltext_idx   \n18             film                                          film_pkey   \n19             film                                 idx_fk_language_id   \n20             film                                          idx_title   \n21       film_actor                                    film_actor_pkey   \n22       film_actor                                     idx_fk_film_id   \n23    film_category                                 film_category_pkey   \n24        inventory                               idx_store_id_film_id   \n25        inventory                                     inventory_pkey   \n26         language                                      language_pkey   \n27          payment                                   idx_fk_rental_id   \n28          payment                                    idx_fk_staff_id   \n29          payment                                       payment_pkey   \n30          product                                       product_pkey   \n31  product_segment                               product_segment_pkey   \n32           rental                                idx_fk_inventory_id   \n33           rental  idx_unq_rental_rental_date_inventory_id_custom...   \n34           rental                                        rental_pkey   \n35            staff                                         staff_pkey   \n36            store                           idx_unq_manager_staff_id   \n37            store                                         store_pkey   \n38         workshop                                      workshop_pkey   \n\n                                             indexdef  \n0   CREATE UNIQUE INDEX accounts_pkey ON public.ac...  \n1   CREATE UNIQUE INDEX actor_pkey ON public.actor...  \n2   CREATE INDEX idx_actor_last_name ON public.act...  \n3   CREATE UNIQUE INDEX address_pkey ON public.add...  \n4   CREATE INDEX idx_fk_city_id ON public.address ...  \n5   CREATE UNIQUE INDEX branches_pkey ON public.br...  \n6   CREATE UNIQUE INDEX category_pkey ON public.ca...  \n7   CREATE UNIQUE INDEX city_pkey ON public.city U...  \n8   CREATE INDEX idx_fk_country_id ON public.city ...  \n9   CREATE UNIQUE INDEX color_pkey ON public.color...  \n10  CREATE UNIQUE INDEX country_pkey ON public.cou...  \n11  CREATE UNIQUE INDEX customer_pkey ON public.cu...  \n12  CREATE INDEX idx_fk_address_id ON public.custo...  \n13  CREATE INDEX idx_fk_store_id ON public.custome...  \n14  CREATE INDEX idx_last_name ON public.customer ...  \n15  CREATE UNIQUE INDEX unique_email ON public.cus...  \n16  CREATE UNIQUE INDEX customer_sex_pkey ON publi...  \n17  CREATE INDEX film_fulltext_idx ON public.film ...  \n18  CREATE UNIQUE INDEX film_pkey ON public.film U...  \n19  CREATE INDEX idx_fk_language_id ON public.film...  \n20  CREATE INDEX idx_title ON public.film USING bt...  \n21  CREATE UNIQUE INDEX film_actor_pkey ON public....  \n22  CREATE INDEX idx_fk_film_id ON public.film_act...  \n23  CREATE UNIQUE INDEX film_category_pkey ON publ...  \n24  CREATE INDEX idx_store_id_film_id ON public.in...  \n25  CREATE UNIQUE INDEX inventory_pkey ON public.i...  \n26  CREATE UNIQUE INDEX language_pkey ON public.la...  \n27  CREATE INDEX idx_fk_rental_id ON public.paymen...  \n28  CREATE INDEX idx_fk_staff_id ON public.payment...  \n29  CREATE UNIQUE INDEX payment_pkey ON public.pay...  \n30  CREATE UNIQUE INDEX product_pkey ON public.pro...  \n31  CREATE UNIQUE INDEX product_segment_pkey ON pu...  \n32  CREATE INDEX idx_fk_inventory_id ON public.ren...  \n33  CREATE UNIQUE INDEX idx_unq_rental_rental_date...  \n34  CREATE UNIQUE INDEX rental_pkey ON public.rent...  \n35  CREATE UNIQUE INDEX staff_pkey ON public.staff...  \n36  CREATE UNIQUE INDEX idx_unq_manager_staff_id O...  \n37  CREATE UNIQUE INDEX store_pkey ON public.store...  \n38  CREATE UNIQUE INDEX workshop_pkey ON public.wo...  ",
      "text/html": "<div>\n<style scoped>\n    .dataframe tbody tr th:only-of-type {\n        vertical-align: middle;\n    }\n\n    .dataframe tbody tr th {\n        vertical-align: top;\n    }\n\n    .dataframe thead th {\n        text-align: right;\n    }\n</style>\n<table border=\"1\" class=\"dataframe\">\n  <thead>\n    <tr style=\"text-align: right;\">\n      <th></th>\n      <th>tablename</th>\n      <th>indexname</th>\n      <th>indexdef</th>\n    </tr>\n  </thead>\n  <tbody>\n    <tr>\n      <th>0</th>\n      <td>accounts</td>\n      <td>accounts_pkey</td>\n      <td>CREATE UNIQUE INDEX accounts_pkey ON public.ac...</td>\n    </tr>\n    <tr>\n      <th>1</th>\n      <td>actor</td>\n      <td>actor_pkey</td>\n      <td>CREATE UNIQUE INDEX actor_pkey ON public.actor...</td>\n    </tr>\n    <tr>\n      <th>2</th>\n      <td>actor</td>\n      <td>idx_actor_last_name</td>\n      <td>CREATE INDEX idx_actor_last_name ON public.act...</td>\n    </tr>\n    <tr>\n      <th>3</th>\n      <td>address</td>\n      <td>address_pkey</td>\n      <td>CREATE UNIQUE INDEX address_pkey ON public.add...</td>\n    </tr>\n    <tr>\n      <th>4</th>\n      <td>address</td>\n      <td>idx_fk_city_id</td>\n      <td>CREATE INDEX idx_fk_city_id ON public.address ...</td>\n    </tr>\n    <tr>\n      <th>5</th>\n      <td>branches</td>\n      <td>branches_pkey</td>\n      <td>CREATE UNIQUE INDEX branches_pkey ON public.br...</td>\n    </tr>\n    <tr>\n      <th>6</th>\n      <td>category</td>\n      <td>category_pkey</td>\n      <td>CREATE UNIQUE INDEX category_pkey ON public.ca...</td>\n    </tr>\n    <tr>\n      <th>7</th>\n      <td>city</td>\n      <td>city_pkey</td>\n      <td>CREATE UNIQUE INDEX city_pkey ON public.city U...</td>\n    </tr>\n    <tr>\n      <th>8</th>\n      <td>city</td>\n      <td>idx_fk_country_id</td>\n      <td>CREATE INDEX idx_fk_country_id ON public.city ...</td>\n    </tr>\n    <tr>\n      <th>9</th>\n      <td>color</td>\n      <td>color_pkey</td>\n      <td>CREATE UNIQUE INDEX color_pkey ON public.color...</td>\n    </tr>\n    <tr>\n      <th>10</th>\n      <td>country</td>\n      <td>country_pkey</td>\n      <td>CREATE UNIQUE INDEX country_pkey ON public.cou...</td>\n    </tr>\n    <tr>\n      <th>11</th>\n      <td>customer</td>\n      <td>customer_pkey</td>\n      <td>CREATE UNIQUE INDEX customer_pkey ON public.cu...</td>\n    </tr>\n    <tr>\n      <th>12</th>\n      <td>customer</td>\n      <td>idx_fk_address_id</td>\n      <td>CREATE INDEX idx_fk_address_id ON public.custo...</td>\n    </tr>\n    <tr>\n      <th>13</th>\n      <td>customer</td>\n      <td>idx_fk_store_id</td>\n      <td>CREATE INDEX idx_fk_store_id ON public.custome...</td>\n    </tr>\n    <tr>\n      <th>14</th>\n      <td>customer</td>\n      <td>idx_last_name</td>\n      <td>CREATE INDEX idx_last_name ON public.customer ...</td>\n    </tr>\n    <tr>\n      <th>15</th>\n      <td>customer_email</td>\n      <td>unique_email</td>\n      <td>CREATE UNIQUE INDEX unique_email ON public.cus...</td>\n    </tr>\n    <tr>\n      <th>16</th>\n      <td>customer_sex</td>\n      <td>customer_sex_pkey</td>\n      <td>CREATE UNIQUE INDEX customer_sex_pkey ON publi...</td>\n    </tr>\n    <tr>\n      <th>17</th>\n      <td>film</td>\n      <td>film_fulltext_idx</td>\n      <td>CREATE INDEX film_fulltext_idx ON public.film ...</td>\n    </tr>\n    <tr>\n      <th>18</th>\n      <td>film</td>\n      <td>film_pkey</td>\n      <td>CREATE UNIQUE INDEX film_pkey ON public.film U...</td>\n    </tr>\n    <tr>\n      <th>19</th>\n      <td>film</td>\n      <td>idx_fk_language_id</td>\n      <td>CREATE INDEX idx_fk_language_id ON public.film...</td>\n    </tr>\n    <tr>\n      <th>20</th>\n      <td>film</td>\n      <td>idx_title</td>\n      <td>CREATE INDEX idx_title ON public.film USING bt...</td>\n    </tr>\n    <tr>\n      <th>21</th>\n      <td>film_actor</td>\n      <td>film_actor_pkey</td>\n      <td>CREATE UNIQUE INDEX film_actor_pkey ON public....</td>\n    </tr>\n    <tr>\n      <th>22</th>\n      <td>film_actor</td>\n      <td>idx_fk_film_id</td>\n      <td>CREATE INDEX idx_fk_film_id ON public.film_act...</td>\n    </tr>\n    <tr>\n      <th>23</th>\n      <td>film_category</td>\n      <td>film_category_pkey</td>\n      <td>CREATE UNIQUE INDEX film_category_pkey ON publ...</td>\n    </tr>\n    <tr>\n      <th>24</th>\n      <td>inventory</td>\n      <td>idx_store_id_film_id</td>\n      <td>CREATE INDEX idx_store_id_film_id ON public.in...</td>\n    </tr>\n    <tr>\n      <th>25</th>\n      <td>inventory</td>\n      <td>inventory_pkey</td>\n      <td>CREATE UNIQUE INDEX inventory_pkey ON public.i...</td>\n    </tr>\n    <tr>\n      <th>26</th>\n      <td>language</td>\n      <td>language_pkey</td>\n      <td>CREATE UNIQUE INDEX language_pkey ON public.la...</td>\n    </tr>\n    <tr>\n      <th>27</th>\n      <td>payment</td>\n      <td>idx_fk_rental_id</td>\n      <td>CREATE INDEX idx_fk_rental_id ON public.paymen...</td>\n    </tr>\n    <tr>\n      <th>28</th>\n      <td>payment</td>\n      <td>idx_fk_staff_id</td>\n      <td>CREATE INDEX idx_fk_staff_id ON public.payment...</td>\n    </tr>\n    <tr>\n      <th>29</th>\n      <td>payment</td>\n      <td>payment_pkey</td>\n      <td>CREATE UNIQUE INDEX payment_pkey ON public.pay...</td>\n    </tr>\n    <tr>\n      <th>30</th>\n      <td>product</td>\n      <td>product_pkey</td>\n      <td>CREATE UNIQUE INDEX product_pkey ON public.pro...</td>\n    </tr>\n    <tr>\n      <th>31</th>\n      <td>product_segment</td>\n      <td>product_segment_pkey</td>\n      <td>CREATE UNIQUE INDEX product_segment_pkey ON pu...</td>\n    </tr>\n    <tr>\n      <th>32</th>\n      <td>rental</td>\n      <td>idx_fk_inventory_id</td>\n      <td>CREATE INDEX idx_fk_inventory_id ON public.ren...</td>\n    </tr>\n    <tr>\n      <th>33</th>\n      <td>rental</td>\n      <td>idx_unq_rental_rental_date_inventory_id_custom...</td>\n      <td>CREATE UNIQUE INDEX idx_unq_rental_rental_date...</td>\n    </tr>\n    <tr>\n      <th>34</th>\n      <td>rental</td>\n      <td>rental_pkey</td>\n      <td>CREATE UNIQUE INDEX rental_pkey ON public.rent...</td>\n    </tr>\n    <tr>\n      <th>35</th>\n      <td>staff</td>\n      <td>staff_pkey</td>\n      <td>CREATE UNIQUE INDEX staff_pkey ON public.staff...</td>\n    </tr>\n    <tr>\n      <th>36</th>\n      <td>store</td>\n      <td>idx_unq_manager_staff_id</td>\n      <td>CREATE UNIQUE INDEX idx_unq_manager_staff_id O...</td>\n    </tr>\n    <tr>\n      <th>37</th>\n      <td>store</td>\n      <td>store_pkey</td>\n      <td>CREATE UNIQUE INDEX store_pkey ON public.store...</td>\n    </tr>\n    <tr>\n      <th>38</th>\n      <td>workshop</td>\n      <td>workshop_pkey</td>\n      <td>CREATE UNIQUE INDEX workshop_pkey ON public.wo...</td>\n    </tr>\n  </tbody>\n</table>\n</div>"
     },
     "execution_count": 57,
     "metadata": {},
     "output_type": "execute_result"
    }
   ],
   "source": [
    "# Список всех индексов базы dvdrental\n",
    "q = \"\"\"\n",
    "SELECT\n",
    "    tablename,\n",
    "    indexname,\n",
    "    indexdef\n",
    "FROM\n",
    "    pg_indexes\n",
    "WHERE\n",
    "    schemaname = 'public'\n",
    "ORDER BY\n",
    "    tablename,\n",
    "    indexname;\n",
    "\"\"\"\n",
    "sql_query(q)"
   ],
   "metadata": {
    "collapsed": false,
    "pycharm": {
     "name": "#%%\n"
    }
   }
  },
  {
   "cell_type": "markdown",
   "source": [
    "# Ключи\n",
    "\n",
    "Реляционность базы обеспечивают первичный (primary) и внешний (foreign) ключи.\n",
    "Они дают пользователю представления о том, как таблицы связаны друг с другом.\n",
    "Также они защищают от удаления строк, которые связаны с другой таблицей при помощи внешних ключей.\n",
    "Давайте посмотрим на список индексов, ключей и ограничений базы `dvdrental`."
   ],
   "metadata": {
    "collapsed": false,
    "pycharm": {
     "name": "#%% md\n"
    }
   }
  },
  {
   "cell_type": "code",
   "execution_count": 24,
   "outputs": [
    {
     "data": {
      "text/plain": "  0%|          | 0/17 [00:00<?, ?it/s]",
      "application/vnd.jupyter.widget-view+json": {
       "version_major": 2,
       "version_minor": 0,
       "model_id": "cc50d5834ecc4b1db6fda209287e681e"
      }
     },
     "metadata": {},
     "output_type": "display_data"
    }
   ],
   "source": [
    "from p_tqdm import p_map\n",
    "import pandas as pd\n",
    "list_all_tables = sql_query(\"\"\"\n",
    "SELECT tablename\n",
    "FROM pg_catalog.pg_tables\n",
    "WHERE schemaname != 'pg_catalog' AND\n",
    "    schemaname != 'information_schema';\n",
    "\"\"\")['tablename'].tolist()\n",
    "\n",
    "def get_keys_table(table_name):\n",
    "\n",
    "    data = sql_query(f\"\"\"\n",
    "    select  constraint_name, table_name, column_name\n",
    "    from information_schema.key_column_usage\n",
    "    where constraint_catalog=current_catalog and table_name='{table_name}'\n",
    "    and position_in_unique_constraint notnull;\n",
    "    \"\"\")\n",
    "    return data\n",
    "all_keys = list(p_map(get_keys_table, list_all_tables))\n",
    "all_keys = pd.concat(all_keys)"
   ],
   "metadata": {
    "collapsed": false,
    "pycharm": {
     "name": "#%%\n"
    }
   }
  },
  {
   "cell_type": "code",
   "execution_count": 29,
   "outputs": [],
   "source": [
    "exec_sql(\"\"\"\n",
    "DELETE FROM payment\n",
    "WHERE staff_id = 1\n",
    "\"\"\", conn)"
   ],
   "metadata": {
    "collapsed": false,
    "pycharm": {
     "name": "#%%\n"
    }
   }
  },
  {
   "cell_type": "markdown",
   "source": [
    "## Views\n",
    "\n",
    "Мы можем делать \"вьюхи\", которые позволят нам сохранять запросы и выводить результаты.\n",
    "Рассмотрим на примере ниже."
   ],
   "metadata": {
    "collapsed": false,
    "pycharm": {
     "name": "#%% md\n"
    }
   }
  },
  {
   "cell_type": "code",
   "execution_count": 35,
   "outputs": [],
   "source": [
    "exec_sql(\"\"\"\n",
    "CREATE VIEW  actor_film_names AS\n",
    "SELECT title, first_name, last_name\n",
    "FROM actor a\n",
    "INNER JOIN film_actor fa\n",
    "ON a.actor_id=fa.actor_id\n",
    "INNER JOIN film f\n",
    "ON f.film_id=fa.film_id;\n",
    "         \"\"\", conn)"
   ],
   "metadata": {
    "collapsed": false,
    "pycharm": {
     "name": "#%%\n"
    }
   }
  },
  {
   "cell_type": "code",
   "execution_count": 36,
   "outputs": [
    {
     "data": {
      "text/plain": "             title first_name  last_name\n0  Chamber Italian       Alec      Wayne\n1  Chamber Italian      Henry      Berry\n2  Chamber Italian        Rip    Winslet\n3  Chamber Italian       Gina  Degeneres\n4  Chamber Italian       Adam     Hopper",
      "text/html": "<div>\n<style scoped>\n    .dataframe tbody tr th:only-of-type {\n        vertical-align: middle;\n    }\n\n    .dataframe tbody tr th {\n        vertical-align: top;\n    }\n\n    .dataframe thead th {\n        text-align: right;\n    }\n</style>\n<table border=\"1\" class=\"dataframe\">\n  <thead>\n    <tr style=\"text-align: right;\">\n      <th></th>\n      <th>title</th>\n      <th>first_name</th>\n      <th>last_name</th>\n    </tr>\n  </thead>\n  <tbody>\n    <tr>\n      <th>0</th>\n      <td>Chamber Italian</td>\n      <td>Alec</td>\n      <td>Wayne</td>\n    </tr>\n    <tr>\n      <th>1</th>\n      <td>Chamber Italian</td>\n      <td>Henry</td>\n      <td>Berry</td>\n    </tr>\n    <tr>\n      <th>2</th>\n      <td>Chamber Italian</td>\n      <td>Rip</td>\n      <td>Winslet</td>\n    </tr>\n    <tr>\n      <th>3</th>\n      <td>Chamber Italian</td>\n      <td>Gina</td>\n      <td>Degeneres</td>\n    </tr>\n    <tr>\n      <th>4</th>\n      <td>Chamber Italian</td>\n      <td>Adam</td>\n      <td>Hopper</td>\n    </tr>\n  </tbody>\n</table>\n</div>"
     },
     "execution_count": 36,
     "metadata": {},
     "output_type": "execute_result"
    }
   ],
   "source": [
    "sql_query(\"\"\"\n",
    "SELECT *\n",
    "FROM actor_film_names\n",
    "LIMIT 5;\n",
    "\"\"\")"
   ],
   "metadata": {
    "collapsed": false,
    "pycharm": {
     "name": "#%%\n"
    }
   }
  },
  {
   "cell_type": "markdown",
   "source": [
    "## Views (материализованные)"
   ],
   "metadata": {
    "collapsed": false,
    "pycharm": {
     "name": "#%% md\n"
    }
   }
  },
  {
   "cell_type": "code",
   "execution_count": 59,
   "outputs": [],
   "source": [
    "exec_sql(\"\"\"\n",
    "CREATE MATERIALIZED VIEW  actor_film_names_mat AS\n",
    "\n",
    "SELECT title, first_name, last_name\n",
    "FROM actor a\n",
    "INNER JOIN film_actor fa\n",
    "ON a.actor_id=fa.actor_id\n",
    "INNER JOIN film f\n",
    "ON f.film_id=fa.film_id;\n",
    "         \"\"\", conn)"
   ],
   "metadata": {
    "collapsed": false,
    "pycharm": {
     "name": "#%%\n"
    }
   }
  }
 ],
 "metadata": {
  "kernelspec": {
   "display_name": "Python 3",
   "language": "python",
   "name": "python3"
  },
  "language_info": {
   "codemirror_mode": {
    "name": "ipython",
    "version": 2
   },
   "file_extension": ".py",
   "mimetype": "text/x-python",
   "name": "python",
   "nbconvert_exporter": "python",
   "pygments_lexer": "ipython2",
   "version": "2.7.6"
  }
 },
 "nbformat": 4,
 "nbformat_minor": 0
}