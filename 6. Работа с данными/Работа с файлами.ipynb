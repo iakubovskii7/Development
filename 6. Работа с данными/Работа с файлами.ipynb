{
 "cells": [
  {
   "cell_type": "markdown",
   "metadata": {
    "collapsed": true,
    "pycharm": {
     "name": "#%% md\n"
    }
   },
   "source": [
    "https://towardsdatascience.com/knowing-these-you-can-cover-99-of-file-operations-in-python-84725d82c2df"
   ]
  },
  {
   "cell_type": "markdown",
   "source": [
    "# Нативные способы создать, открыть, прочитать и закрыть файлы"
   ],
   "metadata": {
    "collapsed": false,
    "pycharm": {
     "name": "#%% md\n"
    }
   }
  },
  {
   "cell_type": "code",
   "execution_count": 4,
   "outputs": [],
   "source": [
    "file = open(\"file1.txt\",\"w+\")  # w+ означает запись\n",
    "file.write(\"a new line\")  # запишем текст\n",
    "file.close()  # закроем файл"
   ],
   "metadata": {
    "collapsed": false,
    "pycharm": {
     "name": "#%%\n"
    }
   }
  },
  {
   "cell_type": "markdown",
   "source": [
    "Основные методы работы с файлами:\n",
    "\n",
    "r\t- чтение (по умолчанию)\n",
    "r+\t- и чтение и запись (находимся в начале самого файла)\n",
    "w\t- запись (обрезает файл, если такой файл уже существует)\n",
    "w+\t- открыть для записи и чтения (обрезает файл, если такой файл уже существует)\n",
    "a\t- открываем для добавления новых данных (добавляет данные, если файл существует; начинает с конца файла)"
   ],
   "metadata": {
    "collapsed": false,
    "pycharm": {
     "name": "#%% md\n"
    }
   }
  },
  {
   "cell_type": "code",
   "execution_count": 5,
   "outputs": [],
   "source": [
    "# Открываем файлы правильно\n",
    "with open(\"file1.txt\", \"a\") as file1:\n",
    "    file1.write(\"\\nthe second line\")"
   ],
   "metadata": {
    "collapsed": false,
    "pycharm": {
     "name": "#%%\n"
    }
   }
  },
  {
   "cell_type": "markdown",
   "source": [
    "Однако, открытие при помощи контекстного менеджера сопряжено с потерей производительности.\n",
    "Все дело в том, что мы каждый раз закрываем и открываем файл.\n",
    "С другой стороны, это сильно помогает в случае каких-то непредвиденных ошибок.\n",
    "Наши данные будут надежно сохранены в файле."
   ],
   "metadata": {
    "collapsed": false,
    "pycharm": {
     "name": "#%% md\n"
    }
   }
  },
  {
   "cell_type": "code",
   "execution_count": 7,
   "outputs": [
    {
     "name": "stdout",
     "output_type": "stream",
     "text": [
      "CPU times: user 51.1 ms, sys: 6.12 ms, total: 57.3 ms\n",
      "Wall time: 66.8 ms\n",
      "CPU times: user 43.1 ms, sys: 3.89 ms, total: 46.9 ms\n",
      "Wall time: 53.3 ms\n",
      "CPU times: user 2.39 s, sys: 4.25 s, total: 6.64 s\n",
      "Wall time: 8.29 s\n"
     ]
    }
   ],
   "source": [
    "def _write_to_file(file, line):\n",
    "    with open(file, \"a\") as f:\n",
    "        f.write(line)\n",
    "\n",
    "def _valid_records():\n",
    "    for i in range(100000):\n",
    "        if i % 2 == 0:\n",
    "            yield i\n",
    "\n",
    "def use_context_manager_2(file):\n",
    "    for line in _valid_records():\n",
    "        _write_to_file(file, str(line))\n",
    "\n",
    "def use_context_manager_1(file):\n",
    "    with open(file, \"a\") as f:\n",
    "        for line in _valid_records():\n",
    "            f.write(str(line))\n",
    "\n",
    "def use_close_method(file):\n",
    "    f = open(file, \"a\")\n",
    "    for line in _valid_records():\n",
    "        f.write(str(line))\n",
    "    f.close()\n",
    "\n",
    "%time use_close_method(\"test.txt\")\n",
    "%time use_context_manager_1(\"test.txt\")\n",
    "%time use_context_manager_2(\"test.txt\")"
   ],
   "metadata": {
    "collapsed": false,
    "pycharm": {
     "name": "#%%\n"
    }
   }
  },
  {
   "cell_type": "markdown",
   "source": [
    "Существует 3 способа прочитать данные в файле:\n",
    "- read()\n",
    "- readline()\n",
    "- readlines()"
   ],
   "metadata": {
    "collapsed": false,
    "pycharm": {
     "name": "#%% md\n"
    }
   }
  },
  {
   "cell_type": "code",
   "execution_count": null,
   "outputs": [],
   "source": [],
   "metadata": {
    "collapsed": false,
    "pycharm": {
     "name": "#%%\n"
    }
   }
  }
 ],
 "metadata": {
  "kernelspec": {
   "display_name": "Python 3",
   "language": "python",
   "name": "python3"
  },
  "language_info": {
   "codemirror_mode": {
    "name": "ipython",
    "version": 2
   },
   "file_extension": ".py",
   "mimetype": "text/x-python",
   "name": "python",
   "nbconvert_exporter": "python",
   "pygments_lexer": "ipython2",
   "version": "2.7.6"
  }
 },
 "nbformat": 4,
 "nbformat_minor": 0
}