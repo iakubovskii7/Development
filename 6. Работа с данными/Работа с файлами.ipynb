{
 "cells": [
  {
   "cell_type": "markdown",
   "metadata": {
    "collapsed": true,
    "pycharm": {
     "name": "#%% md\n"
    }
   },
   "source": [
    "https://towardsdatascience.com/knowing-these-you-can-cover-99-of-file-operations-in-python-84725d82c2df"
   ]
  },
  {
   "cell_type": "markdown",
   "source": [
    "# Нативные способы создать, открыть, прочитать и закрыть файлы"
   ],
   "metadata": {
    "collapsed": false,
    "pycharm": {
     "name": "#%% md\n"
    }
   }
  },
  {
   "cell_type": "code",
   "execution_count": 3,
   "outputs": [],
   "source": [
    "import os\n",
    "os.chdir(\"./Files\")"
   ],
   "metadata": {
    "collapsed": false,
    "pycharm": {
     "name": "#%%\n"
    }
   }
  },
  {
   "cell_type": "code",
   "execution_count": 4,
   "outputs": [],
   "source": [
    "file = open(\"file1.txt\",\"w+\")  # w+ означает запись\n",
    "file.write(\"a new line\")  # запишем текст\n",
    "file.close()  # закроем файл"
   ],
   "metadata": {
    "collapsed": false,
    "pycharm": {
     "name": "#%%\n"
    }
   }
  },
  {
   "cell_type": "markdown",
   "source": [
    "Основные методы работы с файлами:\n",
    "\n",
    "r\t- чтение (по умолчанию)\n",
    "r+\t- и чтение и запись (находимся в начале самого файла)\n",
    "w\t- запись (обрезает файл, если такой файл уже существует)\n",
    "w+\t- открыть для записи и чтения (обрезает файл, если такой файл уже существует)\n",
    "a\t- открываем для добавления новых данных (добавляет данные, если файл существует; начинает с конца файла)"
   ],
   "metadata": {
    "collapsed": false,
    "pycharm": {
     "name": "#%% md\n"
    }
   }
  },
  {
   "cell_type": "code",
   "execution_count": 5,
   "outputs": [],
   "source": [
    "# Открываем файлы правильно\n",
    "with open(\"file1.txt\", \"a\") as file1:\n",
    "    file1.write(\"\\nthe second line\")"
   ],
   "metadata": {
    "collapsed": false,
    "pycharm": {
     "name": "#%%\n"
    }
   }
  },
  {
   "cell_type": "markdown",
   "source": [
    "Однако, открытие при помощи контекстного менеджера сопряжено с потерей производительности.\n",
    "Все дело в том, что мы каждый раз закрываем и открываем файл.\n",
    "С другой стороны, это сильно помогает в случае каких-то непредвиденных ошибок.\n",
    "Наши данные будут надежно сохранены в файле."
   ],
   "metadata": {
    "collapsed": false,
    "pycharm": {
     "name": "#%% md\n"
    }
   }
  },
  {
   "cell_type": "code",
   "execution_count": 7,
   "outputs": [
    {
     "name": "stdout",
     "output_type": "stream",
     "text": [
      "CPU times: user 51.1 ms, sys: 6.12 ms, total: 57.3 ms\n",
      "Wall time: 66.8 ms\n",
      "CPU times: user 43.1 ms, sys: 3.89 ms, total: 46.9 ms\n",
      "Wall time: 53.3 ms\n",
      "CPU times: user 2.39 s, sys: 4.25 s, total: 6.64 s\n",
      "Wall time: 8.29 s\n"
     ]
    }
   ],
   "source": [
    "def _write_to_file(file, line):\n",
    "    with open(file, \"a\") as f:\n",
    "        f.write(line)\n",
    "\n",
    "def _valid_records():\n",
    "    for i in range(100000):\n",
    "        if i % 2 == 0:\n",
    "            yield i\n",
    "\n",
    "def use_context_manager_2(file):\n",
    "    for line in _valid_records():\n",
    "        _write_to_file(file, str(line))\n",
    "\n",
    "def use_context_manager_1(file):\n",
    "    with open(file, \"a\") as f:\n",
    "        for line in _valid_records():\n",
    "            f.write(str(line))\n",
    "\n",
    "def use_close_method(file):\n",
    "    f = open(file, \"a\")\n",
    "    for line in _valid_records():\n",
    "        f.write(str(line))\n",
    "    f.close()\n",
    "\n",
    "%time use_close_method(\"test.txt\")\n",
    "%time use_context_manager_1(\"test.txt\")\n",
    "%time use_context_manager_2(\"test.txt\")"
   ],
   "metadata": {
    "collapsed": false,
    "pycharm": {
     "name": "#%%\n"
    }
   }
  },
  {
   "cell_type": "markdown",
   "source": [
    "Существует 3 способа прочитать данные в файле:\n",
    "- read()\n",
    "- readline()\n",
    "- readlines()\n",
    "\n",
    "По умолчанию `read(size=-1)` возвращает все содержимое файла. Если файл больше памяти, необязательный параметр size может помочь вам ограничить размер возвращаемых символов (текстовый режим) или байтов (двоичный режим).\n",
    "\n",
    "`readline(size=-1)` возвращает всю строку, включая символ \\n в конце. Если size больше 0, то возвращается максимальное количество символов из строки.\n",
    "\n",
    "`readlines(hint=-1)` возвращает все строки файла в виде списка. Необязательный параметр hint означает, что если количество возвращаемых символов превысит hint, то больше строк возвращено не будет."
   ],
   "metadata": {
    "collapsed": false,
    "pycharm": {
     "name": "#%% md\n"
    }
   }
  },
  {
   "cell_type": "code",
   "execution_count": 6,
   "outputs": [
    {
     "name": "stdout",
     "output_type": "stream",
     "text": [
      "the second line\n",
      "\n"
     ]
    }
   ],
   "source": [
    "with open('file1.txt', 'r') as reader:\n",
    "    line = reader.readline()\n",
    "    while line != \"\":\n",
    "        line = reader.readline()\n",
    "        print(line)"
   ],
   "metadata": {
    "collapsed": false,
    "pycharm": {
     "name": "#%%\n"
    }
   }
  },
  {
   "cell_type": "markdown",
   "source": [
    "Для записи существует 2 метода `write()` и `writelines()`.\n",
    "Как следует из названия, `write()` предназначен для записи строки, а `writelines()` - для записи списка строк. Ответственность за добавление \\n в конце лежит на разработчике."
   ],
   "metadata": {
    "collapsed": false,
    "pycharm": {
     "name": "#%% md\n"
    }
   }
  },
  {
   "cell_type": "code",
   "execution_count": 7,
   "outputs": [],
   "source": [
    "with open(\"test1.txt\", \"w+\") as f:\n",
    "    f.write(\"hi\\n\")\n",
    "    f.writelines([\"this is a line\\n\", \"this is another line\\n\"])"
   ],
   "metadata": {
    "collapsed": false,
    "pycharm": {
     "name": "#%%\n"
    }
   }
  },
  {
   "cell_type": "markdown",
   "source": [
    "Для .csv и .json форматов существуют специальные модули"
   ],
   "metadata": {
    "collapsed": false,
    "pycharm": {
     "name": "#%% md\n"
    }
   }
  },
  {
   "cell_type": "code",
   "execution_count": 30,
   "outputs": [],
   "source": [
    "import csv\n",
    "import json\n",
    "\n",
    "with open(\"cities.csv\", \"w+\") as file:\n",
    "    writer = csv.DictWriter(file, fieldnames=[\"city\", \"country\"])\n",
    "    writer.writeheader()\n",
    "    writer.writerow({\"city\": \"Amsterdam\", \"country\": \"Netherlands\"})\n",
    "    writer.writerows(\n",
    "        [\n",
    "            {\"city\": \"Berlin\", \"country\": \"Germany\"},\n",
    "            {\"city\": \"Shanghai\", \"country\": \"China\"},\n",
    "        ]\n",
    "    )"
   ],
   "metadata": {
    "collapsed": false,
    "pycharm": {
     "name": "#%%\n"
    }
   }
  },
  {
   "cell_type": "code",
   "execution_count": 31,
   "outputs": [],
   "source": [
    "# Добавим данных в csv\n",
    "with open(\"cities.csv\", \"a\") as file:\n",
    "    writer = csv.writer(file)\n",
    "    writer.writerow(['Moscow', 'Russia'])"
   ],
   "metadata": {
    "collapsed": false,
    "pycharm": {
     "name": "#%%\n"
    }
   }
  },
  {
   "cell_type": "code",
   "execution_count": 15,
   "outputs": [
    {
     "name": "stdout",
     "output_type": "stream",
     "text": [
      "city,country\n",
      "Amsterdam,Netherlands\n",
      "Berlin,Germany\n",
      "Shanghai,China\n",
      "Moscow,Russia\n",
      "\n"
     ]
    }
   ],
   "source": [
    "with open('cities.csv', 'r') as file:\n",
    "    print(file.read())"
   ],
   "metadata": {
    "collapsed": false,
    "pycharm": {
     "name": "#%%\n"
    }
   }
  },
  {
   "cell_type": "code",
   "execution_count": 19,
   "outputs": [],
   "source": [
    "with open(\"cities.json\", \"w+\") as file:\n",
    "    json.dump({\"city\": \"Amsterdam\", \"country\": \"Netherlands\"}, file)"
   ],
   "metadata": {
    "collapsed": false,
    "pycharm": {
     "name": "#%%\n"
    }
   }
  },
  {
   "cell_type": "code",
   "execution_count": 21,
   "outputs": [
    {
     "data": {
      "text/plain": "{'city': 'Amsterdam', 'country': 'Netherlands'}"
     },
     "execution_count": 21,
     "metadata": {},
     "output_type": "execute_result"
    }
   ],
   "source": [
    "with open(\"cities.json\", \"r\") as file:\n",
    "    our_dict = json.load(file)\n",
    "our_dict"
   ],
   "metadata": {
    "collapsed": false,
    "pycharm": {
     "name": "#%%\n"
    }
   }
  },
  {
   "cell_type": "markdown",
   "source": [
    "# Работа с файлами из Python"
   ],
   "metadata": {
    "collapsed": false,
    "pycharm": {
     "name": "#%% md\n"
    }
   }
  },
  {
   "cell_type": "code",
   "execution_count": 23,
   "outputs": [
    {
     "name": "stdout",
     "output_type": "stream",
     "text": [
      "os.stat_result(st_mode=33188, st_ino=4395118662, st_dev=16777220, st_nlink=1, st_uid=501, st_gid=20, st_size=84, st_atime=1643234849, st_mtime=1643234848, st_ctime=1643234848)\n"
     ]
    }
   ],
   "source": [
    "print(os.stat(\"cities.csv\"))"
   ],
   "metadata": {
    "collapsed": false,
    "pycharm": {
     "name": "#%%\n"
    }
   }
  },
  {
   "cell_type": "markdown",
   "source": [
    "- st_size - размер файла в байтах\n",
    "- st_atime - время последнего доступа\n",
    "- st_mtime - время последней модификации"
   ],
   "metadata": {
    "collapsed": false,
    "pycharm": {
     "name": "#%% md\n"
    }
   }
  },
  {
   "cell_type": "code",
   "execution_count": 25,
   "outputs": [
    {
     "name": "stdout",
     "output_type": "stream",
     "text": [
      "1643234849.5536268\n",
      "1643234848.445931\n",
      "1643234848.445931\n",
      "84\n"
     ]
    }
   ],
   "source": [
    "print(os.path.getatime(\"cities.csv\"))\n",
    "print(os.path.getctime(\"cities.csv\"))\n",
    "print(os.path.getmtime(\"cities.csv\"))\n",
    "print(os.path.getsize(\"cities.csv\"))"
   ],
   "metadata": {
    "collapsed": false,
    "pycharm": {
     "name": "#%%\n"
    }
   }
  },
  {
   "cell_type": "code",
   "execution_count": 26,
   "outputs": [
    {
     "data": {
      "text/plain": "'file1_copy.txt'"
     },
     "execution_count": 26,
     "metadata": {},
     "output_type": "execute_result"
    }
   ],
   "source": [
    "# Скопировать файл\n",
    "import shutil\n",
    "shutil.copy(\"file1.txt\", \"file1_copy.txt\")"
   ],
   "metadata": {
    "collapsed": false,
    "pycharm": {
     "name": "#%%\n"
    }
   }
  },
  {
   "cell_type": "markdown",
   "source": [
    "Можно также обращаться через Python к командной строке через модуль `os`.\n",
    "Заметим, что рабочая директория в этом случае остается как и в Python."
   ],
   "metadata": {
    "collapsed": false,
    "pycharm": {
     "name": "#%% md\n"
    }
   }
  },
  {
   "cell_type": "code",
   "execution_count": 33,
   "outputs": [],
   "source": [
    "# Копировать\n",
    "os.system(\"cp file1.txt file1_copy_copy.txt\")\n",
    "\n",
    "# Переименовать / сменить расположение\n",
    "os.system(\"mv cities.csv cities_new.csv\")\n",
    "os.rename(\"test1.txt\", \"test11.txt\")\n",
    "\n",
    "# Удалить\n",
    "os.system(\"rm file1_copy_copy.txt\")"
   ],
   "metadata": {
    "collapsed": false,
    "pycharm": {
     "name": "#%%\n"
    }
   }
  },
  {
   "cell_type": "markdown",
   "source": [
    "# Поиск файлов"
   ],
   "metadata": {
    "collapsed": false,
    "pycharm": {
     "name": "#%% md\n"
    }
   }
  },
  {
   "cell_type": "code",
   "execution_count": 34,
   "outputs": [
    {
     "name": "stdout",
     "output_type": "stream",
     "text": [
      "['cities_new.csv']\n",
      "['cities_new.csv']\n"
     ]
    }
   ],
   "source": [
    "import glob\n",
    "print(glob.glob(\"*.csv\"))\n",
    "print(glob.glob(\"**/*.csv\",recursive=True))"
   ],
   "metadata": {
    "collapsed": false,
    "pycharm": {
     "name": "#%%\n"
    }
   }
  },
  {
   "cell_type": "code",
   "execution_count": 35,
   "outputs": [
    {
     "name": "stdout",
     "output_type": "stream",
     "text": [
      ".csv\n",
      "cities_new.csv\n",
      ".csv\n",
      "cities_new.csv\n"
     ]
    }
   ],
   "source": [
    "for file in os.listdir(\".\"):\n",
    "    if file.endswith(\".csv\"):\n",
    "        print(file)\n",
    "\n",
    "for root, dirs, files in os.walk(\".\"):\n",
    "    for file in files:\n",
    "        if file.endswith(\".csv\"):\n",
    "            print(file)"
   ],
   "metadata": {
    "collapsed": false,
    "pycharm": {
     "name": "#%%\n"
    }
   }
  },
  {
   "cell_type": "markdown",
   "source": [
    "## pathlib"
   ],
   "metadata": {
    "collapsed": false,
    "pycharm": {
     "name": "#%% md\n"
    }
   }
  },
  {
   "cell_type": "code",
   "execution_count": 36,
   "outputs": [
    {
     "name": "stdout",
     "output_type": "stream",
     "text": [
      ".csv\n",
      "cities_new.csv\n"
     ]
    }
   ],
   "source": [
    "from pathlib import Path\n",
    "\n",
    "p = Path(\".\")\n",
    "for name in p.glob(\"**/*.csv\"): # recursive\n",
    "    print(name)"
   ],
   "metadata": {
    "collapsed": false,
    "pycharm": {
     "name": "#%%\n"
    }
   }
  },
  {
   "cell_type": "code",
   "execution_count": 38,
   "outputs": [
    {
     "name": "stdout",
     "output_type": "stream",
     "text": [
      "/Users/iakubovskii/Репетитор/Development/6. Работа с данными/Files/1.txt\n",
      "1.txt\n",
      "/Users/iakubovskii/Репетитор/Development/6. Работа с данными/Files/1.txt\n",
      "1.txt\n"
     ]
    }
   ],
   "source": [
    "import pathlib\n",
    "print(os.path.abspath(\"1.txt\"))  # absolute\n",
    "print(os.path.relpath(\"1.txt\"))  # relative\n",
    "\n",
    "print(pathlib.Path(\"1.txt\").absolute())  # absolute\n",
    "print(pathlib.Path(\"1.txt\"))  # relative"
   ],
   "metadata": {
    "collapsed": false,
    "pycharm": {
     "name": "#%%\n"
    }
   }
  },
  {
   "cell_type": "code",
   "execution_count": 40,
   "outputs": [
    {
     "name": "stdout",
     "output_type": "stream",
     "text": [
      "/home/file.txt\n",
      "/home/file.txt\n"
     ]
    }
   ],
   "source": [
    "# Присоединяем к пути еще папки\n",
    "print(os.path.join(\"/home\", \"file.txt\"))\n",
    "print(pathlib.Path(\"/home\") / \"file.txt\")"
   ],
   "metadata": {
    "collapsed": false,
    "pycharm": {
     "name": "#%%\n"
    }
   }
  },
  {
   "cell_type": "code",
   "execution_count": 42,
   "outputs": [
    {
     "name": "stdout",
     "output_type": "stream",
     "text": [
      "Files\n",
      "Files\n",
      "/Users/iakubovskii/Репетитор/Development/6. Работа с данными/Files/Files\n",
      "/Users/iakubovskii/Репетитор/Development/6. Работа с данными/Files/Files\n"
     ]
    }
   ],
   "source": [
    "# relative path\n",
    "print(os.path.dirname(\"Files/cities_new.csv\"))\n",
    "# source\n",
    "print(pathlib.Path(\"Files/cities_new.csv\").parent)\n",
    "# source\n",
    "\n",
    "# absolute path\n",
    "print(pathlib.Path(\"Files/cities_new.csv\").resolve().parent)\n",
    "print(os.path.dirname(os.path.abspath(\"Files/cities_new.csv\")))"
   ],
   "metadata": {
    "collapsed": false,
    "pycharm": {
     "name": "#%%\n"
    }
   }
  },
  {
   "cell_type": "markdown",
   "source": [
    "Как говорится в документации Python, `pathlib` - это более объектно-ориентированное решение, чем `os`. Он представляет каждый путь к файлу как объект, а не как строку. Это дает много преимуществ разработчикам, например, упрощает объединение нескольких путей, является более последовательным на разных операционных системах, методы доступны непосредственно из объекта."
   ],
   "metadata": {
    "collapsed": false,
    "pycharm": {
     "name": "#%% md\n"
    }
   }
  },
  {
   "cell_type": "markdown",
   "source": [
    "# pandas\n",
    "\n",
    "Это самый легкий способ записать и прочитать файлы любого формата в Python.\n",
    "Однако и самый затратный по памяти. Но если данных немного, то можно на это забить и радоваться удобству pandas."
   ],
   "metadata": {
    "collapsed": false,
    "pycharm": {
     "name": "#%% md\n"
    }
   }
  },
  {
   "cell_type": "code",
   "execution_count": 44,
   "outputs": [
    {
     "ename": "TypeError",
     "evalue": "to_csv() got an unexpected keyword argument 'method'",
     "output_type": "error",
     "traceback": [
      "\u001B[0;31m---------------------------------------------------------------------------\u001B[0m",
      "\u001B[0;31mTypeError\u001B[0m                                 Traceback (most recent call last)",
      "\u001B[0;32m/var/folders/10/4wpn2_y536s4d9p_khr6zgv40000gn/T/ipykernel_69807/2501993541.py\u001B[0m in \u001B[0;36m<module>\u001B[0;34m\u001B[0m\n\u001B[1;32m      2\u001B[0m \u001B[0mdf\u001B[0m \u001B[0;34m=\u001B[0m \u001B[0mpd\u001B[0m\u001B[0;34m.\u001B[0m\u001B[0mread_csv\u001B[0m\u001B[0;34m(\u001B[0m\u001B[0;34m\"cities_new.csv\"\u001B[0m\u001B[0;34m)\u001B[0m\u001B[0;34m\u001B[0m\u001B[0;34m\u001B[0m\u001B[0m\n\u001B[1;32m      3\u001B[0m \u001B[0mdf\u001B[0m\u001B[0;34m.\u001B[0m\u001B[0mappend\u001B[0m\u001B[0;34m(\u001B[0m\u001B[0;34m[\u001B[0m\u001B[0;34m'Kiev'\u001B[0m\u001B[0;34m,\u001B[0m \u001B[0;34m'Ukraine'\u001B[0m\u001B[0;34m]\u001B[0m\u001B[0;34m)\u001B[0m\u001B[0;34m\u001B[0m\u001B[0;34m\u001B[0m\u001B[0m\n\u001B[0;32m----> 4\u001B[0;31m \u001B[0mdf\u001B[0m\u001B[0;34m.\u001B[0m\u001B[0mto_csv\u001B[0m\u001B[0;34m(\u001B[0m\u001B[0;34m\"cities_new.csv\"\u001B[0m\u001B[0;34m,\u001B[0m \u001B[0mindex\u001B[0m\u001B[0;34m=\u001B[0m\u001B[0;32mFalse\u001B[0m\u001B[0;34m,\u001B[0m \u001B[0mmethod\u001B[0m\u001B[0;34m=\u001B[0m\u001B[0;34m'append'\u001B[0m\u001B[0;34m)\u001B[0m\u001B[0;34m\u001B[0m\u001B[0;34m\u001B[0m\u001B[0m\n\u001B[0m",
      "\u001B[0;31mTypeError\u001B[0m: to_csv() got an unexpected keyword argument 'method'"
     ]
    }
   ],
   "source": [
    "import pandas as pd\n",
    "df = pd.read_csv(\"cities_new.csv\")\n",
    "df.append(['Kiev', 'Ukraine'])\n",
    "df.to_csv(\"cities_new.csv\", index=False, mode='a', header)"
   ],
   "metadata": {
    "collapsed": false,
    "pycharm": {
     "name": "#%%\n"
    }
   }
  },
  {
   "cell_type": "code",
   "execution_count": null,
   "outputs": [],
   "source": [],
   "metadata": {
    "collapsed": false,
    "pycharm": {
     "name": "#%%\n"
    }
   }
  }
 ],
 "metadata": {
  "kernelspec": {
   "display_name": "Python 3",
   "language": "python",
   "name": "python3"
  },
  "language_info": {
   "codemirror_mode": {
    "name": "ipython",
    "version": 2
   },
   "file_extension": ".py",
   "mimetype": "text/x-python",
   "name": "python",
   "nbconvert_exporter": "python",
   "pygments_lexer": "ipython2",
   "version": "2.7.6"
  }
 },
 "nbformat": 4,
 "nbformat_minor": 0
}