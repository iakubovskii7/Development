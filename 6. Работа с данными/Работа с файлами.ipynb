{
 "cells": [
  {
   "cell_type": "markdown",
   "metadata": {
    "collapsed": true,
    "pycharm": {
     "name": "#%% md\n"
    }
   },
   "source": [
    "https://towardsdatascience.com/knowing-these-you-can-cover-99-of-file-operations-in-python-84725d82c2df"
   ]
  },
  {
   "cell_type": "markdown",
   "source": [
    "# Нативные способы создать, открыть, прочитать и закрыть файлы"
   ],
   "metadata": {
    "collapsed": false,
    "pycharm": {
     "name": "#%% md\n"
    }
   }
  },
  {
   "cell_type": "code",
   "execution_count": 6,
   "outputs": [
    {
     "name": "stdout",
     "output_type": "stream",
     "text": [
      "/Users/iakubovskii/Репетитор/Development/6. Работа с данными\n",
      "/Users/iakubovskii/Репетитор/Development/6. Работа с данными/Files\n"
     ]
    }
   ],
   "source": [
    "import os\n",
    "print(os.getcwd())  # посмотреть рабочую директорию\n",
    "os.chdir(\"./Files\")  # сменить рабочую директорию\n",
    "print(os.getcwd())  # посмотреть снова рабочую директорию"
   ],
   "metadata": {
    "collapsed": false,
    "pycharm": {
     "name": "#%%\n"
    }
   }
  },
  {
   "cell_type": "code",
   "execution_count": 7,
   "outputs": [],
   "source": [
    "file = open(\"file1.txt\",\"w+\")  # w+ означает запись\n",
    "file.write(\"a new line\")  # запишем текст\n",
    "file.close()  # закроем файл"
   ],
   "metadata": {
    "collapsed": false,
    "pycharm": {
     "name": "#%%\n"
    }
   }
  },
  {
   "cell_type": "markdown",
   "source": [
    "Основные методы работы с файлами:\n",
    "\n",
    "r\t- чтение (по умолчанию)\n",
    "r+\t- и чтение и запись (находимся в начале самого файла)\n",
    "w\t- запись (обрезает файл, если такой файл уже существует)\n",
    "w+\t- открыть для записи и чтения (обрезает файл, если такой файл уже существует)\n",
    "a\t- открываем для добавления новых данных (добавляет данные, если файл существует; начинает с конца файла)"
   ],
   "metadata": {
    "collapsed": false,
    "pycharm": {
     "name": "#%% md\n"
    }
   }
  },
  {
   "cell_type": "code",
   "execution_count": 8,
   "outputs": [],
   "source": [
    "# Открываем файлы правильно\n",
    "with open(\"file1.txt\", \"a\") as file1:\n",
    "    file1.write(\"\\nthe second line\")"
   ],
   "metadata": {
    "collapsed": false,
    "pycharm": {
     "name": "#%%\n"
    }
   }
  },
  {
   "cell_type": "markdown",
   "source": [
    "Однако, открытие при помощи контекстного менеджера сопряжено с потерей производительности.\n",
    "Все дело в том, что мы каждый раз закрываем и открываем файл.\n",
    "С другой стороны, это сильно помогает в случае каких-то непредвиденных ошибок.\n",
    "Наши данные будут надежно сохранены в файле."
   ],
   "metadata": {
    "collapsed": false,
    "pycharm": {
     "name": "#%% md\n"
    }
   }
  },
  {
   "cell_type": "code",
   "execution_count": 9,
   "outputs": [
    {
     "name": "stdout",
     "output_type": "stream",
     "text": [
      "CPU times: user 54.6 ms, sys: 9.61 ms, total: 64.2 ms\n",
      "Wall time: 99.1 ms\n",
      "CPU times: user 41.5 ms, sys: 4.42 ms, total: 45.9 ms\n",
      "Wall time: 62.6 ms\n",
      "CPU times: user 2.61 s, sys: 4.72 s, total: 7.33 s\n",
      "Wall time: 12.9 s\n"
     ]
    }
   ],
   "source": [
    "def _write_to_file(file, line):\n",
    "    with open(file, \"a\") as f:\n",
    "        f.write(line)\n",
    "\n",
    "def _valid_records():\n",
    "    for i in range(100000):\n",
    "        if i % 2 == 0:\n",
    "            yield i\n",
    "\n",
    "def use_context_manager_2(file):\n",
    "    for line in _valid_records():\n",
    "        _write_to_file(file, str(line))\n",
    "\n",
    "def use_context_manager_1(file):\n",
    "    with open(file, \"a\") as f:\n",
    "        for line in _valid_records():\n",
    "            f.write(str(line))\n",
    "\n",
    "def use_close_method(file):\n",
    "    f = open(file, \"a\")\n",
    "    for line in _valid_records():\n",
    "        f.write(str(line))\n",
    "    f.close()\n",
    "\n",
    "%time use_close_method(\"test.txt\")\n",
    "%time use_context_manager_1(\"test.txt\")\n",
    "%time use_context_manager_2(\"test.txt\")"
   ],
   "metadata": {
    "collapsed": false,
    "pycharm": {
     "name": "#%%\n"
    }
   }
  },
  {
   "cell_type": "markdown",
   "source": [
    "Существует 3 способа прочитать данные в файле:\n",
    "- read()\n",
    "- readline()\n",
    "- readlines()\n",
    "\n",
    "По умолчанию `read(size=-1)` возвращает все содержимое файла. Если файл больше памяти, необязательный параметр size может помочь вам ограничить размер возвращаемых символов (текстовый режим) или байтов (двоичный режим).\n",
    "\n",
    "`readline(size=-1)` возвращает всю строку, включая символ \\n в конце. Если size больше 0, то возвращается максимальное количество символов из строки.\n",
    "\n",
    "`readlines(hint=-1)` возвращает все строки файла в виде списка. Необязательный параметр hint означает, что если количество возвращаемых символов превысит hint, то больше строк возвращено не будет."
   ],
   "metadata": {
    "collapsed": false,
    "pycharm": {
     "name": "#%% md\n"
    }
   }
  },
  {
   "cell_type": "code",
   "execution_count": 10,
   "outputs": [
    {
     "name": "stdout",
     "output_type": "stream",
     "text": [
      "the second line\n",
      "\n"
     ]
    }
   ],
   "source": [
    "with open('file1.txt', 'r') as reader:\n",
    "    line = reader.readline()\n",
    "    while line != \"\":\n",
    "        line = reader.readline()\n",
    "        print(line)"
   ],
   "metadata": {
    "collapsed": false,
    "pycharm": {
     "name": "#%%\n"
    }
   }
  },
  {
   "cell_type": "markdown",
   "source": [
    "Для записи существует 2 метода `write()` и `writelines()`.\n",
    "Как следует из названия, `write()` предназначен для записи строки, а `writelines()` - для записи списка строк. Ответственность за добавление \\n в конце лежит на разработчике."
   ],
   "metadata": {
    "collapsed": false,
    "pycharm": {
     "name": "#%% md\n"
    }
   }
  },
  {
   "cell_type": "code",
   "execution_count": 11,
   "outputs": [],
   "source": [
    "with open(\"test1.txt\", \"w+\") as f:\n",
    "    f.write(\"hi\\n\")\n",
    "    f.writelines([\"this is a line\\n\", \"this is another line\\n\"])"
   ],
   "metadata": {
    "collapsed": false,
    "pycharm": {
     "name": "#%%\n"
    }
   }
  },
  {
   "cell_type": "markdown",
   "source": [
    "Для .csv и .json форматов существуют специальные модули"
   ],
   "metadata": {
    "collapsed": false,
    "pycharm": {
     "name": "#%% md\n"
    }
   }
  },
  {
   "cell_type": "code",
   "execution_count": 12,
   "outputs": [],
   "source": [
    "import csv\n",
    "import json\n",
    "\n",
    "with open(\"cities.csv\", \"w+\") as file:\n",
    "    writer = csv.DictWriter(file, fieldnames=[\"city\", \"country\"])\n",
    "    writer.writeheader()\n",
    "    writer.writerow({\"city\": \"Amsterdam\", \"country\": \"Netherlands\"})\n",
    "    writer.writerows(\n",
    "        [\n",
    "            {\"city\": \"Berlin\", \"country\": \"Germany\"},\n",
    "            {\"city\": \"Shanghai\", \"country\": \"China\"},\n",
    "        ]\n",
    "    )"
   ],
   "metadata": {
    "collapsed": false,
    "pycharm": {
     "name": "#%%\n"
    }
   }
  },
  {
   "cell_type": "code",
   "execution_count": 15,
   "outputs": [],
   "source": [
    "# Добавим данных в csv\n",
    "with open(\"cities.csv\", \"a\") as file:\n",
    "    writer = csv.writer(file)\n",
    "    writer.writerow(['Moscow', 'Russia'])"
   ],
   "metadata": {
    "collapsed": false,
    "pycharm": {
     "name": "#%%\n"
    }
   }
  },
  {
   "cell_type": "code",
   "execution_count": 16,
   "outputs": [
    {
     "name": "stdout",
     "output_type": "stream",
     "text": [
      "city,country\n",
      "Amsterdam,Netherlands\n",
      "Berlin,Germany\n",
      "Shanghai,China\n",
      "Moscow,Russia\n",
      "Moscow,Russia,Capital\n",
      "\n"
     ]
    }
   ],
   "source": [
    "with open('cities.csv', 'r') as file:\n",
    "    print(file.read())"
   ],
   "metadata": {
    "collapsed": false,
    "pycharm": {
     "name": "#%%\n"
    }
   }
  },
  {
   "cell_type": "code",
   "execution_count": 17,
   "outputs": [],
   "source": [
    "with open(\"cities.json\", \"w+\") as file:\n",
    "    json.dump({\"city\": \"Amsterdam\", \"country\": \"Netherlands\"}, file)"
   ],
   "metadata": {
    "collapsed": false,
    "pycharm": {
     "name": "#%%\n"
    }
   }
  },
  {
   "cell_type": "code",
   "execution_count": 18,
   "outputs": [
    {
     "data": {
      "text/plain": "{'city': 'Amsterdam', 'country': 'Netherlands'}"
     },
     "execution_count": 18,
     "metadata": {},
     "output_type": "execute_result"
    }
   ],
   "source": [
    "with open(\"cities.json\", \"r\") as file:\n",
    "    our_dict = json.load(file)\n",
    "our_dict"
   ],
   "metadata": {
    "collapsed": false,
    "pycharm": {
     "name": "#%%\n"
    }
   }
  },
  {
   "cell_type": "markdown",
   "source": [
    "# Работа с файлами из Python"
   ],
   "metadata": {
    "collapsed": false,
    "pycharm": {
     "name": "#%% md\n"
    }
   }
  },
  {
   "cell_type": "code",
   "execution_count": 19,
   "outputs": [
    {
     "name": "stdout",
     "output_type": "stream",
     "text": [
      "os.stat_result(st_mode=33188, st_ino=4395533865, st_dev=16777220, st_nlink=1, st_uid=501, st_gid=20, st_size=107, st_atime=1643916535, st_mtime=1643916533, st_ctime=1643916533)\n"
     ]
    }
   ],
   "source": [
    "print(os.stat(\"cities.csv\"))"
   ],
   "metadata": {
    "collapsed": false,
    "pycharm": {
     "name": "#%%\n"
    }
   }
  },
  {
   "cell_type": "code",
   "execution_count": 31,
   "outputs": [
    {
     "data": {
      "text/plain": "datetime.datetime(2022, 2, 3, 22, 28, 55)"
     },
     "execution_count": 31,
     "metadata": {},
     "output_type": "execute_result"
    }
   ],
   "source": [
    "from datetime import datetime\n",
    "datetime.fromtimestamp(1643916535)"
   ],
   "metadata": {
    "collapsed": false,
    "pycharm": {
     "name": "#%%\n"
    }
   }
  },
  {
   "cell_type": "markdown",
   "source": [
    "- st_size - размер файла в байтах\n",
    "- st_atime - время последнего доступа\n",
    "- st_mtime - время последней модификации"
   ],
   "metadata": {
    "collapsed": false,
    "pycharm": {
     "name": "#%% md\n"
    }
   }
  },
  {
   "cell_type": "code",
   "execution_count": 34,
   "outputs": [
    {
     "name": "stdout",
     "output_type": "stream",
     "text": [
      "1643916535.9090462\n",
      "1643916533.8795009\n",
      "1643916533.8795009\n",
      "107\n"
     ]
    }
   ],
   "source": [
    "print(os.path.getatime(\"cities.csv\"))\n",
    "print(os.path.getctime(\"cities.csv\"))\n",
    "print(os.path.getmtime(\"cities.csv\"))\n",
    "print(os.path.getsize(\"cities.csv\"))"
   ],
   "metadata": {
    "collapsed": false,
    "pycharm": {
     "name": "#%%\n"
    }
   }
  },
  {
   "cell_type": "code",
   "execution_count": 35,
   "outputs": [
    {
     "data": {
      "text/plain": "'file1_copy.txt'"
     },
     "execution_count": 35,
     "metadata": {},
     "output_type": "execute_result"
    }
   ],
   "source": [
    "# Скопировать файл\n",
    "import shutil\n",
    "shutil.copy(\"file1.txt\", \"file1_copy.txt\")"
   ],
   "metadata": {
    "collapsed": false,
    "pycharm": {
     "name": "#%%\n"
    }
   }
  },
  {
   "cell_type": "markdown",
   "source": [
    "Можно также обращаться через Python к командной строке через модуль `os`.\n",
    "Заметим, что рабочая директория в этом случае остается как и в Python."
   ],
   "metadata": {
    "collapsed": false,
    "pycharm": {
     "name": "#%% md\n"
    }
   }
  },
  {
   "cell_type": "code",
   "execution_count": 33,
   "outputs": [],
   "source": [
    "# Копировать\n",
    "os.system(\"cp file1.txt file1_copy_copy.txt\")\n",
    "\n",
    "# Переименовать / сменить расположение\n",
    "os.system(\"mv cities.csv cities_new.csv\")\n",
    "os.rename(\"test1.txt\", \"test11.txt\")\n",
    "\n",
    "# Удалить\n",
    "os.system(\"rm file1_copy_copy.txt\")"
   ],
   "metadata": {
    "collapsed": false,
    "pycharm": {
     "name": "#%%\n"
    }
   }
  },
  {
   "cell_type": "markdown",
   "source": [
    "# Поиск файлов"
   ],
   "metadata": {
    "collapsed": false,
    "pycharm": {
     "name": "#%% md\n"
    }
   }
  },
  {
   "cell_type": "code",
   "execution_count": 36,
   "outputs": [
    {
     "name": "stdout",
     "output_type": "stream",
     "text": [
      "['cities.csv', 'cities_new.csv']\n",
      "['cities.csv', 'cities_new.csv']\n"
     ]
    }
   ],
   "source": [
    "import glob\n",
    "print(glob.glob(\"*.csv\"))\n",
    "print(glob.glob(\"**/*.csv\",recursive=True))"
   ],
   "metadata": {
    "collapsed": false,
    "pycharm": {
     "name": "#%%\n"
    }
   }
  },
  {
   "cell_type": "code",
   "execution_count": 37,
   "outputs": [
    {
     "name": "stdout",
     "output_type": "stream",
     "text": [
      ".csv\n",
      "cities.csv\n",
      "cities_new.csv\n",
      ".csv\n",
      "cities.csv\n",
      "cities_new.csv\n"
     ]
    }
   ],
   "source": [
    "for file in os.listdir(\".\"):\n",
    "    if file.endswith(\".csv\"):\n",
    "        print(file)\n",
    "\n",
    "for root, dirs, files in os.walk(\".\"):\n",
    "    for file in files:\n",
    "        if file.endswith(\".csv\"):\n",
    "            print(file)"
   ],
   "metadata": {
    "collapsed": false,
    "pycharm": {
     "name": "#%%\n"
    }
   }
  },
  {
   "cell_type": "markdown",
   "source": [
    "## pathlib"
   ],
   "metadata": {
    "collapsed": false,
    "pycharm": {
     "name": "#%% md\n"
    }
   }
  },
  {
   "cell_type": "code",
   "execution_count": 38,
   "outputs": [
    {
     "name": "stdout",
     "output_type": "stream",
     "text": [
      ".csv\n",
      "cities.csv\n",
      "cities_new.csv\n"
     ]
    }
   ],
   "source": [
    "from pathlib import Path\n",
    "\n",
    "p = Path(\".\")\n",
    "for name in p.glob(\"**/*.csv\"): # recursive\n",
    "    print(name)"
   ],
   "metadata": {
    "collapsed": false,
    "pycharm": {
     "name": "#%%\n"
    }
   }
  },
  {
   "cell_type": "code",
   "execution_count": 38,
   "outputs": [
    {
     "name": "stdout",
     "output_type": "stream",
     "text": [
      "/Users/iakubovskii/Репетитор/Development/6. Работа с данными/Files/1.txt\n",
      "1.txt\n",
      "/Users/iakubovskii/Репетитор/Development/6. Работа с данными/Files/1.txt\n",
      "1.txt\n"
     ]
    }
   ],
   "source": [
    "import pathlib\n",
    "print(os.path.abspath(\"1.txt\"))  # absolute\n",
    "print(os.path.relpath(\"1.txt\"))  # relative\n",
    "\n",
    "print(pathlib.Path(\"1.txt\").absolute())  # absolute\n",
    "print(pathlib.Path(\"1.txt\"))  # relative"
   ],
   "metadata": {
    "collapsed": false,
    "pycharm": {
     "name": "#%%\n"
    }
   }
  },
  {
   "cell_type": "code",
   "execution_count": 40,
   "outputs": [
    {
     "name": "stdout",
     "output_type": "stream",
     "text": [
      "/home/file.txt\n",
      "/home/file.txt\n"
     ]
    }
   ],
   "source": [
    "# Присоединяем к пути еще папки\n",
    "print(os.path.join(\"/home\", \"file.txt\"))\n",
    "print(pathlib.Path(\"/home\") / \"file.txt\")"
   ],
   "metadata": {
    "collapsed": false,
    "pycharm": {
     "name": "#%%\n"
    }
   }
  },
  {
   "cell_type": "code",
   "execution_count": 42,
   "outputs": [
    {
     "name": "stdout",
     "output_type": "stream",
     "text": [
      "Files\n",
      "Files\n",
      "/Users/iakubovskii/Репетитор/Development/6. Работа с данными/Files/Files\n",
      "/Users/iakubovskii/Репетитор/Development/6. Работа с данными/Files/Files\n"
     ]
    }
   ],
   "source": [
    "# relative path\n",
    "print(os.path.dirname(\"Files/cities_new.csv\"))\n",
    "# source\n",
    "print(pathlib.Path(\"Files/cities_new.csv\").parent)\n",
    "# source\n",
    "\n",
    "# absolute path\n",
    "print(pathlib.Path(\"Files/cities_new.csv\").resolve().parent)\n",
    "print(os.path.dirname(os.path.abspath(\"Files/cities_new.csv\")))"
   ],
   "metadata": {
    "collapsed": false,
    "pycharm": {
     "name": "#%%\n"
    }
   }
  },
  {
   "cell_type": "markdown",
   "source": [
    "Как говорится в документации Python, `pathlib` - это более объектно-ориентированное решение, чем `os`. Он представляет каждый путь к файлу как объект, а не как строку. Это дает много преимуществ разработчикам, например, упрощает объединение нескольких путей, является более последовательным на разных операционных системах, методы доступны непосредственно из объекта."
   ],
   "metadata": {
    "collapsed": false,
    "pycharm": {
     "name": "#%% md\n"
    }
   }
  },
  {
   "cell_type": "markdown",
   "source": [
    "# pandas\n",
    "\n",
    "Это самый легкий способ записать и прочитать файлы любого формата в Python.\n",
    "Однако и самый затратный по памяти. Но если данных немного, то можно на это забить и радоваться удобству pandas."
   ],
   "metadata": {
    "collapsed": false,
    "pycharm": {
     "name": "#%% md\n"
    }
   }
  },
  {
   "cell_type": "code",
   "execution_count": 41,
   "outputs": [],
   "source": [
    "import pandas as pd\n",
    "df = pd.read_csv(\"cities_new.csv\")\n",
    "df.append(['Kiev', 'Ukraine'])\n",
    "df.to_csv(\"cities_new.csv\", index=False, mode='a', header=True)"
   ],
   "metadata": {
    "collapsed": false,
    "pycharm": {
     "name": "#%%\n"
    }
   }
  },
  {
   "cell_type": "code",
   "execution_count": 42,
   "outputs": [
    {
     "data": {
      "text/plain": "        city      country\n0  Amsterdam  Netherlands\n1     Berlin      Germany\n2   Shanghai        China\n3     Moscow       Russia\n4       city      country\n5  Amsterdam  Netherlands\n6     Berlin      Germany\n7   Shanghai        China\n8     Moscow       Russia",
      "text/html": "<div>\n<style scoped>\n    .dataframe tbody tr th:only-of-type {\n        vertical-align: middle;\n    }\n\n    .dataframe tbody tr th {\n        vertical-align: top;\n    }\n\n    .dataframe thead th {\n        text-align: right;\n    }\n</style>\n<table border=\"1\" class=\"dataframe\">\n  <thead>\n    <tr style=\"text-align: right;\">\n      <th></th>\n      <th>city</th>\n      <th>country</th>\n    </tr>\n  </thead>\n  <tbody>\n    <tr>\n      <th>0</th>\n      <td>Amsterdam</td>\n      <td>Netherlands</td>\n    </tr>\n    <tr>\n      <th>1</th>\n      <td>Berlin</td>\n      <td>Germany</td>\n    </tr>\n    <tr>\n      <th>2</th>\n      <td>Shanghai</td>\n      <td>China</td>\n    </tr>\n    <tr>\n      <th>3</th>\n      <td>Moscow</td>\n      <td>Russia</td>\n    </tr>\n    <tr>\n      <th>4</th>\n      <td>city</td>\n      <td>country</td>\n    </tr>\n    <tr>\n      <th>5</th>\n      <td>Amsterdam</td>\n      <td>Netherlands</td>\n    </tr>\n    <tr>\n      <th>6</th>\n      <td>Berlin</td>\n      <td>Germany</td>\n    </tr>\n    <tr>\n      <th>7</th>\n      <td>Shanghai</td>\n      <td>China</td>\n    </tr>\n    <tr>\n      <th>8</th>\n      <td>Moscow</td>\n      <td>Russia</td>\n    </tr>\n  </tbody>\n</table>\n</div>"
     },
     "execution_count": 42,
     "metadata": {},
     "output_type": "execute_result"
    }
   ],
   "source": [
    "pd.read_csv(\"cities_new.csv\")"
   ],
   "metadata": {
    "collapsed": false,
    "pycharm": {
     "name": "#%%\n"
    }
   }
  },
  {
   "cell_type": "code",
   "execution_count": null,
   "outputs": [],
   "source": [],
   "metadata": {
    "collapsed": false,
    "pycharm": {
     "name": "#%%\n"
    }
   }
  }
 ],
 "metadata": {
  "kernelspec": {
   "display_name": "Python 3",
   "language": "python",
   "name": "python3"
  },
  "language_info": {
   "codemirror_mode": {
    "name": "ipython",
    "version": 2
   },
   "file_extension": ".py",
   "mimetype": "text/x-python",
   "name": "python",
   "nbconvert_exporter": "python",
   "pygments_lexer": "ipython2",
   "version": "2.7.6"
  }
 },
 "nbformat": 4,
 "nbformat_minor": 0
}