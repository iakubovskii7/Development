{
 "cells": [
  {
   "cell_type": "markdown",
   "metadata": {
    "collapsed": true,
    "pycharm": {
     "name": "#%% md\n"
    }
   },
   "source": [
    "Здесь будут приведены самые базовые SQL-операции, использующие в повседневной практике.\n",
    "Будет использован SQLLite диалект."
   ]
  },
  {
   "cell_type": "markdown",
   "source": [
    "# Создание базы данных\n",
    "\n",
    "Представим, что нам нужно спроектировать базу данных интернет-магазина."
   ],
   "metadata": {
    "collapsed": false,
    "pycharm": {
     "name": "#%% md\n"
    }
   }
  },
  {
   "cell_type": "code",
   "execution_count": 29,
   "outputs": [
    {
     "name": "stdout",
     "output_type": "stream",
     "text": [
      "2.6.0\n"
     ]
    }
   ],
   "source": [
    "# Создадим базу данных, которая будет храниться в оперативной памяти\n",
    "from sql import create_connection_sqlite\n",
    "conn = create_connection_sqlite()"
   ],
   "metadata": {
    "collapsed": false,
    "pycharm": {
     "name": "#%%\n"
    }
   }
  },
  {
   "cell_type": "markdown",
   "source": [
    "# Создание связанных таблиц с внешними ключами"
   ],
   "metadata": {
    "collapsed": false,
    "pycharm": {
     "name": "#%% md\n"
    }
   }
  },
  {
   "cell_type": "code",
   "execution_count": 30,
   "outputs": [
    {
     "data": {
      "text/plain": "<sqlite3.Cursor at 0x7f7c8086b730>"
     },
     "execution_count": 30,
     "metadata": {},
     "output_type": "execute_result"
    }
   ],
   "source": [
    "# Теперь будем проектировать таблицы\n",
    "cur = conn.cursor()\n",
    "# Мы хотим выполнить больше одного действия за раз, поэтому юзаем executescript\n",
    "cur.executescript(\n",
    "\"\"\"\n",
    "CREATE TABLE customer\n",
    "    (\n",
    "    id integer primary key autoincrement,\n",
    "    name varchar(255),\n",
    "    phone varchar(30),\n",
    "    email varchar(255)\n",
    "    );\n",
    "\n",
    "CREATE TABLE product\n",
    "    (\n",
    "    id integer primary key autoincrement,\n",
    "    name varchar(255),\n",
    "    description text,\n",
    "    price integer\n",
    "    );\n",
    "\n",
    "CREATE TABLE product_photo\n",
    "    (\n",
    "    id integer primary key autoincrement,\n",
    "    url varchar(255),\n",
    "    product_id integer references product(id)\n",
    "\n",
    "    );\n",
    "\n",
    "CREATE TABLE cart\n",
    "    (\n",
    "    customer_id integer references customer(id),\n",
    "    id integer primary key autoincrement\n",
    "    );\n",
    "\n",
    "CREATE TABLE cart_product\n",
    "    (\n",
    "    cart_id integer references cart(id),\n",
    "    product_id integer references product(id)\n",
    "    );\n",
    "\"\"\"\n",
    ")"
   ],
   "metadata": {
    "collapsed": false,
    "pycharm": {
     "name": "#%%\n"
    }
   }
  },
  {
   "cell_type": "code",
   "execution_count": 31,
   "outputs": [
    {
     "data": {
      "text/plain": "[('customer',),\n ('sqlite_sequence',),\n ('product',),\n ('product_photo',),\n ('cart',),\n ('cart_product',)]"
     },
     "execution_count": 31,
     "metadata": {},
     "output_type": "execute_result"
    }
   ],
   "source": [
    "# Посмотрим на схему нашей базы данных\n",
    "cur = conn.cursor()\n",
    "cur.execute(\"\"\"\n",
    "SELECT\n",
    "    name\n",
    "FROM\n",
    "    sqlite_schema\n",
    "\"\"\")\n",
    "cur.fetchall()"
   ],
   "metadata": {
    "collapsed": false,
    "pycharm": {
     "name": "#%%\n"
    }
   }
  },
  {
   "cell_type": "markdown",
   "source": [
    "Описание таблиц:\n",
    "\n",
    "- cart_product - связь между продуктом и заказом\n",
    "- cart - заказ в интернет-магазине\n",
    "- product_photo - фотография\n",
    "- product - информация о товаре\n",
    "- customer - информация о клиенте"
   ],
   "metadata": {
    "collapsed": false,
    "pycharm": {
     "name": "#%% md\n"
    }
   }
  },
  {
   "cell_type": "markdown",
   "source": [
    "# Вставим значения в таблицы"
   ],
   "metadata": {
    "collapsed": false,
    "pycharm": {
     "name": "#%% md\n"
    }
   }
  },
  {
   "cell_type": "code",
   "execution_count": 32,
   "outputs": [
    {
     "data": {
      "text/plain": "<sqlite3.Cursor at 0x7f7c81b6d5e0>"
     },
     "execution_count": 32,
     "metadata": {},
     "output_type": "execute_result"
    }
   ],
   "source": [
    "cur = conn.cursor()\n",
    "cur.executescript(\n",
    "\"\"\"\n",
    "INSERT INTO customer(name, phone, email) values ('Василий', '02', 'vas@gmail.com');\n",
    "INSERT INTO customer(name, phone, email) values ('Петр', '03', 'petr@gmail.com')\n",
    "\"\"\")"
   ],
   "metadata": {
    "collapsed": false,
    "pycharm": {
     "name": "#%%\n"
    }
   }
  },
  {
   "cell_type": "code",
   "execution_count": 33,
   "outputs": [
    {
     "data": {
      "text/plain": "[(1, 'Василий', '02', 'vas@gmail.com'), (2, 'Петр', '03', 'petr@gmail.com')]"
     },
     "execution_count": 33,
     "metadata": {},
     "output_type": "execute_result"
    }
   ],
   "source": [
    "# Посмотрим на наши значения\n",
    "conn.cursor().execute(\"\"\"SELECT * FROM customer;\"\"\").fetchall()"
   ],
   "metadata": {
    "collapsed": false,
    "pycharm": {
     "name": "#%%\n"
    }
   }
  },
  {
   "cell_type": "code",
   "execution_count": 34,
   "outputs": [
    {
     "data": {
      "text/plain": "   id     name phone           email\n0   1  Василий    02   vas@gmail.com\n1   2     Петр    03  petr@gmail.com",
      "text/html": "<div>\n<style scoped>\n    .dataframe tbody tr th:only-of-type {\n        vertical-align: middle;\n    }\n\n    .dataframe tbody tr th {\n        vertical-align: top;\n    }\n\n    .dataframe thead th {\n        text-align: right;\n    }\n</style>\n<table border=\"1\" class=\"dataframe\">\n  <thead>\n    <tr style=\"text-align: right;\">\n      <th></th>\n      <th>id</th>\n      <th>name</th>\n      <th>phone</th>\n      <th>email</th>\n    </tr>\n  </thead>\n  <tbody>\n    <tr>\n      <th>0</th>\n      <td>1</td>\n      <td>Василий</td>\n      <td>02</td>\n      <td>vas@gmail.com</td>\n    </tr>\n    <tr>\n      <th>1</th>\n      <td>2</td>\n      <td>Петр</td>\n      <td>03</td>\n      <td>petr@gmail.com</td>\n    </tr>\n  </tbody>\n</table>\n</div>"
     },
     "execution_count": 34,
     "metadata": {},
     "output_type": "execute_result"
    }
   ],
   "source": [
    "# Подгрузим pandas\n",
    "import pandas as pd\n",
    "pd.read_sql(\"\"\"SELECT * FROM customer;\"\"\", conn)"
   ],
   "metadata": {
    "collapsed": false,
    "pycharm": {
     "name": "#%%\n"
    }
   }
  },
  {
   "cell_type": "code",
   "execution_count": 35,
   "outputs": [
    {
     "data": {
      "text/plain": "<sqlite3.Cursor at 0x7f7c81b91110>"
     },
     "execution_count": 35,
     "metadata": {},
     "output_type": "execute_result"
    }
   ],
   "source": [
    "cur = conn.cursor()\n",
    "cur.executescript(\n",
    "\"\"\"\n",
    "INSERT INTO product(name, description, price) values ('iPhone', 'Cool phone', 100000);\n",
    "INSERT INTO product(name, description, price) values ('Apple Watch', 'Cool watch', 50000)\n",
    "\"\"\")"
   ],
   "metadata": {
    "collapsed": false,
    "pycharm": {
     "name": "#%%\n"
    }
   }
  },
  {
   "cell_type": "code",
   "execution_count": 36,
   "outputs": [
    {
     "data": {
      "text/plain": "<sqlite3.Cursor at 0x7f7c81b913b0>"
     },
     "execution_count": 36,
     "metadata": {},
     "output_type": "execute_result"
    }
   ],
   "source": [
    "cur = conn.cursor()\n",
    "cur.executescript(\n",
    "\"\"\"\n",
    "INSERT INTO product_photo(url, product_id) values ('iphone photo', 1);\n",
    "\"\"\")"
   ],
   "metadata": {
    "collapsed": false,
    "pycharm": {
     "name": "#%%\n"
    }
   }
  },
  {
   "cell_type": "code",
   "execution_count": 37,
   "outputs": [
    {
     "data": {
      "text/plain": "<sqlite3.Cursor at 0x7f7c81b918f0>"
     },
     "execution_count": 37,
     "metadata": {},
     "output_type": "execute_result"
    }
   ],
   "source": [
    "cur = conn.cursor()\n",
    "cur.executescript(\n",
    "\"\"\"\n",
    "INSERT INTO cart(customer_id) values (1);\n",
    "INSERT INTO cart_product(cart_id, product_id) values (1, 1), (1, 2);\n",
    "\"\"\")"
   ],
   "metadata": {
    "collapsed": false,
    "pycharm": {
     "name": "#%%\n"
    }
   }
  },
  {
   "cell_type": "markdown",
   "source": [
    "# Выбрать строки из таблицы по условию и соединить с другой таблицей"
   ],
   "metadata": {
    "collapsed": false,
    "pycharm": {
     "name": "#%% md\n"
    }
   }
  },
  {
   "cell_type": "code",
   "execution_count": 39,
   "outputs": [
    {
     "name": "stdout",
     "output_type": "stream",
     "text": [
      "   id           url  product_id    name description   price\n",
      "0   1  iphone photo           1  iPhone  Cool phone  100000\n"
     ]
    }
   ],
   "source": [
    "query = \"\"\"\n",
    "SELECT p.id, url, product_id, name, description, price\n",
    "FROM product_photo pp\n",
    "LEFT JOIN product p\n",
    "ON p.id = pp.id\n",
    "\"\"\"\n",
    "print(pd.read_sql_query(query, conn))"
   ],
   "metadata": {
    "collapsed": false,
    "pycharm": {
     "name": "#%%\n"
    }
   }
  },
  {
   "cell_type": "markdown",
   "source": [
    "![](https://i.ytimg.com/vi/GblsYkH4GLc/maxresdefault.jpg)"
   ],
   "metadata": {
    "collapsed": false,
    "pycharm": {
     "name": "#%% md\n"
    }
   }
  },
  {
   "cell_type": "markdown",
   "source": [
    "# Изменить запись в таблице"
   ],
   "metadata": {
    "collapsed": false,
    "pycharm": {
     "name": "#%% md\n"
    }
   }
  },
  {
   "cell_type": "code",
   "execution_count": 40,
   "outputs": [
    {
     "data": {
      "text/plain": "<sqlite3.Cursor at 0x7f7c81bc8570>"
     },
     "execution_count": 40,
     "metadata": {},
     "output_type": "execute_result"
    }
   ],
   "source": [
    "cur = conn.cursor()\n",
    "cur.executescript(\n",
    "\"\"\"\n",
    "UPDATE product_photo set url = 'iphone_image_2' where id = 1\n",
    "\"\"\")"
   ],
   "metadata": {
    "collapsed": false,
    "pycharm": {
     "name": "#%%\n"
    }
   }
  },
  {
   "cell_type": "markdown",
   "source": [
    "# Множественное соединение"
   ],
   "metadata": {
    "collapsed": false,
    "pycharm": {
     "name": "#%% md\n"
    }
   }
  },
  {
   "cell_type": "code",
   "execution_count": 41,
   "outputs": [
    {
     "data": {
      "text/plain": "      name  cart_id  product_id     price\n0  Василий      1.0         1.0  100000.0\n1  Василий      1.0         2.0   50000.0\n2     Петр      NaN         NaN       NaN",
      "text/html": "<div>\n<style scoped>\n    .dataframe tbody tr th:only-of-type {\n        vertical-align: middle;\n    }\n\n    .dataframe tbody tr th {\n        vertical-align: top;\n    }\n\n    .dataframe thead th {\n        text-align: right;\n    }\n</style>\n<table border=\"1\" class=\"dataframe\">\n  <thead>\n    <tr style=\"text-align: right;\">\n      <th></th>\n      <th>name</th>\n      <th>cart_id</th>\n      <th>product_id</th>\n      <th>price</th>\n    </tr>\n  </thead>\n  <tbody>\n    <tr>\n      <th>0</th>\n      <td>Василий</td>\n      <td>1.0</td>\n      <td>1.0</td>\n      <td>100000.0</td>\n    </tr>\n    <tr>\n      <th>1</th>\n      <td>Василий</td>\n      <td>1.0</td>\n      <td>2.0</td>\n      <td>50000.0</td>\n    </tr>\n    <tr>\n      <th>2</th>\n      <td>Петр</td>\n      <td>NaN</td>\n      <td>NaN</td>\n      <td>NaN</td>\n    </tr>\n  </tbody>\n</table>\n</div>"
     },
     "execution_count": 41,
     "metadata": {},
     "output_type": "execute_result"
    }
   ],
   "source": [
    "q = \"\"\"\n",
    "SELECT c.name, cart.id as cart_id, cp.product_id, p.price\n",
    "FROM customer c\n",
    "LEFT JOIN cart ON cart.customer_id = c.id\n",
    "LEFT JOIN cart_product cp ON cp.cart_id = cart.id\n",
    "LEFT JOIN product p ON p.id = cp.product_id\n",
    "\"\"\"\n",
    "pd.read_sql_query(q, conn)"
   ],
   "metadata": {
    "collapsed": false,
    "pycharm": {
     "name": "#%%\n"
    }
   }
  },
  {
   "cell_type": "markdown",
   "source": [
    "# Добавим агрегацию и сортировку"
   ],
   "metadata": {
    "collapsed": false,
    "pycharm": {
     "name": "#%% md\n"
    }
   }
  },
  {
   "cell_type": "code",
   "execution_count": 44,
   "outputs": [
    {
     "data": {
      "text/plain": "      name  orders_sum\n0  Василий      150000\n1     Петр           0",
      "text/html": "<div>\n<style scoped>\n    .dataframe tbody tr th:only-of-type {\n        vertical-align: middle;\n    }\n\n    .dataframe tbody tr th {\n        vertical-align: top;\n    }\n\n    .dataframe thead th {\n        text-align: right;\n    }\n</style>\n<table border=\"1\" class=\"dataframe\">\n  <thead>\n    <tr style=\"text-align: right;\">\n      <th></th>\n      <th>name</th>\n      <th>orders_sum</th>\n    </tr>\n  </thead>\n  <tbody>\n    <tr>\n      <th>0</th>\n      <td>Василий</td>\n      <td>150000</td>\n    </tr>\n    <tr>\n      <th>1</th>\n      <td>Петр</td>\n      <td>0</td>\n    </tr>\n  </tbody>\n</table>\n</div>"
     },
     "execution_count": 44,
     "metadata": {},
     "output_type": "execute_result"
    }
   ],
   "source": [
    "q = \"\"\"\n",
    "SELECT c.name, coalesce(sum(p.price), 0) as orders_sum\n",
    "FROM customer c\n",
    "LEFT JOIN cart ON cart.customer_id = c.id\n",
    "LEFT JOIN cart_product cp ON cp.cart_id = cart.id\n",
    "LEFT JOIN product p ON p.id = cp.product_id\n",
    "GROUP BY c.name\n",
    "ORDER BY orders_sum\n",
    "DESC\n",
    "\"\"\"\n",
    "pd.read_sql_query(q, conn)"
   ],
   "metadata": {
    "collapsed": false,
    "pycharm": {
     "name": "#%%\n"
    }
   }
  },
  {
   "cell_type": "markdown",
   "source": [
    "# Обычная фильтрация"
   ],
   "metadata": {
    "collapsed": false,
    "pycharm": {
     "name": "#%% md\n"
    }
   }
  },
  {
   "cell_type": "code",
   "execution_count": 47,
   "outputs": [
    {
     "data": {
      "text/plain": "   id     name phone          email\n0   1  Василий    02  vas@gmail.com",
      "text/html": "<div>\n<style scoped>\n    .dataframe tbody tr th:only-of-type {\n        vertical-align: middle;\n    }\n\n    .dataframe tbody tr th {\n        vertical-align: top;\n    }\n\n    .dataframe thead th {\n        text-align: right;\n    }\n</style>\n<table border=\"1\" class=\"dataframe\">\n  <thead>\n    <tr style=\"text-align: right;\">\n      <th></th>\n      <th>id</th>\n      <th>name</th>\n      <th>phone</th>\n      <th>email</th>\n    </tr>\n  </thead>\n  <tbody>\n    <tr>\n      <th>0</th>\n      <td>1</td>\n      <td>Василий</td>\n      <td>02</td>\n      <td>vas@gmail.com</td>\n    </tr>\n  </tbody>\n</table>\n</div>"
     },
     "execution_count": 47,
     "metadata": {},
     "output_type": "execute_result"
    }
   ],
   "source": [
    "query = \\\n",
    "\"\"\"\n",
    "SELECT *\n",
    "FROM customer\n",
    "WHERE LENGTH(name) > 4\n",
    "\"\"\"\n",
    "pd.read_sql_query(query, conn)"
   ],
   "metadata": {
    "collapsed": false,
    "pycharm": {
     "name": "#%%\n"
    }
   }
  },
  {
   "cell_type": "markdown",
   "source": [
    "# Добавим фильтрацию к агрегации"
   ],
   "metadata": {
    "collapsed": false,
    "pycharm": {
     "name": "#%% md\n"
    }
   }
  },
  {
   "cell_type": "code",
   "execution_count": 48,
   "outputs": [
    {
     "data": {
      "text/plain": "      name  orders_sum\n0  Василий      150000",
      "text/html": "<div>\n<style scoped>\n    .dataframe tbody tr th:only-of-type {\n        vertical-align: middle;\n    }\n\n    .dataframe tbody tr th {\n        vertical-align: top;\n    }\n\n    .dataframe thead th {\n        text-align: right;\n    }\n</style>\n<table border=\"1\" class=\"dataframe\">\n  <thead>\n    <tr style=\"text-align: right;\">\n      <th></th>\n      <th>name</th>\n      <th>orders_sum</th>\n    </tr>\n  </thead>\n  <tbody>\n    <tr>\n      <th>0</th>\n      <td>Василий</td>\n      <td>150000</td>\n    </tr>\n  </tbody>\n</table>\n</div>"
     },
     "execution_count": 48,
     "metadata": {},
     "output_type": "execute_result"
    }
   ],
   "source": [
    "q = \"\"\"\n",
    "SELECT c.name, coalesce(sum(p.price), 0) as orders_sum\n",
    "FROM customer c\n",
    "LEFT JOIN cart ON cart.customer_id = c.id\n",
    "LEFT JOIN cart_product cp ON cp.cart_id = cart.id\n",
    "LEFT JOIN product p ON p.id = cp.product_id\n",
    "GROUP BY c.name\n",
    "HAVING sum(p.price) > 0\n",
    "\"\"\"\n",
    "pd.read_sql_query(q, conn)"
   ],
   "metadata": {
    "collapsed": false,
    "pycharm": {
     "name": "#%%\n"
    }
   }
  },
  {
   "cell_type": "markdown",
   "source": [
    "Основное отличие `HAVING` от `WHERE` заключается в том, что в первом случае мы фильтруем группы.\n",
    "Используется в агрегациях!"
   ],
   "metadata": {
    "collapsed": false,
    "pycharm": {
     "name": "#%% md\n"
    }
   }
  }
 ],
 "metadata": {
  "kernelspec": {
   "display_name": "Python 3",
   "language": "python",
   "name": "python3"
  },
  "language_info": {
   "codemirror_mode": {
    "name": "ipython",
    "version": 2
   },
   "file_extension": ".py",
   "mimetype": "text/x-python",
   "name": "python",
   "nbconvert_exporter": "python",
   "pygments_lexer": "ipython2",
   "version": "2.7.6"
  }
 },
 "nbformat": 4,
 "nbformat_minor": 0
}