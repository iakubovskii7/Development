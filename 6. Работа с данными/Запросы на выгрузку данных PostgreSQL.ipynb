{
 "cells": [
  {
   "cell_type": "markdown",
   "source": [
    "https://nuitrcs.github.io/databases_workshop/ - хороший гайд по базовому SQL\n",
    "\n",
    "\n",
    "https://pgexercises.com/ - лучший тренажер по SQL\n", 
    "https://mockaroo.com/ - генерация любых небольших датасетов\n",
    "\n",
    "Holywell's SQL Style Guide - https://www.sqlstyle.guide/ru/"
   ],
   "metadata": {
    "collapsed": false,
    "pycharm": {
     "name": "#%% md\n"
    }
   }
  },
  {
   "cell_type": "code",
   "execution_count": 11,
   "outputs": [],
   "source": [
    "# Откроем SQL таблицу, которую мы сгенерировали на сайте https://mockaroo.com/\n",
    "fd = open('/Users/iakubovskii/Desktop/MOCK_DATA.sql', 'r')\n",
    "sqlFile = fd.read()\n",
    "fd.close()"
   ],
   "metadata": {
    "collapsed": false,
    "pycharm": {
     "name": "#%%\n"
    }
   }
  },
  {
   "cell_type": "code",
   "execution_count": 1,
   "metadata": {
    "collapsed": true,
    "pycharm": {
     "name": "#%%\n"
    }
   },
   "outputs": [
    {
     "data": {
      "text/plain": "[('public', 'actor', 'postgres', None, True, False, True, False),\n ('public', 'store', 'postgres', None, True, False, True, False),\n ('public', 'address', 'postgres', None, True, False, True, False),\n ('public', 'category', 'postgres', None, True, False, True, False),\n ('public', 'city', 'postgres', None, True, False, True, False),\n ('public', 'country', 'postgres', None, True, False, True, False),\n ('public', 'customer', 'postgres', None, True, False, True, False),\n ('public', 'film_actor', 'postgres', None, True, False, True, False),\n ('public', 'film_category', 'postgres', None, True, False, True, False),\n ('public', 'inventory', 'postgres', None, True, False, True, False),\n ('public', 'language', 'postgres', None, True, False, True, False),\n ('public', 'rental', 'postgres', None, True, False, True, False),\n ('public', 'staff', 'postgres', None, True, False, True, False),\n ('public', 'payment', 'postgres', None, True, False, True, False),\n ('public', 'film', 'postgres', None, True, False, True, False),\n ('public', 'customer_sex', 'postgres', None, True, False, False, False),\n ('public', 'customer_email', 'postgres', None, True, False, False, False),\n ('public', 'course', 'postgres', None, True, False, True, False),\n ('public', 'course_offering', 'postgres', None, True, False, True, False),\n ('public', 'color', 'postgres', None, True, False, False, False),\n ('public', 'accounts', 'postgres', None, True, False, False, False),\n ('public', 'branches', 'postgres', None, True, False, False, False),\n ('public', 'workshop', 'postgres', None, True, False, False, False),\n ('public', 'product_segment', 'postgres', None, True, False, True, False),\n ('public', 'product', 'postgres', None, True, False, True, False)]"
     },
     "execution_count": 1,
     "metadata": {},
     "output_type": "execute_result"
    }
   ],
   "source": [
    "import psycopg2\n",
    "from sqlalchemy import create_engine\n",
    "from sql import sql_query\n",
    "conn = psycopg2.connect(dbname='dvdrental', user='postgres',\n",
    "                        password='postgres', host='localhost', port=5432)\n",
    "cur = conn.cursor()\n",
    "cur.execute(\"\"\"\n",
    "SELECT *\n",
    "FROM pg_catalog.pg_tables\n",
    "WHERE schemaname != 'pg_catalog' AND\n",
    "    schemaname != 'information_schema';\n",
    "\"\"\")\n",
    "cur.fetchall()"
   ]
  },
  {
   "cell_type": "markdown",
   "source": [
    "# Базовые вещи"
   ],
   "metadata": {
    "collapsed": false,
    "pycharm": {
     "name": "#%% md\n"
    }
   }
  },
  {
   "cell_type": "code",
   "execution_count": 49,
   "outputs": [
    {
     "data": {
      "text/plain": "   customer_id  store_id first_name last_name  \\\n0          524         1      Jared       Ely   \n1            1         1       Mary     Smith   \n2            2         1   Patricia   Johnson   \n3            3         1      Linda  Williams   \n4            4         2    Barbara     Jones   \n\n                                 email  address_id  activebool create_date  \\\n0         jared.ely@sakilacustomer.org         530        True  2006-02-14   \n1        mary.smith@sakilacustomer.org           5        True  2006-02-14   \n2  patricia.johnson@sakilacustomer.org           6        True  2006-02-14   \n3    linda.williams@sakilacustomer.org           7        True  2006-02-14   \n4     barbara.jones@sakilacustomer.org           8        True  2006-02-14   \n\n              last_update  active  \n0 2013-05-26 14:49:45.738       1  \n1 2013-05-26 14:49:45.738       1  \n2 2013-05-26 14:49:45.738       1  \n3 2013-05-26 14:49:45.738       1  \n4 2013-05-26 14:49:45.738       1  ",
      "text/html": "<div>\n<style scoped>\n    .dataframe tbody tr th:only-of-type {\n        vertical-align: middle;\n    }\n\n    .dataframe tbody tr th {\n        vertical-align: top;\n    }\n\n    .dataframe thead th {\n        text-align: right;\n    }\n</style>\n<table border=\"1\" class=\"dataframe\">\n  <thead>\n    <tr style=\"text-align: right;\">\n      <th></th>\n      <th>customer_id</th>\n      <th>store_id</th>\n      <th>first_name</th>\n      <th>last_name</th>\n      <th>email</th>\n      <th>address_id</th>\n      <th>activebool</th>\n      <th>create_date</th>\n      <th>last_update</th>\n      <th>active</th>\n    </tr>\n  </thead>\n  <tbody>\n    <tr>\n      <th>0</th>\n      <td>524</td>\n      <td>1</td>\n      <td>Jared</td>\n      <td>Ely</td>\n      <td>jared.ely@sakilacustomer.org</td>\n      <td>530</td>\n      <td>True</td>\n      <td>2006-02-14</td>\n      <td>2013-05-26 14:49:45.738</td>\n      <td>1</td>\n    </tr>\n    <tr>\n      <th>1</th>\n      <td>1</td>\n      <td>1</td>\n      <td>Mary</td>\n      <td>Smith</td>\n      <td>mary.smith@sakilacustomer.org</td>\n      <td>5</td>\n      <td>True</td>\n      <td>2006-02-14</td>\n      <td>2013-05-26 14:49:45.738</td>\n      <td>1</td>\n    </tr>\n    <tr>\n      <th>2</th>\n      <td>2</td>\n      <td>1</td>\n      <td>Patricia</td>\n      <td>Johnson</td>\n      <td>patricia.johnson@sakilacustomer.org</td>\n      <td>6</td>\n      <td>True</td>\n      <td>2006-02-14</td>\n      <td>2013-05-26 14:49:45.738</td>\n      <td>1</td>\n    </tr>\n    <tr>\n      <th>3</th>\n      <td>3</td>\n      <td>1</td>\n      <td>Linda</td>\n      <td>Williams</td>\n      <td>linda.williams@sakilacustomer.org</td>\n      <td>7</td>\n      <td>True</td>\n      <td>2006-02-14</td>\n      <td>2013-05-26 14:49:45.738</td>\n      <td>1</td>\n    </tr>\n    <tr>\n      <th>4</th>\n      <td>4</td>\n      <td>2</td>\n      <td>Barbara</td>\n      <td>Jones</td>\n      <td>barbara.jones@sakilacustomer.org</td>\n      <td>8</td>\n      <td>True</td>\n      <td>2006-02-14</td>\n      <td>2013-05-26 14:49:45.738</td>\n      <td>1</td>\n    </tr>\n  </tbody>\n</table>\n</div>"
     },
     "execution_count": 49,
     "metadata": {},
     "output_type": "execute_result"
    }
   ],
   "source": [
    "sql_query(\"\"\"\n",
    "SELECT *\n",
    "FROM customer\n",
    "LIMIT 5;\n",
    "\"\"\")"
   ],
   "metadata": {
    "collapsed": false,
    "pycharm": {
     "name": "#%%\n"
    }
   }
  },
  {
   "cell_type": "markdown",
   "source": [
    "## Операторы IN, BETWEEN, LIKE, AND, OR"
   ],
   "metadata": {
    "collapsed": false,
    "pycharm": {
     "name": "#%% md\n"
    }
   }
  },
  {
   "cell_type": "code",
   "execution_count": 63,
   "outputs": [
    {
     "data": {
      "text/plain": "     customer_id  store_id first_name last_name  \\\n0              1         1       Mary     Smith   \n1              2         1   Patricia   Johnson   \n2              3         1      Linda  Williams   \n3              4         2    Barbara     Jones   \n4              5         1  Elizabeth     Brown   \n..           ...       ...        ...       ...   \n394          395         2     Johnny    Turpin   \n395          396         1       Earl    Shanks   \n396          397         1      Jimmy  Schrader   \n397          398         1    Antonio      Meek   \n398          399         1      Danny      Isom   \n\n                                   email  address_id  activebool create_date  \\\n0          mary.smith@sakilacustomer.org           5        True  2006-02-14   \n1    patricia.johnson@sakilacustomer.org           6        True  2006-02-14   \n2      linda.williams@sakilacustomer.org           7        True  2006-02-14   \n3       barbara.jones@sakilacustomer.org           8        True  2006-02-14   \n4     elizabeth.brown@sakilacustomer.org           9        True  2006-02-14   \n..                                   ...         ...         ...         ...   \n394     johnny.turpin@sakilacustomer.org         400        True  2006-02-14   \n395       earl.shanks@sakilacustomer.org         401        True  2006-02-14   \n396    jimmy.schrader@sakilacustomer.org         402        True  2006-02-14   \n397      antonio.meek@sakilacustomer.org         403        True  2006-02-14   \n398        danny.isom@sakilacustomer.org         404        True  2006-02-14   \n\n                last_update  active  \n0   2013-05-26 14:49:45.738       1  \n1   2013-05-26 14:49:45.738       1  \n2   2013-05-26 14:49:45.738       1  \n3   2013-05-26 14:49:45.738       1  \n4   2013-05-26 14:49:45.738       1  \n..                      ...     ...  \n394 2013-05-26 14:49:45.738       1  \n395 2013-05-26 14:49:45.738       1  \n396 2013-05-26 14:49:45.738       1  \n397 2013-05-26 14:49:45.738       1  \n398 2013-05-26 14:49:45.738       1  \n\n[399 rows x 10 columns]",
      "text/html": "<div>\n<style scoped>\n    .dataframe tbody tr th:only-of-type {\n        vertical-align: middle;\n    }\n\n    .dataframe tbody tr th {\n        vertical-align: top;\n    }\n\n    .dataframe thead th {\n        text-align: right;\n    }\n</style>\n<table border=\"1\" class=\"dataframe\">\n  <thead>\n    <tr style=\"text-align: right;\">\n      <th></th>\n      <th>customer_id</th>\n      <th>store_id</th>\n      <th>first_name</th>\n      <th>last_name</th>\n      <th>email</th>\n      <th>address_id</th>\n      <th>activebool</th>\n      <th>create_date</th>\n      <th>last_update</th>\n      <th>active</th>\n    </tr>\n  </thead>\n  <tbody>\n    <tr>\n      <th>0</th>\n      <td>1</td>\n      <td>1</td>\n      <td>Mary</td>\n      <td>Smith</td>\n      <td>mary.smith@sakilacustomer.org</td>\n      <td>5</td>\n      <td>True</td>\n      <td>2006-02-14</td>\n      <td>2013-05-26 14:49:45.738</td>\n      <td>1</td>\n    </tr>\n    <tr>\n      <th>1</th>\n      <td>2</td>\n      <td>1</td>\n      <td>Patricia</td>\n      <td>Johnson</td>\n      <td>patricia.johnson@sakilacustomer.org</td>\n      <td>6</td>\n      <td>True</td>\n      <td>2006-02-14</td>\n      <td>2013-05-26 14:49:45.738</td>\n      <td>1</td>\n    </tr>\n    <tr>\n      <th>2</th>\n      <td>3</td>\n      <td>1</td>\n      <td>Linda</td>\n      <td>Williams</td>\n      <td>linda.williams@sakilacustomer.org</td>\n      <td>7</td>\n      <td>True</td>\n      <td>2006-02-14</td>\n      <td>2013-05-26 14:49:45.738</td>\n      <td>1</td>\n    </tr>\n    <tr>\n      <th>3</th>\n      <td>4</td>\n      <td>2</td>\n      <td>Barbara</td>\n      <td>Jones</td>\n      <td>barbara.jones@sakilacustomer.org</td>\n      <td>8</td>\n      <td>True</td>\n      <td>2006-02-14</td>\n      <td>2013-05-26 14:49:45.738</td>\n      <td>1</td>\n    </tr>\n    <tr>\n      <th>4</th>\n      <td>5</td>\n      <td>1</td>\n      <td>Elizabeth</td>\n      <td>Brown</td>\n      <td>elizabeth.brown@sakilacustomer.org</td>\n      <td>9</td>\n      <td>True</td>\n      <td>2006-02-14</td>\n      <td>2013-05-26 14:49:45.738</td>\n      <td>1</td>\n    </tr>\n    <tr>\n      <th>...</th>\n      <td>...</td>\n      <td>...</td>\n      <td>...</td>\n      <td>...</td>\n      <td>...</td>\n      <td>...</td>\n      <td>...</td>\n      <td>...</td>\n      <td>...</td>\n      <td>...</td>\n    </tr>\n    <tr>\n      <th>394</th>\n      <td>395</td>\n      <td>2</td>\n      <td>Johnny</td>\n      <td>Turpin</td>\n      <td>johnny.turpin@sakilacustomer.org</td>\n      <td>400</td>\n      <td>True</td>\n      <td>2006-02-14</td>\n      <td>2013-05-26 14:49:45.738</td>\n      <td>1</td>\n    </tr>\n    <tr>\n      <th>395</th>\n      <td>396</td>\n      <td>1</td>\n      <td>Earl</td>\n      <td>Shanks</td>\n      <td>earl.shanks@sakilacustomer.org</td>\n      <td>401</td>\n      <td>True</td>\n      <td>2006-02-14</td>\n      <td>2013-05-26 14:49:45.738</td>\n      <td>1</td>\n    </tr>\n    <tr>\n      <th>396</th>\n      <td>397</td>\n      <td>1</td>\n      <td>Jimmy</td>\n      <td>Schrader</td>\n      <td>jimmy.schrader@sakilacustomer.org</td>\n      <td>402</td>\n      <td>True</td>\n      <td>2006-02-14</td>\n      <td>2013-05-26 14:49:45.738</td>\n      <td>1</td>\n    </tr>\n    <tr>\n      <th>397</th>\n      <td>398</td>\n      <td>1</td>\n      <td>Antonio</td>\n      <td>Meek</td>\n      <td>antonio.meek@sakilacustomer.org</td>\n      <td>403</td>\n      <td>True</td>\n      <td>2006-02-14</td>\n      <td>2013-05-26 14:49:45.738</td>\n      <td>1</td>\n    </tr>\n    <tr>\n      <th>398</th>\n      <td>399</td>\n      <td>1</td>\n      <td>Danny</td>\n      <td>Isom</td>\n      <td>danny.isom@sakilacustomer.org</td>\n      <td>404</td>\n      <td>True</td>\n      <td>2006-02-14</td>\n      <td>2013-05-26 14:49:45.738</td>\n      <td>1</td>\n    </tr>\n  </tbody>\n</table>\n<p>399 rows × 10 columns</p>\n</div>"
     },
     "execution_count": 63,
     "metadata": {},
     "output_type": "execute_result"
    }
   ],
   "source": [
    "# Можно использовать Python-код к SQL запросам\n",
    "import numpy as np\n",
    "sql_query(f\"\"\"\n",
    "SELECT *\n",
    "FROM customer\n",
    "WHERE customer_id IN {tuple(np.arange(1, 400))} AND store_id BETWEEN 1 AND 5\n",
    "\"\"\")"
   ],
   "metadata": {
    "collapsed": false,
    "pycharm": {
     "name": "#%%\n"
    }
   }
  },
  {
   "cell_type": "code",
   "execution_count": 72,
   "outputs": [
    {
     "data": {
      "text/plain": "    customer_id  store_id first_name     last_name  \\\n0             1         1       Mary         Smith   \n1             7         1      Maria        Miller   \n2             9         2   Margaret         Moore   \n3            21         1   Michelle         Clark   \n4            30         1    Melissa          King   \n5            38         1     Martha      Gonzalez   \n6            44         1      Marie        Turner   \n7            60         1    Mildred        Bailey   \n8            80         1    Marilyn          Ross   \n9           128         1   Marjorie        Tucker   \n10          131         2     Monica         Hicks   \n11          151         2      Megan        Palmer   \n12          154         2    Michele         Grant   \n13          178         2     Marion        Snyder   \n14          188         1    Melanie     Armstrong   \n15          223         1    Melinda     Fernandez   \n16          226         2    Maureen        Little   \n17          236         1     Marcia          Dean   \n18          239         2     Minnie        Romero   \n19          240         1    Marlene         Welch   \n20          246         1     Marian       Mendoza   \n21          252         2     Mattie       Hoffman   \n22          254         2     Maxine         Silva   \n23          256         2      Mabel       Holland   \n24          257         2     Marsha       Douglas   \n25          258         1     Myrtle       Fleming   \n26          267         1     Margie          Wade   \n27          285         1     Miriam      Mckinney   \n28          292         2      Misty       Lambert   \n29          293         2        Mae      Fletcher   \n30          302         1    Michael     Silverman   \n31          312         2       Mark      Rinehart   \n32          323         2    Matthew         Mahan   \n33          383         1     Martin         Bales   \n34          403         1       Mike           Way   \n35          408         1     Manuel       Murrell   \n36          413         2     Marvin           Yee   \n37          422         1     Melvin     Ellington   \n38          441         1      Mario      Cheatham   \n39          444         2     Marcus       Hidalgo   \n40          445         1    Micheal        Forman   \n41          448         1     Miguel    Betancourt   \n42          482         1    Maurice       Crawley   \n43          499         2       Marc        Outlaw   \n44          508         2     Milton       Howland   \n45          520         2   Mitchell  Westmoreland   \n46          539         1     Mathew         Bolin   \n47          553         1        Max          Pitt   \n48          576         2     Morris      Mccarter   \n49          583         1   Marshall         Thorn   \n50          588         1     Marion        Ocampo   \n\n                                       email  address_id  activebool  \\\n0              mary.smith@sakilacustomer.org           5        True   \n1            maria.miller@sakilacustomer.org          11        True   \n2          margaret.moore@sakilacustomer.org          13        True   \n3          michelle.clark@sakilacustomer.org          25        True   \n4            melissa.king@sakilacustomer.org          34        True   \n5         martha.gonzalez@sakilacustomer.org          42        True   \n6            marie.turner@sakilacustomer.org          48        True   \n7          mildred.bailey@sakilacustomer.org          64        True   \n8            marilyn.ross@sakilacustomer.org          84        True   \n9         marjorie.tucker@sakilacustomer.org         132        True   \n10           monica.hicks@sakilacustomer.org         135        True   \n11           megan.palmer@sakilacustomer.org         155        True   \n12          michele.grant@sakilacustomer.org         158        True   \n13          marion.snyder@sakilacustomer.org         182        True   \n14      melanie.armstrong@sakilacustomer.org         192        True   \n15      melinda.fernandez@sakilacustomer.org         227        True   \n16         maureen.little@sakilacustomer.org         230        True   \n17            marcia.dean@sakilacustomer.org         240        True   \n18          minnie.romero@sakilacustomer.org         243        True   \n19          marlene.welch@sakilacustomer.org         244        True   \n20         marian.mendoza@sakilacustomer.org         250        True   \n21         mattie.hoffman@sakilacustomer.org         256        True   \n22           maxine.silva@sakilacustomer.org         259        True   \n23          mabel.holland@sakilacustomer.org         261        True   \n24         marsha.douglas@sakilacustomer.org         262        True   \n25         myrtle.fleming@sakilacustomer.org         263        True   \n26            margie.wade@sakilacustomer.org         272        True   \n27        miriam.mckinney@sakilacustomer.org         290        True   \n28          misty.lambert@sakilacustomer.org         297        True   \n29           mae.fletcher@sakilacustomer.org         298        True   \n30      michael.silverman@sakilacustomer.org         307        True   \n31          mark.rinehart@sakilacustomer.org         317        True   \n32          matthew.mahan@sakilacustomer.org         328        True   \n33           martin.bales@sakilacustomer.org         388        True   \n34               mike.way@sakilacustomer.org         408        True   \n35         manuel.murrell@sakilacustomer.org         413        True   \n36             marvin.yee@sakilacustomer.org         418        True   \n37       melvin.ellington@sakilacustomer.org         427        True   \n38         mario.cheatham@sakilacustomer.org         446        True   \n39         marcus.hidalgo@sakilacustomer.org         449        True   \n40         micheal.forman@sakilacustomer.org         450        True   \n41      miguel.betancourt@sakilacustomer.org         453        True   \n42        maurice.crawley@sakilacustomer.org         487        True   \n43            marc.outlaw@sakilacustomer.org         504        True   \n44         milton.howland@sakilacustomer.org         513        True   \n45  mitchell.westmoreland@sakilacustomer.org         526        True   \n46           mathew.bolin@sakilacustomer.org         545        True   \n47               max.pitt@sakilacustomer.org         559        True   \n48        morris.mccarter@sakilacustomer.org         582        True   \n49         marshall.thorn@sakilacustomer.org         589        True   \n50          marion.ocampo@sakilacustomer.org         594        True   \n\n   create_date             last_update  active  \n0   2006-02-14 2013-05-26 14:49:45.738       1  \n1   2006-02-14 2013-05-26 14:49:45.738       1  \n2   2006-02-14 2013-05-26 14:49:45.738       1  \n3   2006-02-14 2013-05-26 14:49:45.738       1  \n4   2006-02-14 2013-05-26 14:49:45.738       1  \n5   2006-02-14 2013-05-26 14:49:45.738       1  \n6   2006-02-14 2013-05-26 14:49:45.738       1  \n7   2006-02-14 2013-05-26 14:49:45.738       1  \n8   2006-02-14 2013-05-26 14:49:45.738       1  \n9   2006-02-14 2013-05-26 14:49:45.738       1  \n10  2006-02-14 2013-05-26 14:49:45.738       1  \n11  2006-02-14 2013-05-26 14:49:45.738       1  \n12  2006-02-14 2013-05-26 14:49:45.738       1  \n13  2006-02-14 2013-05-26 14:49:45.738       1  \n14  2006-02-14 2013-05-26 14:49:45.738       1  \n15  2006-02-14 2013-05-26 14:49:45.738       1  \n16  2006-02-14 2013-05-26 14:49:45.738       1  \n17  2006-02-14 2013-05-26 14:49:45.738       1  \n18  2006-02-14 2013-05-26 14:49:45.738       1  \n19  2006-02-14 2013-05-26 14:49:45.738       1  \n20  2006-02-14 2013-05-26 14:49:45.738       1  \n21  2006-02-14 2013-05-26 14:49:45.738       1  \n22  2006-02-14 2013-05-26 14:49:45.738       1  \n23  2006-02-14 2013-05-26 14:49:45.738       1  \n24  2006-02-14 2013-05-26 14:49:45.738       1  \n25  2006-02-14 2013-05-26 14:49:45.738       1  \n26  2006-02-14 2013-05-26 14:49:45.738       1  \n27  2006-02-14 2013-05-26 14:49:45.738       1  \n28  2006-02-14 2013-05-26 14:49:45.738       1  \n29  2006-02-14 2013-05-26 14:49:45.738       1  \n30  2006-02-14 2013-05-26 14:49:45.738       1  \n31  2006-02-14 2013-05-26 14:49:45.738       1  \n32  2006-02-14 2013-05-26 14:49:45.738       1  \n33  2006-02-14 2013-05-26 14:49:45.738       1  \n34  2006-02-14 2013-05-26 14:49:45.738       1  \n35  2006-02-14 2013-05-26 14:49:45.738       1  \n36  2006-02-14 2013-05-26 14:49:45.738       1  \n37  2006-02-14 2013-05-26 14:49:45.738       1  \n38  2006-02-14 2013-05-26 14:49:45.738       1  \n39  2006-02-14 2013-05-26 14:49:45.738       1  \n40  2006-02-14 2013-05-26 14:49:45.738       1  \n41  2006-02-14 2013-05-26 14:49:45.738       1  \n42  2006-02-14 2013-05-26 14:49:45.738       0  \n43  2006-02-14 2013-05-26 14:49:45.738       1  \n44  2006-02-14 2013-05-26 14:49:45.738       1  \n45  2006-02-14 2013-05-26 14:49:45.738       1  \n46  2006-02-14 2013-05-26 14:49:45.738       1  \n47  2006-02-14 2013-05-26 14:49:45.738       1  \n48  2006-02-14 2013-05-26 14:49:45.738       1  \n49  2006-02-14 2013-05-26 14:49:45.738       1  \n50  2006-02-14 2013-05-26 14:49:45.738       1  ",
      "text/html": "<div>\n<style scoped>\n    .dataframe tbody tr th:only-of-type {\n        vertical-align: middle;\n    }\n\n    .dataframe tbody tr th {\n        vertical-align: top;\n    }\n\n    .dataframe thead th {\n        text-align: right;\n    }\n</style>\n<table border=\"1\" class=\"dataframe\">\n  <thead>\n    <tr style=\"text-align: right;\">\n      <th></th>\n      <th>customer_id</th>\n      <th>store_id</th>\n      <th>first_name</th>\n      <th>last_name</th>\n      <th>email</th>\n      <th>address_id</th>\n      <th>activebool</th>\n      <th>create_date</th>\n      <th>last_update</th>\n      <th>active</th>\n    </tr>\n  </thead>\n  <tbody>\n    <tr>\n      <th>0</th>\n      <td>1</td>\n      <td>1</td>\n      <td>Mary</td>\n      <td>Smith</td>\n      <td>mary.smith@sakilacustomer.org</td>\n      <td>5</td>\n      <td>True</td>\n      <td>2006-02-14</td>\n      <td>2013-05-26 14:49:45.738</td>\n      <td>1</td>\n    </tr>\n    <tr>\n      <th>1</th>\n      <td>7</td>\n      <td>1</td>\n      <td>Maria</td>\n      <td>Miller</td>\n      <td>maria.miller@sakilacustomer.org</td>\n      <td>11</td>\n      <td>True</td>\n      <td>2006-02-14</td>\n      <td>2013-05-26 14:49:45.738</td>\n      <td>1</td>\n    </tr>\n    <tr>\n      <th>2</th>\n      <td>9</td>\n      <td>2</td>\n      <td>Margaret</td>\n      <td>Moore</td>\n      <td>margaret.moore@sakilacustomer.org</td>\n      <td>13</td>\n      <td>True</td>\n      <td>2006-02-14</td>\n      <td>2013-05-26 14:49:45.738</td>\n      <td>1</td>\n    </tr>\n    <tr>\n      <th>3</th>\n      <td>21</td>\n      <td>1</td>\n      <td>Michelle</td>\n      <td>Clark</td>\n      <td>michelle.clark@sakilacustomer.org</td>\n      <td>25</td>\n      <td>True</td>\n      <td>2006-02-14</td>\n      <td>2013-05-26 14:49:45.738</td>\n      <td>1</td>\n    </tr>\n    <tr>\n      <th>4</th>\n      <td>30</td>\n      <td>1</td>\n      <td>Melissa</td>\n      <td>King</td>\n      <td>melissa.king@sakilacustomer.org</td>\n      <td>34</td>\n      <td>True</td>\n      <td>2006-02-14</td>\n      <td>2013-05-26 14:49:45.738</td>\n      <td>1</td>\n    </tr>\n    <tr>\n      <th>5</th>\n      <td>38</td>\n      <td>1</td>\n      <td>Martha</td>\n      <td>Gonzalez</td>\n      <td>martha.gonzalez@sakilacustomer.org</td>\n      <td>42</td>\n      <td>True</td>\n      <td>2006-02-14</td>\n      <td>2013-05-26 14:49:45.738</td>\n      <td>1</td>\n    </tr>\n    <tr>\n      <th>6</th>\n      <td>44</td>\n      <td>1</td>\n      <td>Marie</td>\n      <td>Turner</td>\n      <td>marie.turner@sakilacustomer.org</td>\n      <td>48</td>\n      <td>True</td>\n      <td>2006-02-14</td>\n      <td>2013-05-26 14:49:45.738</td>\n      <td>1</td>\n    </tr>\n    <tr>\n      <th>7</th>\n      <td>60</td>\n      <td>1</td>\n      <td>Mildred</td>\n      <td>Bailey</td>\n      <td>mildred.bailey@sakilacustomer.org</td>\n      <td>64</td>\n      <td>True</td>\n      <td>2006-02-14</td>\n      <td>2013-05-26 14:49:45.738</td>\n      <td>1</td>\n    </tr>\n    <tr>\n      <th>8</th>\n      <td>80</td>\n      <td>1</td>\n      <td>Marilyn</td>\n      <td>Ross</td>\n      <td>marilyn.ross@sakilacustomer.org</td>\n      <td>84</td>\n      <td>True</td>\n      <td>2006-02-14</td>\n      <td>2013-05-26 14:49:45.738</td>\n      <td>1</td>\n    </tr>\n    <tr>\n      <th>9</th>\n      <td>128</td>\n      <td>1</td>\n      <td>Marjorie</td>\n      <td>Tucker</td>\n      <td>marjorie.tucker@sakilacustomer.org</td>\n      <td>132</td>\n      <td>True</td>\n      <td>2006-02-14</td>\n      <td>2013-05-26 14:49:45.738</td>\n      <td>1</td>\n    </tr>\n    <tr>\n      <th>10</th>\n      <td>131</td>\n      <td>2</td>\n      <td>Monica</td>\n      <td>Hicks</td>\n      <td>monica.hicks@sakilacustomer.org</td>\n      <td>135</td>\n      <td>True</td>\n      <td>2006-02-14</td>\n      <td>2013-05-26 14:49:45.738</td>\n      <td>1</td>\n    </tr>\n    <tr>\n      <th>11</th>\n      <td>151</td>\n      <td>2</td>\n      <td>Megan</td>\n      <td>Palmer</td>\n      <td>megan.palmer@sakilacustomer.org</td>\n      <td>155</td>\n      <td>True</td>\n      <td>2006-02-14</td>\n      <td>2013-05-26 14:49:45.738</td>\n      <td>1</td>\n    </tr>\n    <tr>\n      <th>12</th>\n      <td>154</td>\n      <td>2</td>\n      <td>Michele</td>\n      <td>Grant</td>\n      <td>michele.grant@sakilacustomer.org</td>\n      <td>158</td>\n      <td>True</td>\n      <td>2006-02-14</td>\n      <td>2013-05-26 14:49:45.738</td>\n      <td>1</td>\n    </tr>\n    <tr>\n      <th>13</th>\n      <td>178</td>\n      <td>2</td>\n      <td>Marion</td>\n      <td>Snyder</td>\n      <td>marion.snyder@sakilacustomer.org</td>\n      <td>182</td>\n      <td>True</td>\n      <td>2006-02-14</td>\n      <td>2013-05-26 14:49:45.738</td>\n      <td>1</td>\n    </tr>\n    <tr>\n      <th>14</th>\n      <td>188</td>\n      <td>1</td>\n      <td>Melanie</td>\n      <td>Armstrong</td>\n      <td>melanie.armstrong@sakilacustomer.org</td>\n      <td>192</td>\n      <td>True</td>\n      <td>2006-02-14</td>\n      <td>2013-05-26 14:49:45.738</td>\n      <td>1</td>\n    </tr>\n    <tr>\n      <th>15</th>\n      <td>223</td>\n      <td>1</td>\n      <td>Melinda</td>\n      <td>Fernandez</td>\n      <td>melinda.fernandez@sakilacustomer.org</td>\n      <td>227</td>\n      <td>True</td>\n      <td>2006-02-14</td>\n      <td>2013-05-26 14:49:45.738</td>\n      <td>1</td>\n    </tr>\n    <tr>\n      <th>16</th>\n      <td>226</td>\n      <td>2</td>\n      <td>Maureen</td>\n      <td>Little</td>\n      <td>maureen.little@sakilacustomer.org</td>\n      <td>230</td>\n      <td>True</td>\n      <td>2006-02-14</td>\n      <td>2013-05-26 14:49:45.738</td>\n      <td>1</td>\n    </tr>\n    <tr>\n      <th>17</th>\n      <td>236</td>\n      <td>1</td>\n      <td>Marcia</td>\n      <td>Dean</td>\n      <td>marcia.dean@sakilacustomer.org</td>\n      <td>240</td>\n      <td>True</td>\n      <td>2006-02-14</td>\n      <td>2013-05-26 14:49:45.738</td>\n      <td>1</td>\n    </tr>\n    <tr>\n      <th>18</th>\n      <td>239</td>\n      <td>2</td>\n      <td>Minnie</td>\n      <td>Romero</td>\n      <td>minnie.romero@sakilacustomer.org</td>\n      <td>243</td>\n      <td>True</td>\n      <td>2006-02-14</td>\n      <td>2013-05-26 14:49:45.738</td>\n      <td>1</td>\n    </tr>\n    <tr>\n      <th>19</th>\n      <td>240</td>\n      <td>1</td>\n      <td>Marlene</td>\n      <td>Welch</td>\n      <td>marlene.welch@sakilacustomer.org</td>\n      <td>244</td>\n      <td>True</td>\n      <td>2006-02-14</td>\n      <td>2013-05-26 14:49:45.738</td>\n      <td>1</td>\n    </tr>\n    <tr>\n      <th>20</th>\n      <td>246</td>\n      <td>1</td>\n      <td>Marian</td>\n      <td>Mendoza</td>\n      <td>marian.mendoza@sakilacustomer.org</td>\n      <td>250</td>\n      <td>True</td>\n      <td>2006-02-14</td>\n      <td>2013-05-26 14:49:45.738</td>\n      <td>1</td>\n    </tr>\n    <tr>\n      <th>21</th>\n      <td>252</td>\n      <td>2</td>\n      <td>Mattie</td>\n      <td>Hoffman</td>\n      <td>mattie.hoffman@sakilacustomer.org</td>\n      <td>256</td>\n      <td>True</td>\n      <td>2006-02-14</td>\n      <td>2013-05-26 14:49:45.738</td>\n      <td>1</td>\n    </tr>\n    <tr>\n      <th>22</th>\n      <td>254</td>\n      <td>2</td>\n      <td>Maxine</td>\n      <td>Silva</td>\n      <td>maxine.silva@sakilacustomer.org</td>\n      <td>259</td>\n      <td>True</td>\n      <td>2006-02-14</td>\n      <td>2013-05-26 14:49:45.738</td>\n      <td>1</td>\n    </tr>\n    <tr>\n      <th>23</th>\n      <td>256</td>\n      <td>2</td>\n      <td>Mabel</td>\n      <td>Holland</td>\n      <td>mabel.holland@sakilacustomer.org</td>\n      <td>261</td>\n      <td>True</td>\n      <td>2006-02-14</td>\n      <td>2013-05-26 14:49:45.738</td>\n      <td>1</td>\n    </tr>\n    <tr>\n      <th>24</th>\n      <td>257</td>\n      <td>2</td>\n      <td>Marsha</td>\n      <td>Douglas</td>\n      <td>marsha.douglas@sakilacustomer.org</td>\n      <td>262</td>\n      <td>True</td>\n      <td>2006-02-14</td>\n      <td>2013-05-26 14:49:45.738</td>\n      <td>1</td>\n    </tr>\n    <tr>\n      <th>25</th>\n      <td>258</td>\n      <td>1</td>\n      <td>Myrtle</td>\n      <td>Fleming</td>\n      <td>myrtle.fleming@sakilacustomer.org</td>\n      <td>263</td>\n      <td>True</td>\n      <td>2006-02-14</td>\n      <td>2013-05-26 14:49:45.738</td>\n      <td>1</td>\n    </tr>\n    <tr>\n      <th>26</th>\n      <td>267</td>\n      <td>1</td>\n      <td>Margie</td>\n      <td>Wade</td>\n      <td>margie.wade@sakilacustomer.org</td>\n      <td>272</td>\n      <td>True</td>\n      <td>2006-02-14</td>\n      <td>2013-05-26 14:49:45.738</td>\n      <td>1</td>\n    </tr>\n    <tr>\n      <th>27</th>\n      <td>285</td>\n      <td>1</td>\n      <td>Miriam</td>\n      <td>Mckinney</td>\n      <td>miriam.mckinney@sakilacustomer.org</td>\n      <td>290</td>\n      <td>True</td>\n      <td>2006-02-14</td>\n      <td>2013-05-26 14:49:45.738</td>\n      <td>1</td>\n    </tr>\n    <tr>\n      <th>28</th>\n      <td>292</td>\n      <td>2</td>\n      <td>Misty</td>\n      <td>Lambert</td>\n      <td>misty.lambert@sakilacustomer.org</td>\n      <td>297</td>\n      <td>True</td>\n      <td>2006-02-14</td>\n      <td>2013-05-26 14:49:45.738</td>\n      <td>1</td>\n    </tr>\n    <tr>\n      <th>29</th>\n      <td>293</td>\n      <td>2</td>\n      <td>Mae</td>\n      <td>Fletcher</td>\n      <td>mae.fletcher@sakilacustomer.org</td>\n      <td>298</td>\n      <td>True</td>\n      <td>2006-02-14</td>\n      <td>2013-05-26 14:49:45.738</td>\n      <td>1</td>\n    </tr>\n    <tr>\n      <th>30</th>\n      <td>302</td>\n      <td>1</td>\n      <td>Michael</td>\n      <td>Silverman</td>\n      <td>michael.silverman@sakilacustomer.org</td>\n      <td>307</td>\n      <td>True</td>\n      <td>2006-02-14</td>\n      <td>2013-05-26 14:49:45.738</td>\n      <td>1</td>\n    </tr>\n    <tr>\n      <th>31</th>\n      <td>312</td>\n      <td>2</td>\n      <td>Mark</td>\n      <td>Rinehart</td>\n      <td>mark.rinehart@sakilacustomer.org</td>\n      <td>317</td>\n      <td>True</td>\n      <td>2006-02-14</td>\n      <td>2013-05-26 14:49:45.738</td>\n      <td>1</td>\n    </tr>\n    <tr>\n      <th>32</th>\n      <td>323</td>\n      <td>2</td>\n      <td>Matthew</td>\n      <td>Mahan</td>\n      <td>matthew.mahan@sakilacustomer.org</td>\n      <td>328</td>\n      <td>True</td>\n      <td>2006-02-14</td>\n      <td>2013-05-26 14:49:45.738</td>\n      <td>1</td>\n    </tr>\n    <tr>\n      <th>33</th>\n      <td>383</td>\n      <td>1</td>\n      <td>Martin</td>\n      <td>Bales</td>\n      <td>martin.bales@sakilacustomer.org</td>\n      <td>388</td>\n      <td>True</td>\n      <td>2006-02-14</td>\n      <td>2013-05-26 14:49:45.738</td>\n      <td>1</td>\n    </tr>\n    <tr>\n      <th>34</th>\n      <td>403</td>\n      <td>1</td>\n      <td>Mike</td>\n      <td>Way</td>\n      <td>mike.way@sakilacustomer.org</td>\n      <td>408</td>\n      <td>True</td>\n      <td>2006-02-14</td>\n      <td>2013-05-26 14:49:45.738</td>\n      <td>1</td>\n    </tr>\n    <tr>\n      <th>35</th>\n      <td>408</td>\n      <td>1</td>\n      <td>Manuel</td>\n      <td>Murrell</td>\n      <td>manuel.murrell@sakilacustomer.org</td>\n      <td>413</td>\n      <td>True</td>\n      <td>2006-02-14</td>\n      <td>2013-05-26 14:49:45.738</td>\n      <td>1</td>\n    </tr>\n    <tr>\n      <th>36</th>\n      <td>413</td>\n      <td>2</td>\n      <td>Marvin</td>\n      <td>Yee</td>\n      <td>marvin.yee@sakilacustomer.org</td>\n      <td>418</td>\n      <td>True</td>\n      <td>2006-02-14</td>\n      <td>2013-05-26 14:49:45.738</td>\n      <td>1</td>\n    </tr>\n    <tr>\n      <th>37</th>\n      <td>422</td>\n      <td>1</td>\n      <td>Melvin</td>\n      <td>Ellington</td>\n      <td>melvin.ellington@sakilacustomer.org</td>\n      <td>427</td>\n      <td>True</td>\n      <td>2006-02-14</td>\n      <td>2013-05-26 14:49:45.738</td>\n      <td>1</td>\n    </tr>\n    <tr>\n      <th>38</th>\n      <td>441</td>\n      <td>1</td>\n      <td>Mario</td>\n      <td>Cheatham</td>\n      <td>mario.cheatham@sakilacustomer.org</td>\n      <td>446</td>\n      <td>True</td>\n      <td>2006-02-14</td>\n      <td>2013-05-26 14:49:45.738</td>\n      <td>1</td>\n    </tr>\n    <tr>\n      <th>39</th>\n      <td>444</td>\n      <td>2</td>\n      <td>Marcus</td>\n      <td>Hidalgo</td>\n      <td>marcus.hidalgo@sakilacustomer.org</td>\n      <td>449</td>\n      <td>True</td>\n      <td>2006-02-14</td>\n      <td>2013-05-26 14:49:45.738</td>\n      <td>1</td>\n    </tr>\n    <tr>\n      <th>40</th>\n      <td>445</td>\n      <td>1</td>\n      <td>Micheal</td>\n      <td>Forman</td>\n      <td>micheal.forman@sakilacustomer.org</td>\n      <td>450</td>\n      <td>True</td>\n      <td>2006-02-14</td>\n      <td>2013-05-26 14:49:45.738</td>\n      <td>1</td>\n    </tr>\n    <tr>\n      <th>41</th>\n      <td>448</td>\n      <td>1</td>\n      <td>Miguel</td>\n      <td>Betancourt</td>\n      <td>miguel.betancourt@sakilacustomer.org</td>\n      <td>453</td>\n      <td>True</td>\n      <td>2006-02-14</td>\n      <td>2013-05-26 14:49:45.738</td>\n      <td>1</td>\n    </tr>\n    <tr>\n      <th>42</th>\n      <td>482</td>\n      <td>1</td>\n      <td>Maurice</td>\n      <td>Crawley</td>\n      <td>maurice.crawley@sakilacustomer.org</td>\n      <td>487</td>\n      <td>True</td>\n      <td>2006-02-14</td>\n      <td>2013-05-26 14:49:45.738</td>\n      <td>0</td>\n    </tr>\n    <tr>\n      <th>43</th>\n      <td>499</td>\n      <td>2</td>\n      <td>Marc</td>\n      <td>Outlaw</td>\n      <td>marc.outlaw@sakilacustomer.org</td>\n      <td>504</td>\n      <td>True</td>\n      <td>2006-02-14</td>\n      <td>2013-05-26 14:49:45.738</td>\n      <td>1</td>\n    </tr>\n    <tr>\n      <th>44</th>\n      <td>508</td>\n      <td>2</td>\n      <td>Milton</td>\n      <td>Howland</td>\n      <td>milton.howland@sakilacustomer.org</td>\n      <td>513</td>\n      <td>True</td>\n      <td>2006-02-14</td>\n      <td>2013-05-26 14:49:45.738</td>\n      <td>1</td>\n    </tr>\n    <tr>\n      <th>45</th>\n      <td>520</td>\n      <td>2</td>\n      <td>Mitchell</td>\n      <td>Westmoreland</td>\n      <td>mitchell.westmoreland@sakilacustomer.org</td>\n      <td>526</td>\n      <td>True</td>\n      <td>2006-02-14</td>\n      <td>2013-05-26 14:49:45.738</td>\n      <td>1</td>\n    </tr>\n    <tr>\n      <th>46</th>\n      <td>539</td>\n      <td>1</td>\n      <td>Mathew</td>\n      <td>Bolin</td>\n      <td>mathew.bolin@sakilacustomer.org</td>\n      <td>545</td>\n      <td>True</td>\n      <td>2006-02-14</td>\n      <td>2013-05-26 14:49:45.738</td>\n      <td>1</td>\n    </tr>\n    <tr>\n      <th>47</th>\n      <td>553</td>\n      <td>1</td>\n      <td>Max</td>\n      <td>Pitt</td>\n      <td>max.pitt@sakilacustomer.org</td>\n      <td>559</td>\n      <td>True</td>\n      <td>2006-02-14</td>\n      <td>2013-05-26 14:49:45.738</td>\n      <td>1</td>\n    </tr>\n    <tr>\n      <th>48</th>\n      <td>576</td>\n      <td>2</td>\n      <td>Morris</td>\n      <td>Mccarter</td>\n      <td>morris.mccarter@sakilacustomer.org</td>\n      <td>582</td>\n      <td>True</td>\n      <td>2006-02-14</td>\n      <td>2013-05-26 14:49:45.738</td>\n      <td>1</td>\n    </tr>\n    <tr>\n      <th>49</th>\n      <td>583</td>\n      <td>1</td>\n      <td>Marshall</td>\n      <td>Thorn</td>\n      <td>marshall.thorn@sakilacustomer.org</td>\n      <td>589</td>\n      <td>True</td>\n      <td>2006-02-14</td>\n      <td>2013-05-26 14:49:45.738</td>\n      <td>1</td>\n    </tr>\n    <tr>\n      <th>50</th>\n      <td>588</td>\n      <td>1</td>\n      <td>Marion</td>\n      <td>Ocampo</td>\n      <td>marion.ocampo@sakilacustomer.org</td>\n      <td>594</td>\n      <td>True</td>\n      <td>2006-02-14</td>\n      <td>2013-05-26 14:49:45.738</td>\n      <td>1</td>\n    </tr>\n  </tbody>\n</table>\n</div>"
     },
     "execution_count": 72,
     "metadata": {},
     "output_type": "execute_result"
    }
   ],
   "source": [
    "import numpy as np\n",
    "# В самом SQL можно использовать одинарный %\n",
    "sql_query(f\"\"\"\n",
    "SELECT *\n",
    "FROM customer\n",
    "WHERE email LIKE 'm%%' OR email LIKE 'm%%'\n",
    "\"\"\")"
   ],
   "metadata": {
    "collapsed": false,
    "pycharm": {
     "name": "#%%\n"
    }
   }
  },
  {
   "cell_type": "markdown",
   "source": [
    "## COUNT, DISTINCT"
   ],
   "metadata": {
    "collapsed": false,
    "pycharm": {
     "name": "#%% md\n"
    }
   }
  },
  {
   "cell_type": "code",
   "execution_count": 78,
   "outputs": [
    {
     "data": {
      "text/plain": "   count\n0    591",
      "text/html": "<div>\n<style scoped>\n    .dataframe tbody tr th:only-of-type {\n        vertical-align: middle;\n    }\n\n    .dataframe tbody tr th {\n        vertical-align: top;\n    }\n\n    .dataframe thead th {\n        text-align: right;\n    }\n</style>\n<table border=\"1\" class=\"dataframe\">\n  <thead>\n    <tr style=\"text-align: right;\">\n      <th></th>\n      <th>count</th>\n    </tr>\n  </thead>\n  <tbody>\n    <tr>\n      <th>0</th>\n      <td>591</td>\n    </tr>\n  </tbody>\n</table>\n</div>"
     },
     "execution_count": 78,
     "metadata": {},
     "output_type": "execute_result"
    }
   ],
   "source": [
    "sql_query(f\"\"\"\n",
    "SELECT COUNT(DISTINCT first_name)\n",
    "FROM customer\n",
    "\"\"\")"
   ],
   "metadata": {
    "collapsed": false,
    "pycharm": {
     "name": "#%%\n"
    }
   }
  },
  {
   "cell_type": "markdown",
   "source": [
    "## Арифметические операции SUM, AVG, MIN, MAX"
   ],
   "metadata": {
    "collapsed": false,
    "pycharm": {
     "name": "#%% md\n"
    }
   }
  },
  {
   "cell_type": "code",
   "execution_count": 81,
   "outputs": [
    {
     "data": {
      "text/plain": "   staff_id  total_amount  avg_amount  max_amount  min_amount\n0         1      30252.12    4.148673       11.99         0.0\n1         2      31059.92    4.252453       11.99         0.0",
      "text/html": "<div>\n<style scoped>\n    .dataframe tbody tr th:only-of-type {\n        vertical-align: middle;\n    }\n\n    .dataframe tbody tr th {\n        vertical-align: top;\n    }\n\n    .dataframe thead th {\n        text-align: right;\n    }\n</style>\n<table border=\"1\" class=\"dataframe\">\n  <thead>\n    <tr style=\"text-align: right;\">\n      <th></th>\n      <th>staff_id</th>\n      <th>total_amount</th>\n      <th>avg_amount</th>\n      <th>max_amount</th>\n      <th>min_amount</th>\n    </tr>\n  </thead>\n  <tbody>\n    <tr>\n      <th>0</th>\n      <td>1</td>\n      <td>30252.12</td>\n      <td>4.148673</td>\n      <td>11.99</td>\n      <td>0.0</td>\n    </tr>\n    <tr>\n      <th>1</th>\n      <td>2</td>\n      <td>31059.92</td>\n      <td>4.252453</td>\n      <td>11.99</td>\n      <td>0.0</td>\n    </tr>\n  </tbody>\n</table>\n</div>"
     },
     "execution_count": 81,
     "metadata": {},
     "output_type": "execute_result"
    }
   ],
   "source": [
    "sql_query(f\"\"\"\n",
    "SELECT staff_id, SUM(amount) as total_amount, AVG(amount) as avg_amount,\n",
    "MAX(amount) as max_amount, MIN(amount) as min_amount\n",
    "FROM payment\n",
    "GROUP BY staff_id\n",
    "\"\"\")"
   ],
   "metadata": {
    "collapsed": false,
    "pycharm": {
     "name": "#%%\n"
    }
   }
  },
  {
   "cell_type": "markdown",
   "source": [
    "## TIMESTAMPS и DATES\n",
    "8.5 раздел в документации\n",
    "\n",
    "Формат: YYYY-MM-DDT hh:mm:ss±hh:mm"
   ],
   "metadata": {
    "collapsed": false,
    "pycharm": {
     "name": "#%% md\n"
    }
   }
  },
  {
   "cell_type": "code",
   "execution_count": 89,
   "outputs": [
    {
     "data": {
      "text/plain": "                               now\n0 2022-01-31 18:51:35.144662+00:00",
      "text/html": "<div>\n<style scoped>\n    .dataframe tbody tr th:only-of-type {\n        vertical-align: middle;\n    }\n\n    .dataframe tbody tr th {\n        vertical-align: top;\n    }\n\n    .dataframe thead th {\n        text-align: right;\n    }\n</style>\n<table border=\"1\" class=\"dataframe\">\n  <thead>\n    <tr style=\"text-align: right;\">\n      <th></th>\n      <th>now</th>\n    </tr>\n  </thead>\n  <tbody>\n    <tr>\n      <th>0</th>\n      <td>2022-01-31 18:51:35.144662+00:00</td>\n    </tr>\n  </tbody>\n</table>\n</div>"
     },
     "execution_count": 89,
     "metadata": {},
     "output_type": "execute_result"
    }
   ],
   "source": [
    "sql_query(\"\"\"SELECT NOW()\"\"\")"
   ],
   "metadata": {
    "collapsed": false,
    "pycharm": {
     "name": "#%%\n"
    }
   }
  },
  {
   "cell_type": "code",
   "execution_count": 87,
   "outputs": [
    {
     "data": {
      "text/plain": "          now\n0  2022-01-31",
      "text/html": "<div>\n<style scoped>\n    .dataframe tbody tr th:only-of-type {\n        vertical-align: middle;\n    }\n\n    .dataframe tbody tr th {\n        vertical-align: top;\n    }\n\n    .dataframe thead th {\n        text-align: right;\n    }\n</style>\n<table border=\"1\" class=\"dataframe\">\n  <thead>\n    <tr style=\"text-align: right;\">\n      <th></th>\n      <th>now</th>\n    </tr>\n  </thead>\n  <tbody>\n    <tr>\n      <th>0</th>\n      <td>2022-01-31</td>\n    </tr>\n  </tbody>\n</table>\n</div>"
     },
     "execution_count": 87,
     "metadata": {},
     "output_type": "execute_result"
    }
   ],
   "source": [
    "sql_query(\"\"\"SELECT NOW()::DATE\"\"\")"
   ],
   "metadata": {
    "collapsed": false,
    "pycharm": {
     "name": "#%%\n"
    }
   }
  },
  {
   "cell_type": "code",
   "execution_count": 91,
   "outputs": [
    {
     "data": {
      "text/plain": "               now\n0  21:52:19.622777",
      "text/html": "<div>\n<style scoped>\n    .dataframe tbody tr th:only-of-type {\n        vertical-align: middle;\n    }\n\n    .dataframe tbody tr th {\n        vertical-align: top;\n    }\n\n    .dataframe thead th {\n        text-align: right;\n    }\n</style>\n<table border=\"1\" class=\"dataframe\">\n  <thead>\n    <tr style=\"text-align: right;\">\n      <th></th>\n      <th>now</th>\n    </tr>\n  </thead>\n  <tbody>\n    <tr>\n      <th>0</th>\n      <td>21:52:19.622777</td>\n    </tr>\n  </tbody>\n</table>\n</div>"
     },
     "execution_count": 91,
     "metadata": {},
     "output_type": "execute_result"
    }
   ],
   "source": [
    "sql_query(\"\"\"SELECT NOW()::TIME\"\"\")"
   ],
   "metadata": {
    "collapsed": false,
    "pycharm": {
     "name": "#%%\n"
    }
   }
  },
  {
   "cell_type": "code",
   "execution_count": 100,
   "outputs": [
    {
     "data": {
      "text/plain": "   yesterday\n0 2022-01-30",
      "text/html": "<div>\n<style scoped>\n    .dataframe tbody tr th:only-of-type {\n        vertical-align: middle;\n    }\n\n    .dataframe tbody tr th {\n        vertical-align: top;\n    }\n\n    .dataframe thead th {\n        text-align: right;\n    }\n</style>\n<table border=\"1\" class=\"dataframe\">\n  <thead>\n    <tr style=\"text-align: right;\">\n      <th></th>\n      <th>yesterday</th>\n    </tr>\n  </thead>\n  <tbody>\n    <tr>\n      <th>0</th>\n      <td>2022-01-30</td>\n    </tr>\n  </tbody>\n</table>\n</div>"
     },
     "execution_count": 100,
     "metadata": {},
     "output_type": "execute_result"
    }
   ],
   "source": [
    "sql_query(\"\"\"SELECT NOW()::DATE - INTERVAL '1 DAYS' as yesterday \"\"\")"
   ],
   "metadata": {
    "collapsed": false,
    "pycharm": {
     "name": "#%%\n"
    }
   }
  },
  {
   "cell_type": "code",
   "execution_count": 101,
   "outputs": [
    {
     "data": {
      "text/plain": "   extract\n0   2022.0",
      "text/html": "<div>\n<style scoped>\n    .dataframe tbody tr th:only-of-type {\n        vertical-align: middle;\n    }\n\n    .dataframe tbody tr th {\n        vertical-align: top;\n    }\n\n    .dataframe thead th {\n        text-align: right;\n    }\n</style>\n<table border=\"1\" class=\"dataframe\">\n  <thead>\n    <tr style=\"text-align: right;\">\n      <th></th>\n      <th>extract</th>\n    </tr>\n  </thead>\n  <tbody>\n    <tr>\n      <th>0</th>\n      <td>2022.0</td>\n    </tr>\n  </tbody>\n</table>\n</div>"
     },
     "execution_count": 101,
     "metadata": {},
     "output_type": "execute_result"
    }
   ],
   "source": [
    "sql_query(\"\"\"SELECT EXTRACT(YEAR FROM NOW())\"\"\")"
   ],
   "metadata": {
    "collapsed": false,
    "pycharm": {
     "name": "#%%\n"
    }
   }
  },
  {
   "cell_type": "code",
   "execution_count": 104,
   "outputs": [
    {
     "data": {
      "text/plain": "      payment_id  customer_id  staff_id  rental_id  amount  \\\n0          17503          341         2       1520    7.99   \n1          17504          341         1       1778    1.99   \n2          17505          341         1       1849    7.99   \n3          17506          341         2       2829    2.99   \n4          17507          341         2       3130    7.99   \n...          ...          ...       ...        ...     ...   \n2011       19514          267         2       2699    2.99   \n2012       19515          267         2       2754    4.99   \n2013       19516          267         1       2877    1.99   \n2014       19517          267         2       3090    0.99   \n2015       19518           16         1       4591    1.99   \n\n                   payment_date  \n0    2007-02-15 22:25:46.996577  \n1    2007-02-16 17:23:14.996577  \n2    2007-02-16 22:41:45.996577  \n3    2007-02-19 19:39:56.996577  \n4    2007-02-20 17:31:48.996577  \n...                         ...  \n2011 2007-02-19 11:57:54.996577  \n2012 2007-02-19 15:24:25.996577  \n2013 2007-02-19 23:35:42.996577  \n2014 2007-02-20 14:28:45.996577  \n2015 2007-02-18 03:24:38.996577  \n\n[2016 rows x 6 columns]",
      "text/html": "<div>\n<style scoped>\n    .dataframe tbody tr th:only-of-type {\n        vertical-align: middle;\n    }\n\n    .dataframe tbody tr th {\n        vertical-align: top;\n    }\n\n    .dataframe thead th {\n        text-align: right;\n    }\n</style>\n<table border=\"1\" class=\"dataframe\">\n  <thead>\n    <tr style=\"text-align: right;\">\n      <th></th>\n      <th>payment_id</th>\n      <th>customer_id</th>\n      <th>staff_id</th>\n      <th>rental_id</th>\n      <th>amount</th>\n      <th>payment_date</th>\n    </tr>\n  </thead>\n  <tbody>\n    <tr>\n      <th>0</th>\n      <td>17503</td>\n      <td>341</td>\n      <td>2</td>\n      <td>1520</td>\n      <td>7.99</td>\n      <td>2007-02-15 22:25:46.996577</td>\n    </tr>\n    <tr>\n      <th>1</th>\n      <td>17504</td>\n      <td>341</td>\n      <td>1</td>\n      <td>1778</td>\n      <td>1.99</td>\n      <td>2007-02-16 17:23:14.996577</td>\n    </tr>\n    <tr>\n      <th>2</th>\n      <td>17505</td>\n      <td>341</td>\n      <td>1</td>\n      <td>1849</td>\n      <td>7.99</td>\n      <td>2007-02-16 22:41:45.996577</td>\n    </tr>\n    <tr>\n      <th>3</th>\n      <td>17506</td>\n      <td>341</td>\n      <td>2</td>\n      <td>2829</td>\n      <td>2.99</td>\n      <td>2007-02-19 19:39:56.996577</td>\n    </tr>\n    <tr>\n      <th>4</th>\n      <td>17507</td>\n      <td>341</td>\n      <td>2</td>\n      <td>3130</td>\n      <td>7.99</td>\n      <td>2007-02-20 17:31:48.996577</td>\n    </tr>\n    <tr>\n      <th>...</th>\n      <td>...</td>\n      <td>...</td>\n      <td>...</td>\n      <td>...</td>\n      <td>...</td>\n      <td>...</td>\n    </tr>\n    <tr>\n      <th>2011</th>\n      <td>19514</td>\n      <td>267</td>\n      <td>2</td>\n      <td>2699</td>\n      <td>2.99</td>\n      <td>2007-02-19 11:57:54.996577</td>\n    </tr>\n    <tr>\n      <th>2012</th>\n      <td>19515</td>\n      <td>267</td>\n      <td>2</td>\n      <td>2754</td>\n      <td>4.99</td>\n      <td>2007-02-19 15:24:25.996577</td>\n    </tr>\n    <tr>\n      <th>2013</th>\n      <td>19516</td>\n      <td>267</td>\n      <td>1</td>\n      <td>2877</td>\n      <td>1.99</td>\n      <td>2007-02-19 23:35:42.996577</td>\n    </tr>\n    <tr>\n      <th>2014</th>\n      <td>19517</td>\n      <td>267</td>\n      <td>2</td>\n      <td>3090</td>\n      <td>0.99</td>\n      <td>2007-02-20 14:28:45.996577</td>\n    </tr>\n    <tr>\n      <th>2015</th>\n      <td>19518</td>\n      <td>16</td>\n      <td>1</td>\n      <td>4591</td>\n      <td>1.99</td>\n      <td>2007-02-18 03:24:38.996577</td>\n    </tr>\n  </tbody>\n</table>\n<p>2016 rows × 6 columns</p>\n</div>"
     },
     "execution_count": 104,
     "metadata": {},
     "output_type": "execute_result"
    }
   ],
   "source": [
    "# Вытащить все строчки с датой выплаты за ФЕВРАЛЬ (2 месяц)\n",
    "sql_query(\"\"\"SELECT * FROM payment WHERE EXTRACT(MONTH FROM payment_date) = 02\"\"\")"
   ],
   "metadata": {
    "collapsed": false,
    "pycharm": {
     "name": "#%%\n"
    }
   }
  },
  {
   "cell_type": "code",
   "execution_count": 105,
   "outputs": [
    {
     "data": {
      "text/plain": "       payment_id  customer_id  staff_id  rental_id  amount  \\\n0           17503          341         2       1520    7.99   \n1           17504          341         1       1778    1.99   \n2           17505          341         1       1849    7.99   \n3           17506          341         2       2829    2.99   \n4           17507          341         2       3130    7.99   \n...           ...          ...       ...        ...     ...   \n14591       32094          245         2      12682    2.99   \n14592       32095          251         1      14107    0.99   \n14593       32096          252         2      13756    4.99   \n14594       32097          263         1      15293    0.99   \n14595       32098          264         2      14243    2.99   \n\n                    payment_date  \n0     2007-02-15 22:25:46.996577  \n1     2007-02-16 17:23:14.996577  \n2     2007-02-16 22:41:45.996577  \n3     2007-02-19 19:39:56.996577  \n4     2007-02-20 17:31:48.996577  \n...                          ...  \n14591 2007-05-14 13:44:29.996577  \n14592 2007-05-14 13:44:29.996577  \n14593 2007-05-14 13:44:29.996577  \n14594 2007-05-14 13:44:29.996577  \n14595 2007-05-14 13:44:29.996577  \n\n[14596 rows x 6 columns]",
      "text/html": "<div>\n<style scoped>\n    .dataframe tbody tr th:only-of-type {\n        vertical-align: middle;\n    }\n\n    .dataframe tbody tr th {\n        vertical-align: top;\n    }\n\n    .dataframe thead th {\n        text-align: right;\n    }\n</style>\n<table border=\"1\" class=\"dataframe\">\n  <thead>\n    <tr style=\"text-align: right;\">\n      <th></th>\n      <th>payment_id</th>\n      <th>customer_id</th>\n      <th>staff_id</th>\n      <th>rental_id</th>\n      <th>amount</th>\n      <th>payment_date</th>\n    </tr>\n  </thead>\n  <tbody>\n    <tr>\n      <th>0</th>\n      <td>17503</td>\n      <td>341</td>\n      <td>2</td>\n      <td>1520</td>\n      <td>7.99</td>\n      <td>2007-02-15 22:25:46.996577</td>\n    </tr>\n    <tr>\n      <th>1</th>\n      <td>17504</td>\n      <td>341</td>\n      <td>1</td>\n      <td>1778</td>\n      <td>1.99</td>\n      <td>2007-02-16 17:23:14.996577</td>\n    </tr>\n    <tr>\n      <th>2</th>\n      <td>17505</td>\n      <td>341</td>\n      <td>1</td>\n      <td>1849</td>\n      <td>7.99</td>\n      <td>2007-02-16 22:41:45.996577</td>\n    </tr>\n    <tr>\n      <th>3</th>\n      <td>17506</td>\n      <td>341</td>\n      <td>2</td>\n      <td>2829</td>\n      <td>2.99</td>\n      <td>2007-02-19 19:39:56.996577</td>\n    </tr>\n    <tr>\n      <th>4</th>\n      <td>17507</td>\n      <td>341</td>\n      <td>2</td>\n      <td>3130</td>\n      <td>7.99</td>\n      <td>2007-02-20 17:31:48.996577</td>\n    </tr>\n    <tr>\n      <th>...</th>\n      <td>...</td>\n      <td>...</td>\n      <td>...</td>\n      <td>...</td>\n      <td>...</td>\n      <td>...</td>\n    </tr>\n    <tr>\n      <th>14591</th>\n      <td>32094</td>\n      <td>245</td>\n      <td>2</td>\n      <td>12682</td>\n      <td>2.99</td>\n      <td>2007-05-14 13:44:29.996577</td>\n    </tr>\n    <tr>\n      <th>14592</th>\n      <td>32095</td>\n      <td>251</td>\n      <td>1</td>\n      <td>14107</td>\n      <td>0.99</td>\n      <td>2007-05-14 13:44:29.996577</td>\n    </tr>\n    <tr>\n      <th>14593</th>\n      <td>32096</td>\n      <td>252</td>\n      <td>2</td>\n      <td>13756</td>\n      <td>4.99</td>\n      <td>2007-05-14 13:44:29.996577</td>\n    </tr>\n    <tr>\n      <th>14594</th>\n      <td>32097</td>\n      <td>263</td>\n      <td>1</td>\n      <td>15293</td>\n      <td>0.99</td>\n      <td>2007-05-14 13:44:29.996577</td>\n    </tr>\n    <tr>\n      <th>14595</th>\n      <td>32098</td>\n      <td>264</td>\n      <td>2</td>\n      <td>14243</td>\n      <td>2.99</td>\n      <td>2007-05-14 13:44:29.996577</td>\n    </tr>\n  </tbody>\n</table>\n<p>14596 rows × 6 columns</p>\n</div>"
     },
     "execution_count": 105,
     "metadata": {},
     "output_type": "execute_result"
    }
   ],
   "source": [
    "# Вытащить все строчки с датой выплаты после 14 февраля\n",
    "sql_query(\"\"\"SELECT * FROM payment WHERE payment_date > '2007-02-14' \"\"\")"
   ],
   "metadata": {
    "collapsed": false,
    "pycharm": {
     "name": "#%%\n"
    }
   }
  },
  {
   "cell_type": "markdown",
   "source": [
    "# Более сложные и продвинутые вещи"
   ],
   "metadata": {
    "collapsed": false,
    "pycharm": {
     "name": "#%% md\n"
    }
   }
  },
  {
   "cell_type": "markdown",
   "source": [
    "## CASE\n",
    "\n",
    "```postgresql\n",
    "CASE\n",
    "WHEN x = 1 THEN 'a'\n",
    "WHEN x = 2 THEN 'b'\n",
    "ELSE 'c'\n",
    "END AS new_column\n",
    "```"
   ],
   "metadata": {
    "collapsed": false,
    "pycharm": {
     "name": "#%% md\n"
    }
   }
  },
  {
   "cell_type": "code",
   "execution_count": 9,
   "outputs": [
    {
     "data": {
      "text/plain": "       month  total_amount\n0    Февраль       8351.84\n1  Остальные      29073.64\n2       Март      23886.56",
      "text/html": "<div>\n<style scoped>\n    .dataframe tbody tr th:only-of-type {\n        vertical-align: middle;\n    }\n\n    .dataframe tbody tr th {\n        vertical-align: top;\n    }\n\n    .dataframe thead th {\n        text-align: right;\n    }\n</style>\n<table border=\"1\" class=\"dataframe\">\n  <thead>\n    <tr style=\"text-align: right;\">\n      <th></th>\n      <th>month</th>\n      <th>total_amount</th>\n    </tr>\n  </thead>\n  <tbody>\n    <tr>\n      <th>0</th>\n      <td>Февраль</td>\n      <td>8351.84</td>\n    </tr>\n    <tr>\n      <th>1</th>\n      <td>Остальные</td>\n      <td>29073.64</td>\n    </tr>\n    <tr>\n      <th>2</th>\n      <td>Март</td>\n      <td>23886.56</td>\n    </tr>\n  </tbody>\n</table>\n</div>"
     },
     "execution_count": 9,
     "metadata": {},
     "output_type": "execute_result"
    }
   ],
   "source": [
    "# Найти сумму выплат за февраль и март\n",
    "sql_query(\"\"\"\n",
    "SELECT\n",
    "CASE WHEN EXTRACT(MONTH FROM payment_date) = 2 THEN 'Февраль'\n",
    "WHEN EXTRACT(MONTH FROM payment_date) = 3 THEN 'Март'\n",
    "ELSE 'Остальные'\n",
    "END as month,\n",
    "SUM(amount) as total_amount\n",
    "FROM payment\n",
    "GROUP BY month\n",
    "\"\"\")\n"
   ],
   "metadata": {
    "collapsed": false,
    "pycharm": {
     "name": "#%%\n"
    }
   }
  },
  {
   "cell_type": "markdown",
   "source": [
    "## Подзапросы (subqueries)\n",
    "\n",
    "Это запросы, вложенные в главный запрос."
   ],
   "metadata": {
    "collapsed": false,
    "pycharm": {
     "name": "#%% md\n"
    }
   }
  },
  {
   "cell_type": "markdown",
   "source": [
    "### Подзапросы в WHERE"
   ],
   "metadata": {
    "collapsed": false,
    "pycharm": {
     "name": "#%% md\n"
    }
   }
  },
  {
   "cell_type": "code",
   "execution_count": null,
   "outputs": [],
   "source": [
    "# Найти сумму выплат за февраль и март ДЛЯ КЛИЕНТОВ, у которых суммарная стоимость не превысит 10долларов.\n",
    "sql_query(\"\"\"\n",
    "SELECT\n",
    "CASE WHEN EXTRACT(MONTH FROM payment_date) = 2 THEN 'Февраль'\n",
    "WHEN EXTRACT(MONTH FROM payment_date) = 3 THEN 'Март'\n",
    "ELSE 'Остальные'\n",
    "END as month,\n",
    "SUM(amount) as total_amount\n",
    "FROM payment\n",
    "WHERE customer_id IN (\n",
    "SELECT customer_id\n",
    "FROM payment\n",
    "GROUP BY customer_id\n",
    "HAVING sum(amount) < 100\n",
    ")\n",
    "GROUP BY month\n",
    "ORDER BY total_amount\n",
    "DESC\n",
    "\"\"\")"
   ],
   "metadata": {
    "collapsed": false,
    "pycharm": {
     "name": "#%%\n"
    }
   }
  },
  {
   "cell_type": "markdown",
   "source": [
    "### Коррелированные запросы\n",
    "\n",
    "Это вложенные запросы, которые связаны с внешними таблицами.\n",
    "Отметим, что скорость выполнения таких запросов сильно замедляется."
   ],
   "metadata": {
    "collapsed": false,
    "pycharm": {
     "name": "#%% md\n"
    }
   }
  },
  {
   "cell_type": "markdown",
   "source": [
    "### Обобщенные табличные выражения - CTE (Common table expressions)\n",
    "\n",
    "Для того чтобы не нагромождать код вложенными запросами, можно использовать CTE.\n",
    "По сути это тот же подзапрос, только выводится он в начало всего кода и используется как новая таблица, хранящаяся в оперативной памяти."
   ],
   "metadata": {
    "collapsed": false,
    "pycharm": {
     "name": "#%% md\n"
    }
   }
  },
  {
   "cell_type": "code",
   "execution_count": 21,
   "outputs": [
    {
     "data": {
      "text/plain": "       month  total_amount\n0  Остальные      12011.98\n1       Март       9880.21\n2    Февраль       3226.70",
      "text/html": "<div>\n<style scoped>\n    .dataframe tbody tr th:only-of-type {\n        vertical-align: middle;\n    }\n\n    .dataframe tbody tr th {\n        vertical-align: top;\n    }\n\n    .dataframe thead th {\n        text-align: right;\n    }\n</style>\n<table border=\"1\" class=\"dataframe\">\n  <thead>\n    <tr style=\"text-align: right;\">\n      <th></th>\n      <th>month</th>\n      <th>total_amount</th>\n    </tr>\n  </thead>\n  <tbody>\n    <tr>\n      <th>0</th>\n      <td>Остальные</td>\n      <td>12011.98</td>\n    </tr>\n    <tr>\n      <th>1</th>\n      <td>Март</td>\n      <td>9880.21</td>\n    </tr>\n    <tr>\n      <th>2</th>\n      <td>Февраль</td>\n      <td>3226.70</td>\n    </tr>\n  </tbody>\n</table>\n</div>"
     },
     "execution_count": 21,
     "metadata": {},
     "output_type": "execute_result"
    }
   ],
   "source": [
    "# Найти сумму выплат за февраль и март ДЛЯ КЛИЕНТОВ, у которых суммарная стоимость не превысит 10долларов.\n",
    "sql_query(\"\"\"\n",
    "\n",
    "WITH cust_id AS (SELECT customer_id\n",
    "FROM payment\n",
    "GROUP BY customer_id\n",
    "HAVING sum(amount) < 100)\n",
    "\n",
    "SELECT\n",
    "CASE WHEN EXTRACT(MONTH FROM payment_date) = 2 THEN 'Февраль'\n",
    "WHEN EXTRACT(MONTH FROM payment_date) = 3 THEN 'Март'\n",
    "ELSE 'Остальные'\n",
    "END as month,\n",
    "SUM(amount) as total_amount\n",
    "FROM payment\n",
    "WHERE customer_id IN (SELECT customer_id FROM cust_id)\n",
    "GROUP BY month\n",
    "ORDER BY total_amount\n",
    "DESC\n",
    "\"\"\")"
   ],
   "metadata": {
    "collapsed": false,
    "pycharm": {
     "name": "#%%\n"
    }
   }
  },
  {
   "cell_type": "markdown",
   "source": [
    "## Оконные функции\n",
    "\n",
    "Оконные функции используют для добавления к нашему запросу прочих агрегаций, которые не вошли в\n",
    "GROUP BY. Сразу отметим, что оконные функции используют данные из РЕЗУЛЬТИРУЮЩЕГО датасета, а не из\n",
    "самой базы."
   ],
   "metadata": {
    "collapsed": false,
    "pycharm": {
     "name": "#%% md\n"
    }
   }
  },
  {
   "cell_type": "code",
   "execution_count": 5,
   "outputs": [
    {
     "data": {
      "text/plain": "     customer_id  total_amount  amount_rank\n0            148        211.55            1\n1            526        208.58            2\n2            178        194.61            3\n3            137        191.62            4\n4            144        189.60            5\n..           ...           ...          ...\n594          110         49.88          595\n595          320         47.85          596\n596          248         37.87          597\n597          281         32.90          598\n598          318         27.93          599\n\n[599 rows x 3 columns]",
      "text/html": "<div>\n<style scoped>\n    .dataframe tbody tr th:only-of-type {\n        vertical-align: middle;\n    }\n\n    .dataframe tbody tr th {\n        vertical-align: top;\n    }\n\n    .dataframe thead th {\n        text-align: right;\n    }\n</style>\n<table border=\"1\" class=\"dataframe\">\n  <thead>\n    <tr style=\"text-align: right;\">\n      <th></th>\n      <th>customer_id</th>\n      <th>total_amount</th>\n      <th>amount_rank</th>\n    </tr>\n  </thead>\n  <tbody>\n    <tr>\n      <th>0</th>\n      <td>148</td>\n      <td>211.55</td>\n      <td>1</td>\n    </tr>\n    <tr>\n      <th>1</th>\n      <td>526</td>\n      <td>208.58</td>\n      <td>2</td>\n    </tr>\n    <tr>\n      <th>2</th>\n      <td>178</td>\n      <td>194.61</td>\n      <td>3</td>\n    </tr>\n    <tr>\n      <th>3</th>\n      <td>137</td>\n      <td>191.62</td>\n      <td>4</td>\n    </tr>\n    <tr>\n      <th>4</th>\n      <td>144</td>\n      <td>189.60</td>\n      <td>5</td>\n    </tr>\n    <tr>\n      <th>...</th>\n      <td>...</td>\n      <td>...</td>\n      <td>...</td>\n    </tr>\n    <tr>\n      <th>594</th>\n      <td>110</td>\n      <td>49.88</td>\n      <td>595</td>\n    </tr>\n    <tr>\n      <th>595</th>\n      <td>320</td>\n      <td>47.85</td>\n      <td>596</td>\n    </tr>\n    <tr>\n      <th>596</th>\n      <td>248</td>\n      <td>37.87</td>\n      <td>597</td>\n    </tr>\n    <tr>\n      <th>597</th>\n      <td>281</td>\n      <td>32.90</td>\n      <td>598</td>\n    </tr>\n    <tr>\n      <th>598</th>\n      <td>318</td>\n      <td>27.93</td>\n      <td>599</td>\n    </tr>\n  </tbody>\n</table>\n<p>599 rows × 3 columns</p>\n</div>"
     },
     "execution_count": 5,
     "metadata": {},
     "output_type": "execute_result"
    }
   ],
   "source": [
    "# Выведем лучших клиентов по рейтингу\n",
    "sql_query(\"\"\"\n",
    "SELECT customer_id, SUM(amount) as total_amount,\n",
    "RANK() OVER(ORDER BY SUM(amount) DESC) as amount_rank\n",
    "FROM payment\n",
    "GROUP BY customer_id\n",
    "\"\"\")"
   ],
   "metadata": {
    "collapsed": false,
    "pycharm": {
     "name": "#%%\n"
    }
   }
  },
  {
   "cell_type": "code",
   "execution_count": 31,
   "outputs": [
    {
     "data": {
      "text/plain": "     customer_id  total_amount  total_amount_money\n0            184         80.80            61312.04\n1             87        137.72            61312.04\n2            477        106.79            61312.04\n3            273        130.72            61312.04\n4            550        151.69            61312.04\n..           ...           ...                 ...\n594          449         80.83            61312.04\n595           64         91.70            61312.04\n596          520        127.69            61312.04\n597           55         84.81            61312.04\n598          148        211.55            61312.04\n\n[599 rows x 3 columns]",
      "text/html": "<div>\n<style scoped>\n    .dataframe tbody tr th:only-of-type {\n        vertical-align: middle;\n    }\n\n    .dataframe tbody tr th {\n        vertical-align: top;\n    }\n\n    .dataframe thead th {\n        text-align: right;\n    }\n</style>\n<table border=\"1\" class=\"dataframe\">\n  <thead>\n    <tr style=\"text-align: right;\">\n      <th></th>\n      <th>customer_id</th>\n      <th>total_amount</th>\n      <th>total_amount_money</th>\n    </tr>\n  </thead>\n  <tbody>\n    <tr>\n      <th>0</th>\n      <td>184</td>\n      <td>80.80</td>\n      <td>61312.04</td>\n    </tr>\n    <tr>\n      <th>1</th>\n      <td>87</td>\n      <td>137.72</td>\n      <td>61312.04</td>\n    </tr>\n    <tr>\n      <th>2</th>\n      <td>477</td>\n      <td>106.79</td>\n      <td>61312.04</td>\n    </tr>\n    <tr>\n      <th>3</th>\n      <td>273</td>\n      <td>130.72</td>\n      <td>61312.04</td>\n    </tr>\n    <tr>\n      <th>4</th>\n      <td>550</td>\n      <td>151.69</td>\n      <td>61312.04</td>\n    </tr>\n    <tr>\n      <th>...</th>\n      <td>...</td>\n      <td>...</td>\n      <td>...</td>\n    </tr>\n    <tr>\n      <th>594</th>\n      <td>449</td>\n      <td>80.83</td>\n      <td>61312.04</td>\n    </tr>\n    <tr>\n      <th>595</th>\n      <td>64</td>\n      <td>91.70</td>\n      <td>61312.04</td>\n    </tr>\n    <tr>\n      <th>596</th>\n      <td>520</td>\n      <td>127.69</td>\n      <td>61312.04</td>\n    </tr>\n    <tr>\n      <th>597</th>\n      <td>55</td>\n      <td>84.81</td>\n      <td>61312.04</td>\n    </tr>\n    <tr>\n      <th>598</th>\n      <td>148</td>\n      <td>211.55</td>\n      <td>61312.04</td>\n    </tr>\n  </tbody>\n</table>\n<p>599 rows × 3 columns</p>\n</div>"
     },
     "execution_count": 31,
     "metadata": {},
     "output_type": "execute_result"
    }
   ],
   "source": [
    "# Добавим суммарную выручку за все время\n",
    "sql_query(\"\"\"\n",
    "SELECT customer_id, SUM(amount) as total_amount,\n",
    "SUM(SUM(amount)) OVER() as total_amount_money\n",
    "FROM payment\n",
    "GROUP BY customer_id\n",
    "\"\"\")"
   ],
   "metadata": {
    "collapsed": false,
    "pycharm": {
     "name": "#%%\n"
    }
   }
  },
  {
   "cell_type": "code",
   "execution_count": 32,
   "outputs": [
    {
     "data": {
      "text/plain": "       customer_id country         city  amount  total_city_country\n0              148  Runion  Saint-Denis    6.99              211.55\n1              148  Runion  Saint-Denis    4.99              211.55\n2              148  Runion  Saint-Denis    4.99              211.55\n3              148  Runion  Saint-Denis    0.99              211.55\n4              148  Runion  Saint-Denis   10.99              211.55\n...            ...     ...          ...     ...                 ...\n14591          318  Poland    Bydgoszcz    5.99               27.93\n14592          318  Poland    Bydgoszcz    2.99               27.93\n14593          318  Poland    Bydgoszcz    2.99               27.93\n14594          318  Poland    Bydgoszcz    4.99               27.93\n14595          318  Poland    Bydgoszcz    8.99               27.93\n\n[14596 rows x 5 columns]",
      "text/html": "<div>\n<style scoped>\n    .dataframe tbody tr th:only-of-type {\n        vertical-align: middle;\n    }\n\n    .dataframe tbody tr th {\n        vertical-align: top;\n    }\n\n    .dataframe thead th {\n        text-align: right;\n    }\n</style>\n<table border=\"1\" class=\"dataframe\">\n  <thead>\n    <tr style=\"text-align: right;\">\n      <th></th>\n      <th>customer_id</th>\n      <th>country</th>\n      <th>city</th>\n      <th>amount</th>\n      <th>total_city_country</th>\n    </tr>\n  </thead>\n  <tbody>\n    <tr>\n      <th>0</th>\n      <td>148</td>\n      <td>Runion</td>\n      <td>Saint-Denis</td>\n      <td>6.99</td>\n      <td>211.55</td>\n    </tr>\n    <tr>\n      <th>1</th>\n      <td>148</td>\n      <td>Runion</td>\n      <td>Saint-Denis</td>\n      <td>4.99</td>\n      <td>211.55</td>\n    </tr>\n    <tr>\n      <th>2</th>\n      <td>148</td>\n      <td>Runion</td>\n      <td>Saint-Denis</td>\n      <td>4.99</td>\n      <td>211.55</td>\n    </tr>\n    <tr>\n      <th>3</th>\n      <td>148</td>\n      <td>Runion</td>\n      <td>Saint-Denis</td>\n      <td>0.99</td>\n      <td>211.55</td>\n    </tr>\n    <tr>\n      <th>4</th>\n      <td>148</td>\n      <td>Runion</td>\n      <td>Saint-Denis</td>\n      <td>10.99</td>\n      <td>211.55</td>\n    </tr>\n    <tr>\n      <th>...</th>\n      <td>...</td>\n      <td>...</td>\n      <td>...</td>\n      <td>...</td>\n      <td>...</td>\n    </tr>\n    <tr>\n      <th>14591</th>\n      <td>318</td>\n      <td>Poland</td>\n      <td>Bydgoszcz</td>\n      <td>5.99</td>\n      <td>27.93</td>\n    </tr>\n    <tr>\n      <th>14592</th>\n      <td>318</td>\n      <td>Poland</td>\n      <td>Bydgoszcz</td>\n      <td>2.99</td>\n      <td>27.93</td>\n    </tr>\n    <tr>\n      <th>14593</th>\n      <td>318</td>\n      <td>Poland</td>\n      <td>Bydgoszcz</td>\n      <td>2.99</td>\n      <td>27.93</td>\n    </tr>\n    <tr>\n      <th>14594</th>\n      <td>318</td>\n      <td>Poland</td>\n      <td>Bydgoszcz</td>\n      <td>4.99</td>\n      <td>27.93</td>\n    </tr>\n    <tr>\n      <th>14595</th>\n      <td>318</td>\n      <td>Poland</td>\n      <td>Bydgoszcz</td>\n      <td>8.99</td>\n      <td>27.93</td>\n    </tr>\n  </tbody>\n</table>\n<p>14596 rows × 5 columns</p>\n</div>"
     },
     "execution_count": 32,
     "metadata": {},
     "output_type": "execute_result"
    }
   ],
   "source": [
    "# Посмотреть на суммарную выручку по клиентам в разрезе городов и стран\n",
    "# Добавляем Partition\n",
    "sql_query(\"\"\"\n",
    "SELECT cust.customer_id, country.country, city.city, amount,\n",
    "SUM(pay.amount) OVER(PARTITION BY country.country,city.city) as total_city_country\n",
    "FROM customer cust\n",
    "LEFT JOIN payment pay\n",
    "ON cust.customer_id = pay.customer_id\n",
    "LEFT JOIN address addr\n",
    "ON addr.address_id = cust.address_id\n",
    "LEFT JOIN city\n",
    "ON addr.city_id = city.city_id\n",
    "LEFT JOIN country\n",
    "ON city.country_id = country.country_id\n",
    "ORDER BY total_city_country\n",
    "DESC\n",
    "\"\"\"\n",
    ")"
   ],
   "metadata": {
    "collapsed": false,
    "pycharm": {
     "name": "#%%\n"
    }
   }
  },
  {
   "cell_type": "markdown",
   "source": [],
   "metadata": {
    "collapsed": false,
    "pycharm": {
     "name": "#%% md\n"
    }
   }
  },
  {
   "cell_type": "code",
   "execution_count": null,
   "outputs": [],
   "source": [],
   "metadata": {
    "collapsed": false,
    "pycharm": {
     "name": "#%%\n"
    }
   }
  }
 ],
 "metadata": {
  "kernelspec": {
   "display_name": "Python 3",
   "language": "python",
   "name": "python3"
  },
  "language_info": {
   "codemirror_mode": {
    "name": "ipython",
    "version": 2
   },
   "file_extension": ".py",
   "mimetype": "text/x-python",
   "name": "python",
   "nbconvert_exporter": "python",
   "pygments_lexer": "ipython2",
   "version": "2.7.6"
  }
 },
 "nbformat": 4,
 "nbformat_minor": 0
}
