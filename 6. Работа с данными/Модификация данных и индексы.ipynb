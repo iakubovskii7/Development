{
 "cells": [
  {
   "cell_type": "markdown",
   "metadata": {
    "collapsed": true,
    "pycharm": {
     "name": "#%% md\n"
    }
   },
   "source": [
    "# Ключи, индексы и ограничения"
   ]
  },
  {
   "cell_type": "markdown",
   "source": [
    "В PostgreSQL можно наложить ограничения на колонки. Например, сделать колонки уникальным и ограничить его потенциальными значениями."
   ],
   "metadata": {
    "collapsed": false,
    "pycharm": {
     "name": "#%% md\n"
    }
   }
  },
  {
   "cell_type": "code",
   "execution_count": 1,
   "outputs": [],
   "source": [
    "import psycopg2\n",
    "from sql import exec_sql, sql_query\n",
    "conn = psycopg2.connect(dbname='dvdrental', user='postgres',\n",
    "                        password='postgres', host='localhost', port=5432)\n",
    "cur = conn.cursor()"
   ],
   "metadata": {
    "collapsed": false,
    "pycharm": {
     "name": "#%%\n"
    }
   }
  },
  {
   "cell_type": "code",
   "execution_count": 9,
   "outputs": [],
   "source": [
    "# Давайте создадим новую таблицу, где будет пол клиента и его id.\n",
    "q = \"\"\"\n",
    "CREATE TABLE customer_sex\n",
    "(\n",
    "    id serial primary key,\n",
    "    sex VARCHAR(2)\n",
    ");\n",
    "\"\"\"\n",
    "exec_sql(q, conn)"
   ],
   "metadata": {
    "collapsed": false,
    "pycharm": {
     "name": "#%%\n"
    }
   }
  },
  {
   "cell_type": "code",
   "execution_count": 8,
   "outputs": [],
   "source": [
    "# Если таблица уже существует, то ее можно удалить\n",
    "# exec_sql(\"\"\"\n",
    "# DROP table customer_sex\n",
    "# \"\"\", conn)"
   ],
   "metadata": {
    "collapsed": false,
    "pycharm": {
     "name": "#%%\n"
    }
   }
  },
  {
   "cell_type": "code",
   "execution_count": 10,
   "outputs": [],
   "source": [
    "query = \"\"\"\n",
    "INSERT INTO  customer_sex(sex)\n",
    "VALUES ('F'), ('M'), ('F'), ('R')\n",
    "\"\"\"\n",
    "exec_sql(query, conn)"
   ],
   "metadata": {
    "collapsed": false,
    "pycharm": {
     "name": "#%%\n"
    }
   }
  },
  {
   "cell_type": "code",
   "execution_count": 11,
   "outputs": [
    {
     "data": {
      "text/plain": "   id sex\n0   1   F\n1   2   M\n2   3   F\n3   4   R",
      "text/html": "<div>\n<style scoped>\n    .dataframe tbody tr th:only-of-type {\n        vertical-align: middle;\n    }\n\n    .dataframe tbody tr th {\n        vertical-align: top;\n    }\n\n    .dataframe thead th {\n        text-align: right;\n    }\n</style>\n<table border=\"1\" class=\"dataframe\">\n  <thead>\n    <tr style=\"text-align: right;\">\n      <th></th>\n      <th>id</th>\n      <th>sex</th>\n    </tr>\n  </thead>\n  <tbody>\n    <tr>\n      <th>0</th>\n      <td>1</td>\n      <td>F</td>\n    </tr>\n    <tr>\n      <th>1</th>\n      <td>2</td>\n      <td>M</td>\n    </tr>\n    <tr>\n      <th>2</th>\n      <td>3</td>\n      <td>F</td>\n    </tr>\n    <tr>\n      <th>3</th>\n      <td>4</td>\n      <td>R</td>\n    </tr>\n  </tbody>\n</table>\n</div>"
     },
     "execution_count": 11,
     "metadata": {},
     "output_type": "execute_result"
    }
   ],
   "source": [
    "sql_query(\"\"\"SELECT * FROM customer_sex\"\"\")"
   ],
   "metadata": {
    "collapsed": false,
    "pycharm": {
     "name": "#%%\n"
    }
   }
  },
  {
   "cell_type": "markdown",
   "source": [
    "# Ограничения"
   ],
   "metadata": {
    "collapsed": false,
    "pycharm": {
     "name": "#%% md\n"
    }
   }
  },
  {
   "cell_type": "markdown",
   "source": [
    "Как видим, одно из значений пола совсем нереалистичное. Давайте добавим специальный индекс к столбцу пола."
   ],
   "metadata": {
    "collapsed": false,
    "pycharm": {
     "name": "#%% md\n"
    }
   }
  },
  {
   "cell_type": "code",
   "execution_count": 12,
   "outputs": [
    {
     "name": "stdout",
     "output_type": "stream",
     "text": [
      "check constraint \"unique_sex\" of relation \"customer_sex\" is violated by some row\n",
      "\n"
     ]
    }
   ],
   "source": [
    "query = \"\"\"\n",
    "ALTER TABLE customer_sex\n",
    "ADD CONSTRAINT unique_sex CHECK ( sex = 'F' OR sex = 'M' )\n",
    "\"\"\"\n",
    "exec_sql(query, conn)"
   ],
   "metadata": {
    "collapsed": false,
    "pycharm": {
     "name": "#%%\n"
    }
   }
  },
  {
   "cell_type": "code",
   "execution_count": 13,
   "outputs": [],
   "source": [
    "q = \"\"\"\n",
    "DELETE FROM customer_sex\n",
    "WHERE sex = 'R';\n",
    "\n",
    "ALTER TABLE customer_sex\n",
    "ADD CONSTRAINT unique_sex CHECK ( sex = 'F' OR sex = 'M' );\n",
    "\"\"\"\n",
    "exec_sql(q, conn)"
   ],
   "metadata": {
    "collapsed": false,
    "pycharm": {
     "name": "#%%\n"
    }
   }
  },
  {
   "cell_type": "code",
   "execution_count": 14,
   "outputs": [
    {
     "data": {
      "text/plain": "   id sex\n0   1   F\n1   2   M\n2   3   F",
      "text/html": "<div>\n<style scoped>\n    .dataframe tbody tr th:only-of-type {\n        vertical-align: middle;\n    }\n\n    .dataframe tbody tr th {\n        vertical-align: top;\n    }\n\n    .dataframe thead th {\n        text-align: right;\n    }\n</style>\n<table border=\"1\" class=\"dataframe\">\n  <thead>\n    <tr style=\"text-align: right;\">\n      <th></th>\n      <th>id</th>\n      <th>sex</th>\n    </tr>\n  </thead>\n  <tbody>\n    <tr>\n      <th>0</th>\n      <td>1</td>\n      <td>F</td>\n    </tr>\n    <tr>\n      <th>1</th>\n      <td>2</td>\n      <td>M</td>\n    </tr>\n    <tr>\n      <th>2</th>\n      <td>3</td>\n      <td>F</td>\n    </tr>\n  </tbody>\n</table>\n</div>"
     },
     "execution_count": 14,
     "metadata": {},
     "output_type": "execute_result"
    }
   ],
   "source": [
    "sql_query(\"\"\"SELECT * FROM customer_sex\"\"\")"
   ],
   "metadata": {
    "collapsed": false,
    "pycharm": {
     "name": "#%%\n"
    }
   }
  },
  {
   "cell_type": "code",
   "execution_count": 15,
   "outputs": [
    {
     "name": "stdout",
     "output_type": "stream",
     "text": [
      "new row for relation \"customer_sex\" violates check constraint \"unique_sex\"\n",
      "DETAIL:  Failing row contains (5, R).\n",
      "\n"
     ]
    }
   ],
   "source": [
    "exec_sql(\"\"\"INSERT INTO customer_sex(sex)\n",
    "VALUES ('R') \"\"\", conn)"
   ],
   "metadata": {
    "collapsed": false,
    "pycharm": {
     "name": "#%%\n"
    }
   }
  },
  {
   "cell_type": "code",
   "execution_count": 18,
   "outputs": [],
   "source": [
    "# Теперь создадим таблицу с электронными почтами клиентов\n",
    "exec_sql(\"\"\"\n",
    "CREATE TABLE customer_email\n",
    "(\n",
    "id serial,\n",
    "email VARCHAR(50)\n",
    ")\n",
    "\"\"\", conn)"
   ],
   "metadata": {
    "collapsed": false,
    "pycharm": {
     "name": "#%%\n"
    }
   }
  },
  {
   "cell_type": "code",
   "execution_count": 17,
   "outputs": [],
   "source": [
    "# exec_sql(\"\"\"\n",
    "# DROP table customer_email\n",
    "# \"\"\", conn)"
   ],
   "metadata": {
    "collapsed": false,
    "pycharm": {
     "name": "#%%\n"
    }
   }
  },
  {
   "cell_type": "markdown",
   "source": [
    "В реальности у каждого юзера должна быть одна электронная почта. Давайте наложим уникальное ограничение\n",
    "на столбец email."
   ],
   "metadata": {
    "collapsed": false,
    "pycharm": {
     "name": "#%% md\n"
    }
   }
  },
  {
   "cell_type": "code",
   "execution_count": 19,
   "outputs": [],
   "source": [
    "exec_sql(\"\"\"\n",
    "ALTER TABLE customer_email\n",
    "ADD CONSTRAINT unique_email UNIQUE(email)\n",
    "\"\"\", conn)"
   ],
   "metadata": {
    "collapsed": false,
    "pycharm": {
     "name": "#%%\n"
    }
   }
  },
  {
   "cell_type": "code",
   "execution_count": 20,
   "outputs": [
    {
     "name": "stdout",
     "output_type": "stream",
     "text": [
      "duplicate key value violates unique constraint \"unique_email\"\n",
      "DETAIL:  Key (email)=(2@gmail.com) already exists.\n",
      "\n"
     ]
    }
   ],
   "source": [
    "exec_sql(\"\"\"\n",
    "INSERT INTO customer_email(email)\n",
    "VALUES ('1@mail.ru'), ('2@gmail.com'), ('2@gmail.com')\n",
    "\"\"\", conn)"
   ],
   "metadata": {
    "collapsed": false,
    "pycharm": {
     "name": "#%%\n"
    }
   }
  },
  {
   "cell_type": "markdown",
   "source": [
    "PostgreSQL выдал ошибку об уникальности столбца\n",
    "Ниже посмотрим на список всех ограничений базы dvdrental."
   ],
   "metadata": {
    "collapsed": false,
    "pycharm": {
     "name": "#%% md\n"
    }
   }
  },
  {
   "cell_type": "code",
   "execution_count": 22,
   "outputs": [
    {
     "data": {
      "text/plain": "                 constraint_name table_schema      table_name  column_name\n0                     actor_pkey       public           actor     actor_id\n1                   address_pkey       public         address   address_id\n2                  category_pkey       public        category  category_id\n3                      city_pkey       public            city      city_id\n4                   country_pkey       public         country   country_id\n..                           ...          ...             ...          ...\n205        store_address_id_fkey       public         address   address_id\n206  store_manager_staff_id_fkey       public           staff     staff_id\n207                   store_pkey       public           store     store_id\n208                 unique_email       public  customer_email        email\n209                   unique_sex       public    customer_sex          sex\n\n[210 rows x 4 columns]",
      "text/html": "<div>\n<style scoped>\n    .dataframe tbody tr th:only-of-type {\n        vertical-align: middle;\n    }\n\n    .dataframe tbody tr th {\n        vertical-align: top;\n    }\n\n    .dataframe thead th {\n        text-align: right;\n    }\n</style>\n<table border=\"1\" class=\"dataframe\">\n  <thead>\n    <tr style=\"text-align: right;\">\n      <th></th>\n      <th>constraint_name</th>\n      <th>table_schema</th>\n      <th>table_name</th>\n      <th>column_name</th>\n    </tr>\n  </thead>\n  <tbody>\n    <tr>\n      <th>0</th>\n      <td>actor_pkey</td>\n      <td>public</td>\n      <td>actor</td>\n      <td>actor_id</td>\n    </tr>\n    <tr>\n      <th>1</th>\n      <td>address_pkey</td>\n      <td>public</td>\n      <td>address</td>\n      <td>address_id</td>\n    </tr>\n    <tr>\n      <th>2</th>\n      <td>category_pkey</td>\n      <td>public</td>\n      <td>category</td>\n      <td>category_id</td>\n    </tr>\n    <tr>\n      <th>3</th>\n      <td>city_pkey</td>\n      <td>public</td>\n      <td>city</td>\n      <td>city_id</td>\n    </tr>\n    <tr>\n      <th>4</th>\n      <td>country_pkey</td>\n      <td>public</td>\n      <td>country</td>\n      <td>country_id</td>\n    </tr>\n    <tr>\n      <th>...</th>\n      <td>...</td>\n      <td>...</td>\n      <td>...</td>\n      <td>...</td>\n    </tr>\n    <tr>\n      <th>205</th>\n      <td>store_address_id_fkey</td>\n      <td>public</td>\n      <td>address</td>\n      <td>address_id</td>\n    </tr>\n    <tr>\n      <th>206</th>\n      <td>store_manager_staff_id_fkey</td>\n      <td>public</td>\n      <td>staff</td>\n      <td>staff_id</td>\n    </tr>\n    <tr>\n      <th>207</th>\n      <td>store_pkey</td>\n      <td>public</td>\n      <td>store</td>\n      <td>store_id</td>\n    </tr>\n    <tr>\n      <th>208</th>\n      <td>unique_email</td>\n      <td>public</td>\n      <td>customer_email</td>\n      <td>email</td>\n    </tr>\n    <tr>\n      <th>209</th>\n      <td>unique_sex</td>\n      <td>public</td>\n      <td>customer_sex</td>\n      <td>sex</td>\n    </tr>\n  </tbody>\n</table>\n<p>210 rows × 4 columns</p>\n</div>"
     },
     "execution_count": 22,
     "metadata": {},
     "output_type": "execute_result"
    }
   ],
   "source": [
    "sql_query(\"\"\"\n",
    "select pgc.conname as constraint_name,\n",
    "       ccu.table_schema as table_schema,\n",
    "       ccu.table_name,\n",
    "       ccu.column_name\n",
    "from pg_constraint pgc\n",
    "join pg_namespace nsp on nsp.oid = pgc.connamespace\n",
    "join pg_class  cls on pgc.conrelid = cls.oid\n",
    "left join information_schema.constraint_column_usage ccu\n",
    "          on pgc.conname = ccu.constraint_name\n",
    "          and nsp.nspname = ccu.constraint_schema\n",
    "order by pgc.conname;\n",
    "\"\"\")"
   ],
   "metadata": {
    "collapsed": false,
    "pycharm": {
     "name": "#%%\n"
    }
   }
  },
  {
   "cell_type": "markdown",
   "source": [
    "# Индексы\n",
    "\n",
    "Индексы нужны для того, чтобы увеличить скорость выполнения запросов.\n",
    "Однако, это увеличивает место за жестком диске, которое расходуется на создание этих индексов."
   ],
   "metadata": {
    "collapsed": false,
    "pycharm": {
     "name": "#%% md\n"
    }
   }
  },
  {
   "cell_type": "code",
   "execution_count": 23,
   "outputs": [
    {
     "data": {
      "text/plain": "         tablename                                          indexname  \\\n0            actor                                         actor_pkey   \n1            actor                                idx_actor_last_name   \n2          address                                       address_pkey   \n3          address                                     idx_fk_city_id   \n4         category                                      category_pkey   \n5             city                                          city_pkey   \n6             city                                  idx_fk_country_id   \n7          country                                       country_pkey   \n8         customer                                      customer_pkey   \n9         customer                                  idx_fk_address_id   \n10        customer                                    idx_fk_store_id   \n11        customer                                      idx_last_name   \n12  customer_email                                       unique_email   \n13    customer_sex                                  customer_sex_pkey   \n14            film                                  film_fulltext_idx   \n15            film                                          film_pkey   \n16            film                                 idx_fk_language_id   \n17            film                                          idx_title   \n18      film_actor                                    film_actor_pkey   \n19      film_actor                                     idx_fk_film_id   \n20   film_category                                 film_category_pkey   \n21       inventory                               idx_store_id_film_id   \n22       inventory                                     inventory_pkey   \n23        language                                      language_pkey   \n24         payment                                 idx_fk_customer_id   \n25         payment                                   idx_fk_rental_id   \n26         payment                                    idx_fk_staff_id   \n27         payment                                       payment_pkey   \n28          rental                                idx_fk_inventory_id   \n29          rental  idx_unq_rental_rental_date_inventory_id_custom...   \n30          rental                                        rental_pkey   \n31           staff                                         staff_pkey   \n32           store                           idx_unq_manager_staff_id   \n33           store                                         store_pkey   \n\n                                             indexdef  \n0   CREATE UNIQUE INDEX actor_pkey ON public.actor...  \n1   CREATE INDEX idx_actor_last_name ON public.act...  \n2   CREATE UNIQUE INDEX address_pkey ON public.add...  \n3   CREATE INDEX idx_fk_city_id ON public.address ...  \n4   CREATE UNIQUE INDEX category_pkey ON public.ca...  \n5   CREATE UNIQUE INDEX city_pkey ON public.city U...  \n6   CREATE INDEX idx_fk_country_id ON public.city ...  \n7   CREATE UNIQUE INDEX country_pkey ON public.cou...  \n8   CREATE UNIQUE INDEX customer_pkey ON public.cu...  \n9   CREATE INDEX idx_fk_address_id ON public.custo...  \n10  CREATE INDEX idx_fk_store_id ON public.custome...  \n11  CREATE INDEX idx_last_name ON public.customer ...  \n12  CREATE UNIQUE INDEX unique_email ON public.cus...  \n13  CREATE UNIQUE INDEX customer_sex_pkey ON publi...  \n14  CREATE INDEX film_fulltext_idx ON public.film ...  \n15  CREATE UNIQUE INDEX film_pkey ON public.film U...  \n16  CREATE INDEX idx_fk_language_id ON public.film...  \n17  CREATE INDEX idx_title ON public.film USING bt...  \n18  CREATE UNIQUE INDEX film_actor_pkey ON public....  \n19  CREATE INDEX idx_fk_film_id ON public.film_act...  \n20  CREATE UNIQUE INDEX film_category_pkey ON publ...  \n21  CREATE INDEX idx_store_id_film_id ON public.in...  \n22  CREATE UNIQUE INDEX inventory_pkey ON public.i...  \n23  CREATE UNIQUE INDEX language_pkey ON public.la...  \n24  CREATE INDEX idx_fk_customer_id ON public.paym...  \n25  CREATE INDEX idx_fk_rental_id ON public.paymen...  \n26  CREATE INDEX idx_fk_staff_id ON public.payment...  \n27  CREATE UNIQUE INDEX payment_pkey ON public.pay...  \n28  CREATE INDEX idx_fk_inventory_id ON public.ren...  \n29  CREATE UNIQUE INDEX idx_unq_rental_rental_date...  \n30  CREATE UNIQUE INDEX rental_pkey ON public.rent...  \n31  CREATE UNIQUE INDEX staff_pkey ON public.staff...  \n32  CREATE UNIQUE INDEX idx_unq_manager_staff_id O...  \n33  CREATE UNIQUE INDEX store_pkey ON public.store...  ",
      "text/html": "<div>\n<style scoped>\n    .dataframe tbody tr th:only-of-type {\n        vertical-align: middle;\n    }\n\n    .dataframe tbody tr th {\n        vertical-align: top;\n    }\n\n    .dataframe thead th {\n        text-align: right;\n    }\n</style>\n<table border=\"1\" class=\"dataframe\">\n  <thead>\n    <tr style=\"text-align: right;\">\n      <th></th>\n      <th>tablename</th>\n      <th>indexname</th>\n      <th>indexdef</th>\n    </tr>\n  </thead>\n  <tbody>\n    <tr>\n      <th>0</th>\n      <td>actor</td>\n      <td>actor_pkey</td>\n      <td>CREATE UNIQUE INDEX actor_pkey ON public.actor...</td>\n    </tr>\n    <tr>\n      <th>1</th>\n      <td>actor</td>\n      <td>idx_actor_last_name</td>\n      <td>CREATE INDEX idx_actor_last_name ON public.act...</td>\n    </tr>\n    <tr>\n      <th>2</th>\n      <td>address</td>\n      <td>address_pkey</td>\n      <td>CREATE UNIQUE INDEX address_pkey ON public.add...</td>\n    </tr>\n    <tr>\n      <th>3</th>\n      <td>address</td>\n      <td>idx_fk_city_id</td>\n      <td>CREATE INDEX idx_fk_city_id ON public.address ...</td>\n    </tr>\n    <tr>\n      <th>4</th>\n      <td>category</td>\n      <td>category_pkey</td>\n      <td>CREATE UNIQUE INDEX category_pkey ON public.ca...</td>\n    </tr>\n    <tr>\n      <th>5</th>\n      <td>city</td>\n      <td>city_pkey</td>\n      <td>CREATE UNIQUE INDEX city_pkey ON public.city U...</td>\n    </tr>\n    <tr>\n      <th>6</th>\n      <td>city</td>\n      <td>idx_fk_country_id</td>\n      <td>CREATE INDEX idx_fk_country_id ON public.city ...</td>\n    </tr>\n    <tr>\n      <th>7</th>\n      <td>country</td>\n      <td>country_pkey</td>\n      <td>CREATE UNIQUE INDEX country_pkey ON public.cou...</td>\n    </tr>\n    <tr>\n      <th>8</th>\n      <td>customer</td>\n      <td>customer_pkey</td>\n      <td>CREATE UNIQUE INDEX customer_pkey ON public.cu...</td>\n    </tr>\n    <tr>\n      <th>9</th>\n      <td>customer</td>\n      <td>idx_fk_address_id</td>\n      <td>CREATE INDEX idx_fk_address_id ON public.custo...</td>\n    </tr>\n    <tr>\n      <th>10</th>\n      <td>customer</td>\n      <td>idx_fk_store_id</td>\n      <td>CREATE INDEX idx_fk_store_id ON public.custome...</td>\n    </tr>\n    <tr>\n      <th>11</th>\n      <td>customer</td>\n      <td>idx_last_name</td>\n      <td>CREATE INDEX idx_last_name ON public.customer ...</td>\n    </tr>\n    <tr>\n      <th>12</th>\n      <td>customer_email</td>\n      <td>unique_email</td>\n      <td>CREATE UNIQUE INDEX unique_email ON public.cus...</td>\n    </tr>\n    <tr>\n      <th>13</th>\n      <td>customer_sex</td>\n      <td>customer_sex_pkey</td>\n      <td>CREATE UNIQUE INDEX customer_sex_pkey ON publi...</td>\n    </tr>\n    <tr>\n      <th>14</th>\n      <td>film</td>\n      <td>film_fulltext_idx</td>\n      <td>CREATE INDEX film_fulltext_idx ON public.film ...</td>\n    </tr>\n    <tr>\n      <th>15</th>\n      <td>film</td>\n      <td>film_pkey</td>\n      <td>CREATE UNIQUE INDEX film_pkey ON public.film U...</td>\n    </tr>\n    <tr>\n      <th>16</th>\n      <td>film</td>\n      <td>idx_fk_language_id</td>\n      <td>CREATE INDEX idx_fk_language_id ON public.film...</td>\n    </tr>\n    <tr>\n      <th>17</th>\n      <td>film</td>\n      <td>idx_title</td>\n      <td>CREATE INDEX idx_title ON public.film USING bt...</td>\n    </tr>\n    <tr>\n      <th>18</th>\n      <td>film_actor</td>\n      <td>film_actor_pkey</td>\n      <td>CREATE UNIQUE INDEX film_actor_pkey ON public....</td>\n    </tr>\n    <tr>\n      <th>19</th>\n      <td>film_actor</td>\n      <td>idx_fk_film_id</td>\n      <td>CREATE INDEX idx_fk_film_id ON public.film_act...</td>\n    </tr>\n    <tr>\n      <th>20</th>\n      <td>film_category</td>\n      <td>film_category_pkey</td>\n      <td>CREATE UNIQUE INDEX film_category_pkey ON publ...</td>\n    </tr>\n    <tr>\n      <th>21</th>\n      <td>inventory</td>\n      <td>idx_store_id_film_id</td>\n      <td>CREATE INDEX idx_store_id_film_id ON public.in...</td>\n    </tr>\n    <tr>\n      <th>22</th>\n      <td>inventory</td>\n      <td>inventory_pkey</td>\n      <td>CREATE UNIQUE INDEX inventory_pkey ON public.i...</td>\n    </tr>\n    <tr>\n      <th>23</th>\n      <td>language</td>\n      <td>language_pkey</td>\n      <td>CREATE UNIQUE INDEX language_pkey ON public.la...</td>\n    </tr>\n    <tr>\n      <th>24</th>\n      <td>payment</td>\n      <td>idx_fk_customer_id</td>\n      <td>CREATE INDEX idx_fk_customer_id ON public.paym...</td>\n    </tr>\n    <tr>\n      <th>25</th>\n      <td>payment</td>\n      <td>idx_fk_rental_id</td>\n      <td>CREATE INDEX idx_fk_rental_id ON public.paymen...</td>\n    </tr>\n    <tr>\n      <th>26</th>\n      <td>payment</td>\n      <td>idx_fk_staff_id</td>\n      <td>CREATE INDEX idx_fk_staff_id ON public.payment...</td>\n    </tr>\n    <tr>\n      <th>27</th>\n      <td>payment</td>\n      <td>payment_pkey</td>\n      <td>CREATE UNIQUE INDEX payment_pkey ON public.pay...</td>\n    </tr>\n    <tr>\n      <th>28</th>\n      <td>rental</td>\n      <td>idx_fk_inventory_id</td>\n      <td>CREATE INDEX idx_fk_inventory_id ON public.ren...</td>\n    </tr>\n    <tr>\n      <th>29</th>\n      <td>rental</td>\n      <td>idx_unq_rental_rental_date_inventory_id_custom...</td>\n      <td>CREATE UNIQUE INDEX idx_unq_rental_rental_date...</td>\n    </tr>\n    <tr>\n      <th>30</th>\n      <td>rental</td>\n      <td>rental_pkey</td>\n      <td>CREATE UNIQUE INDEX rental_pkey ON public.rent...</td>\n    </tr>\n    <tr>\n      <th>31</th>\n      <td>staff</td>\n      <td>staff_pkey</td>\n      <td>CREATE UNIQUE INDEX staff_pkey ON public.staff...</td>\n    </tr>\n    <tr>\n      <th>32</th>\n      <td>store</td>\n      <td>idx_unq_manager_staff_id</td>\n      <td>CREATE UNIQUE INDEX idx_unq_manager_staff_id O...</td>\n    </tr>\n    <tr>\n      <th>33</th>\n      <td>store</td>\n      <td>store_pkey</td>\n      <td>CREATE UNIQUE INDEX store_pkey ON public.store...</td>\n    </tr>\n  </tbody>\n</table>\n</div>"
     },
     "execution_count": 23,
     "metadata": {},
     "output_type": "execute_result"
    }
   ],
   "source": [
    "# Список всех индексов базы dvdrental\n",
    "q = \"\"\"\n",
    "SELECT\n",
    "    tablename,\n",
    "    indexname,\n",
    "    indexdef\n",
    "FROM\n",
    "    pg_indexes\n",
    "WHERE\n",
    "    schemaname = 'public'\n",
    "ORDER BY\n",
    "    tablename,\n",
    "    indexname;\n",
    "\"\"\"\n",
    "sql_query(q)"
   ],
   "metadata": {
    "collapsed": false,
    "pycharm": {
     "name": "#%%\n"
    }
   }
  },
  {
   "cell_type": "markdown",
   "source": [
    "# Ключи\n",
    "\n",
    "Реляционность базы обеспечивают первичный (primary) и внешний (foreign) ключи.\n",
    "Они дают пользователю представления о том, как таблицы связаны друг с другом.\n",
    "Также они защищают от удаления строк, которые связаны с другой таблицей при помощи внешних ключей.\n",
    "Давайте посмотрим на список индексов, ключей и ограничений базы `dvdrental`."
   ],
   "metadata": {
    "collapsed": false,
    "pycharm": {
     "name": "#%% md\n"
    }
   }
  },
  {
   "cell_type": "code",
   "execution_count": 24,
   "outputs": [
    {
     "data": {
      "text/plain": "  0%|          | 0/17 [00:00<?, ?it/s]",
      "application/vnd.jupyter.widget-view+json": {
       "version_major": 2,
       "version_minor": 0,
       "model_id": "cc50d5834ecc4b1db6fda209287e681e"
      }
     },
     "metadata": {},
     "output_type": "display_data"
    }
   ],
   "source": [
    "from p_tqdm import p_map\n",
    "import pandas as pd\n",
    "list_all_tables = sql_query(\"\"\"\n",
    "SELECT tablename\n",
    "FROM pg_catalog.pg_tables\n",
    "WHERE schemaname != 'pg_catalog' AND\n",
    "    schemaname != 'information_schema';\n",
    "\"\"\")['tablename'].tolist()\n",
    "\n",
    "def get_keys_table(table_name):\n",
    "\n",
    "    data = sql_query(f\"\"\"\n",
    "    select  constraint_name, table_name, column_name\n",
    "    from information_schema.key_column_usage\n",
    "    where constraint_catalog=current_catalog and table_name='{table_name}'\n",
    "    and position_in_unique_constraint notnull;\n",
    "    \"\"\")\n",
    "    return data\n",
    "all_keys = list(p_map(get_keys_table, list_all_tables))\n",
    "all_keys = pd.concat(all_keys)"
   ],
   "metadata": {
    "collapsed": false,
    "pycharm": {
     "name": "#%%\n"
    }
   }
  }
 ],
 "metadata": {
  "kernelspec": {
   "display_name": "Python 3",
   "language": "python",
   "name": "python3"
  },
  "language_info": {
   "codemirror_mode": {
    "name": "ipython",
    "version": 2
   },
   "file_extension": ".py",
   "mimetype": "text/x-python",
   "name": "python",
   "nbconvert_exporter": "python",
   "pygments_lexer": "ipython2",
   "version": "2.7.6"
  }
 },
 "nbformat": 4,
 "nbformat_minor": 0
}