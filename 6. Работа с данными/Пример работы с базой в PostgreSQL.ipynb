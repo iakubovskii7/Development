{
 "cells": [
  {
   "cell_type": "code",
   "execution_count": 7,
   "metadata": {
    "collapsed": true
   },
   "outputs": [
    {
     "data": {
      "text/plain": "[('public', 'actor', 'postgres', None, True, False, True, False),\n ('public', 'store', 'postgres', None, True, False, True, False),\n ('public', 'address', 'postgres', None, True, False, True, False),\n ('public', 'category', 'postgres', None, True, False, True, False),\n ('public', 'city', 'postgres', None, True, False, True, False),\n ('public', 'country', 'postgres', None, True, False, True, False),\n ('public', 'customer', 'postgres', None, True, False, True, False),\n ('public', 'film_actor', 'postgres', None, True, False, True, False),\n ('public', 'film_category', 'postgres', None, True, False, True, False),\n ('public', 'inventory', 'postgres', None, True, False, True, False),\n ('public', 'language', 'postgres', None, True, False, True, False),\n ('public', 'rental', 'postgres', None, True, False, True, False),\n ('public', 'staff', 'postgres', None, True, False, True, False),\n ('public', 'payment', 'postgres', None, True, False, True, False),\n ('public', 'film', 'postgres', None, True, False, True, False)]"
     },
     "execution_count": 7,
     "metadata": {},
     "output_type": "execute_result"
    }
   ],
   "source": [
    "import psycopg2\n",
    "from sqlalchemy import create_engine\n",
    "conn = psycopg2.connect(dbname='dvdrental', user='postgres',\n",
    "                        password='postgres', host='localhost', port=5432)\n",
    "cur = conn.cursor()\n",
    "cur.execute(\"\"\"\n",
    "SELECT *\n",
    "FROM pg_catalog.pg_tables\n",
    "WHERE schemaname != 'pg_catalog' AND\n",
    "    schemaname != 'information_schema';\n",
    "\"\"\")\n",
    "cur.fetchall()"
   ]
  },
  {
   "cell_type": "code",
   "execution_count": null,
   "outputs": [],
   "source": [],
   "metadata": {
    "collapsed": false,
    "pycharm": {
     "name": "#%%\n"
    }
   }
  }
 ],
 "metadata": {
  "kernelspec": {
   "display_name": "Python 3",
   "language": "python",
   "name": "python3"
  },
  "language_info": {
   "codemirror_mode": {
    "name": "ipython",
    "version": 2
   },
   "file_extension": ".py",
   "mimetype": "text/x-python",
   "name": "python",
   "nbconvert_exporter": "python",
   "pygments_lexer": "ipython2",
   "version": "2.7.6"
  }
 },
 "nbformat": 4,
 "nbformat_minor": 0
}