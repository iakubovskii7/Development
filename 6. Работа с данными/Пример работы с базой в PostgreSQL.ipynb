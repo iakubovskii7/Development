{
 "cells": [
  {
   "cell_type": "markdown",
   "source": [
    "https://nuitrcs.github.io/databases_workshop/ - хороший гайд по базовому SQL\n",
    "\n",
    "https://mockaroo.com/ - генерация любых небольших датасетов"
   ],
   "metadata": {
    "collapsed": false,
    "pycharm": {
     "name": "#%% md\n"
    }
   }
  },
  {
   "cell_type": "code",
   "execution_count": 11,
   "outputs": [],
   "source": [
    "# Откроем SQL таблицу, которую мы сгенерировали на сайте https://mockaroo.com/\n",
    "fd = open('/Users/iakubovskii/Desktop/MOCK_DATA.sql', 'r')\n",
    "sqlFile = fd.read()\n",
    "fd.close()"
   ],
   "metadata": {
    "collapsed": false,
    "pycharm": {
     "name": "#%%\n"
    }
   }
  },
  {
   "cell_type": "code",
   "execution_count": 9,
   "metadata": {
    "collapsed": true,
    "pycharm": {
     "name": "#%%\n"
    }
   },
   "outputs": [
    {
     "data": {
      "text/plain": "[('public', 'actor', 'postgres', None, True, False, True, False),\n ('public', 'store', 'postgres', None, True, False, True, False),\n ('public', 'address', 'postgres', None, True, False, True, False),\n ('public', 'category', 'postgres', None, True, False, True, False),\n ('public', 'city', 'postgres', None, True, False, True, False),\n ('public', 'country', 'postgres', None, True, False, True, False),\n ('public', 'customer', 'postgres', None, True, False, True, False),\n ('public', 'film_actor', 'postgres', None, True, False, True, False),\n ('public', 'film_category', 'postgres', None, True, False, True, False),\n ('public', 'inventory', 'postgres', None, True, False, True, False),\n ('public', 'language', 'postgres', None, True, False, True, False),\n ('public', 'rental', 'postgres', None, True, False, True, False),\n ('public', 'staff', 'postgres', None, True, False, True, False),\n ('public', 'payment', 'postgres', None, True, False, True, False),\n ('public', 'film', 'postgres', None, True, False, True, False)]"
     },
     "execution_count": 9,
     "metadata": {},
     "output_type": "execute_result"
    }
   ],
   "source": [
    "import psycopg2\n",
    "from sqlalchemy import create_engine\n",
    "conn = psycopg2.connect(dbname='dvdrental', user='postgres',\n",
    "                        password='postgres', host='localhost', port=5432)\n",
    "cur = conn.cursor()\n",
    "cur.execute(\"\"\"\n",
    "SELECT *\n",
    "FROM pg_catalog.pg_tables\n",
    "WHERE schemaname != 'pg_catalog' AND\n",
    "    schemaname != 'information_schema';\n",
    "\"\"\")\n",
    "cur.fetchall()"
   ]
  },
  {
   "cell_type": "markdown",
   "source": [
    "# Базовые вещи"
   ],
   "metadata": {
    "collapsed": false,
    "pycharm": {
     "name": "#%% md\n"
    }
   }
  },
  {
   "cell_type": "code",
   "execution_count": 10,
   "outputs": [
    {
     "data": {
      "text/plain": "   customer_id  store_id first_name last_name\n0          524         1      Jared       Ely\n1            1         1       Mary     Smith\n2            2         1   Patricia   Johnson\n3            3         1      Linda  Williams\n4            4         2    Barbara     Jones",
      "text/html": "<div>\n<style scoped>\n    .dataframe tbody tr th:only-of-type {\n        vertical-align: middle;\n    }\n\n    .dataframe tbody tr th {\n        vertical-align: top;\n    }\n\n    .dataframe thead th {\n        text-align: right;\n    }\n</style>\n<table border=\"1\" class=\"dataframe\">\n  <thead>\n    <tr style=\"text-align: right;\">\n      <th></th>\n      <th>customer_id</th>\n      <th>store_id</th>\n      <th>first_name</th>\n      <th>last_name</th>\n    </tr>\n  </thead>\n  <tbody>\n    <tr>\n      <th>0</th>\n      <td>524</td>\n      <td>1</td>\n      <td>Jared</td>\n      <td>Ely</td>\n    </tr>\n    <tr>\n      <th>1</th>\n      <td>1</td>\n      <td>1</td>\n      <td>Mary</td>\n      <td>Smith</td>\n    </tr>\n    <tr>\n      <th>2</th>\n      <td>2</td>\n      <td>1</td>\n      <td>Patricia</td>\n      <td>Johnson</td>\n    </tr>\n    <tr>\n      <th>3</th>\n      <td>3</td>\n      <td>1</td>\n      <td>Linda</td>\n      <td>Williams</td>\n    </tr>\n    <tr>\n      <th>4</th>\n      <td>4</td>\n      <td>2</td>\n      <td>Barbara</td>\n      <td>Jones</td>\n    </tr>\n  </tbody>\n</table>\n</div>"
     },
     "execution_count": 10,
     "metadata": {},
     "output_type": "execute_result"
    }
   ],
   "source": [
    "from sql import sql_query\n",
    "sql_query(\"\"\"\n",
    "SELECT customer_id, store_id, first_name, last_name\n",
    "FROM customer\n",
    "LIMIT 5;\n",
    "\"\"\")"
   ],
   "metadata": {
    "collapsed": false,
    "pycharm": {
     "name": "#%%\n"
    }
   }
  },
  {
   "cell_type": "markdown",
   "source": [
    "## Операторы IN, BETWEEN, LIKE, AND, OR"
   ],
   "metadata": {
    "collapsed": false,
    "pycharm": {
     "name": "#%% md\n"
    }
   }
  },
  {
   "cell_type": "code",
   "execution_count": null,
   "outputs": [],
   "source": [],
   "metadata": {
    "collapsed": false,
    "pycharm": {
     "name": "#%%\n"
    }
   }
  },
  {
   "cell_type": "markdown",
   "source": [
    "## COUNT, DISTINCT"
   ],
   "metadata": {
    "collapsed": false,
    "pycharm": {
     "name": "#%% md\n"
    }
   }
  },
  {
   "cell_type": "code",
   "execution_count": null,
   "outputs": [],
   "source": [],
   "metadata": {
    "collapsed": false,
    "pycharm": {
     "name": "#%%\n"
    }
   }
  },
  {
   "cell_type": "markdown",
   "source": [
    "## Арифметические операции SUM, AVG, MIN, MAX"
   ],
   "metadata": {
    "collapsed": false,
    "pycharm": {
     "name": "#%% md\n"
    }
   }
  },
  {
   "cell_type": "code",
   "execution_count": null,
   "outputs": [],
   "source": [],
   "metadata": {
    "collapsed": false,
    "pycharm": {
     "name": "#%%\n"
    }
   }
  },
  {
   "cell_type": "markdown",
   "source": [
    "## TIMESTAMPS и DATES\n",
    "8.5 раздел в документации"
   ],
   "metadata": {
    "collapsed": false,
    "pycharm": {
     "name": "#%% md\n"
    }
   }
  },
  {
   "cell_type": "code",
   "execution_count": 19,
   "outputs": [
    {
     "data": {
      "text/plain": "array([[Timestamp('2022-01-26 11:02:09.678088+0000', tz='UTC')]],\n      dtype=object)"
     },
     "execution_count": 19,
     "metadata": {},
     "output_type": "execute_result"
    }
   ],
   "source": [
    "sql_query(\"\"\"SELECT NOW()\"\"\").values"
   ],
   "metadata": {
    "collapsed": false,
    "pycharm": {
     "name": "#%%\n"
    }
   }
  },
  {
   "cell_type": "code",
   "execution_count": 20,
   "outputs": [
    {
     "data": {
      "text/plain": "array([[datetime.date(2022, 1, 26)]], dtype=object)"
     },
     "execution_count": 20,
     "metadata": {},
     "output_type": "execute_result"
    }
   ],
   "source": [
    "sql_query(\"\"\"SELECT NOW()::DATE\"\"\").values"
   ],
   "metadata": {
    "collapsed": false,
    "pycharm": {
     "name": "#%%\n"
    }
   }
  },
  {
   "cell_type": "code",
   "execution_count": 21,
   "outputs": [
    {
     "data": {
      "text/plain": "array([[datetime.time(14, 2, 21, 152872)]], dtype=object)"
     },
     "execution_count": 21,
     "metadata": {},
     "output_type": "execute_result"
    }
   ],
   "source": [
    "sql_query(\"\"\"SELECT NOW()::TIME\"\"\").values"
   ],
   "metadata": {
    "collapsed": false,
    "pycharm": {
     "name": "#%%\n"
    }
   }
  },
  {
   "cell_type": "code",
   "execution_count": 25,
   "outputs": [
    {
     "data": {
      "text/plain": "array([['2022-01-25T00:00:00.000000000']], dtype='datetime64[ns]')"
     },
     "execution_count": 25,
     "metadata": {},
     "output_type": "execute_result"
    }
   ],
   "source": [
    "sql_query(\"\"\"SELECT NOW()::DATE - INTERVAL '1 DAYS' \"\"\").values"
   ],
   "metadata": {
    "collapsed": false,
    "pycharm": {
     "name": "#%%\n"
    }
   }
  },
  {
   "cell_type": "code",
   "execution_count": 27,
   "outputs": [
    {
     "data": {
      "text/plain": "array([[2022.]])"
     },
     "execution_count": 27,
     "metadata": {},
     "output_type": "execute_result"
    }
   ],
   "source": [
    "sql_query(\"\"\"SELECT EXTRACT(YEAR FROM NOW())\"\"\").values"
   ],
   "metadata": {
    "collapsed": false,
    "pycharm": {
     "name": "#%%\n"
    }
   }
  },
  {
   "cell_type": "code",
   "execution_count": 32,
   "outputs": [
    {
     "data": {
      "text/plain": "      payment_id  customer_id  staff_id  rental_id  amount  \\\n0          17503          341         2       1520    7.99   \n1          17504          341         1       1778    1.99   \n2          17505          341         1       1849    7.99   \n3          17506          341         2       2829    2.99   \n4          17507          341         2       3130    7.99   \n...          ...          ...       ...        ...     ...   \n2011       19514          267         2       2699    2.99   \n2012       19515          267         2       2754    4.99   \n2013       19516          267         1       2877    1.99   \n2014       19517          267         2       3090    0.99   \n2015       19518           16         1       4591    1.99   \n\n                   payment_date  \n0    2007-02-15 22:25:46.996577  \n1    2007-02-16 17:23:14.996577  \n2    2007-02-16 22:41:45.996577  \n3    2007-02-19 19:39:56.996577  \n4    2007-02-20 17:31:48.996577  \n...                         ...  \n2011 2007-02-19 11:57:54.996577  \n2012 2007-02-19 15:24:25.996577  \n2013 2007-02-19 23:35:42.996577  \n2014 2007-02-20 14:28:45.996577  \n2015 2007-02-18 03:24:38.996577  \n\n[2016 rows x 6 columns]",
      "text/html": "<div>\n<style scoped>\n    .dataframe tbody tr th:only-of-type {\n        vertical-align: middle;\n    }\n\n    .dataframe tbody tr th {\n        vertical-align: top;\n    }\n\n    .dataframe thead th {\n        text-align: right;\n    }\n</style>\n<table border=\"1\" class=\"dataframe\">\n  <thead>\n    <tr style=\"text-align: right;\">\n      <th></th>\n      <th>payment_id</th>\n      <th>customer_id</th>\n      <th>staff_id</th>\n      <th>rental_id</th>\n      <th>amount</th>\n      <th>payment_date</th>\n    </tr>\n  </thead>\n  <tbody>\n    <tr>\n      <th>0</th>\n      <td>17503</td>\n      <td>341</td>\n      <td>2</td>\n      <td>1520</td>\n      <td>7.99</td>\n      <td>2007-02-15 22:25:46.996577</td>\n    </tr>\n    <tr>\n      <th>1</th>\n      <td>17504</td>\n      <td>341</td>\n      <td>1</td>\n      <td>1778</td>\n      <td>1.99</td>\n      <td>2007-02-16 17:23:14.996577</td>\n    </tr>\n    <tr>\n      <th>2</th>\n      <td>17505</td>\n      <td>341</td>\n      <td>1</td>\n      <td>1849</td>\n      <td>7.99</td>\n      <td>2007-02-16 22:41:45.996577</td>\n    </tr>\n    <tr>\n      <th>3</th>\n      <td>17506</td>\n      <td>341</td>\n      <td>2</td>\n      <td>2829</td>\n      <td>2.99</td>\n      <td>2007-02-19 19:39:56.996577</td>\n    </tr>\n    <tr>\n      <th>4</th>\n      <td>17507</td>\n      <td>341</td>\n      <td>2</td>\n      <td>3130</td>\n      <td>7.99</td>\n      <td>2007-02-20 17:31:48.996577</td>\n    </tr>\n    <tr>\n      <th>...</th>\n      <td>...</td>\n      <td>...</td>\n      <td>...</td>\n      <td>...</td>\n      <td>...</td>\n      <td>...</td>\n    </tr>\n    <tr>\n      <th>2011</th>\n      <td>19514</td>\n      <td>267</td>\n      <td>2</td>\n      <td>2699</td>\n      <td>2.99</td>\n      <td>2007-02-19 11:57:54.996577</td>\n    </tr>\n    <tr>\n      <th>2012</th>\n      <td>19515</td>\n      <td>267</td>\n      <td>2</td>\n      <td>2754</td>\n      <td>4.99</td>\n      <td>2007-02-19 15:24:25.996577</td>\n    </tr>\n    <tr>\n      <th>2013</th>\n      <td>19516</td>\n      <td>267</td>\n      <td>1</td>\n      <td>2877</td>\n      <td>1.99</td>\n      <td>2007-02-19 23:35:42.996577</td>\n    </tr>\n    <tr>\n      <th>2014</th>\n      <td>19517</td>\n      <td>267</td>\n      <td>2</td>\n      <td>3090</td>\n      <td>0.99</td>\n      <td>2007-02-20 14:28:45.996577</td>\n    </tr>\n    <tr>\n      <th>2015</th>\n      <td>19518</td>\n      <td>16</td>\n      <td>1</td>\n      <td>4591</td>\n      <td>1.99</td>\n      <td>2007-02-18 03:24:38.996577</td>\n    </tr>\n  </tbody>\n</table>\n<p>2016 rows × 6 columns</p>\n</div>"
     },
     "execution_count": 32,
     "metadata": {},
     "output_type": "execute_result"
    }
   ],
   "source": [
    "# Вытащить все строчки с датой выплаты за ФЕВРАЛЬ (2 месяц)\n",
    "sql_query(\"\"\"SELECT * FROM payment WHERE EXTRACT(MONTH FROM payment_date) = 2\"\"\")"
   ],
   "metadata": {
    "collapsed": false,
    "pycharm": {
     "name": "#%%\n"
    }
   }
  },
  {
   "cell_type": "markdown",
   "source": [
    "# Более сложные и продвинутые вещи"
   ],
   "metadata": {
    "collapsed": false,
    "pycharm": {
     "name": "#%% md\n"
    }
   }
  },
  {
   "cell_type": "markdown",
   "source": [
    "## CASE\n",
    "\n",
    "```postgresql\n",
    "CASE\n",
    "WHEN x = 1 THEN 'a'\n",
    "WHEN x = 2 THEN 'b'\n",
    "ELSE 'c'\n",
    "END AS new_column\n",
    "```"
   ],
   "metadata": {
    "collapsed": false,
    "pycharm": {
     "name": "#%% md\n"
    }
   }
  },
  {
   "cell_type": "code",
   "execution_count": 37,
   "outputs": [
    {
     "data": {
      "text/plain": "       month       sum\n0    Февраль   8351.84\n1  Остальные  29073.64\n2       Март  23886.56",
      "text/html": "<div>\n<style scoped>\n    .dataframe tbody tr th:only-of-type {\n        vertical-align: middle;\n    }\n\n    .dataframe tbody tr th {\n        vertical-align: top;\n    }\n\n    .dataframe thead th {\n        text-align: right;\n    }\n</style>\n<table border=\"1\" class=\"dataframe\">\n  <thead>\n    <tr style=\"text-align: right;\">\n      <th></th>\n      <th>month</th>\n      <th>sum</th>\n    </tr>\n  </thead>\n  <tbody>\n    <tr>\n      <th>0</th>\n      <td>Февраль</td>\n      <td>8351.84</td>\n    </tr>\n    <tr>\n      <th>1</th>\n      <td>Остальные</td>\n      <td>29073.64</td>\n    </tr>\n    <tr>\n      <th>2</th>\n      <td>Март</td>\n      <td>23886.56</td>\n    </tr>\n  </tbody>\n</table>\n</div>"
     },
     "execution_count": 37,
     "metadata": {},
     "output_type": "execute_result"
    }
   ],
   "source": [
    "# Найти сумму выплат за февраль и март\n",
    "sql_query(\"\"\"\n",
    "SELECT\n",
    "CASE WHEN EXTRACT(MONTH FROM payment_date) = 2 THEN 'Февраль'\n",
    "WHEN EXTRACT(MONTH FROM payment_date) = 3 THEN 'Март'\n",
    "ELSE 'Остальные'\n",
    "END as month,\n",
    "SUM(amount)\n",
    "FROM payment\n",
    "GROUP BY month\n",
    "\"\"\")\n"
   ],
   "metadata": {
    "collapsed": false,
    "pycharm": {
     "name": "#%%\n"
    }
   }
  },
  {
   "cell_type": "markdown",
   "source": [
    "## Подзапросы"
   ],
   "metadata": {
    "collapsed": false,
    "pycharm": {
     "name": "#%% md\n"
    }
   }
  },
  {
   "cell_type": "markdown",
   "source": [
    "## Оконные функции"
   ],
   "metadata": {
    "collapsed": false,
    "pycharm": {
     "name": "#%% md\n"
    }
   }
  },
  {
   "cell_type": "markdown",
   "source": [
    "## Функции"
   ],
   "metadata": {
    "collapsed": false,
    "pycharm": {
     "name": "#%% md\n"
    }
   }
  },
  {
   "cell_type": "code",
   "execution_count": null,
   "outputs": [],
   "source": [],
   "metadata": {
    "collapsed": false,
    "pycharm": {
     "name": "#%%\n"
    }
   }
  }
 ],
 "metadata": {
  "kernelspec": {
   "display_name": "Python 3",
   "language": "python",
   "name": "python3"
  },
  "language_info": {
   "codemirror_mode": {
    "name": "ipython",
    "version": 2
   },
   "file_extension": ".py",
   "mimetype": "text/x-python",
   "name": "python",
   "nbconvert_exporter": "python",
   "pygments_lexer": "ipython2",
   "version": "2.7.6"
  }
 },
 "nbformat": 4,
 "nbformat_minor": 0
}