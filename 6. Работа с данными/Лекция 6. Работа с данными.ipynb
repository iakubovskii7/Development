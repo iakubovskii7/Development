{
 "cells": [
  {
   "cell_type": "markdown",
   "metadata": {
    "collapsed": true,
    "pycharm": {
     "name": "#%% md\n"
    }
   },
   "source": [
    "# Базы данных\n",
    "\n",
    "В современном мире больших данных все еще большая доля приходится на классические реляционные базы данных, которые представляют из себя совокупность таблиц, объединенных по внешним ключам. Именно такой тип используется в работе веб-страниц. Наиболее популярным примером является база данных [PostgreSQL](https://postgrespro.ru/docs/postgresql/14/index) (сокращенно - postgres). Наиболее распространенными также являются MySQL, Oracle, MariaDB, SQLite.\n",
    "\n",
    "Про остальные типы данных и баз данных можно почитать [здесь](https://proglib.io/p/11-tipov-sovremennyh-baz-dannyh-kratkie-opisaniya-shemy-i-primery-bd-2020-01-07)\n",
    "\n",
    "В этом курсе мы будем говорить про команды в postgres, однако существенных различий с другими языками SQL-запросов нет.\n",
    "Хороший самоучитель по postgres находится [здесь](https://www.pgexercises.com/gettingstarted.html). Рекомендуется изучать документацию с самого начала и начинать тренировать простейшие упражнения, где в конце объясняются, как работает запрос.\n",
    "\n"
   ]
  },
  {
   "cell_type": "markdown",
   "source": [
    "# Работа с базой данных в Python\n",
    "\n",
    "В Python мы работаем с базой данных postgres через модуль *psycopg2*. Однако, чтобы подключиться к существующей, мы должны знать:\n",
    "- имя базы\n",
    "- имя пользователя\n",
    "- пароль\n",
    "- хост (либо локальный, либо через http)\n",
    "- номер порта (для локального хоста - это, как правило, 5432)\n",
    "\n",
    "Ниже представлен код создания нашей базы на локальном хосте при помощи модуля *sqllite3* (потому что для создания базы postgres нам нужно предварительно установить его на компьютер, а это нам сейчас не нужно).\n",
    "\n"
   ],
   "metadata": {
    "collapsed": false,
    "pycharm": {
     "name": "#%% md\n"
    }
   }
  },
  {
   "cell_type": "code",
   "execution_count": 6,
   "outputs": [
    {
     "name": "stdout",
     "output_type": "stream",
     "text": [
      "2.6.0\n"
     ]
    }
   ],
   "source": [
    "import psycopg2\n",
    "import sqlite3\n",
    "\n",
    "\n",
    "def create_connection():\n",
    "    \"\"\" create a database connection to a database that resides\n",
    "        in the memory\n",
    "    \"\"\"\n",
    "    conn = None\n",
    "    try:\n",
    "        conn = sqlite3.connect(':memory:')\n",
    "        print(sqlite3.version)\n",
    "    except sqlite3.Error as e:\n",
    "        print(e)\n",
    "    return conn\n",
    "conn = create_connection()"
   ],
   "metadata": {
    "collapsed": false,
    "pycharm": {
     "name": "#%%\n"
    }
   }
  },
  {
   "cell_type": "markdown",
   "source": [
    "Теперь создадим таблицы [отсюда](https://www.pgexercises.com/gettingstarted.html)"
   ],
   "metadata": {
    "collapsed": false,
    "pycharm": {
     "name": "#%% md\n"
    }
   }
  },
  {
   "cell_type": "code",
   "execution_count": 28,
   "outputs": [
    {
     "data": {
      "text/plain": "<sqlite3.Cursor at 0x7fba9a38ab90>"
     },
     "execution_count": 28,
     "metadata": {},
     "output_type": "execute_result"
    }
   ],
   "source": [
    "c = conn.cursor()\n",
    "c.execute(\"\"\"\n",
    "    CREATE TABLE members\n",
    "    (\n",
    "       memid integer NOT NULL,\n",
    "       surname character varying(200) NOT NULL,\n",
    "       firstname character varying(200) NOT NULL,\n",
    "       address character varying(300) NOT NULL,\n",
    "       zipcode integer NOT NULL,\n",
    "       telephone character varying(20) NOT NULL,\n",
    "       recommendedby integer,\n",
    "       joindate timestamp NOT NULL,\n",
    "       CONSTRAINT members_pk PRIMARY KEY (memid)\n",
    "       CONSTRAINT fk_members_recommendedby FOREIGN KEY (recommendedby)\n",
    "       REFERENCES members(memid) ON DELETE SET NULL\n",
    "    );\n",
    "\"\"\")\n",
    "\n",
    "c.execute(\"\"\"CREATE TABLE facilities\n",
    "    (\n",
    "       facid integer NOT NULL,\n",
    "       name character varying(100) NOT NULL,\n",
    "       membercost numeric NOT NULL,\n",
    "       guestcost numeric NOT NULL,\n",
    "       initialoutlay numeric NOT NULL,\n",
    "       monthlymaintenance numeric NOT NULL,\n",
    "       CONSTRAINT facilities_pk PRIMARY KEY (facid)\n",
    "    );\n",
    "    \"\"\")\n",
    "\n",
    "c.execute(\"\"\"\n",
    "        CREATE TABLE bookings\n",
    "        (\n",
    "       bookid integer NOT NULL,\n",
    "       facid integer NOT NULL,\n",
    "       memid integer NOT NULL,\n",
    "       starttime timestamp NOT NULL,\n",
    "       slots integer NOT NULL,\n",
    "       CONSTRAINT bookings_pk PRIMARY KEY (bookid),\n",
    "       CONSTRAINT fk_bookings_facid FOREIGN KEY (facid) REFERENCES facilities(facid),\n",
    "       CONSTRAINT fk_bookings_memid FOREIGN KEY (memid) REFERENCES members(memid)\n",
    "       );\n",
    "    \"\"\")"
   ],
   "metadata": {
    "collapsed": false,
    "pycharm": {
     "name": "#%%\n"
    }
   }
  },
  {
   "cell_type": "markdown",
   "source": [
    "Теперь посмотрим на список доступных таблиц в нашей базе, которая хранится у нас в оперативной памяти."
   ],
   "metadata": {
    "collapsed": false,
    "pycharm": {
     "name": "#%% md\n"
    }
   }
  },
  {
   "cell_type": "code",
   "execution_count": 43,
   "outputs": [
    {
     "data": {
      "text/plain": "[('members',), ('facilities',), ('bookings',)]"
     },
     "execution_count": 43,
     "metadata": {},
     "output_type": "execute_result"
    }
   ],
   "source": [
    "exec = c.execute(\n",
    "    \"\"\"\n",
    "SELECT\n",
    "    name\n",
    "FROM\n",
    "    sqlite_schema\n",
    "WHERE\n",
    "    type ='table'\n",
    "    \"\"\")\n",
    "result = c.fetchall()\n",
    "result"
   ],
   "metadata": {
    "collapsed": false,
    "pycharm": {
     "name": "#%%\n"
    }
   }
  },
  {
   "cell_type": "markdown",
   "source": [
    "Отметим, что синтаксис SQLite может немного отличаться от PostgreSQL. Однако, для тренировки базовых запросов это не имеет значения."
   ],
   "metadata": {
    "collapsed": false,
    "pycharm": {
     "name": "#%% md\n"
    }
   }
  },
  {
   "cell_type": "markdown",
   "source": [
    "# Анализ базы данных в pandas\n",
    "\n",
    "pandas - это огромная библиотека для анализа данных. Это базовый инструмент для работы с анализом данных в Python.\n",
    "Однако, разработчикам необязательно знать данный пакет углубленно. Достаточно разбираться в базовых функциям, чтобы было удобно анализировать данные, приходящие из баз данных. Ниже представлен пример импорта данных из таблицы *members*."
   ],
   "metadata": {
    "collapsed": false,
    "pycharm": {
     "name": "#%% md\n"
    }
   }
  },
  {
   "cell_type": "code",
   "execution_count": 51,
   "outputs": [
    {
     "data": {
      "text/plain": "Empty DataFrame\nColumns: [memid, surname, firstname, address, zipcode, telephone, recommendedby, joindate]\nIndex: []",
      "text/html": "<div>\n<style scoped>\n    .dataframe tbody tr th:only-of-type {\n        vertical-align: middle;\n    }\n\n    .dataframe tbody tr th {\n        vertical-align: top;\n    }\n\n    .dataframe thead th {\n        text-align: right;\n    }\n</style>\n<table border=\"1\" class=\"dataframe\">\n  <thead>\n    <tr style=\"text-align: right;\">\n      <th></th>\n      <th>memid</th>\n      <th>surname</th>\n      <th>firstname</th>\n      <th>address</th>\n      <th>zipcode</th>\n      <th>telephone</th>\n      <th>recommendedby</th>\n      <th>joindate</th>\n    </tr>\n  </thead>\n  <tbody>\n  </tbody>\n</table>\n</div>"
     },
     "execution_count": 51,
     "metadata": {},
     "output_type": "execute_result"
    }
   ],
   "source": [
    "import pandas as pd\n",
    "query = \\\n",
    "\"\"\"\n",
    "SELECT *\n",
    "FROM members\n",
    "\"\"\"\n",
    "results_df = pd.read_sql_query(query, conn)\n",
    "results_df"
   ],
   "metadata": {
    "collapsed": false,
    "pycharm": {
     "name": "#%%\n"
    }
   }
  },
  {
   "cell_type": "markdown",
   "source": [
    "Видим, что у нас нет никаких данных, кроме названий столбцов. Это логично, ведь при создании таблицы мы указали лишь название и тип данных. При помощи метода ```pd.read_sql_query``` мы можем выгружать данные в удобном формате. Однако, изменять данные мы будем чуть более сложным способом через ```conn().cursor.execute()```. Добавим также, что производить трудоемкие для оперативной памяти операции через *pandas* не рекомендуется, поскольку от неэффективно работает с памятью. Рекомендуется большую часть обработки данных производить через SQL-запросы, а через pandas выводить основной результат."
   ],
   "metadata": {
    "collapsed": false,
    "pycharm": {
     "name": "#%% md\n"
    }
   }
  },
  {
   "cell_type": "code",
   "execution_count": 49,
   "outputs": [
    {
     "data": {
      "text/plain": "<sqlite3.Cursor at 0x7fba9a38ab90>"
     },
     "execution_count": 49,
     "metadata": {},
     "output_type": "execute_result"
    }
   ],
   "source": [
    "c.execute(\n",
    "\"\"\"\n",
    "INSERT INTO facilities\n",
    "VALUES\n",
    "(0, 'Tennis Court 1', 5, 25, 10000, 200),\n",
    "(1, 'Tennis Court 2',\t5,\t25,\t8000,\t200);\n",
    "\"\"\")"
   ],
   "metadata": {
    "collapsed": false,
    "pycharm": {
     "name": "#%%\n"
    }
   }
  },
  {
   "cell_type": "code",
   "execution_count": 50,
   "outputs": [
    {
     "data": {
      "text/plain": "   facid            name  membercost  guestcost  initialoutlay  \\\n0      0  Tennis Court 1           5         25          10000   \n1      1  Tennis Court 2           5         25           8000   \n\n   monthlymaintenance  \n0                 200  \n1                 200  ",
      "text/html": "<div>\n<style scoped>\n    .dataframe tbody tr th:only-of-type {\n        vertical-align: middle;\n    }\n\n    .dataframe tbody tr th {\n        vertical-align: top;\n    }\n\n    .dataframe thead th {\n        text-align: right;\n    }\n</style>\n<table border=\"1\" class=\"dataframe\">\n  <thead>\n    <tr style=\"text-align: right;\">\n      <th></th>\n      <th>facid</th>\n      <th>name</th>\n      <th>membercost</th>\n      <th>guestcost</th>\n      <th>initialoutlay</th>\n      <th>monthlymaintenance</th>\n    </tr>\n  </thead>\n  <tbody>\n    <tr>\n      <th>0</th>\n      <td>0</td>\n      <td>Tennis Court 1</td>\n      <td>5</td>\n      <td>25</td>\n      <td>10000</td>\n      <td>200</td>\n    </tr>\n    <tr>\n      <th>1</th>\n      <td>1</td>\n      <td>Tennis Court 2</td>\n      <td>5</td>\n      <td>25</td>\n      <td>8000</td>\n      <td>200</td>\n    </tr>\n  </tbody>\n</table>\n</div>"
     },
     "execution_count": 50,
     "metadata": {},
     "output_type": "execute_result"
    }
   ],
   "source": [
    "query = \\\n",
    "\"\"\"\n",
    "SELECT *\n",
    "FROM facilities\n",
    "\"\"\"\n",
    "results_df = pd.read_sql_query(query, conn)\n",
    "results_df"
   ],
   "metadata": {
    "collapsed": false,
    "pycharm": {
     "name": "#%%\n"
    }
   }
  },
  {
   "cell_type": "markdown",
   "source": [
    "Теперь у нас появились данные! Давайте добавим еще больше строк ко всем 3 таблицам."
   ],
   "metadata": {
    "collapsed": false,
    "pycharm": {
     "name": "#%% md\n"
    }
   }
  },
  {
   "cell_type": "code",
   "execution_count": 56,
   "outputs": [
    {
     "data": {
      "text/plain": "<sqlite3.Cursor at 0x7fba9a38ab90>"
     },
     "execution_count": 56,
     "metadata": {},
     "output_type": "execute_result"
    }
   ],
   "source": [
    "c.execute(\n",
    "\"\"\"\n",
    "INSERT INTO facilities\n",
    "VALUES\n",
    "(2, 'Badminton Court', 0,\t15.5,\t4000,\t50),\n",
    "(3,\t'Table Tennis', 0,\t5,\t320,\t10),\n",
    "(4, 'Massage Room 1',\t35,\t80,\t4000,\t3000),\n",
    "(5, 'Massage Room 2',\t35,\t80,\t4000,\t3000),\n",
    "(6, 'Squash Court', 3.5,\t17.5,\t5000,\t80),\n",
    "(7, 'Snooker Table', 0, 5, 450, 15),\n",
    "(8,\t'Pool Table',\t0,\t5,\t400,\t15);\n",
    "\"\"\")\n",
    "\n",
    "c.execute(\n",
    "\"\"\"\n",
    "INSERT INTO members\n",
    "VALUES\n",
    "(4,\t'Joplette', 'Janice',\t'20 Crossing Road, New York',\t234,\t'(833) 942-4710',\t1,\t'2012-07-03 10:25:05'),\n",
    "(5, 'Butters',\t'Gerald',\t'1065 Huntingdon Avenue, Boston',\t56754,\t'(844) 078-4130',\t1,\t'2012-07-09 10:44:09');\n",
    "\"\"\"\n",
    ")\n",
    "\n",
    "c.execute(\n",
    "\"\"\"\n",
    "INSERT INTO bookings\n",
    "VALUES\n",
    "(0,\t3,\t1,\t'2012-07-03 11:00:00',\t2),\n",
    "(1,\t4,\t1,\t'2012-07-03 08:00:00',\t2),\n",
    "(2,\t6,\t0,\t'2012-07-03 18:00:00',\t2),\n",
    "(3,\t7,\t1,\t'2012-07-03 19:00:00',\t2)\n",
    "\"\"\"\n",
    ")"
   ],
   "metadata": {
    "collapsed": false,
    "pycharm": {
     "name": "#%%\n"
    }
   }
  },
  {
   "cell_type": "code",
   "execution_count": null,
   "outputs": [],
   "source": [],
   "metadata": {
    "collapsed": false,
    "pycharm": {
     "name": "#%%\n"
    }
   }
  },
  {
   "cell_type": "markdown",
   "source": [
    "# Немного графического анализа"
   ],
   "metadata": {
    "collapsed": false,
    "pycharm": {
     "name": "#%% md\n"
    }
   }
  },
  {
   "cell_type": "code",
   "execution_count": null,
   "outputs": [],
   "source": [],
   "metadata": {
    "collapsed": false,
    "pycharm": {
     "name": "#%%\n"
    }
   }
  }
 ],
 "metadata": {
  "kernelspec": {
   "display_name": "Python 3",
   "language": "python",
   "name": "python3"
  },
  "language_info": {
   "codemirror_mode": {
    "name": "ipython",
    "version": 2
   },
   "file_extension": ".py",
   "mimetype": "text/x-python",
   "name": "python",
   "nbconvert_exporter": "python",
   "pygments_lexer": "ipython2",
   "version": "2.7.6"
  }
 },
 "nbformat": 4,
 "nbformat_minor": 0
}