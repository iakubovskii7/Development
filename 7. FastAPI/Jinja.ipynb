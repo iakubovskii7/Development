{
 "cells": [
  {
   "cell_type": "markdown",
   "metadata": {
    "collapsed": true,
    "pycharm": {
     "name": "#%% md\n"
    }
   },
   "source": [
    "# Jinja темплейты\n",
    "\n",
    "Jinja2 — самый популярный шаблонизатор в языке программирования Python.\n",
    "\n",
    "Синтаксис Jinja2 сильно похож на Django-шаблонизатор, но при этом дает возможность использовать чистые Python выражения и поддерживает гибкую систему расширений.\n",
    "Ниже приведем основные примеры того, как использовать данные шаблоны."
   ]
  },
  {
   "cell_type": "code",
   "execution_count": 1,
   "outputs": [],
   "source": [
    "from jinja2 import Template"
   ],
   "metadata": {
    "collapsed": false,
    "pycharm": {
     "name": "#%%\n"
    }
   }
  },
  {
   "cell_type": "code",
   "execution_count": 21,
   "outputs": [
    {
     "data": {
      "text/plain": "'13'"
     },
     "execution_count": 21,
     "metadata": {},
     "output_type": "execute_result"
    }
   ],
   "source": [
    "# Обычные выражения\n",
    "Template(\"{{ 10 + 3 }}\").render()"
   ],
   "metadata": {
    "collapsed": false,
    "pycharm": {
     "name": "#%%\n"
    }
   }
  },
  {
   "cell_type": "code",
   "execution_count": 3,
   "outputs": [
    {
     "data": {
      "text/plain": "'12'"
     },
     "execution_count": 3,
     "metadata": {},
     "output_type": "execute_result"
    }
   ],
   "source": [
    "# Вывод переменных\n",
    "Template(\"{{ var }}\").render(var=12)"
   ],
   "metadata": {
    "collapsed": false,
    "pycharm": {
     "name": "#%%\n"
    }
   }
  },
  {
   "cell_type": "code",
   "execution_count": 4,
   "outputs": [
    {
     "data": {
      "text/plain": "'This is an instance of Foo class'"
     },
     "execution_count": 4,
     "metadata": {},
     "output_type": "execute_result"
    }
   ],
   "source": [
    "class Foo:\n",
    "    def __str__(self):\n",
    "        return \"This is an instance of Foo class\"\n",
    "Template(\"{{ var }}\").render(var=Foo())"
   ],
   "metadata": {
    "collapsed": false,
    "pycharm": {
     "name": "#%%\n"
    }
   }
  },
  {
   "cell_type": "code",
   "execution_count": 5,
   "outputs": [
    {
     "name": "stdout",
     "output_type": "stream",
     "text": [
      "Hello Вася! Hello Вася! Hello Вася! Hello Вася! Hello Вася! \n"
     ]
    }
   ],
   "source": [
    "# Операторы в Jinja2 % функция %\n",
    "\n",
    "text = '{% for item in range(5) %}Hello {{ name }}! {% endfor %}'\n",
    "template = Template(text)\n",
    "print(template.render(name=u'Вася'))"
   ],
   "metadata": {
    "collapsed": false,
    "pycharm": {
     "name": "#%%\n"
    }
   }
  },
  {
   "cell_type": "code",
   "execution_count": 6,
   "outputs": [
    {
     "name": "stdout",
     "output_type": "stream",
     "text": [
      "foo\n",
      "фуу\n",
      "föö\n"
     ]
    }
   ],
   "source": [
    "# Объявить переменные\n",
    "template = Template(\"{% set a, b, c = 'foo', 'фуу', 'föö' %}\")\n",
    "m = template.module\n",
    "print(m.a)\n",
    "print(m.b)\n",
    "print(m.c)"
   ],
   "metadata": {
    "collapsed": false,
    "pycharm": {
     "name": "#%%\n"
    }
   }
  },
  {
   "cell_type": "markdown",
   "source": [
    "Переменные определяются для хранения результатов сложных операций, так чтобы их можно было использовать дальше в шаблоне. Переменные, определенные вне управляющих конструкций (о них дальше), ведут себя как глобальные переменные и доступны внутри любой структуры. Тем не менее переменные, созданные внутри конструкций, ведут себя как локальные переменные и видимы только внутри этих конкретных конструкций. Единственное исключение — инструкция if."
   ],
   "metadata": {
    "collapsed": false,
    "pycharm": {
     "name": "#%% md\n"
    }
   }
  },
  {
   "cell_type": "code",
   "execution_count": 9,
   "outputs": [
    {
     "data": {
      "text/plain": "''"
     },
     "execution_count": 9,
     "metadata": {},
     "output_type": "execute_result"
    }
   ],
   "source": [
    "template = Template('{% if bookmarks %} <p>User has some bookmarks</p> {% endif %}')\n",
    "template.render()"
   ],
   "metadata": {
    "collapsed": false,
    "pycharm": {
     "name": "#%%\n"
    }
   }
  },
  {
   "cell_type": "markdown",
   "source": [
    "Если значение переменной bookmarks – True, тогда будет выведена строка\n",
    "```<p>User has some bookmarks</p>```.\n",
    "\n",
    "Стоит запомнить, что в Jinja, если у переменной нет значения, она возвращает False."
   ],
   "metadata": {
    "collapsed": false,
    "pycharm": {
     "name": "#%% md\n"
    }
   }
  },
  {
   "cell_type": "code",
   "execution_count": 11,
   "outputs": [
    {
     "data": {
      "text/plain": "'User is not logged in'"
     },
     "execution_count": 11,
     "metadata": {},
     "output_type": "execute_result"
    }
   ],
   "source": [
    "Template('{{ \"User is logged in\" if loggedin else \"User is not logged in\" }}').render()"
   ],
   "metadata": {
    "collapsed": false,
    "pycharm": {
     "name": "#%%\n"
    }
   }
  },
  {
   "cell_type": "markdown",
   "source": [
    "## Фильтры\n",
    "\n",
    "Фильтры изменяют переменные до процесса рендеринга. Синтаксис использования фильтров следующий:"
   ],
   "metadata": {
    "collapsed": false,
    "pycharm": {
     "name": "#%% md\n"
    }
   }
  },
  {
   "cell_type": "code",
   "execution_count": null,
   "outputs": [],
   "source": [
    "Template(\"{{ comment|title }}\")"
   ],
   "metadata": {
    "collapsed": false,
    "pycharm": {
     "name": "#%%\n"
    }
   }
  },
  {
   "cell_type": "markdown",
   "source": [
    "Фильтр title делает заглавной первую букву в каждом слове. Если значение переменной comment — \"dust in the wind\", то вывод будет \"Dust In The Wind\".\n",
    "\n",
    "Ниже представлены широко используемые фильтры:"
   ],
   "metadata": {
    "collapsed": false,
    "pycharm": {
     "name": "#%% md\n"
    }
   }
  },
  {
   "cell_type": "markdown",
   "source": [
    "| Название\t| Описание |\n",
    "| --- | --- |\n",
    "| upper\t| делает все символы заглавными |\n",
    "| lower\t| приводит все символы к нижнему регистру |\n",
    "| capitalize\t| делает заглавной первую букву и приводит остальные к нижнему регистру |\n",
    "| escape\t| экранирует значение |\n",
    "| safe\t| предотвращает экранирование |\n",
    "| length\t| возвращает количество элементов в последовательности |\n",
    "| trim\t| удаляет пустые символы в начале и в конце |\n",
    "| random\t| возвращает случайный элемент последовательности |"
   ],
   "metadata": {
    "collapsed": false,
    "pycharm": {
     "name": "#%% md\n"
    }
   }
  },
  {
   "cell_type": "markdown",
   "source": [
    "## Макросы\n",
    "\n",
    "Макросы - это по сути те же функции в Python, только в Jinja2.\n",
    "\n",
    "Суть в том, чтобы сделать код, который можно использовать повторно, просто присвоив ему название."
   ],
   "metadata": {
    "collapsed": false,
    "pycharm": {
     "name": "#%% md\n"
    }
   }
  },
  {
   "cell_type": "code",
   "execution_count": 13,
   "outputs": [],
   "source": [
    "template = \"\"\"\n",
    "{% macro render_posts(post_list, sep=False) %}\n",
    "    <div>\n",
    "        {% for post in post_list %}\n",
    "            <h2>{{ post.title }}</h2>\n",
    "            <article>\n",
    "                {{ post.html|safe }}\n",
    "            </article>\n",
    "        {% endfor %}\n",
    "        {% if sep %}<hr>{% endif %}\n",
    "    </div>\n",
    "{% endmacro %}\n",
    "\"\"\""
   ],
   "metadata": {
    "collapsed": false,
    "pycharm": {
     "name": "#%%\n"
    }
   }
  },
  {
   "cell_type": "markdown",
   "source": [
    "В этом примере создан макрос render_posts, который принимает обязательный аргумент post_list и необязательный аргумент sep. Использовать его нужно следующим образом:"
   ],
   "metadata": {
    "collapsed": false,
    "pycharm": {
     "name": "#%% md\n"
    }
   }
  },
  {
   "cell_type": "code",
   "execution_count": 14,
   "outputs": [
    {
     "data": {
      "text/plain": "<Template memory:7fefc11c9880>"
     },
     "execution_count": 14,
     "metadata": {},
     "output_type": "execute_result"
    }
   ],
   "source": [
    "Template(\"\"\"{{ render_posts(posts) }}\"\"\")"
   ],
   "metadata": {
    "collapsed": false,
    "pycharm": {
     "name": "#%%\n"
    }
   }
  },
  {
   "cell_type": "code",
   "execution_count": 15,
   "outputs": [
    {
     "data": {
      "text/plain": "'{% import \"macros.html\" as  macros %}'"
     },
     "execution_count": 15,
     "metadata": {},
     "output_type": "execute_result"
    }
   ],
   "source": [
    "# Можно импортировать макросы из отдельного файла\n",
    "\"\"\"{% import \"macros.html\" as  macros %}\"\"\""
   ],
   "metadata": {
    "collapsed": false,
    "pycharm": {
     "name": "#%%\n"
    }
   }
  },
  {
   "cell_type": "markdown",
   "source": [
    "## Экранирование\n",
    "\n",
    "Jinja по умолчанию автоматически экранирует вывод переменной в целях безопасности. Поэтому если переменная содержит, например, такой HTML-код:\n",
    "```<p>Escaping in Jinja</p>```, он отрендерится в виде ```&lt;p&gt;Escaping in Jinja&lt;/p&gt;```. Благодаря этому HTML-коды будут отображаться в браузере, а не интерпретироваться. Если есть уверенность, что данные безопасны и их точно можно рендерить, стоит воспользоваться фильтром safe. Например:"
   ],
   "metadata": {
    "collapsed": false,
    "pycharm": {
     "name": "#%% md\n"
    }
   }
  },
  {
   "cell_type": "code",
   "execution_count": null,
   "outputs": [],
   "source": [
    "\"\"\"{% set html = \"<p>Escaping in Jinja</p>\" %}\"\"\"\n",
    "\"\"\"{{ html|safe }}\"\"\"\n",
    "\n",
    "# Вывод:\n",
    "\"\"\"<p>Escaping in Jinja</p>\"\"\""
   ],
   "metadata": {
    "collapsed": false,
    "pycharm": {
     "name": "#%%\n"
    }
   }
  },
  {
   "cell_type": "markdown",
   "source": [
    "Использовать фильтр safe в большом блоке кода будет неудобно, поэтому в Jinja есть оператор autoescape, который используется, чтобы отключить экранирование для большого объема данных. Он может принимать аргументы true или false для включения и отключения экранирования, соответственно. Например:"
   ],
   "metadata": {
    "collapsed": false,
    "pycharm": {
     "name": "#%% md\n"
    }
   }
  },
  {
   "cell_type": "code",
   "execution_count": 17,
   "outputs": [],
   "source": [
    "tempate = \"\"\"\n",
    "{% autoescape true %}\n",
    "    Escaping enabled\n",
    "{% endautoescape %}\n",
    "\"\"\""
   ],
   "metadata": {
    "collapsed": false,
    "pycharm": {
     "name": "#%%\n"
    }
   }
  },
  {
   "cell_type": "markdown",
   "source": [
    "## Вложенные шаблоны"
   ],
   "metadata": {
    "collapsed": false,
    "pycharm": {
     "name": "#%% md\n"
    }
   }
  },
  {
   "cell_type": "markdown",
   "source": [
    "Инструкция include рендерит шаблон внутри другого шаблона. Она широко используется, чтобы рендерить статический раздел, который повторяется в разных местах сайта. Вот синтаксис include:\n",
    "\n",
    "Предположим, что навигационное меню хранится в файле nav.html, сохраненном в папке templates.\n",
    "\n",
    "Чтобы добавить это меню в home.html, нужно использовать следующий код:"
   ],
   "metadata": {
    "collapsed": false,
    "pycharm": {
     "name": "#%% md\n"
    }
   }
  },
  {
   "cell_type": "code",
   "execution_count": 18,
   "outputs": [],
   "source": [
    "# Внутри <body> </body>\n",
    "template_inside_body = \"\"\"{% include 'nav.html' %}\"\"\""
   ],
   "metadata": {
    "collapsed": false,
    "pycharm": {
     "name": "#%%\n"
    }
   }
  },
  {
   "cell_type": "markdown",
   "source": [
    "## Наследование шаблонов\n",
    "\n",
    "Наследование шаблонов — один из самых мощных элементов шаблонизатора Jinja. Его принцип похож на ООП (объектно-ориентированное программирование). Все начинается с создания базового шаблона, который содержит в себе скелет HTML и отдельные маркеры, которые дочерние шаблоны смогут переопределять. Маркеры создаются с помощью инструкции ```block```. Дочерние шаблоны используют инструкцию ```extends``` для наследования или расширения основного шаблона. Вот пример:"
   ],
   "metadata": {
    "collapsed": false,
    "pycharm": {
     "name": "#%% md\n"
    }
   }
  },
  {
   "cell_type": "code",
   "execution_count": 19,
   "outputs": [],
   "source": [
    "base_template = \"\"\"\n",
    "{# Это шаблон templates/base.html #}\n",
    "<!DOCTYPE html>\n",
    "<html lang=\"en\">\n",
    "<head>\n",
    "    <meta charset=\"UTF-8\">\n",
    "    <title>{% block title %}Default Title{% endblock %}</title>\n",
    "</head>\n",
    "<body>\n",
    "\n",
    "    {% block nav %}\n",
    "        <ul>\n",
    "            <li><a href=\"/home\">Home</a></li>\n",
    "            <li><a href=\"/api\">API</a></li>\n",
    "        </ul>\n",
    "    {% endblock %}\n",
    "\n",
    "    {% block content %}\n",
    "\n",
    "    {% endblock %}\n",
    "</body>\n",
    "</html>\n",
    "\"\"\"\n"
   ],
   "metadata": {
    "collapsed": false,
    "pycharm": {
     "name": "#%%\n"
    }
   }
  },
  {
   "cell_type": "markdown",
   "source": [
    "Это базовый шаблон ```base.html```. Он создает три блока с помощью ```block```, которые впоследствии будут заполнены дочерними шаблонами. Инструкция ```block``` принимает один аргумент — название блока. Внутри шаблона это название должно быть уникальным, иначе возникнет ошибка."
   ],
   "metadata": {
    "collapsed": false,
    "pycharm": {
     "name": "#%% md\n"
    }
   }
  },
  {
   "cell_type": "markdown",
   "source": [
    "Дочерний шаблон — это шаблон, который растягивает базовый шаблон. Он может добавлять, перезаписывать или оставлять элементы родительского блока. Вот как можно создать дочерний шаблон."
   ],
   "metadata": {
    "collapsed": false,
    "pycharm": {
     "name": "#%% md\n"
    }
   }
  },
  {
   "cell_type": "code",
   "execution_count": null,
   "outputs": [],
   "source": [
    "child_template = \"\"\"\n",
    "{# Это шаблон templates/child.html #}\n",
    "{% extends 'base.html' %}\n",
    "\n",
    "\n",
    "{% block content %}\n",
    "    {% for bookmark in bookmarks %}\n",
    "        <p>{{ bookmark.title }}</p>\n",
    "    {% endfor %}\n",
    "{% endblock %}\n",
    "\"\"\""
   ],
   "metadata": {
    "collapsed": false,
    "pycharm": {
     "name": "#%%\n"
    }
   }
  },
  {
   "cell_type": "markdown",
   "source": [
    "Инструкция extends сообщает Jinja, что child.html — это дочерний элемент, наследник base.html. Когда Jinja обнаруживает инструкцию extends, он загружает базовый шаблон, то есть base.html, а затем заменяет блоки контента внутри родительского шаблона блоками с теми же именами из дочерних шаблонов. Если блок с соответствующим названием не найден, используется блок родительского шаблона."
   ],
   "metadata": {
    "collapsed": false,
    "pycharm": {
     "name": "#%% md\n"
    }
   }
  },
  {
   "cell_type": "markdown",
   "source": [
    "Видим, что в этом случае перезаписывается только блок ```content```."
   ],
   "metadata": {
    "collapsed": false,
    "pycharm": {
     "name": "#%% md\n"
    }
   }
  },
  {
   "cell_type": "markdown",
   "source": [
    "После перезаписи блока на контент из родительского шаблона все еще можно ссылаться с помощью функции super(). Обычно она используется, когда в дополнение к контенту дочернего шаблона нужно добавить содержимое из родительского. Например:"
   ],
   "metadata": {
    "collapsed": false,
    "pycharm": {
     "name": "#%% md\n"
    }
   }
  },
  {
   "cell_type": "code",
   "execution_count": 20,
   "outputs": [],
   "source": [
    "template_child = \"\"\"{# Это шаблон templates/child.html #}\n",
    "{% extends 'base.html' %}\n",
    "\n",
    "{% block title %}\n",
    "    Child Title\n",
    "{% endblock %}\n",
    "\n",
    "{% block nav %}\n",
    "    {{ super() }} {# referring to the content in the parent templates #}\n",
    "    <li><a href=\"/contact\">Contact</a></li>\n",
    "    <li><a href=\"/career\">Career</a></li>\n",
    "{% endblock %}\n",
    "\n",
    "{% block content %}\n",
    "    {% for bookmark in bookmarks %}\n",
    "        <p>{{ bookmark.title }}</p>\n",
    "    {% endfor %}\n",
    "{% endblock %}\"\"\""
   ],
   "metadata": {
    "collapsed": false,
    "pycharm": {
     "name": "#%%\n"
    }
   }
  },
  {
   "cell_type": "code",
   "execution_count": null,
   "outputs": [],
   "source": [],
   "metadata": {
    "collapsed": false,
    "pycharm": {
     "name": "#%%\n"
    }
   }
  }
 ],
 "metadata": {
  "kernelspec": {
   "display_name": "Python 3",
   "language": "python",
   "name": "python3"
  },
  "language_info": {
   "codemirror_mode": {
    "name": "ipython",
    "version": 2
   },
   "file_extension": ".py",
   "mimetype": "text/x-python",
   "name": "python",
   "nbconvert_exporter": "python",
   "pygments_lexer": "ipython2",
   "version": "2.7.6"
  }
 },
 "nbformat": 4,
 "nbformat_minor": 0
}